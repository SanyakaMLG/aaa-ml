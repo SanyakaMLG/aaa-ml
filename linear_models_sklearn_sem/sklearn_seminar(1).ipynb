{
 "cells": [
  {
   "cell_type": "code",
   "execution_count": 1,
   "id": "92e91608",
   "metadata": {
    "ExecuteTime": {
     "end_time": "2023-11-04T10:45:10.951471700Z",
     "start_time": "2023-11-04T10:45:09.812865400Z"
    }
   },
   "outputs": [],
   "source": [
    "import pandas as pd\n",
    "\n",
    "from sklearn.model_selection import train_test_split\n",
    "from sklearn.preprocessing import StandardScaler\n",
    "from sklearn.preprocessing import OneHotEncoder\n",
    "from sklearn.feature_extraction.text import TfidfVectorizer\n",
    "from sklearn.compose import ColumnTransformer\n",
    "from sklearn.dummy import DummyClassifier\n",
    "from sklearn.linear_model import LogisticRegression\n",
    "from sklearn.linear_model import SGDClassifier\n",
    "\n",
    "from sklearn.metrics import f1_score\n",
    "from sklearn.model_selection import GridSearchCV\n",
    "from sklearn.pipeline import Pipeline"
   ]
  },
  {
   "cell_type": "code",
   "execution_count": 2,
   "id": "0a1c1fd3",
   "metadata": {
    "ExecuteTime": {
     "end_time": "2023-11-04T10:45:11.781252Z",
     "start_time": "2023-11-04T10:45:11.771138300Z"
    }
   },
   "outputs": [],
   "source": [
    "RANDOM_STATE = 22\n",
    "TEST_SIZE = 0.2"
   ]
  },
  {
   "cell_type": "markdown",
   "id": "bd2b8d58",
   "metadata": {},
   "source": [
    "## Работа с данными"
   ]
  },
  {
   "cell_type": "code",
   "execution_count": 3,
   "id": "a20c3153",
   "metadata": {
    "ExecuteTime": {
     "end_time": "2023-11-04T10:45:13.852554700Z",
     "start_time": "2023-11-04T10:45:13.801564600Z"
    }
   },
   "outputs": [
    {
     "name": "stdout",
     "output_type": "stream",
     "text": [
      "<class 'pandas.core.frame.DataFrame'>\n",
      "RangeIndex: 4744 entries, 0 to 4743\n",
      "Data columns (total 7 columns):\n",
      " #   Column                 Non-Null Count  Dtype  \n",
      "---  ------                 --------------  -----  \n",
      " 0   brand                  4744 non-null   object \n",
      " 1   model                  4744 non-null   object \n",
      " 2   description            4744 non-null   object \n",
      " 3   price                  4744 non-null   float64\n",
      " 4   exposition_days_count  4744 non-null   int64  \n",
      " 5   images_count           4744 non-null   int64  \n",
      " 6   label                  4744 non-null   object \n",
      "dtypes: float64(1), int64(2), object(4)\n",
      "memory usage: 259.6+ KB\n"
     ]
    }
   ],
   "source": [
    "data = pd.read_csv('data.csv')\n",
    "data.info()"
   ]
  },
  {
   "cell_type": "code",
   "execution_count": 4,
   "id": "6788638a",
   "metadata": {
    "ExecuteTime": {
     "end_time": "2023-11-04T10:45:15.304830300Z",
     "start_time": "2023-11-04T10:45:15.295743600Z"
    }
   },
   "outputs": [
    {
     "data": {
      "text/plain": "good            0.348440\nbad             0.316610\nexcellent       0.187184\nno_data         0.101602\nsatisfactory    0.028246\nnew             0.017917\nName: label, dtype: float64"
     },
     "execution_count": 4,
     "metadata": {},
     "output_type": "execute_result"
    }
   ],
   "source": [
    "data['label'].value_counts(normalize=True)"
   ]
  },
  {
   "cell_type": "code",
   "execution_count": 5,
   "id": "11a7aaae",
   "metadata": {
    "ExecuteTime": {
     "end_time": "2023-11-04T10:45:16.916025300Z",
     "start_time": "2023-11-04T10:45:16.909534300Z"
    }
   },
   "outputs": [],
   "source": [
    "X, y = data.drop(columns='label'), data['label']"
   ]
  },
  {
   "cell_type": "markdown",
   "id": "aa909957",
   "metadata": {},
   "source": [
    "### Разбиение датасета. Модуль model_selection.train_test_split"
   ]
  },
  {
   "cell_type": "code",
   "execution_count": 6,
   "id": "8707322e",
   "metadata": {
    "ExecuteTime": {
     "end_time": "2023-11-04T10:45:20.492114900Z",
     "start_time": "2023-11-04T10:45:20.465731500Z"
    }
   },
   "outputs": [],
   "source": [
    "X_train, X_test, y_train, y_test = train_test_split(\n",
    "        X, y, test_size=TEST_SIZE, random_state=RANDOM_STATE, stratify=y\n",
    "    )"
   ]
  },
  {
   "cell_type": "code",
   "execution_count": 7,
   "id": "4d74a26e",
   "metadata": {
    "ExecuteTime": {
     "end_time": "2023-11-04T10:45:21.138489100Z",
     "start_time": "2023-11-04T10:45:21.105829700Z"
    }
   },
   "outputs": [
    {
     "name": "stdout",
     "output_type": "stream",
     "text": [
      "Размер данных для обучения: признаки - (3795, 6), таргеты - (3795,)\n",
      "Размер данных для теста: признаки - (949, 6), таргеты - (949,)\n"
     ]
    }
   ],
   "source": [
    "print(f'Размер данных для обучения: признаки - {X_train.shape}, таргеты - {y_train.shape}')\n",
    "print(f'Размер данных для теста: признаки - {X_test.shape}, таргеты - {y_test.shape}')"
   ]
  },
  {
   "cell_type": "code",
   "execution_count": 8,
   "id": "4cd79920",
   "metadata": {
    "ExecuteTime": {
     "end_time": "2023-11-04T10:45:22.311009200Z",
     "start_time": "2023-11-04T10:45:22.302995200Z"
    }
   },
   "outputs": [
    {
     "data": {
      "text/plain": "good            0.348353\nbad             0.316733\nexcellent       0.187088\nno_data         0.101713\nsatisfactory    0.028195\nnew             0.017918\nName: label, dtype: float64"
     },
     "execution_count": 8,
     "metadata": {},
     "output_type": "execute_result"
    }
   ],
   "source": [
    "y_train.value_counts(normalize=True)"
   ]
  },
  {
   "cell_type": "markdown",
   "id": "89fced01",
   "metadata": {},
   "source": [
    "### Работа с числовыми признаками. Модуль preprocessing"
   ]
  },
  {
   "cell_type": "code",
   "execution_count": 9,
   "id": "56631fd4",
   "metadata": {
    "ExecuteTime": {
     "end_time": "2023-11-04T10:45:23.877691200Z",
     "start_time": "2023-11-04T10:45:23.866720600Z"
    }
   },
   "outputs": [
    {
     "data": {
      "text/plain": "array([[ 0.12401256,  1.70079258,  1.639863  ],\n       [ 1.16315527,  0.88391807,  1.29535651],\n       [-0.22236834,  0.65797406,  0.49150803],\n       ...,\n       [-0.45097974,  1.59651073,  0.37667253],\n       [-0.53411116, -0.24580199, -0.65684694],\n       [ 1.85591708,  0.43203005, -0.42717594]])"
     },
     "execution_count": 9,
     "metadata": {},
     "output_type": "execute_result"
    }
   ],
   "source": [
    "numeric_features = ['price', 'exposition_days_count', 'images_count']\n",
    "\n",
    "scaler = StandardScaler()\n",
    "X_train_numeric = scaler.fit_transform(X_train[numeric_features])\n",
    "X_test_numeric = scaler.transform(X_test[numeric_features])\n",
    "\n",
    "X_train_numeric"
   ]
  },
  {
   "cell_type": "code",
   "execution_count": 10,
   "id": "961302e3",
   "metadata": {
    "ExecuteTime": {
     "end_time": "2023-11-04T10:45:24.824871900Z",
     "start_time": "2023-11-04T10:45:24.815106800Z"
    }
   },
   "outputs": [
    {
     "data": {
      "text/plain": "array([8209.88168643,  102.14255599,   15.7198946 ])"
     },
     "execution_count": 10,
     "metadata": {},
     "output_type": "execute_result"
    }
   ],
   "source": [
    "scaler.mean_ # среднее значение для каждого признака"
   ]
  },
  {
   "cell_type": "code",
   "execution_count": 11,
   "id": "423cde6e",
   "metadata": {
    "ExecuteTime": {
     "end_time": "2023-11-04T10:45:25.848238600Z",
     "start_time": "2023-11-04T10:45:25.840426200Z"
    }
   },
   "outputs": [
    {
     "data": {
      "text/plain": "array([2.08368528e+08, 3.31043475e+03, 7.58311589e+01])"
     },
     "execution_count": 11,
     "metadata": {},
     "output_type": "execute_result"
    }
   ],
   "source": [
    "scaler.var_  # стандратное отклоение для каждого признака"
   ]
  },
  {
   "cell_type": "markdown",
   "id": "b0835485",
   "metadata": {},
   "source": [
    "### Работа с категориальными признаками. Модуль preprocessing"
   ]
  },
  {
   "cell_type": "code",
   "execution_count": 12,
   "id": "3a8b3411",
   "metadata": {
    "ExecuteTime": {
     "end_time": "2023-11-04T10:45:27.191889400Z",
     "start_time": "2023-11-04T10:45:27.172892500Z"
    }
   },
   "outputs": [
    {
     "data": {
      "text/plain": "<949x2624 sparse matrix of type '<class 'numpy.float64'>'\n\twith 1427 stored elements in Compressed Sparse Row format>"
     },
     "execution_count": 12,
     "metadata": {},
     "output_type": "execute_result"
    }
   ],
   "source": [
    "cat_features = ['brand', 'model']\n",
    "\n",
    "enc = OneHotEncoder(handle_unknown='ignore')\n",
    "X_train_cat = enc.fit_transform(X_train[cat_features])\n",
    "X_test_cat = enc.transform(X_test[cat_features])\n",
    "\n",
    "X_test_cat"
   ]
  },
  {
   "cell_type": "code",
   "execution_count": 13,
   "id": "08867bbd",
   "metadata": {
    "ExecuteTime": {
     "end_time": "2023-11-04T10:45:28.097268400Z",
     "start_time": "2023-11-04T10:45:28.073400200Z"
    }
   },
   "outputs": [
    {
     "data": {
      "text/plain": "array([[0., 0., 0., ..., 0., 0., 0.],\n       [0., 0., 0., ..., 0., 0., 0.],\n       [0., 0., 0., ..., 0., 0., 0.],\n       ...,\n       [0., 0., 0., ..., 0., 0., 0.],\n       [0., 0., 0., ..., 0., 0., 0.],\n       [0., 0., 0., ..., 0., 0., 0.]])"
     },
     "execution_count": 13,
     "metadata": {},
     "output_type": "execute_result"
    }
   ],
   "source": [
    "X_test_cat.toarray()"
   ]
  },
  {
   "cell_type": "code",
   "execution_count": 14,
   "id": "e586c719",
   "metadata": {
    "ExecuteTime": {
     "end_time": "2023-11-04T10:45:30.018234300Z",
     "start_time": "2023-11-04T10:45:30.003272900Z"
    }
   },
   "outputs": [
    {
     "data": {
      "text/plain": "[array(['AHB', 'AIWA', 'AKAI', 'AMCV', 'AOC', 'AVQ', 'Acer', 'Akira',\n        'Aquatelevision', 'Asano', 'Avest', 'BBK', 'BORK', 'BQ', 'BRAVIS',\n        'Bang & Olufsen', 'Beko', 'Blaupunkt', 'Bose', 'CASIO', 'CENTEK',\n        'Cameron', 'Candy', 'Changhong', 'Conrac', 'DENN', 'DEXP', 'DIGMA',\n        'DNS', 'Daewoo Electronics', 'Doffler', 'ECON', 'Elekta',\n        'Elenberg', 'Erisson', 'Evgo', 'Fujitsu', 'Funai', 'Fusion',\n        'General', 'GoldStar', 'Grundig', 'HAMBER', 'HARPER', 'HARTENS',\n        'HEC', 'HOLLEBERG', 'HUAWEI', 'Haier', 'Helix', 'Hi', 'Hisense',\n        'Hitachi', 'Horizont', 'Hyundai', 'Irbis', 'Izumi', 'JVC', 'KIVI',\n        'LEBEN', 'LG', 'Leff', 'Lentel', 'Loewe', 'MYSTERU', 'Mystery',\n        'NEKO', 'Novex', 'OK.', 'OKARI', 'Olto', 'Orion', 'Panasonic',\n        'Philips', 'Pioneer', 'Polar', 'Polarline', 'Premiera',\n        'Prestigio', 'Prology', 'Rolsen', 'Rotex', 'Ruimatech', 'Runco',\n        'STARWIND', 'SUPRA', 'SUZUKI', 'Samsung', 'Samtron', 'Sanyo',\n        'Saturn', 'Sharp', 'Shivaki', 'Silelis', 'Sitronics', 'SkyLine',\n        'Skyworth', 'SmartTech', 'Sony', 'SoundMAX', 'Sunwind', 'TCL',\n        'TELEFUNKEN', 'TMT', 'Techno', 'Tenton', 'Thomson', 'Toshiba',\n        'Trony', 'United', 'VEKTA', 'VITEK', 'Vestel', 'Viewsonic', 'Vox',\n        'Westvision', 'Xiaomi', 'Yuno', 'iFFALCON', 'Витязь', 'Океан',\n        'Оникс', 'Рекорд', 'Рубин', 'Сокол', 'Электрон'], dtype=object),\n array([' CK-2185VR', ' CK-3373TR', ' UE55AU7100UXRU', ..., 'WS-32Z40HTQ',\n        'Waterproof 65', 'ПТ-71ЖК-100'], dtype=object)]"
     },
     "execution_count": 14,
     "metadata": {},
     "output_type": "execute_result"
    }
   ],
   "source": [
    "enc.categories_"
   ]
  },
  {
   "cell_type": "markdown",
   "id": "45c0f6a8",
   "metadata": {},
   "source": [
    "### Работа с текстовыми признаками. Модуль feature_extraction"
   ]
  },
  {
   "cell_type": "code",
   "execution_count": 15,
   "id": "7d8eab41",
   "metadata": {
    "ExecuteTime": {
     "end_time": "2023-11-04T10:45:31.880599600Z",
     "start_time": "2023-11-04T10:45:31.805888Z"
    }
   },
   "outputs": [],
   "source": [
    "text_feature = 'description'\n",
    "\n",
    "vectorizer = TfidfVectorizer()\n",
    "X_train_text = vectorizer.fit_transform(X_train[text_feature])\n",
    "X_test_text = vectorizer.transform(X_test[text_feature])"
   ]
  },
  {
   "cell_type": "code",
   "execution_count": 16,
   "id": "7cd6421e",
   "metadata": {
    "ExecuteTime": {
     "end_time": "2023-11-04T10:45:32.417623800Z",
     "start_time": "2023-11-04T10:45:32.396052800Z"
    }
   },
   "outputs": [
    {
     "data": {
      "text/plain": "{'телевизор': 6539,\n 'bbk': 902,\n '32': 398,\n 'диагональ': 2611,\n 'пульта': 5594,\n 'коробка': 3484,\n 'документы': 2692,\n 'на': 3957,\n 'фото': 6979,\n 'нет': 4180,\n 'они': 4420,\n 'коробке': 3485,\n 'продам': 5482,\n 'samsung': 1424,\n 'хорошем': 7032,\n 'состоянии': 6297,\n 'отличном': 4570,\n '43': 535,\n 'хороший': 7034,\n 'рабочий': 5645,\n 'продаю': 5487,\n 'связи': 6013,\n 'покупкой': 5023,\n 'нового': 4220,\n 'телевизора': 6542,\n 'смарт': 6187,\n 'состояние': 6296,\n 'очень': 4628,\n 'хорошее': 7029,\n 'пульт': 5593,\n 'следы': 6159,\n 'от': 4511,\n 'детских': 2586,\n 'зубов': 3046,\n 'шнур': 7257,\n 'питания': 4751,\n '102': 45,\n 'см': 6185,\n 'отличии': 4564,\n 'более': 1909,\n 'поздних': 4981,\n 'моделей': 3886,\n 'здесь': 3023,\n 'установлена': 6886,\n 'металлическая': 3820,\n 'задняя': 2905,\n 'панель': 4652,\n 'что': 7209,\n 'делает': 2556,\n 'его': 2798,\n 'достаточно': 2744,\n 'увесистым': 6760,\n 'для': 2660,\n 'установки': 6883,\n 'подставку': 4953,\n 'без': 1837,\n 'сколов': 6141,\n 'дефектов': 2593,\n 'изображения': 3100,\n '100': 29,\n 'самсунг': 5948,\n 'led': 1199,\n '55': 629,\n '139': 153,\n 'smart': 1453,\n 'tv': 1533,\n 'uhd': 1597,\n 'все': 2248,\n 'функции': 6993,\n 'стоит': 6434,\n 'кронштейне': 3568,\n 'тумбы': 6717,\n 'поворот': 4831,\n 'обе': 4289,\n 'стороны': 6445,\n 'тумба': 6712,\n 'трехрядная': 6691,\n 'тёмное': 6740,\n 'стекло': 6410,\n 'запчасти': 2968,\n 'разбита': 5667,\n 'матрица': 3759,\n 'series': 1435,\n '40': 481,\n 'тв': 6522,\n 'модель': 3888,\n 'объявлении': 4362,\n 'актуальна': 1739,\n 'посмотрите': 5171,\n 'пожалуйста': 4967,\n 'характеристики': 7013,\n 'своих': 6007,\n 'лет': 3637,\n 'причина': 5412,\n 'продажи': 5480,\n 'покупка': 5020,\n 'полный': 5050,\n 'заводской': 2879,\n 'комплект': 3416,\n 'звонить': 3004,\n 'строго': 6453,\n '09': 26,\n '00': 0,\n 'до': 2667,\n '21': 283,\n 'за': 2859,\n '10': 28,\n '000': 1,\n '11': 79,\n 'тысяч': 6727,\n 'прямо': 5588,\n 'сейчас': 6040,\n 'не': 4094,\n 'отдам': 4527,\n 'добрый': 2675,\n 'день': 2569,\n 'экран': 7280,\n 'разбитый': 5671,\n 'мастер': 3742,\n 'сказал': 6119,\n 'проще': 5582,\n 'новый': 4232,\n 'купить': 3595,\n 'сколько': 6143,\n 'него': 4112,\n 'просить': 5532,\n 'знаю': 3039,\n 'там': 6516,\n 'как': 3252,\n 'договоримся': 2682,\n 'бу': 1947,\n 'пультом': 5598,\n 'sony': 1462,\n 'kv': 1171,\n '14lt1k': 168,\n 'рабочем': 5642,\n 'плоский': 4804,\n '14': 155,\n 'сборка': 5968,\n 'испания': 3187,\n 'показывает': 4998,\n 'идеально': 3071,\n 'тюльпаны': 6729,\n 'спереди': 6326,\n 'scart': 1427,\n 'сзади': 6087,\n 'эксплуатировался': 7299,\n 'мало': 3731,\n 'бережно': 1862,\n 'комплекте': 3420,\n 'антенна': 1778,\n 'ду': 2774,\n 'отлично': 4566,\n 'подойдёт': 4923,\n 'кухни': 3602,\n 'спальни': 6322,\n 'дачи': 2530,\n 'под': 4858,\n 'цвет': 7064,\n 'есть': 2819,\n 'ещё': 2822,\n 'настенный': 4045,\n 'кронштейн': 3566,\n 'полка': 5035,\n 'стену': 6418,\n 'поворотный': 4835,\n 'продаётся': 5491,\n 'отдельно': 4532,\n 'по': 4821,\n 'всем': 2253,\n 'вопросам': 2207,\n 'пишите': 4755,\n 'отвечу': 4521,\n 'запчаст': 2966,\n 'жидкокристалический': 2850,\n '80': 772,\n 'дюймов': 2785,\n 'включается': 2119,\n 'битая': 1878,\n 'разбор': 5674,\n 'повреждены': 4847,\n 'шлейфы': 7256,\n 'целая': 7088,\n 'телевизоры': 6550,\n 'дачу': 2533,\n 'улечная': 6809,\n 'антена': 1777,\n 'подарок': 4862,\n 'полностью': 5044,\n 'корпус': 3493,\n 'целый': 7096,\n 'торг': 6650,\n 'идеальном': 3073,\n 'техническом': 6592,\n 'продажу': 5481,\n 'выставил': 2383,\n 'низу': 4200,\n 'рынка': 5907,\n 'такую': 6513,\n 'такие': 6505,\n 'деньги': 2570,\n 'найдете': 3987,\n 'нигде': 4191,\n 'оригинальная': 4458,\n 'пенопластом': 4667,\n 'вся': 2277,\n 'комплектация': 3419,\n 'продажа': 5477,\n 'причине': 5413,\n 'того': 6621,\n 'был': 1965,\n 'приобретен': 5388,\n 'проверка': 5443,\n 'месте': 3809,\n 'любым': 3698,\n 'параметрам': 4655,\n 'остальным': 4505,\n 'чат': 7154,\n 'разрешение': 5716,\n 'hd': 1104,\n 'full': 1087,\n 'частота': 7143,\n 'обновления': 4313,\n 'экрана': 7282,\n '60': 660,\n 'гц': 2502,\n 'технология': 6597,\n 'разъемы': 5732,\n 'интерфейсы': 3167,\n 'av': 887,\n 'вход': 2292,\n 'выход': 2388,\n 'наушники': 4073,\n 'ethernet': 1061,\n 'rj': 1402,\n '45': 552,\n 'композитный': 3427,\n 'видеовход': 2072,\n 'hdmi': 1109,\n 'usb': 1611,\n 'type': 1539,\n 'слот': 6175,\n 'ci': 947,\n 'аудио': 1809,\n 'коаксиальный': 3375,\n 'беспроводная': 1872,\n 'связь': 6014,\n 'wi': 1658,\n 'fi': 1071,\n 'платформа': 4789,\n 'android': 872,\n '1920x1080': 218,\n 'тип': 6603,\n 'подсветки': 4938,\n 'direct': 985,\n 'мощность': 3920,\n 'звука': 3010,\n '20': 234,\n 'вт': 2284,\n 'работают': 5626,\n 'чёрный': 7218,\n 'подставка': 4945,\n 'нареканий': 4031,\n 'работе': 5629,\n 'продаём': 5489,\n 'переездом': 4700,\n 'фотографиях': 6983,\n 'самовывоз': 5938,\n 'разбит': 5666,\n 'цена': 7098,\n 'окончательная': 4413,\n 'диагонали': 2610,\n 'исправном': 3214,\n 'ножка': 4239,\n 'город': 2469,\n 'раменское': 5746,\n 'или': 3111,\n 'метро': 3826,\n 'жулебино': 2857,\n 'договорённости': 2685,\n 'philips': 1337,\n 'flat': 1077,\n 'прекрасным': 5310,\n 'цветовым': 7081,\n 'разрешением': 5719,\n 'входа': 2294,\n 'hdm': 1108,\n 'поддерживает': 4882,\n 'андройд': 1774,\n 'родной': 5871,\n 'дюйма': 2782,\n 'стереозвук': 6422,\n 'можно': 3900,\n 'использовать': 3201,\n 'приставок': 5405,\n 'игровых': 3059,\n 'качестве': 3304,\n 'монитора': 3907,\n 'два': 2535,\n 'обычный': 4371,\n 'голосовой': 2452,\n 'гаража': 2410,\n 'смотрите': 6206,\n 'профиль': 5562,\n 'много': 3873,\n 'интерестного': 3151,\n 'сломана': 6173,\n 'продаеться': 5476,\n 'lg': 1209,\n 'продается': 5474,\n 'только': 6630,\n 'блока': 1894,\n 'прочих': 5576,\n 'допников': 2718,\n 'забирать': 2863,\n 'жк': 2853,\n 'михайловка': 3860,\n 'грин': 2491,\n 'находится': 4077,\n 'рядом': 5913,\n 'затоном': 2987,\n 'сам': 5931,\n 'работает': 5621,\n 'при': 5322,\n 'включении': 2131,\n 'каналов': 3279,\n 'звук': 3008,\n 'но': 4212,\n 'приезжал': 5350,\n 'сломалась': 6168,\n 'подсветка': 4937,\n 'дисплея': 2652,\n 'ремонт': 5837,\n 'будет': 1949,\n 'стоить': 6435,\n 'если': 2810,\n 'делать': 2559,\n 'оригинальными': 4464,\n 'запчастями': 2970,\n 'китайскими': 3350,\n 'то': 6612,\n 'еще': 2821,\n 'дешевле': 2600,\n 'интересующим': 3154,\n 'переодически': 4720,\n 'возможно': 2192,\n 'дело': 2562,\n 'предохранителе': 5281,\n 'изображение': 3095,\n 'чёткое': 7223,\n 'тонкий': 6639,\n 'светодиодный': 5996,\n 'царапин': 7060,\n 'картинка': 3290,\n 'соответствующая': 6278,\n 'эксплуатации': 7297,\n 'технологией': 6593,\n 'digital': 983,\n 'crystal': 967,\n 'clear': 952,\n '106': 54,\n '42': 506,\n 'dvb': 1007,\n 't2': 1493,\n 'воспроизведения': 2219,\n 'мультимедийного': 3940,\n 'контента': 3467,\n 'дисплей': 2651,\n 'размер': 5697,\n 'метрич': 3825,\n 'дюймах': 2784,\n 'дюймы': 2789,\n 'панели': 4651,\n '1920': 217,\n '1080р': 64,\n 'формат': 6970,\n '16': 187,\n 'яркость': 7382,\n '200': 235,\n 'кд': 3326,\n 'м²': 3704,\n 'количество': 3383,\n 'разъемов': 5730,\n 'наушников': 4074,\n 'цифрового': 7115,\n 'аудиосигнала': 1817,\n 'vga': 1634,\n 'пк': 4756,\n 'аудиовход': 1812,\n 'левый': 3619,\n 'правый': 5251,\n 'easylink': 1025,\n 'cec': 945,\n 'управление': 6852,\n 'аудиопараметрами': 1815,\n 'системы': 6113,\n 'режим': 5821,\n 'ожидания': 4403,\n 'hyundai': 1132,\n 'отличное': 4568,\n 'сантиметрах': 5955,\n '88см': 812,\n 'провод': 5452,\n 'тюнер': 6730,\n 'вх': 2291,\n '2вх': 368,\n 'всего': 2251,\n 'договоренности': 2681,\n 'могу': 3884,\n 'отправить': 4583,\n 'тк': 6611,\n 'куплен': 3596,\n '04': 18,\n '2022г': 273,\n 'чек': 7161,\n 'он': 4418,\n 'гарантии': 2414,\n 'помощник': 5119,\n 'подвисает': 4873,\n 'быстрый': 1973,\n 'смены': 6196,\n 'квартиры': 3322,\n 'пока': 4992,\n 'продавался': 5470,\n 'сгорел': 6017,\n 'светодиод': 5992,\n 'замена': 2920,\n 'точечно': 6659,\n 'светодиодов': 5998,\n '5к': 658,\n 'полная': 5039,\n 'подстветки': 4955,\n '10к': 78,\n 'остальное': 4502,\n 'работающей': 5627,\n 'подстветкой': 4956,\n 'видна': 2097,\n 'работоспособность': 5635,\n '4к': 590,\n 'видео': 2071,\n 'телефона': 6564,\n 'дублирование': 2776,\n 'покупал': 5010,\n 'январе': 7363,\n '2020г': 267,\n 'глюков': 2438,\n 'превосходная': 5256,\n 'соундбаром': 6304,\n 'колонка': 3387,\n 'телевизором': 6547,\n 'совместно': 6242,\n 'кронштейном': 3569,\n 'телевизору': 6549,\n 'внешнее': 2160,\n 'стал': 6381,\n 'двоиться': 2542,\n 'разбирались': 5661,\n 'либо': 3642,\n 'починить': 5224,\n 'смотреть': 6203,\n 'падал': 4639,\n 'тонул': 6645,\n 'следов': 6156,\n 'западает': 2952,\n 'иногда': 3135,\n 'кнопка': 3367,\n 'включения': 2132,\n '29': 352,\n 'pt': 1373,\n '8609': 803,\n 'нужна': 4275,\n 'детали': 2576,\n 'продаем': 5473,\n 'идеальное': 3072,\n 'проблема': 5430,\n 'экраном': 7290,\n 'нечего': 4185,\n 'просто': 5546,\n 'потух': 5215,\n 'полоски': 5066,\n 'целиком': 7090,\n '3d': 472,\n 'входит': 2295,\n 'очки': 4632,\n 'шт': 7262,\n 'блюрей': 1899,\n 'двд': 2536,\n 'торга': 6651,\n 'обмен': 4306,\n 'ваши': 2005,\n 'варианты': 1994,\n 'своё': 6011,\n 'время': 2243,\n 'брали': 1934,\n 'тыс': 6726,\n 'разбытый': 5678,\n 'монитор': 3906,\n 'новое': 4222,\n 'всё': 2282,\n 'каналы': 3281,\n 'уместен': 6829,\n 'найти': 3992,\n 'кнопки': 3369,\n 'примерно': 5372,\n '50': 596,\n 'кому': 3445,\n 'надо': 3971,\n 'прислать': 5397,\n 'проблем': 5429,\n 'трещен': 6692,\n 'чего': 7160,\n 'ну': 4271,\n 'желательно': 2835,\n 'бы': 1960,\n 'хотя': 7044,\n 'взяли': 2066,\n 'полгода': 5027,\n 'вопросы': 2210,\n 'тел': 6529,\n 'месяца': 3813,\n 'назад': 3979,\n 'телевизоре': 6545,\n 'novex': 1291,\n 'nwx': 1298,\n '50u169tss': 612,\n 'операционная': 4427,\n 'система': 6107,\n 'салют': 5930,\n 'ips': 1149,\n '3840': 464,\n '2160': 286,\n 'пикселей': 4739,\n 'цифровой': 7117,\n 'стандарты': 6395,\n 's2': 1420,\n 'комплектуется': 3422,\n 'настольной': 4048,\n 'подставкой': 4951,\n 'фронтальной': 6987,\n 'акустической': 1750,\n 'dolby': 997,\n 'дистанционного': 2653,\n 'управления': 6856,\n 'инфракрасный': 3178,\n 'предусмотрены': 5294,\n 'функция': 7002,\n 'timeshift': 1518,\n 'sleep': 1450,\n 'таймер': 6497,\n 'встроенные': 2271,\n 'часы': 7152,\n 'защита': 2996,\n 'детей': 2583,\n 'доступ': 2751,\n 'интернет': 3156,\n 'обеспечивается': 4294,\n 'через': 7169,\n 'интерфейс': 3162,\n 'lan': 1175,\n 'кабельного': 3236,\n 'соединения': 6251,\n 'порт': 5144,\n 'позволяет': 4970,\n 'воспроизводить': 2221,\n 'контент': 3466,\n 'флешек': 6958,\n 'портативных': 5147,\n 'жестких': 2840,\n 'дисков': 2647,\n 'записывать': 2958,\n 'них': 4210,\n 'фильмы': 6940,\n 'передачи': 4691,\n 'входы': 2302,\n 'миллиметровый': 3841,\n 'аудиоразъем': 1816,\n 'проводных': 5460,\n 'потерт': 5193,\n 'отличный': 4572,\n 'выпуск': 2362,\n '2016': 258,\n 'компоненты': 3437,\n 'mainboard': 1237,\n 'eax66203803': 1033,\n '500': 597,\n 'power': 1353,\n 'supply': 1486,\n 'psu': 1372,\n 'eax66203001': 1032,\n 'lgp3942d': 1214,\n '15ch1': 179,\n 'con': 959,\n '6870c': 705,\n '0480a': 20,\n 'backlight': 898,\n 'lnnotek': 1219,\n 'drt': 1002,\n '42_a': 508,\n '42_b': 509,\n 'rev01': 1398,\n 'некоторые': 4150,\n 'возможен': 2189,\n 'небольшой': 4101,\n 'бесплатно': 1868,\n 'розовая': 5878,\n 'полоса': 5062,\n 'верху': 2043,\n 'плазменный': 4764,\n 'флешки': 6960,\n 'светодиодные': 5995,\n 'ленты': 3636,\n 'новые': 4231,\n 'оригинал': 4456,\n 'после': 5159,\n 'замены': 2929,\n 'оборвали': 4324,\n 'шлейф': 7253,\n 'матрицу': 3763,\n 'основные': 4483,\n 'поддержка': 4888,\n 'поляризационная': 5100,\n 'конвертация': 3455,\n '2d': 361,\n 'светодиодная': 5993,\n '107': 56,\n '1080p': 61,\n 'суммарная': 6464,\n '2x10': 363,\n '49': 572,\n 'хорошо': 7037,\n 'сегодня': 6038,\n 'последний': 5164,\n 'завтра': 2881,\n 'уже': 6796,\n 'неактуально': 4095,\n 'аппарат': 1791,\n 'настенного': 4042,\n 'крепления': 3561,\n 'ножки': 4244,\n 'отсутствуют': 4605,\n 'повреждена': 4841,\n 'кранштейне': 3523,\n 'повесить': 4828,\n 'видно': 2098,\n 'пошарпаный': 5231,\n 'спасибо': 6324,\n 'ребенку': 5804,\n 'силиконовый': 6095,\n 'чехол': 7195,\n 'наличии': 4006,\n 'разумный': 5726,\n 'восстановление': 2224,\n 'цне': 7128,\n 'прекрасном': 5307,\n 'маленький': 3726,\n 'японский': 7370,\n 'ретро': 5856,\n 'автомобиль': 1708,\n 'черно': 7172,\n 'белый': 1855,\n '26': 329,\n 'так': 6501,\n 'купила': 3591,\n 'большей': 1915,\n 'диагональю': 2616,\n 'lcd': 1184,\n '23': 305,\n '58': 650,\n 'rolsen': 1409,\n '23b05uf': 311,\n 'стене': 6416,\n 'кабель': 3235,\n '220': 294,\n 'вольт': 2203,\n 'подробнее': 4930,\n 'технические': 6590,\n 'прилагаемых': 5363,\n 'скриншотах': 6148,\n 'талнахе': 6514,\n 'писать': 4749,\n 'тем': 6570,\n 'кто': 3585,\n 'хочет': 7045,\n 'toshiba': 1524,\n 'нога': 4235,\n 'bвк': 931,\n 'вместе': 2152,\n 'отличная': 4565,\n 'битый': 1883,\n 'коцаный': 3517,\n 'полетел': 5031,\n 'какой': 3257,\n 'блок': 1893,\n 'сказано': 6121,\n 'мастерской': 3746,\n 'ждать': 2826,\n 'эту': 7338,\n 'деталь': 2580,\n 'стали': 6383,\n 'привезём': 5331,\n 'нужны': 4278,\n 'найду': 3989,\n 'дома': 2700,\n 'жидкокристаллический': 2851,\n 'rl': 1404,\n '15s10': 183,\n 'выполнен': 2359,\n 'классическом': 3357,\n 'серебристом': 6060,\n 'дизайне': 2624,\n 'обеспечивает': 4293,\n 'хорошего': 7028,\n 'качества': 3303,\n 'стерео': 6421,\n 'динамики': 2632,\n 'достойное': 2749,\n 'звучание': 3019,\n '1024': 46,\n '768': 757,\n 'широкие': 7243,\n 'углы': 6768,\n 'обзора': 4301,\n 'позволяют': 4973,\n 'комфортно': 3448,\n 'просматривать': 5537,\n 'любимые': 3687,\n 'телепередачи': 6558,\n 'подробные': 4936,\n 'указаны': 6802,\n 'этаж': 7325,\n 'приятный': 5420,\n 'бонус': 1927,\n 'покупки': 5022,\n 'изображением': 3096,\n 'битых': 1885,\n 'любые': 3697,\n 'проверки': 5445,\n 'перед': 4682,\n 'гарантия': 2418,\n 'возможна': 2191,\n 'доставка': 2738,\n 'москве': 3914,\n 'ближайшему': 1888,\n 'подмосковью': 4914,\n 'ваш': 2001,\n 'доплата': 2716,\n 'зависимости': 2871,\n 'модели': 3887,\n '22': 293,\n 'pfl5614': 1333,\n '56см': 644,\n 'подставке': 4947,\n 'паспорт': 4661,\n 'шустрый': 7273,\n 'супер': 6465,\n 'была': 1966,\n 'сожалению': 6255,\n 'были': 1967,\n 'запущены': 2965,\n 'беспроводные': 1874,\n 'этого': 7333,\n 'пропало': 5527,\n 'точного': 6663,\n 'диагноза': 2605,\n 'документами': 2687,\n 'пользовались': 5087,\n 'полтора': 5072,\n '43lh520v': 539,\n 'цену': 7109,\n 'обговорить': 4288,\n 'лс': 3676,\n 'треснула': 6686,\n 'безупречно': 1848,\n 'приставки': 5402,\n 'ширина': 7240,\n 'высота37': 2379,\n '37': 457,\n 'глубина40': 2433,\n '37см': 462,\n 'использовался': 3195,\n 'вместо': 2153,\n 'здравствуйте': 3024,\n 'lg32lh2000': 1210,\n 'работал': 5622,\n 'было': 1968,\n 'ни': 4188,\n 'одной': 4397,\n 'поломки': 5058,\n 'приобретался': 5386,\n 'магазине': 3708,\n 'разъём': 5733,\n 'флэшку': 6964,\n 'перепрошить': 4723,\n 'покарябанный': 5000,\n 'требуется': 6681,\n 'перегорели': 4680,\n 'светодиоды': 5999,\n 'сами': 5935,\n 'ремонтировать': 5845,\n 'подарили': 4861,\n 'реальному': 5803,\n 'покупателю': 5016,\n '65': 687,\n '165': 192,\n 'проводное': 5458,\n 'соединение': 6249,\n 'wifi': 1661,\n 'интернетом': 3159,\n 'во': 2183,\n 'всех': 2256,\n 'режимах': 5824,\n 'коробкой': 3487,\n 'всеми': 2254,\n 'делами': 2558,\n 'которые': 3511,\n 'le': 1185,\n '26a450c2': 335,\n 'ремонте': 5841,\n '66': 697,\n 'максимальное': 3719,\n '1366x768': 149,\n 't260xw02': 1496,\n 'кадр': 3245,\n 'кадре': 3246,\n 'pip': 1341,\n '720p': 725,\n '450': 553,\n 'м2': 3701,\n 'контрастность': 3473,\n 'динамическая': 2634,\n '5000': 598,\n 'угол': 6770,\n '170': 201,\n 'отклика': 4547,\n 'пикселя': 4743,\n 'мс': 3928,\n 'прогрессивная': 5468,\n 'развёртка': 5687,\n 'pal': 1322,\n 'secam': 1431,\n 'ntsc': 1293,\n 'телетекст': 6560,\n 'памятью': 4648,\n '1000': 30,\n 'стр': 6449,\n 'форматы': 6976,\n 'dtv': 1004,\n '480i': 569,\n '480p': 570,\n '576i': 648,\n '576p': 649,\n '1080i': 60,\n 'nicam': 1290,\n 'stereo': 1477,\n '2x5': 365,\n 'акустика': 1743,\n 'динамика': 2629,\n 'x4': 1673,\n 'video': 1638,\n 'компонентный': 3433,\n 'x2': 1671,\n 'rgb': 1401,\n 'x3': 1672,\n 'rs': 1411,\n '232': 309,\n 'вес': 2044,\n 'кг': 3323,\n 'размеры': 5703,\n '670x500x216': 701,\n 'мм': 3863,\n 'подставки': 4948,\n '670x446x75': 700,\n 'потребление': 5205,\n 'сети': 6082,\n '110': 80,\n 'прилагается': 5364,\n 'вид': 2068,\n 'товара': 6615,\n 'проекторы': 5499,\n 'бренд': 1938,\n 'внешне': 2158,\n 'перестал': 4724,\n 'показывать': 4999,\n 'скачка': 6132,\n 'напряжения': 4028,\n 'синий': 6101,\n 'канала': 3275,\n 'слышен': 6184,\n 'последнем': 5162,\n '3тыс': 479,\n 'адрес': 1719,\n 'яндекс': 7364,\n 'картам': 3287,\n 'указан': 6798,\n 'верный': 2026,\n '42ls570s': 525,\n 'затемнен': 2981,\n 'описание': 4430,\n 'edge': 1049,\n 'индекс': 3128,\n 'динамических': 2636,\n 'сцен': 6474,\n 'объемное': 4355,\n 'surround': 1489,\n 'динамиков': 2633,\n 'оптический': 4446,\n 'мультимедиа': 3939,\n 'divx': 987,\n 'mkv': 1251,\n 'mp3': 1260,\n 'mpeg4': 1270,\n 'аналоговый': 1763,\n 'дополнительные': 2728,\n 'особенности': 4487,\n 'dlna': 992,\n 'потребляемая': 5206,\n '67': 699,\n 'габариты': 2407,\n 'шxвxг': 7227,\n '979x660x269': 849,\n '15': 171,\n '979x593x36': 848,\n '12': 102,\n 'philip': 1336,\n 'суперский': 6466,\n '32гдета': 442,\n '35см': 454,\n 'точно': 6662,\n 'незнаю': 4134,\n 'неизмерил': 4138,\n 'новая': 4213,\n 'приставка': 5399,\n 'провода': 5453,\n 'одам': 4386,\n '18000': 210,\n 't24e310ex': 1494,\n '24': 314,\n 'отклик': 4546,\n 'миллисекунд': 3842,\n 'процессор': 5566,\n 'plus': 1351,\n 'высота': 2378,\n '340': 448,\n '561': 643,\n 'толщина': 6628,\n '52': 621,\n '63': 681,\n '10990': 73,\n 'руб': 5889,\n 'качество': 3313,\n 'служил': 6178,\n 'долго': 2694,\n 'момента': 3904,\n 'небрежной': 4103,\n 'транспортировки': 6674,\n 'из': 3082,\n 'дорогостоющий': 2733,\n 'нужен': 4274,\n 'пылесборником': 5605,\n 'цветной': 7072,\n 'безрамочный': 1847,\n 'дизайн': 2622,\n 'покупался': 5013,\n 'декабре': 2548,\n '2020года': 268,\n 'исправно': 3212,\n 'ничего': 4211,\n 'ремонтировалось': 5843,\n 'ненадобностью': 4156,\n '4k': 588,\n 'игровой': 3055,\n 'input': 1140,\n 'lag': 1173,\n 'hdr': 1115,\n 'hdr10': 1116,\n 'bluetooth': 911,\n 'miracast': 1249,\n 'fiгод': 1074,\n 'создания': 6261,\n '2020': 266,\n 'tizen': 1520,\n '3840x2160тип': 466,\n 'матрицы': 3764,\n 'vaт': 1627,\n 'ип': 3180,\n '48': 566,\n 'fullhd': 1088,\n '1080': 59,\n 'пикс': 4738,\n 'объемный': 4358,\n 'коммуникации': 3402,\n 'проводная': 5456,\n 'сеть': 6085,\n '1086x705x308': 66,\n 'вашему': 2004,\n 'вниманию': 2169,\n 'представляю': 5291,\n 'дизайнерский': 2625,\n 'картина': 3289,\n '75': 747,\n ...}"
     },
     "execution_count": 16,
     "metadata": {},
     "output_type": "execute_result"
    }
   ],
   "source": [
    "vectorizer.vocabulary_"
   ]
  },
  {
   "cell_type": "code",
   "execution_count": 17,
   "id": "6df8d1d8",
   "metadata": {
    "ExecuteTime": {
     "end_time": "2023-11-04T10:45:33.179045Z",
     "start_time": "2023-11-04T10:45:33.170294Z"
    }
   },
   "outputs": [
    {
     "data": {
      "text/plain": "<949x7385 sparse matrix of type '<class 'numpy.float64'>'\n\twith 9568 stored elements in Compressed Sparse Row format>"
     },
     "execution_count": 17,
     "metadata": {},
     "output_type": "execute_result"
    }
   ],
   "source": [
    "X_test_text"
   ]
  },
  {
   "cell_type": "markdown",
   "id": "fee59f59",
   "metadata": {},
   "source": [
    "### Объединение преобразований над признками. Модуль compose"
   ]
  },
  {
   "cell_type": "code",
   "execution_count": 18,
   "id": "1843b194",
   "metadata": {
    "ExecuteTime": {
     "end_time": "2023-11-04T10:45:34.710019Z",
     "start_time": "2023-11-04T10:45:34.622855500Z"
    }
   },
   "outputs": [],
   "source": [
    "preprocessor = ColumnTransformer(\n",
    "     transformers=[\n",
    "         ('scaler', StandardScaler(), numeric_features),\n",
    "         ('text', TfidfVectorizer(), text_feature), \n",
    "         ('category', OneHotEncoder(handle_unknown='ignore'), cat_features),\n",
    "     ],\n",
    ")\n",
    "\n",
    "X_train_prepared = preprocessor.fit_transform(X_train)\n",
    "X_test_prepared = preprocessor.transform(X_test)"
   ]
  },
  {
   "cell_type": "code",
   "execution_count": 19,
   "id": "568d319b",
   "metadata": {
    "ExecuteTime": {
     "end_time": "2023-11-04T10:45:35.263666300Z",
     "start_time": "2023-11-04T10:45:35.256035900Z"
    }
   },
   "outputs": [
    {
     "data": {
      "text/plain": "<3795x10012 sparse matrix of type '<class 'numpy.float64'>'\n\twith 65876 stored elements in Compressed Sparse Row format>"
     },
     "execution_count": 19,
     "metadata": {},
     "output_type": "execute_result"
    }
   ],
   "source": [
    "X_train_prepared"
   ]
  },
  {
   "cell_type": "markdown",
   "id": "f25342ef",
   "metadata": {},
   "source": [
    "## Модели для задачи классификации"
   ]
  },
  {
   "cell_type": "markdown",
   "id": "7a17afa3",
   "metadata": {},
   "source": [
    "### Строим baseline. Модуль dummy"
   ]
  },
  {
   "cell_type": "code",
   "execution_count": 20,
   "id": "db8a291d",
   "metadata": {
    "ExecuteTime": {
     "end_time": "2023-11-04T10:45:36.891744900Z",
     "start_time": "2023-11-04T10:45:36.884624800Z"
    }
   },
   "outputs": [
    {
     "data": {
      "text/plain": "DummyClassifier(strategy='most_frequent')",
      "text/html": "<style>#sk-container-id-1 {color: black;}#sk-container-id-1 pre{padding: 0;}#sk-container-id-1 div.sk-toggleable {background-color: white;}#sk-container-id-1 label.sk-toggleable__label {cursor: pointer;display: block;width: 100%;margin-bottom: 0;padding: 0.3em;box-sizing: border-box;text-align: center;}#sk-container-id-1 label.sk-toggleable__label-arrow:before {content: \"▸\";float: left;margin-right: 0.25em;color: #696969;}#sk-container-id-1 label.sk-toggleable__label-arrow:hover:before {color: black;}#sk-container-id-1 div.sk-estimator:hover label.sk-toggleable__label-arrow:before {color: black;}#sk-container-id-1 div.sk-toggleable__content {max-height: 0;max-width: 0;overflow: hidden;text-align: left;background-color: #f0f8ff;}#sk-container-id-1 div.sk-toggleable__content pre {margin: 0.2em;color: black;border-radius: 0.25em;background-color: #f0f8ff;}#sk-container-id-1 input.sk-toggleable__control:checked~div.sk-toggleable__content {max-height: 200px;max-width: 100%;overflow: auto;}#sk-container-id-1 input.sk-toggleable__control:checked~label.sk-toggleable__label-arrow:before {content: \"▾\";}#sk-container-id-1 div.sk-estimator input.sk-toggleable__control:checked~label.sk-toggleable__label {background-color: #d4ebff;}#sk-container-id-1 div.sk-label input.sk-toggleable__control:checked~label.sk-toggleable__label {background-color: #d4ebff;}#sk-container-id-1 input.sk-hidden--visually {border: 0;clip: rect(1px 1px 1px 1px);clip: rect(1px, 1px, 1px, 1px);height: 1px;margin: -1px;overflow: hidden;padding: 0;position: absolute;width: 1px;}#sk-container-id-1 div.sk-estimator {font-family: monospace;background-color: #f0f8ff;border: 1px dotted black;border-radius: 0.25em;box-sizing: border-box;margin-bottom: 0.5em;}#sk-container-id-1 div.sk-estimator:hover {background-color: #d4ebff;}#sk-container-id-1 div.sk-parallel-item::after {content: \"\";width: 100%;border-bottom: 1px solid gray;flex-grow: 1;}#sk-container-id-1 div.sk-label:hover label.sk-toggleable__label {background-color: #d4ebff;}#sk-container-id-1 div.sk-serial::before {content: \"\";position: absolute;border-left: 1px solid gray;box-sizing: border-box;top: 0;bottom: 0;left: 50%;z-index: 0;}#sk-container-id-1 div.sk-serial {display: flex;flex-direction: column;align-items: center;background-color: white;padding-right: 0.2em;padding-left: 0.2em;position: relative;}#sk-container-id-1 div.sk-item {position: relative;z-index: 1;}#sk-container-id-1 div.sk-parallel {display: flex;align-items: stretch;justify-content: center;background-color: white;position: relative;}#sk-container-id-1 div.sk-item::before, #sk-container-id-1 div.sk-parallel-item::before {content: \"\";position: absolute;border-left: 1px solid gray;box-sizing: border-box;top: 0;bottom: 0;left: 50%;z-index: -1;}#sk-container-id-1 div.sk-parallel-item {display: flex;flex-direction: column;z-index: 1;position: relative;background-color: white;}#sk-container-id-1 div.sk-parallel-item:first-child::after {align-self: flex-end;width: 50%;}#sk-container-id-1 div.sk-parallel-item:last-child::after {align-self: flex-start;width: 50%;}#sk-container-id-1 div.sk-parallel-item:only-child::after {width: 0;}#sk-container-id-1 div.sk-dashed-wrapped {border: 1px dashed gray;margin: 0 0.4em 0.5em 0.4em;box-sizing: border-box;padding-bottom: 0.4em;background-color: white;}#sk-container-id-1 div.sk-label label {font-family: monospace;font-weight: bold;display: inline-block;line-height: 1.2em;}#sk-container-id-1 div.sk-label-container {text-align: center;}#sk-container-id-1 div.sk-container {/* jupyter's `normalize.less` sets `[hidden] { display: none; }` but bootstrap.min.css set `[hidden] { display: none !important; }` so we also need the `!important` here to be able to override the default hidden behavior on the sphinx rendered scikit-learn.org. See: https://github.com/scikit-learn/scikit-learn/issues/21755 */display: inline-block !important;position: relative;}#sk-container-id-1 div.sk-text-repr-fallback {display: none;}</style><div id=\"sk-container-id-1\" class=\"sk-top-container\"><div class=\"sk-text-repr-fallback\"><pre>DummyClassifier(strategy=&#x27;most_frequent&#x27;)</pre><b>In a Jupyter environment, please rerun this cell to show the HTML representation or trust the notebook. <br />On GitHub, the HTML representation is unable to render, please try loading this page with nbviewer.org.</b></div><div class=\"sk-container\" hidden><div class=\"sk-item\"><div class=\"sk-estimator sk-toggleable\"><input class=\"sk-toggleable__control sk-hidden--visually\" id=\"sk-estimator-id-1\" type=\"checkbox\" checked><label for=\"sk-estimator-id-1\" class=\"sk-toggleable__label sk-toggleable__label-arrow\">DummyClassifier</label><div class=\"sk-toggleable__content\"><pre>DummyClassifier(strategy=&#x27;most_frequent&#x27;)</pre></div></div></div></div></div>"
     },
     "execution_count": 20,
     "metadata": {},
     "output_type": "execute_result"
    }
   ],
   "source": [
    "dummy_clf = DummyClassifier(strategy=\"most_frequent\")  # будем предсказывать самый частотный таргет\n",
    "dummy_clf.fit(X_train_prepared, y_train)"
   ]
  },
  {
   "cell_type": "code",
   "execution_count": 21,
   "id": "89b66f28",
   "metadata": {
    "ExecuteTime": {
     "end_time": "2023-11-04T10:45:38.188988300Z",
     "start_time": "2023-11-04T10:45:38.181710600Z"
    }
   },
   "outputs": [
    {
     "name": "stdout",
     "output_type": "stream",
     "text": [
      "['good' 'good' 'good' 'good' 'good' 'good' 'good' 'good' 'good' 'good']\n",
      "[[0. 0. 1. 0. 0. 0.]\n",
      " [0. 0. 1. 0. 0. 0.]\n",
      " [0. 0. 1. 0. 0. 0.]\n",
      " [0. 0. 1. 0. 0. 0.]\n",
      " [0. 0. 1. 0. 0. 0.]\n",
      " [0. 0. 1. 0. 0. 0.]\n",
      " [0. 0. 1. 0. 0. 0.]\n",
      " [0. 0. 1. 0. 0. 0.]\n",
      " [0. 0. 1. 0. 0. 0.]\n",
      " [0. 0. 1. 0. 0. 0.]]\n"
     ]
    }
   ],
   "source": [
    "y_pred = dummy_clf.predict(X_test_prepared)\n",
    "y_probas = dummy_clf.predict_proba(X_test_prepared)\n",
    "\n",
    "print(y_pred[:10])\n",
    "print(y_probas[:10])"
   ]
  },
  {
   "cell_type": "code",
   "execution_count": 22,
   "id": "d839db9f",
   "metadata": {
    "ExecuteTime": {
     "end_time": "2023-11-04T10:45:40.497545500Z",
     "start_time": "2023-11-04T10:45:40.488079300Z"
    }
   },
   "outputs": [
    {
     "data": {
      "text/plain": "0.3487881981032666"
     },
     "execution_count": 22,
     "metadata": {},
     "output_type": "execute_result"
    }
   ],
   "source": [
    "dummy_clf.score(X_test_prepared, y_test)"
   ]
  },
  {
   "cell_type": "markdown",
   "id": "c31eea60",
   "metadata": {},
   "source": [
    "### Классификаторы из модуля linear_model"
   ]
  },
  {
   "cell_type": "code",
   "execution_count": 23,
   "id": "160c02c0",
   "metadata": {
    "ExecuteTime": {
     "end_time": "2023-11-04T10:45:43.262614300Z",
     "start_time": "2023-11-04T10:45:42.347458700Z"
    }
   },
   "outputs": [
    {
     "name": "stderr",
     "output_type": "stream",
     "text": [
      "C:\\Users\\aleks\\anaconda3\\Lib\\site-packages\\sklearn\\linear_model\\_logistic.py:460: ConvergenceWarning: lbfgs failed to converge (status=1):\n",
      "STOP: TOTAL NO. of ITERATIONS REACHED LIMIT.\n",
      "\n",
      "Increase the number of iterations (max_iter) or scale the data as shown in:\n",
      "    https://scikit-learn.org/stable/modules/preprocessing.html\n",
      "Please also refer to the documentation for alternative solver options:\n",
      "    https://scikit-learn.org/stable/modules/linear_model.html#logistic-regression\n",
      "  n_iter_i = _check_optimize_result(\n"
     ]
    }
   ],
   "source": [
    "logreg_clf = LogisticRegression(\n",
    "       random_state=RANDOM_STATE, multi_class='multinomial', class_weight='balanced'\n",
    "    ).fit(X_train_prepared, y_train)"
   ]
  },
  {
   "cell_type": "code",
   "execution_count": 24,
   "id": "30113854",
   "metadata": {
    "ExecuteTime": {
     "end_time": "2023-11-04T10:45:43.894792900Z",
     "start_time": "2023-11-04T10:45:43.885305600Z"
    }
   },
   "outputs": [
    {
     "data": {
      "text/plain": "array([[-1.50917555, -0.00423185,  0.01900292, ..., -0.00876521,\n        -0.07997374, -0.30986047],\n       [ 0.573249  , -0.02288234, -0.06158463, ..., -0.0101862 ,\n        -0.02821366,  0.11636511],\n       [ 0.07817381,  0.01122688, -0.06074481, ...,  0.04001644,\n         0.27376362, -0.23544565],\n       [ 0.66393446,  0.13122188,  0.09245261, ..., -0.00183685,\n        -0.02224847, -0.11926628],\n       [ 0.25341185, -0.00430818, -0.0854775 , ..., -0.00656167,\n        -0.09881612, -0.24427704],\n       [-0.05959358, -0.11102638,  0.09635142, ..., -0.01266651,\n        -0.04451162,  0.79248432]])"
     },
     "execution_count": 24,
     "metadata": {},
     "output_type": "execute_result"
    }
   ],
   "source": [
    "logreg_clf.coef_"
   ]
  },
  {
   "cell_type": "code",
   "execution_count": 25,
   "id": "32f97e54",
   "metadata": {
    "scrolled": true,
    "ExecuteTime": {
     "end_time": "2023-11-04T10:45:45.732533400Z",
     "start_time": "2023-11-04T10:45:45.721912100Z"
    }
   },
   "outputs": [
    {
     "data": {
      "text/plain": "0.8861959957850368"
     },
     "execution_count": 25,
     "metadata": {},
     "output_type": "execute_result"
    }
   ],
   "source": [
    "logreg_clf.score(X_test_prepared, y_test)"
   ]
  },
  {
   "cell_type": "code",
   "execution_count": 26,
   "id": "20a3a6c9",
   "metadata": {
    "ExecuteTime": {
     "end_time": "2023-11-04T10:45:46.774132500Z",
     "start_time": "2023-11-04T10:45:46.722895300Z"
    }
   },
   "outputs": [
    {
     "data": {
      "text/plain": "0.8956796628029505"
     },
     "execution_count": 26,
     "metadata": {},
     "output_type": "execute_result"
    }
   ],
   "source": [
    "sgd_clf = SGDClassifier(random_state=RANDOM_STATE).fit(X_train_prepared, y_train)\n",
    "sgd_clf.score(X_test_prepared, y_test)"
   ]
  },
  {
   "cell_type": "code",
   "execution_count": 31,
   "outputs": [],
   "source": [
    "def get_feature_names(preprocessor: ColumnTransformer):\n",
    "    \"\"\"\n",
    "    Отдает названия признаков после метода fit / fit_transform в ColumnTransformer\n",
    "    \"\"\"\n",
    "    features = []\n",
    "    for _, transformer, transformer_features, _ in preprocessor._iter(fitted=True):\n",
    "\n",
    "        if isinstance(transformer, str):\n",
    "            continue\n",
    "\n",
    "        if hasattr(transformer, 'get_feature_names_out'):\n",
    "            transformer_features = transformer.get_feature_names_out()\n",
    "\n",
    "        for feature in transformer_features:\n",
    "            features.append(feature)\n",
    "\n",
    "    return features"
   ],
   "metadata": {
    "collapsed": false,
    "ExecuteTime": {
     "end_time": "2023-11-04T10:47:39.037231500Z",
     "start_time": "2023-11-04T10:47:39.016646600Z"
    }
   }
  },
  {
   "cell_type": "code",
   "execution_count": 30,
   "outputs": [
    {
     "data": {
      "text/plain": "[(4573, 10.093407266889852),\n (3076, 5.6393421659505805),\n (4571, 5.547349563417023),\n (6300, 4.017565799562711),\n (4575, 3.7293227025892093),\n (3075, 3.363770987726394),\n (4569, 3.2063290380824814),\n (6299, 2.569606668817622),\n (3293, 2.0518147214941553),\n (5310, 2.047404108516998),\n (3069, 2.0284317933094167),\n (4742, 1.585561395320911),\n (2663, 1.4869830148825045),\n (9565, 1.4304477301395413),\n (7834, 1.4304477301395406),\n (6016, 1.392883547644703),\n (1107, 1.3549886448142574),\n (6504, 1.336569243424383),\n (4662, 1.3140229299113824),\n (9458, 1.3004070273995842),\n (8214, 1.300407027399584),\n (9336, 1.300407027399582),\n (8066, 1.3004070273995816),\n (8189, 1.30040702739958),\n (1926, 1.2151474908423883),\n (3734, 1.2016727113845265),\n (591, 1.1879528297802244),\n (7068, 1.1793726527224968),\n (9679, 1.1703663246596265),\n (8340, 1.1703663246596263),\n (9750, 1.1703663246596256),\n (9657, 1.1703663246596254),\n (7943, 1.1703663246596252),\n (9182, 1.1703663246596252),\n (9258, 1.1703663246596245),\n (8047, 1.170366324659624),\n (8784, 1.1703663246596236),\n (9217, 1.1703663246596236),\n (8987, 1.1703663246596234),\n (7438, 1.1703663246596232),\n (7439, 1.1703663246596212),\n (4097, 1.154895466521504),\n (1888, 1.1412679309723706),\n (5416, 1.1404485885358109),\n (475, 1.1141065055757926),\n (4191, 1.1124156433706671),\n (5850, 1.1109403888179166),\n (1010, 1.1033694745627223),\n (663, 1.0866511814111857),\n (7138, 1.06639797283246),\n (1840, 1.0596072920799364),\n (3817, 1.0403808957472287),\n (9247, 1.0403256219196673),\n (9039, 1.0403256219196668),\n (9265, 1.0403256219196668),\n (7723, 1.0403256219196666),\n (8815, 1.0403256219196666),\n (8911, 1.0403256219196666),\n (9722, 1.0403256219196666),\n (7399, 1.0403256219196664),\n (7942, 1.0403256219196664),\n (7472, 1.040325621919666),\n (7838, 1.0403256219196657),\n (8082, 1.0403256219196657),\n (8228, 1.0403256219196657),\n (8882, 1.0403256219196657),\n (7418, 1.0403256219196653),\n (8325, 1.0403256219196653),\n (7414, 1.0403256219196648),\n (7443, 1.0403256219196648),\n (7461, 1.0403256219196648),\n (9340, 1.0403256219196648),\n (7817, 1.0403256219196646),\n (7495, 1.0403256219196642),\n (9361, 1.0403256219196642),\n (6595, 1.034519855021135),\n (2558, 1.01980858612543),\n (2752, 1.015817831532054),\n (6289, 1.0082472187185287),\n (575, 0.9768106174497005),\n (7376, 0.9744380489952099),\n (3103, 0.949039979359236),\n (1604, 0.9385935886993538),\n (1112, 0.9383616745381996),\n (2155, 0.925171671712878),\n (4767, 0.9110807956185638),\n (8477, 0.9102849191797105),\n (7734, 0.9102849191797103),\n (7951, 0.9102849191797094),\n (8427, 0.9102849191797094),\n (9527, 0.9102849191797094),\n (7473, 0.9102849191797092),\n (7567, 0.9102849191797092),\n (7489, 0.910284919179709),\n (9321, 0.910284919179709),\n (9970, 0.910284919179709),\n (8120, 0.9102849191797087),\n (8863, 0.9102849191797087),\n (7802, 0.9102849191797084),\n (8334, 0.9102849191797084),\n (9013, 0.9102849191797084),\n (7729, 0.9102849191797083),\n (9322, 0.9102849191797083),\n (9343, 0.9102849191797083),\n (8314, 0.9102849191797081),\n (8903, 0.9102849191797081),\n (9893, 0.9102849191797081),\n (8016, 0.9102849191797079),\n (8138, 0.9102849191797079),\n (8910, 0.9102849191797079),\n (9087, 0.9102849191797079),\n (7565, 0.9102849191797078),\n (7797, 0.9102849191797078),\n (8893, 0.9102849191797078),\n (9668, 0.9102849191797076),\n (9991, 0.9102849191797076),\n (7706, 0.9102849191797073),\n (8096, 0.9102849191797073),\n (9875, 0.9102849191797073),\n (9294, 0.9102849191797072),\n (9748, 0.910284919179707),\n (9933, 0.9102849191797069),\n (7459, 0.9102849191797067),\n (7751, 0.9102849191797067),\n (9252, 0.9102849191797067),\n (7436, 0.9102849191797061),\n (9293, 0.9102849191797059),\n (8471, 0.9102849191797053),\n (7486, 0.9102849191797047),\n (7786, 0.9102849191797047),\n (3489, 0.8982893268843042),\n (6190, 0.8882009269545488),\n (237, 0.8874521618804837),\n (4758, 0.8766984959183525),\n (5844, 0.8747127499673156),\n (4824, 0.86673374186107),\n (4565, 0.8548599611521359),\n (5053, 0.8463275848183349),\n (3903, 0.8420232180712534),\n (2505, 0.8412216404718214),\n (6188, 0.8088026122127808),\n (5726, 0.8085183910527608),\n (5596, 0.8039096461126735),\n (3593, 0.7979613611000929),\n (2508, 0.7964392375440407),\n (7293, 0.7926812219692407),\n (2785, 0.7908609388569678),\n (7101, 0.7835657451422756),\n (4631, 0.7835572277731737),\n (7682, 0.7802442164397524),\n (8400, 0.7802442164397517),\n (7422, 0.780244216439751),\n (8076, 0.780244216439751),\n (8916, 0.780244216439751),\n (9697, 0.780244216439751),\n (9504, 0.7802442164397503),\n (7620, 0.7802442164397502),\n (7721, 0.7802442164397501),\n (8795, 0.7802442164397501),\n (8827, 0.7802442164397501),\n (9315, 0.7802442164397501),\n (9378, 0.7802442164397501),\n (9391, 0.78024421643975),\n (9976, 0.78024421643975),\n (7432, 0.7802442164397498),\n (9557, 0.7802442164397498),\n (9924, 0.7802442164397498),\n (8338, 0.7802442164397497),\n (9033, 0.7802442164397497),\n (9139, 0.7802442164397497),\n (8964, 0.7802442164397495),\n (9112, 0.7802442164397495),\n (7460, 0.7802442164397493),\n (8010, 0.7802442164397492),\n (8734, 0.7802442164397492),\n (8823, 0.7802442164397492),\n (9272, 0.7802442164397492),\n (9500, 0.7802442164397492),\n (9239, 0.780244216439749),\n (9325, 0.780244216439749),\n (9907, 0.7802442164397488),\n (7913, 0.7802442164397487),\n (8431, 0.7802442164397487),\n (9166, 0.7802442164397487),\n (8323, 0.7802442164397486),\n (7448, 0.7802442164397483),\n (9827, 0.7802442164397483),\n (9844, 0.7802442164397481),\n (7859, 0.7802442164397478),\n (9967, 0.7802442164397478),\n (9304, 0.7802442164397477),\n (8238, 0.7802442164397475),\n (8880, 0.7802442164397475),\n (9917, 0.7802442164397475),\n (9733, 0.7802442164397474),\n (7593, 0.7802442164397473),\n (4183, 0.7751123775266451),\n (4700, 0.7725303131766964),\n (1918, 0.75199084296565),\n (7117, 0.7513694646022584),\n (3675, 0.7490227217728775),\n (3419, 0.7462283550436775),\n (3595, 0.7415468281064412),\n (2614, 0.735758973644659),\n (3664, 0.7350000224999325),\n (2613, 0.7244369982018357),\n (5432, 0.7220522463518823),\n (4205, 0.7194696342187588),\n (3238, 0.6999933306662386),\n (509, 0.6978202877429696),\n (6943, 0.6964610029891307),\n (5483, 0.6957382352836105),\n (7063, 0.6850550399848928),\n (4909, 0.6844683325372027),\n (2945, 0.6808520389212441),\n (3006, 0.680416514503402),\n (875, 0.6760619505734247),\n (7377, 0.6656223200596784),\n (3316, 0.6653456653181818),\n (2670, 0.6597198641835633),\n (1990, 0.6578973852553793),\n (6926, 0.6578973852553793),\n (4416, 0.6575708449788903),\n (4304, 0.6575082296473004),\n (2517, 0.6569318829186073),\n (717, 0.6506768184905549),\n (9735, 0.6502035136997936),\n (7475, 0.6502035136997933),\n (9220, 0.6502035136997933),\n (7494, 0.6502035136997932),\n (7526, 0.6502035136997932),\n (9003, 0.650203513699793),\n (7713, 0.6502035136997927),\n (9311, 0.6502035136997927),\n (8308, 0.6502035136997926),\n (7479, 0.6502035136997925),\n (8663, 0.6502035136997925),\n (7643, 0.6502035136997923),\n (9665, 0.6502035136997923),\n (9961, 0.6502035136997923),\n (9879, 0.6502035136997922),\n (8808, 0.6502035136997921),\n (9010, 0.6502035136997921),\n (9792, 0.6502035136997921),\n (8237, 0.650203513699792),\n (9282, 0.650203513699792),\n (7697, 0.6502035136997918),\n (8086, 0.6502035136997917),\n (8258, 0.6502035136997917),\n (7434, 0.6502035136997916),\n (8092, 0.6502035136997916),\n (8326, 0.6502035136997916),\n (8843, 0.6502035136997916),\n (9938, 0.6502035136997916),\n (9256, 0.6502035136997915),\n (9764, 0.6502035136997915),\n (8356, 0.6502035136997913),\n (8812, 0.6502035136997913),\n (9947, 0.6502035136997913),\n (7405, 0.6502035136997912),\n (7989, 0.6502035136997912),\n (8134, 0.6502035136997912),\n (8311, 0.6502035136997912),\n (8895, 0.6502035136997912),\n (9276, 0.6502035136997912),\n (8876, 0.6502035136997911),\n (7763, 0.650203513699791),\n (9595, 0.650203513699791),\n (7466, 0.6502035136997909),\n (7607, 0.6502035136997909),\n (7784, 0.6502035136997909),\n (8465, 0.6502035136997909),\n (9008, 0.6502035136997909),\n (7806, 0.6502035136997908),\n (7810, 0.6502035136997908),\n (7550, 0.6502035136997907),\n (8103, 0.6502035136997907),\n (8368, 0.6502035136997907),\n (9418, 0.6502035136997907),\n (9909, 0.6502035136997907),\n (7779, 0.6502035136997906),\n (7970, 0.6502035136997906),\n (8462, 0.6502035136997906),\n (9352, 0.6502035136997906),\n (8362, 0.6502035136997903),\n (9992, 0.6502035136997903),\n (9856, 0.6502035136997901),\n (8330, 0.65020351369979),\n (7446, 0.6502035136997896),\n (9660, 0.6502035136997891),\n (9946, 0.6502035136997891),\n (7416, 0.6502035136997889),\n (9362, 0.6502035136997889),\n (593, 0.6497216805718267),\n (2515, 0.6490306733316438),\n (1140, 0.646833936762885),\n (1158, 0.6466712828710304),\n (4216, 0.6452180205670607),\n (5876, 0.645142322261867),\n (6028, 0.645142322261867),\n (6509, 0.645142322261867),\n (3074, 0.6401156654555676),\n (4568, 0.6367763324325959),\n (2435, 0.6352474764494753),\n (3700, 0.6290232200029049),\n (1687, 0.6247768911379283),\n (6855, 0.6232225031539659),\n (6642, 0.6214596272023191),\n (3598, 0.6195132888658332),\n (7016, 0.6193557394105328),\n (2049, 0.6190144848246473),\n (2449, 0.6173560727037816),\n (1536, 0.6171341647949558),\n (2246, 0.6171334360415216),\n (7120, 0.6168830647042375),\n (117, 0.6138195781717812),\n (3682, 0.6130420453544425),\n (3599, 0.6115881800840328),\n (5025, 0.6106569234039674),\n (3199, 0.6096477209834426),\n (592, 0.608026118716119),\n (286, 0.6080033923010906),\n (109, 0.6071312918326528),\n (7005, 0.6067988019558858),\n (5719, 0.6055713814056366),\n (5026, 0.6046298803783735),\n (4664, 0.6020834361819468),\n (5090, 0.6010829022296222),\n (2391, 0.5974341047478219),\n (5847, 0.5968371781588773),\n (3207, 0.59245136674352),\n (238, 0.5910109645654804),\n (1634, 0.5869154469544061),\n (6954, 0.5855474357518664),\n (6178, 0.5806955240444418),\n (3198, 0.5805312451422832),\n (5936, 0.5796220436623597),\n (6773, 0.5766526357016202),\n (4864, 0.5748592654739149),\n (930, 0.5738683796614658),\n (468, 0.5735974915957153),\n (2164, 0.5732147967651376),\n (6925, 0.5725637871661577),\n (7381, 0.5710874818470363),\n (1012, 0.5685907195200693),\n (289, 0.5616261397031693),\n (467, 0.5616261397031693),\n (1441, 0.5587971252607501),\n (5624, 0.5561113594647755),\n (3423, 0.5557441779684416),\n (7184, 0.5555092916991202),\n (6802, 0.5549688751791001),\n (7087, 0.5524820821667438),\n (4067, 0.5513979805828293),\n (6252, 0.5436446992765557),\n (1236, 0.5432693742333786),\n (7222, 0.5414879220752329),\n (3589, 0.5375306897467272),\n (4234, 0.5371951401766346),\n (3843, 0.5348184982823952),\n (1349, 0.5336714146744057),\n (5480, 0.5325178192997383),\n (6654, 0.5313597129091353),\n (7302, 0.5311980952706531),\n (1974, 0.5303402089346511),\n (5448, 0.5286894746845113),\n (5874, 0.5277494070274584),\n (1473, 0.527155592341121),\n (6321, 0.526996877496791),\n (4973, 0.525248163938998),\n (3973, 0.5246485118948059),\n (96, 0.5230937291398883),\n (1641, 0.5218683231356582),\n (9300, 0.5201628109598357),\n (9803, 0.5201628109598357),\n (7462, 0.5201628109598351),\n (7818, 0.520162810959835),\n (7417, 0.5201628109598349),\n (7390, 0.5201628109598346),\n (7442, 0.5201628109598346),\n (9146, 0.5201628109598346),\n (9370, 0.5201628109598346),\n (7816, 0.5201628109598345),\n (8731, 0.5201628109598345),\n (9291, 0.5201628109598345),\n (9913, 0.5201628109598345),\n (9426, 0.5201628109598343),\n (8924, 0.5201628109598341),\n (9471, 0.520162810959834),\n (9911, 0.520162810959834),\n (8965, 0.5201628109598337),\n (9673, 0.5201628109598337),\n (8226, 0.5201628109598336),\n (9743, 0.5201628109598336),\n (7468, 0.5201628109598335),\n (7855, 0.5201628109598334),\n (8683, 0.5201628109598334),\n (9142, 0.5201628109598334),\n (9541, 0.5201628109598334),\n (9594, 0.5201628109598334),\n (9901, 0.5201628109598334),\n (8915, 0.5201628109598333),\n (9366, 0.5201628109598333),\n (8732, 0.5201628109598332),\n (9255, 0.5201628109598332),\n (9376, 0.5201628109598332),\n (7695, 0.520162810959833),\n (8329, 0.520162810959833),\n (9687, 0.520162810959833),\n (9020, 0.5201628109598329),\n (9860, 0.5201628109598329),\n (8645, 0.5201628109598327),\n (8953, 0.5201628109598327),\n (7401, 0.5201628109598326),\n (7979, 0.5201628109598326),\n (8030, 0.5201628109598326),\n (9656, 0.5201628109598326),\n (7691, 0.5201628109598324),\n (8031, 0.5201628109598324),\n (9635, 0.5201628109598324),\n (8053, 0.5201628109598323),\n (9344, 0.5201628109598323),\n (9422, 0.5201628109598323),\n (9513, 0.5201628109598322),\n (8245, 0.520162810959832),\n (9214, 0.520162810959832),\n (7863, 0.5201628109598319),\n (8772, 0.5201628109598319),\n (8894, 0.5201628109598319),\n (9233, 0.5201628109598319),\n (7792, 0.5201628109598317),\n (9845, 0.5201628109598317),\n (9822, 0.5201628109598316),\n (8450, 0.5201628109598313),\n (9749, 0.5201628109598313),\n (9414, 0.5201628109598312),\n (9977, 0.5201628109598312),\n (9158, 0.5201628109598309),\n (4596, 0.5188432616140253),\n (4865, 0.5169408909675485),\n (3079, 0.5167720384149362),\n (7300, 0.5133708019289852),\n (4514, 0.5113169497547008),\n (3159, 0.5110735549935006),\n (6228, 0.5095067547772633),\n (4901, 0.5085200099604025),\n (158, 0.508283974463436),\n (1629, 0.5036271652736276),\n (5392, 0.5020411398813532),\n (7375, 0.49982007817933194),\n (7373, 0.49921917020453416),\n (2672, 0.4983326014280086),\n (5023, 0.49821527285919376),\n (2822, 0.4944392150840262),\n (3720, 0.4937458567556593),\n (5407, 0.49354887412542037),\n (7317, 0.4924954673559546),\n (550, 0.49041378294941057),\n (3569, 0.49037884133629034),\n (1781, 0.4898524287727375),\n (3506, 0.489307128895955),\n (4954, 0.4886931866698723),\n (7146, 0.48713809439248185),\n (6741, 0.4858639221142125),\n (5732, 0.4831889099053275),\n (5551, 0.4828022889400489),\n (401, 0.48205846475921343),\n (4248, 0.480679437836726),\n (1664, 0.4793411114655619),\n (5476, 0.47806593004178266),\n (1527, 0.4742555619591193),\n (1212, 0.47254511050483217),\n (2001, 0.47094023492882137),\n (3410, 0.4707123662600293),\n (950, 0.4687066230232512),\n (6527, 0.4668345781675778),\n (7164, 0.46554977842777073),\n (4827, 0.46327479580983244),\n (5423, 0.46282709986816634),\n (3891, 0.4623297271778164),\n (3204, 0.4622470877638502),\n (5723, 0.4612086482030519),\n (2454, 0.4592445577200747),\n (3098, 0.4591283917731085),\n (3524, 0.4584705126083154),\n (7189, 0.45765020920873545),\n (7125, 0.457169401988606),\n (1168, 0.4555270021149095),\n (6624, 0.4548640058653903),\n (131, 0.45476864801823874),\n (229, 0.45476864801823874),\n (4010, 0.45476864801823874),\n (6552, 0.4534122595531731),\n (3743, 0.4520646490812106),\n (5656, 0.4509097721689714),\n (5406, 0.44925709194228985),\n (5569, 0.44812585342462735),\n (4054, 0.44716126794405764),\n (4213, 0.44642164371621545),\n (2276, 0.44394924132115804),\n (4281, 0.44182498171496165),\n (3289, 0.4411279092768666),\n (3314, 0.4410239032040645),\n (3773, 0.438572486828496),\n (1643, 0.43708455524260925),\n (2192, 0.436365959778858),\n (5044, 0.43439382093767015),\n (5327, 0.4329453229967627),\n (2262, 0.43130274345141495),\n (3307, 0.4305226708638118),\n (619, 0.42995445055714787),\n (1436, 0.4297504631592714),\n (1502, 0.4297504631592714),\n (3409, 0.4297504631592714),\n (5372, 0.4292858883866327),\n (2399, 0.4276781053204397),\n (4885, 0.42728459399065327),\n (4524, 0.4258239089644959),\n (2974, 0.425808527525716),\n (5861, 0.425808527525716),\n (2420, 0.42524425401263655),\n (3633, 0.4241278932909713),\n (2512, 0.42339183330024777),\n (1977, 0.4223558967375121),\n (2210, 0.42044071975307895),\n (2032, 0.4202236825240703),\n (728, 0.41933804271917835),\n (2259, 0.41800137635147494),\n (2376, 0.41744241679445876),\n (4752, 0.4149469831604924),\n (869, 0.41267103024228735),\n (1491, 0.40917581695468663),\n (7172, 0.4085725580880224),\n (3357, 0.4059863393279515),\n (2772, 0.4059079278615843),\n (5381, 0.40518348677980065),\n (4126, 0.4039779343353495),\n (2222, 0.4011797436233317),\n (6837, 0.40106106450205914),\n (4894, 0.4004075298583762),\n (4399, 0.40018653839782475),\n (2718, 0.4001280971133055),\n (5964, 0.39880864955845025),\n (1427, 0.3987981707195522),\n (5093, 0.39641682457368815),\n (3582, 0.3964054837780448),\n (3850, 0.3961944278505649),\n (472, 0.3950978016128858),\n (4160, 0.3936891499541569),\n (5320, 0.3936891499541569),\n (7285, 0.39334692812652877),\n (867, 0.39139761369491133),\n (8443, 0.39012210821987925),\n (8934, 0.39012210821987714),\n (9150, 0.3901221082198766),\n (8900, 0.3901221082198763),\n (9906, 0.39012210821987625),\n (8294, 0.3901221082198762),\n (8094, 0.3901221082198761),\n (7511, 0.39012210821987575),\n (7879, 0.39012210821987575),\n (9161, 0.39012210821987564),\n (8088, 0.3901221082198756),\n (7616, 0.3901221082198755),\n (7415, 0.3901221082198754),\n (8676, 0.3901221082198754),\n (8794, 0.3901221082198754),\n (9666, 0.39012210821987525),\n (9789, 0.39012210821987525),\n (7453, 0.3901221082198752),\n (8832, 0.3901221082198751),\n (7934, 0.39012210821987503),\n (9138, 0.39012210821987503),\n (8178, 0.3901221082198749),\n (8128, 0.39012210821987486),\n (8275, 0.39012210821987486),\n (8972, 0.39012210821987486),\n (8379, 0.3901221082198747),\n (7463, 0.3901221082198746),\n (8988, 0.3901221082198746),\n (9761, 0.3901221082198746),\n (7670, 0.3901221082198745),\n (8767, 0.3901221082198745),\n (8797, 0.3901221082198745),\n (8322, 0.3901221082198742),\n (7929, 0.3901221082198741),\n (8111, 0.39012210821987403),\n (8635, 0.39012210821987403),\n (9567, 0.39012210821987403),\n (8861, 0.3901221082198739),\n (8918, 0.3901221082198739),\n (8923, 0.3901221082198738),\n (7860, 0.3901221082198736),\n (8378, 0.3901221082198735),\n (9135, 0.39012210821987325),\n (6772, 0.3901146576584801),\n (553, 0.3894251818387478),\n (656, 0.3894251818387478),\n (723, 0.3894251818387478),\n (769, 0.3894251818387478),\n (6208, 0.38928201049271943),\n (5196, 0.3885619323327577),\n (7243, 0.3867973641472823),\n (5415, 0.38574388680929417),\n (3282, 0.38567537481094694),\n (2825, 0.38448685775555613),\n (1931, 0.3840541596894374),\n (6011, 0.38404801723201515),\n (2476, 0.3823401663206573),\n (6995, 0.38202325060849174),\n (1248, 0.38201857423913094),\n (3099, 0.38196600822080384),\n (3625, 0.3806016739169854),\n (5238, 0.3805788802266761),\n (7214, 0.3798945872295467),\n (4913, 0.3798025999538395),\n (3605, 0.379791110178121),\n (5806, 0.3794729147519302),\n (6250, 0.3788508702190414),\n (6582, 0.3787660448735137),\n (2366, 0.3774182706688503),\n (6573, 0.3766138876343629),\n (1797, 0.37602685246508066),\n (3124, 0.37601163423942086),\n (265, 0.37513314822293087),\n (1540, 0.37463898828207826),\n (1968, 0.3739233352067281),\n (6301, 0.37363962209341545),\n (6292, 0.3728609157501247),\n (5492, 0.3727383006055208),\n (6635, 0.37095442211756946),\n (2679, 0.36935212493150804),\n (213, 0.36873303514295847),\n (445, 0.36873303514295847),\n (1339, 0.36873303514295847),\n (4137, 0.36873303514295847),\n (4141, 0.36873303514295847),\n (4389, 0.36873303514295847),\n (6469, 0.36873303514295847),\n (2654, 0.36860232380872465),\n (5256, 0.36811577257250466),\n (6070, 0.3676887680924507),\n (1880, 0.366936610719403),\n (5419, 0.366936610719403),\n (6192, 0.366936610719403),\n (1496, 0.36504128927020213),\n (6560, 0.3649550550429344),\n (871, 0.3647508814086603),\n (952, 0.364439888218956),\n (2797, 0.36441053789958777),\n (5124, 0.36441053789958777),\n (6953, 0.3638540012218834),\n (5042, 0.3630340598115396),\n (3317, 0.3620508461225515),\n (3139, 0.36163043334693235),\n (1768, 0.36158109966791174),\n (6374, 0.36127564725330924),\n (1783, 0.36127167115882275),\n (2788, 0.36113151684721284),\n (5886, 0.36083398614930884),\n (355, 0.36046131557018357),\n (2792, 0.3599171796781657),\n (7124, 0.3584641362539642),\n (2533, 0.3580831751353873),\n (1156, 0.3567451151759421),\n (779, 0.35638048442220865),\n (6024, 0.3547649217138856),\n (3824, 0.3536874174224343),\n (2418, 0.352848846480848),\n (6518, 0.352848846480848),\n (4522, 0.35258164006280956),\n (2250, 0.35082925561741396),\n (6961, 0.35002724854933326),\n (4188, 0.34953250259907065),\n (6437, 0.3494205836286795),\n (7113, 0.3493951553125799),\n (5405, 0.348389805242327),\n (6468, 0.34752093251704386),\n (3707, 0.3473890290458652),\n (3162, 0.3471783672771588),\n (7179, 0.3464314443946132),\n (3239, 0.34605507956229065),\n (1456, 0.3444035055555302),\n (7027, 0.34416849988438225),\n (6014, 0.34377772908313803),\n (5512, 0.34187594755301726),\n (1280, 0.34113834368788576),\n (4373, 0.34079042108116),\n (3739, 0.34018871021760166),\n (4798, 0.34018871021760166),\n (5934, 0.34003500636864153),\n (5403, 0.33990589721943537),\n (2511, 0.3397179073012351),\n (1102, 0.3394520330219979),\n (5314, 0.3394520330219979),\n (2251, 0.3389752625366191),\n (457, 0.33883485534376956),\n (3180, 0.3375757802723105),\n (5722, 0.337486576664113),\n (2381, 0.33719067174754946),\n (4237, 0.33656629245902464),\n (325, 0.3356370415958144),\n (2632, 0.335227629787353),\n (3487, 0.33488818435546036),\n (3530, 0.3348726387031513),\n (3140, 0.334319122442681),\n (1930, 0.33267824952121333),\n (488, 0.3314789594768941),\n (1564, 0.3314789594768941),\n (2182, 0.3314789594768941),\n (2264, 0.3314789594768941),\n (2510, 0.3314789594768941),\n (3590, 0.3314789594768941),\n (4623, 0.3314789594768941),\n (4130, 0.33142140990781305),\n (3793, 0.3313139343578842),\n (6319, 0.3300340424160373),\n (6448, 0.32979254453603846),\n (622, 0.32917090374704877),\n (681, 0.32917090374704877),\n (790, 0.32917090374704877),\n (1072, 0.32917090374704877),\n (2188, 0.32917090374704877),\n (5340, 0.32917090374704877),\n (5619, 0.32917090374704877),\n (5215, 0.32914823591870224),\n (1109, 0.32518397021291895),\n (4247, 0.3250145841089104),\n (1119, 0.3246247733903762),\n (6387, 0.3241934450060619),\n (465, 0.32409345780863186),\n (3442, 0.32339763131490623),\n (3284, 0.32185820276542265),\n (5019, 0.31919686251718776),\n (2450, 0.3180472067143905),\n (1159, 0.3172417671049598),\n (6010, 0.3171305617003505),\n (7335, 0.31682616335338426),\n (7067, 0.31680803261638407),\n (1889, 0.31585787113916797),\n (2349, 0.31574521214308104),\n (4019, 0.3137633391476617),\n (3121, 0.30953415014777347),\n (7170, 0.3091086560515808),\n (4372, 0.3091003036403345),\n (1197, 0.30849145838179043),\n (2392, 0.3084864611268852),\n (2171, 0.30803436919909744),\n (4033, 0.30755819301816895),\n (4542, 0.30755819301816895),\n (4587, 0.30743975194226436),\n (3255, 0.30563233941708157),\n (1722, 0.3051069002921645),\n (665, 0.30473834026479935),\n (5549, 0.3042700336175719),\n (7362, 0.3032202281401888),\n (4703, 0.30259441180284397),\n (986, 0.3025192833479154),\n (6433, 0.3013634565254748),\n (7127, 0.30132504350715983),\n (1345, 0.3009291606756129),\n (221, 0.30075811713412043),\n (4069, 0.3006265641528927),\n (5575, 0.3002848316648675),\n (3391, 0.30002863767537924),\n (6366, 0.29923573359384553),\n (1858, 0.2991233088703142),\n (1742, 0.2986097004992877),\n (632, 0.2980943280644279),\n (1746, 0.29805265463346825),\n (6348, 0.2978288462558273),\n (2833, 0.2975568932178841),\n (5020, 0.29679883010479197),\n (206, 0.29649782605093555),\n (6986, 0.29538807830721225),\n (1423, 0.2950805008062049),\n (6972, 0.29502950750172013),\n (2396, 0.2944347446961886),\n (1415, 0.29392147117371686),\n (4331, 0.29364205725597786),\n (2408, 0.29324742607592374),\n (1326, 0.2931908647642963),\n (6915, 0.2929006645866975),\n (970, 0.29255649168337344),\n (4309, 0.29227312210350176),\n (2747, 0.29182946742550153),\n (3120, 0.291414506949828),\n (6762, 0.291414506949828),\n (6957, 0.291414506949828),\n (4251, 0.29137144617551114),\n (2625, 0.29049753219567354),\n (6005, 0.2903614400809194),\n (6367, 0.2903614400809194),\n (6956, 0.2903614400809194),\n (7020, 0.2903614400809194),\n (7236, 0.2903614400809194),\n (1315, 0.2903554671151278),\n (122, 0.28951867149797333),\n (4238, 0.287667407401564),\n (74, 0.2872399816925514),\n (6481, 0.28631666722787036),\n (6594, 0.2860007834087383),\n (3266, 0.2853180384320661),\n (4388, 0.2853180384320661),\n (5937, 0.2853180384320661),\n (3055, 0.2841955172489434),\n (1774, 0.28400586314955106),\n (2212, 0.28266161493909603),\n (5316, 0.2821993392670041),\n (1336, 0.28188888251506644),\n (5461, 0.2812450448825623),\n (6607, 0.28121442439483757),\n (7372, 0.28116504730943254),\n (2173, 0.2810369670017989),\n (2426, 0.2804547182159712),\n (4461, 0.2801250622081337),\n (5427, 0.2798446808742945),\n (5478, 0.2798446808742945),\n (4508, 0.27963893570616655),\n (1971, 0.27961512785890524),\n (2438, 0.27929478031748545),\n (7191, 0.27919951503833057),\n (865, 0.27914940059718557),\n (6615, 0.2786078845693474),\n (2656, 0.27852225742758885),\n (1279, 0.2782180759677689),\n (643, 0.2780648522390143),\n (3919, 0.2780648522390143),\n (6889, 0.2779169957637816),\n (6231, 0.2776336762230423),\n (6739, 0.2776336762230423),\n (5166, 0.2769252376355677),\n (3498, 0.2766618412638437),\n (1718, 0.2765893558856791),\n (1741, 0.2765893558856791),\n (598, 0.27607366046669934),\n (6384, 0.2760385633935417),\n (6310, 0.27518181830391214),\n (3696, 0.2751154397999571),\n (3333, 0.27487891331861375),\n (2378, 0.2745174097415051),\n (4530, 0.2744523617709296),\n (2531, 0.2733740698500608),\n (3642, 0.2733740698500608),\n (6042, 0.2733740698500608),\n (7094, 0.2728178340435053),\n (2031, 0.2727364299674961),\n (3490, 0.27191864483881123),\n (287, 0.27191466338653725),\n (2085, 0.27191466338653725),\n (2090, 0.27191466338653725),\n (6671, 0.27191466338653725),\n (347, 0.2715390085897136),\n (3025, 0.27117435703807086),\n (552, 0.2708739692229603),\n (7235, 0.2707630720723546),\n (5115, 0.2696881969842381),\n (6061, 0.269655401262936),\n (3422, 0.2696098761437025),\n (6722, 0.2693758364194779),\n (1194, 0.26933099282843614),\n (1791, 0.26933099282843614),\n (2233, 0.26933099282843614),\n (2912, 0.26933099282843614),\n (5342, 0.26933099282843614),\n (6376, 0.2689924728186908),\n (195, 0.2686722219711497),\n (5198, 0.26738908721136356),\n (7378, 0.26692274730507404),\n (6703, 0.2666778069172489),\n (4759, 0.26645379703441996),\n (2596, 0.26608517581187113),\n (5945, 0.26597019271967576),\n (2453, 0.26542147954563405),\n (1580, 0.2653654544888026),\n (3135, 0.2653654544888026),\n (7333, 0.26506324792787656),\n (4905, 0.2649078024777095),\n (3947, 0.2646325728239006),\n (3936, 0.2645981489520398),\n (4424, 0.264593580355701),\n (1251, 0.2636067454012101),\n (67, 0.2635666341722042),\n (4808, 0.263479293919448),\n (1567, 0.26346753526474337),\n (3874, 0.26346753526474337),\n (6895, 0.26346753526474337),\n (2287, 0.26328472451620527),\n (3750, 0.26322490949403843),\n (3647, 0.2632225964260187),\n (4804, 0.2619152977629923),\n (6525, 0.2616503803753064),\n (9136, 0.2600814054799192),\n (9115, 0.2600814054799181),\n (8750, 0.260081405479918),\n (9876, 0.2600814054799179),\n (9914, 0.2600814054799178),\n (8611, 0.26008140547991754),\n (8845, 0.26008140547991754),\n (10011, 0.2600814054799172),\n (8143, 0.2600814054799171),\n (8980, 0.26008140547991704),\n (9731, 0.26008140547991704),\n (8409, 0.260081405479917),\n (9171, 0.260081405479917),\n (9795, 0.260081405479917),\n (9776, 0.2600814054799169),\n (9724, 0.26008140547991687),\n (9728, 0.26008140547991687),\n (8634, 0.26008140547991676),\n (9280, 0.2600814054799167),\n (8017, 0.26008140547991637),\n (8411, 0.2600814054799163),\n (8205, 0.26008140547991615),\n (8212, 0.26008140547991615),\n (9095, 0.26008140547991615),\n (9954, 0.2600814054799161),\n (7717, 0.26008140547991604),\n (8810, 0.260081405479916),\n (8357, 0.26008140547991593),\n (9292, 0.26008140547991593),\n (7504, 0.2600814054799159),\n (8856, 0.2600814054799159),\n (7993, 0.26008140547991565),\n (9510, 0.26008140547991565),\n (7720, 0.2600814054799156),\n (8726, 0.2600814054799155),\n (7483, 0.26008140547991504),\n (9937, 0.26008140547991426),\n (8129, 0.26008140547991354),\n (1162, 0.25901752512659415),\n (1775, 0.2589899036546662),\n (2573, 0.25875944236731385),\n (3735, 0.2586239946065085),\n (3893, 0.2586239946065085),\n (5144, 0.2586239946065085),\n (5261, 0.2586239946065085),\n (6365, 0.2586239946065085),\n (946, 0.25821534574876875),\n (1891, 0.2573370848033084),\n (2719, 0.2573370848033084),\n (4917, 0.2573370848033084),\n (3380, 0.25655640020833087),\n (1501, 0.2561421517710965),\n (4282, 0.2561421517710965),\n (7078, 0.2558712472183024),\n (5641, 0.25503537818256783),\n (2074, 0.2548455094563687),\n (2224, 0.2547451570598115),\n (4746, 0.25456289978135227),\n (4820, 0.25452528268586505),\n (4316, 0.25448870682732827),\n (1254, 0.2544519869662391),\n (6205, 0.25442279853468236),\n (2732, 0.25435682986134706),\n (7276, 0.2540349997991907),\n (4264, 0.25238869782565804),\n (2737, 0.2515846049915329),\n (2255, 0.25154863349814327),\n (4166, 0.25062432752653263),\n (5408, 0.2500321411781785),\n (4815, 0.24981598696595622),\n (3923, 0.24973061093310575),\n (1263, 0.24947211271973563),\n (2448, 0.24945071897235238),\n (216, 0.24940455211346313),\n (1719, 0.24940455211346313),\n (5368, 0.24940455211346313),\n (1957, 0.24825807746775663),\n (5014, 0.24789666197937385),\n (6598, 0.24755121180957568),\n (6211, 0.2474926825019511),\n (3072, 0.2469106671312473),\n (4803, 0.2466704521668692),\n (3353, 0.24635724380227775),\n (4414, 0.24635470293883854),\n (267, 0.246068872895835),\n (4174, 0.24589266625919223),\n (4394, 0.24589266625919223),\n (6924, 0.24589266625919223),\n (1128, 0.24387633571618336),\n (6653, 0.24327045097522904),\n (2682, 0.24277464452035316),\n (5339, 0.24249578761674134),\n (2501, 0.2424739226350176),\n (3627, 0.2424739226350176),\n (4020, 0.2424739226350176),\n (5108, 0.2424739226350176),\n (1850, 0.2422313946712077),\n (2473, 0.2421147278736164),\n (1362, 0.242040854930608),\n (5548, 0.24181119707502818),\n (3680, 0.24127676904292084),\n (3695, 0.24127676904292084),\n (3854, 0.24127676904292084),\n (4765, 0.24127676904292084),\n (7168, 0.24127676904292084),\n (7312, 0.24127676904292084),\n (2701, 0.24124226449126596),\n (3809, 0.24099463692693485),\n ...]"
     },
     "execution_count": 30,
     "metadata": {},
     "output_type": "execute_result"
    }
   ],
   "source": [
    "sorted(enumerate(sgd_clf.coef_[1]), key=lambda x: x[1], reverse=True)"
   ],
   "metadata": {
    "collapsed": false,
    "ExecuteTime": {
     "end_time": "2023-11-04T10:47:24.801544Z",
     "start_time": "2023-11-04T10:47:24.721382600Z"
    }
   }
  },
  {
   "cell_type": "code",
   "execution_count": 41,
   "outputs": [
    {
     "data": {
      "text/plain": "'прекрасном'"
     },
     "execution_count": 41,
     "metadata": {},
     "output_type": "execute_result"
    }
   ],
   "source": [
    "get_feature_names(preprocessor)[5310]"
   ],
   "metadata": {
    "collapsed": false,
    "ExecuteTime": {
     "end_time": "2023-11-04T10:49:20.006452900Z",
     "start_time": "2023-11-04T10:49:19.993261800Z"
    }
   }
  },
  {
   "cell_type": "markdown",
   "id": "91aa4d09",
   "metadata": {},
   "source": [
    "## Метрики. Модуль metric"
   ]
  },
  {
   "cell_type": "code",
   "execution_count": 42,
   "id": "16ef86cf",
   "metadata": {
    "ExecuteTime": {
     "end_time": "2023-11-04T10:49:51.157992700Z",
     "start_time": "2023-11-04T10:49:51.149725700Z"
    }
   },
   "outputs": [],
   "source": [
    "y_pred = sgd_clf.predict(X_test_prepared)\n",
    "# >>> print(f1_score(y_test, y_pred))"
   ]
  },
  {
   "cell_type": "code",
   "execution_count": 43,
   "id": "13d403cd",
   "metadata": {
    "ExecuteTime": {
     "end_time": "2023-11-04T10:49:51.971301100Z",
     "start_time": "2023-11-04T10:49:51.952603300Z"
    }
   },
   "outputs": [
    {
     "name": "stdout",
     "output_type": "stream",
     "text": [
      "0.8862867630683107\n"
     ]
    }
   ],
   "source": [
    "print(f1_score(y_test, y_pred, average='weighted'))"
   ]
  },
  {
   "cell_type": "code",
   "execution_count": 44,
   "id": "1872e59f",
   "metadata": {
    "ExecuteTime": {
     "end_time": "2023-11-04T10:50:00.015434Z",
     "start_time": "2023-11-04T10:49:59.985514500Z"
    }
   },
   "outputs": [
    {
     "name": "stdout",
     "output_type": "stream",
     "text": [
      "              precision    recall  f1-score   support\n",
      "\n",
      "         bad       0.96      0.96      0.96       300\n",
      "   excellent       0.90      0.94      0.92       178\n",
      "        good       0.88      0.94      0.91       331\n",
      "         new       0.91      0.59      0.71        17\n",
      "     no_data       0.76      0.71      0.74        96\n",
      "satisfactory       0.50      0.11      0.18        27\n",
      "\n",
      "    accuracy                           0.90       949\n",
      "   macro avg       0.82      0.71      0.74       949\n",
      "weighted avg       0.89      0.90      0.89       949\n",
      "\n"
     ]
    }
   ],
   "source": [
    "from sklearn.metrics import classification_report\n",
    "\n",
    "print(classification_report(y_test, y_pred))"
   ]
  },
  {
   "cell_type": "markdown",
   "id": "28727582",
   "metadata": {},
   "source": [
    "## Поиск оптимальных гиперпараметров. Модуль model_selection"
   ]
  },
  {
   "cell_type": "code",
   "execution_count": 45,
   "id": "ca08db0f",
   "metadata": {
    "ExecuteTime": {
     "end_time": "2023-11-04T10:51:57.373225600Z",
     "start_time": "2023-11-04T10:51:57.366554700Z"
    }
   },
   "outputs": [],
   "source": [
    "parameters = {\n",
    "    'loss': [\n",
    "        'hinge',\n",
    "        'modified_huber',\n",
    "        'squared_hinge',\n",
    "        'perceptron',\n",
    "        'huber',\n",
    "    ],\n",
    "    'penalty': ['l2', 'l1', 'elasticnet'],\n",
    "    'max_iter': [100, 500, 1000],\n",
    "    'learning_rate': ['constant', 'optimal', 'adaptive'],\n",
    "    'eta0': [0.1, 0.5]\n",
    "}"
   ]
  },
  {
   "cell_type": "code",
   "execution_count": 46,
   "id": "b505a260",
   "metadata": {
    "ExecuteTime": {
     "end_time": "2023-11-04T10:54:09.105931200Z",
     "start_time": "2023-11-04T10:52:02.227000400Z"
    }
   },
   "outputs": [
    {
     "name": "stderr",
     "output_type": "stream",
     "text": [
      "C:\\Users\\aleks\\anaconda3\\Lib\\site-packages\\sklearn\\linear_model\\_stochastic_gradient.py:713: ConvergenceWarning: Maximum number of iteration reached before convergence. Consider increasing max_iter to improve the fit.\n",
      "  warnings.warn(\n",
      "C:\\Users\\aleks\\anaconda3\\Lib\\site-packages\\sklearn\\linear_model\\_stochastic_gradient.py:713: ConvergenceWarning: Maximum number of iteration reached before convergence. Consider increasing max_iter to improve the fit.\n",
      "  warnings.warn(\n",
      "C:\\Users\\aleks\\anaconda3\\Lib\\site-packages\\sklearn\\linear_model\\_stochastic_gradient.py:713: ConvergenceWarning: Maximum number of iteration reached before convergence. Consider increasing max_iter to improve the fit.\n",
      "  warnings.warn(\n",
      "C:\\Users\\aleks\\anaconda3\\Lib\\site-packages\\sklearn\\linear_model\\_stochastic_gradient.py:713: ConvergenceWarning: Maximum number of iteration reached before convergence. Consider increasing max_iter to improve the fit.\n",
      "  warnings.warn(\n",
      "C:\\Users\\aleks\\anaconda3\\Lib\\site-packages\\sklearn\\linear_model\\_stochastic_gradient.py:713: ConvergenceWarning: Maximum number of iteration reached before convergence. Consider increasing max_iter to improve the fit.\n",
      "  warnings.warn(\n",
      "C:\\Users\\aleks\\anaconda3\\Lib\\site-packages\\sklearn\\linear_model\\_stochastic_gradient.py:713: ConvergenceWarning: Maximum number of iteration reached before convergence. Consider increasing max_iter to improve the fit.\n",
      "  warnings.warn(\n",
      "C:\\Users\\aleks\\anaconda3\\Lib\\site-packages\\sklearn\\linear_model\\_stochastic_gradient.py:713: ConvergenceWarning: Maximum number of iteration reached before convergence. Consider increasing max_iter to improve the fit.\n",
      "  warnings.warn(\n"
     ]
    },
    {
     "data": {
      "text/plain": "GridSearchCV(estimator=SGDClassifier(random_state=22),\n             param_grid={'eta0': [0.1, 0.5],\n                         'learning_rate': ['constant', 'optimal', 'adaptive'],\n                         'loss': ['hinge', 'modified_huber', 'squared_hinge',\n                                  'perceptron', 'huber'],\n                         'max_iter': [100, 500, 1000],\n                         'penalty': ['l2', 'l1', 'elasticnet']})",
      "text/html": "<style>#sk-container-id-2 {color: black;}#sk-container-id-2 pre{padding: 0;}#sk-container-id-2 div.sk-toggleable {background-color: white;}#sk-container-id-2 label.sk-toggleable__label {cursor: pointer;display: block;width: 100%;margin-bottom: 0;padding: 0.3em;box-sizing: border-box;text-align: center;}#sk-container-id-2 label.sk-toggleable__label-arrow:before {content: \"▸\";float: left;margin-right: 0.25em;color: #696969;}#sk-container-id-2 label.sk-toggleable__label-arrow:hover:before {color: black;}#sk-container-id-2 div.sk-estimator:hover label.sk-toggleable__label-arrow:before {color: black;}#sk-container-id-2 div.sk-toggleable__content {max-height: 0;max-width: 0;overflow: hidden;text-align: left;background-color: #f0f8ff;}#sk-container-id-2 div.sk-toggleable__content pre {margin: 0.2em;color: black;border-radius: 0.25em;background-color: #f0f8ff;}#sk-container-id-2 input.sk-toggleable__control:checked~div.sk-toggleable__content {max-height: 200px;max-width: 100%;overflow: auto;}#sk-container-id-2 input.sk-toggleable__control:checked~label.sk-toggleable__label-arrow:before {content: \"▾\";}#sk-container-id-2 div.sk-estimator input.sk-toggleable__control:checked~label.sk-toggleable__label {background-color: #d4ebff;}#sk-container-id-2 div.sk-label input.sk-toggleable__control:checked~label.sk-toggleable__label {background-color: #d4ebff;}#sk-container-id-2 input.sk-hidden--visually {border: 0;clip: rect(1px 1px 1px 1px);clip: rect(1px, 1px, 1px, 1px);height: 1px;margin: -1px;overflow: hidden;padding: 0;position: absolute;width: 1px;}#sk-container-id-2 div.sk-estimator {font-family: monospace;background-color: #f0f8ff;border: 1px dotted black;border-radius: 0.25em;box-sizing: border-box;margin-bottom: 0.5em;}#sk-container-id-2 div.sk-estimator:hover {background-color: #d4ebff;}#sk-container-id-2 div.sk-parallel-item::after {content: \"\";width: 100%;border-bottom: 1px solid gray;flex-grow: 1;}#sk-container-id-2 div.sk-label:hover label.sk-toggleable__label {background-color: #d4ebff;}#sk-container-id-2 div.sk-serial::before {content: \"\";position: absolute;border-left: 1px solid gray;box-sizing: border-box;top: 0;bottom: 0;left: 50%;z-index: 0;}#sk-container-id-2 div.sk-serial {display: flex;flex-direction: column;align-items: center;background-color: white;padding-right: 0.2em;padding-left: 0.2em;position: relative;}#sk-container-id-2 div.sk-item {position: relative;z-index: 1;}#sk-container-id-2 div.sk-parallel {display: flex;align-items: stretch;justify-content: center;background-color: white;position: relative;}#sk-container-id-2 div.sk-item::before, #sk-container-id-2 div.sk-parallel-item::before {content: \"\";position: absolute;border-left: 1px solid gray;box-sizing: border-box;top: 0;bottom: 0;left: 50%;z-index: -1;}#sk-container-id-2 div.sk-parallel-item {display: flex;flex-direction: column;z-index: 1;position: relative;background-color: white;}#sk-container-id-2 div.sk-parallel-item:first-child::after {align-self: flex-end;width: 50%;}#sk-container-id-2 div.sk-parallel-item:last-child::after {align-self: flex-start;width: 50%;}#sk-container-id-2 div.sk-parallel-item:only-child::after {width: 0;}#sk-container-id-2 div.sk-dashed-wrapped {border: 1px dashed gray;margin: 0 0.4em 0.5em 0.4em;box-sizing: border-box;padding-bottom: 0.4em;background-color: white;}#sk-container-id-2 div.sk-label label {font-family: monospace;font-weight: bold;display: inline-block;line-height: 1.2em;}#sk-container-id-2 div.sk-label-container {text-align: center;}#sk-container-id-2 div.sk-container {/* jupyter's `normalize.less` sets `[hidden] { display: none; }` but bootstrap.min.css set `[hidden] { display: none !important; }` so we also need the `!important` here to be able to override the default hidden behavior on the sphinx rendered scikit-learn.org. See: https://github.com/scikit-learn/scikit-learn/issues/21755 */display: inline-block !important;position: relative;}#sk-container-id-2 div.sk-text-repr-fallback {display: none;}</style><div id=\"sk-container-id-2\" class=\"sk-top-container\"><div class=\"sk-text-repr-fallback\"><pre>GridSearchCV(estimator=SGDClassifier(random_state=22),\n             param_grid={&#x27;eta0&#x27;: [0.1, 0.5],\n                         &#x27;learning_rate&#x27;: [&#x27;constant&#x27;, &#x27;optimal&#x27;, &#x27;adaptive&#x27;],\n                         &#x27;loss&#x27;: [&#x27;hinge&#x27;, &#x27;modified_huber&#x27;, &#x27;squared_hinge&#x27;,\n                                  &#x27;perceptron&#x27;, &#x27;huber&#x27;],\n                         &#x27;max_iter&#x27;: [100, 500, 1000],\n                         &#x27;penalty&#x27;: [&#x27;l2&#x27;, &#x27;l1&#x27;, &#x27;elasticnet&#x27;]})</pre><b>In a Jupyter environment, please rerun this cell to show the HTML representation or trust the notebook. <br />On GitHub, the HTML representation is unable to render, please try loading this page with nbviewer.org.</b></div><div class=\"sk-container\" hidden><div class=\"sk-item sk-dashed-wrapped\"><div class=\"sk-label-container\"><div class=\"sk-label sk-toggleable\"><input class=\"sk-toggleable__control sk-hidden--visually\" id=\"sk-estimator-id-2\" type=\"checkbox\" ><label for=\"sk-estimator-id-2\" class=\"sk-toggleable__label sk-toggleable__label-arrow\">GridSearchCV</label><div class=\"sk-toggleable__content\"><pre>GridSearchCV(estimator=SGDClassifier(random_state=22),\n             param_grid={&#x27;eta0&#x27;: [0.1, 0.5],\n                         &#x27;learning_rate&#x27;: [&#x27;constant&#x27;, &#x27;optimal&#x27;, &#x27;adaptive&#x27;],\n                         &#x27;loss&#x27;: [&#x27;hinge&#x27;, &#x27;modified_huber&#x27;, &#x27;squared_hinge&#x27;,\n                                  &#x27;perceptron&#x27;, &#x27;huber&#x27;],\n                         &#x27;max_iter&#x27;: [100, 500, 1000],\n                         &#x27;penalty&#x27;: [&#x27;l2&#x27;, &#x27;l1&#x27;, &#x27;elasticnet&#x27;]})</pre></div></div></div><div class=\"sk-parallel\"><div class=\"sk-parallel-item\"><div class=\"sk-item\"><div class=\"sk-label-container\"><div class=\"sk-label sk-toggleable\"><input class=\"sk-toggleable__control sk-hidden--visually\" id=\"sk-estimator-id-3\" type=\"checkbox\" ><label for=\"sk-estimator-id-3\" class=\"sk-toggleable__label sk-toggleable__label-arrow\">estimator: SGDClassifier</label><div class=\"sk-toggleable__content\"><pre>SGDClassifier(random_state=22)</pre></div></div></div><div class=\"sk-serial\"><div class=\"sk-item\"><div class=\"sk-estimator sk-toggleable\"><input class=\"sk-toggleable__control sk-hidden--visually\" id=\"sk-estimator-id-4\" type=\"checkbox\" ><label for=\"sk-estimator-id-4\" class=\"sk-toggleable__label sk-toggleable__label-arrow\">SGDClassifier</label><div class=\"sk-toggleable__content\"><pre>SGDClassifier(random_state=22)</pre></div></div></div></div></div></div></div></div></div></div>"
     },
     "execution_count": 46,
     "metadata": {},
     "output_type": "execute_result"
    }
   ],
   "source": [
    "grid_search = GridSearchCV(sgd_clf, parameters)\n",
    "grid_search.fit(X_train_prepared, y_train)"
   ]
  },
  {
   "cell_type": "code",
   "execution_count": 47,
   "id": "6c73da3c",
   "metadata": {
    "ExecuteTime": {
     "end_time": "2023-11-04T10:54:22.029302400Z",
     "start_time": "2023-11-04T10:54:22.021651200Z"
    }
   },
   "outputs": [
    {
     "data": {
      "text/plain": "{'eta0': 0.5,\n 'learning_rate': 'adaptive',\n 'loss': 'hinge',\n 'max_iter': 100,\n 'penalty': 'l1'}"
     },
     "execution_count": 47,
     "metadata": {},
     "output_type": "execute_result"
    }
   ],
   "source": [
    "grid_search.best_params_"
   ]
  },
  {
   "cell_type": "code",
   "execution_count": 48,
   "id": "97e4fb33",
   "metadata": {
    "ExecuteTime": {
     "end_time": "2023-11-04T10:54:33.921023200Z",
     "start_time": "2023-11-04T10:54:33.910880100Z"
    }
   },
   "outputs": [
    {
     "data": {
      "text/plain": "0.9163474187708154"
     },
     "execution_count": 48,
     "metadata": {},
     "output_type": "execute_result"
    }
   ],
   "source": [
    "y_pred = grid_search.best_estimator_.predict(X_test_prepared)\n",
    "f1_score(y_pred, y_test, average='weighted')"
   ]
  },
  {
   "cell_type": "code",
   "execution_count": 49,
   "outputs": [],
   "source": [
    "parameters = {\n",
    "    'eta0': [0.1, 0.2, 0.3, 0.4, 0.5],\n",
    "    'learning_rate': ['constant', 'optimal', 'adaptive'],\n",
    "    'loss': ['hinge', 'modified_huber', 'squared_hinge','perceptron', 'huber'],\n",
    "    'max_iter': [50, 100, 200, 500, 1000],\n",
    "    'penalty': ['l2', 'l1', 'elasticnet']\n",
    "}\n",
    "\n",
    "grid_search = GridSearchCV(sgd_clf, parameters)"
   ],
   "metadata": {
    "collapsed": false,
    "ExecuteTime": {
     "end_time": "2023-11-04T10:55:49.929546800Z",
     "start_time": "2023-11-04T10:55:49.922799200Z"
    }
   }
  },
  {
   "cell_type": "code",
   "execution_count": 50,
   "outputs": [
    {
     "name": "stderr",
     "output_type": "stream",
     "text": [
      "C:\\Users\\aleks\\anaconda3\\Lib\\site-packages\\sklearn\\linear_model\\_stochastic_gradient.py:713: ConvergenceWarning: Maximum number of iteration reached before convergence. Consider increasing max_iter to improve the fit.\n",
      "  warnings.warn(\n",
      "C:\\Users\\aleks\\anaconda3\\Lib\\site-packages\\sklearn\\linear_model\\_stochastic_gradient.py:713: ConvergenceWarning: Maximum number of iteration reached before convergence. Consider increasing max_iter to improve the fit.\n",
      "  warnings.warn(\n",
      "C:\\Users\\aleks\\anaconda3\\Lib\\site-packages\\sklearn\\linear_model\\_stochastic_gradient.py:713: ConvergenceWarning: Maximum number of iteration reached before convergence. Consider increasing max_iter to improve the fit.\n",
      "  warnings.warn(\n",
      "C:\\Users\\aleks\\anaconda3\\Lib\\site-packages\\sklearn\\linear_model\\_stochastic_gradient.py:713: ConvergenceWarning: Maximum number of iteration reached before convergence. Consider increasing max_iter to improve the fit.\n",
      "  warnings.warn(\n",
      "C:\\Users\\aleks\\anaconda3\\Lib\\site-packages\\sklearn\\linear_model\\_stochastic_gradient.py:713: ConvergenceWarning: Maximum number of iteration reached before convergence. Consider increasing max_iter to improve the fit.\n",
      "  warnings.warn(\n",
      "C:\\Users\\aleks\\anaconda3\\Lib\\site-packages\\sklearn\\linear_model\\_stochastic_gradient.py:713: ConvergenceWarning: Maximum number of iteration reached before convergence. Consider increasing max_iter to improve the fit.\n",
      "  warnings.warn(\n",
      "C:\\Users\\aleks\\anaconda3\\Lib\\site-packages\\sklearn\\linear_model\\_stochastic_gradient.py:713: ConvergenceWarning: Maximum number of iteration reached before convergence. Consider increasing max_iter to improve the fit.\n",
      "  warnings.warn(\n",
      "C:\\Users\\aleks\\anaconda3\\Lib\\site-packages\\sklearn\\linear_model\\_stochastic_gradient.py:713: ConvergenceWarning: Maximum number of iteration reached before convergence. Consider increasing max_iter to improve the fit.\n",
      "  warnings.warn(\n",
      "C:\\Users\\aleks\\anaconda3\\Lib\\site-packages\\sklearn\\linear_model\\_stochastic_gradient.py:713: ConvergenceWarning: Maximum number of iteration reached before convergence. Consider increasing max_iter to improve the fit.\n",
      "  warnings.warn(\n",
      "C:\\Users\\aleks\\anaconda3\\Lib\\site-packages\\sklearn\\linear_model\\_stochastic_gradient.py:713: ConvergenceWarning: Maximum number of iteration reached before convergence. Consider increasing max_iter to improve the fit.\n",
      "  warnings.warn(\n",
      "C:\\Users\\aleks\\anaconda3\\Lib\\site-packages\\sklearn\\linear_model\\_stochastic_gradient.py:713: ConvergenceWarning: Maximum number of iteration reached before convergence. Consider increasing max_iter to improve the fit.\n",
      "  warnings.warn(\n",
      "C:\\Users\\aleks\\anaconda3\\Lib\\site-packages\\sklearn\\linear_model\\_stochastic_gradient.py:713: ConvergenceWarning: Maximum number of iteration reached before convergence. Consider increasing max_iter to improve the fit.\n",
      "  warnings.warn(\n",
      "C:\\Users\\aleks\\anaconda3\\Lib\\site-packages\\sklearn\\linear_model\\_stochastic_gradient.py:713: ConvergenceWarning: Maximum number of iteration reached before convergence. Consider increasing max_iter to improve the fit.\n",
      "  warnings.warn(\n",
      "C:\\Users\\aleks\\anaconda3\\Lib\\site-packages\\sklearn\\linear_model\\_stochastic_gradient.py:713: ConvergenceWarning: Maximum number of iteration reached before convergence. Consider increasing max_iter to improve the fit.\n",
      "  warnings.warn(\n",
      "C:\\Users\\aleks\\anaconda3\\Lib\\site-packages\\sklearn\\linear_model\\_stochastic_gradient.py:713: ConvergenceWarning: Maximum number of iteration reached before convergence. Consider increasing max_iter to improve the fit.\n",
      "  warnings.warn(\n",
      "C:\\Users\\aleks\\anaconda3\\Lib\\site-packages\\sklearn\\linear_model\\_stochastic_gradient.py:713: ConvergenceWarning: Maximum number of iteration reached before convergence. Consider increasing max_iter to improve the fit.\n",
      "  warnings.warn(\n",
      "C:\\Users\\aleks\\anaconda3\\Lib\\site-packages\\sklearn\\linear_model\\_stochastic_gradient.py:713: ConvergenceWarning: Maximum number of iteration reached before convergence. Consider increasing max_iter to improve the fit.\n",
      "  warnings.warn(\n",
      "C:\\Users\\aleks\\anaconda3\\Lib\\site-packages\\sklearn\\linear_model\\_stochastic_gradient.py:713: ConvergenceWarning: Maximum number of iteration reached before convergence. Consider increasing max_iter to improve the fit.\n",
      "  warnings.warn(\n",
      "C:\\Users\\aleks\\anaconda3\\Lib\\site-packages\\sklearn\\linear_model\\_stochastic_gradient.py:713: ConvergenceWarning: Maximum number of iteration reached before convergence. Consider increasing max_iter to improve the fit.\n",
      "  warnings.warn(\n",
      "C:\\Users\\aleks\\anaconda3\\Lib\\site-packages\\sklearn\\linear_model\\_stochastic_gradient.py:713: ConvergenceWarning: Maximum number of iteration reached before convergence. Consider increasing max_iter to improve the fit.\n",
      "  warnings.warn(\n",
      "C:\\Users\\aleks\\anaconda3\\Lib\\site-packages\\sklearn\\linear_model\\_stochastic_gradient.py:713: ConvergenceWarning: Maximum number of iteration reached before convergence. Consider increasing max_iter to improve the fit.\n",
      "  warnings.warn(\n",
      "C:\\Users\\aleks\\anaconda3\\Lib\\site-packages\\sklearn\\linear_model\\_stochastic_gradient.py:713: ConvergenceWarning: Maximum number of iteration reached before convergence. Consider increasing max_iter to improve the fit.\n",
      "  warnings.warn(\n",
      "C:\\Users\\aleks\\anaconda3\\Lib\\site-packages\\sklearn\\linear_model\\_stochastic_gradient.py:713: ConvergenceWarning: Maximum number of iteration reached before convergence. Consider increasing max_iter to improve the fit.\n",
      "  warnings.warn(\n",
      "C:\\Users\\aleks\\anaconda3\\Lib\\site-packages\\sklearn\\linear_model\\_stochastic_gradient.py:713: ConvergenceWarning: Maximum number of iteration reached before convergence. Consider increasing max_iter to improve the fit.\n",
      "  warnings.warn(\n",
      "C:\\Users\\aleks\\anaconda3\\Lib\\site-packages\\sklearn\\linear_model\\_stochastic_gradient.py:713: ConvergenceWarning: Maximum number of iteration reached before convergence. Consider increasing max_iter to improve the fit.\n",
      "  warnings.warn(\n",
      "C:\\Users\\aleks\\anaconda3\\Lib\\site-packages\\sklearn\\linear_model\\_stochastic_gradient.py:713: ConvergenceWarning: Maximum number of iteration reached before convergence. Consider increasing max_iter to improve the fit.\n",
      "  warnings.warn(\n",
      "C:\\Users\\aleks\\anaconda3\\Lib\\site-packages\\sklearn\\linear_model\\_stochastic_gradient.py:713: ConvergenceWarning: Maximum number of iteration reached before convergence. Consider increasing max_iter to improve the fit.\n",
      "  warnings.warn(\n",
      "C:\\Users\\aleks\\anaconda3\\Lib\\site-packages\\sklearn\\linear_model\\_stochastic_gradient.py:713: ConvergenceWarning: Maximum number of iteration reached before convergence. Consider increasing max_iter to improve the fit.\n",
      "  warnings.warn(\n",
      "C:\\Users\\aleks\\anaconda3\\Lib\\site-packages\\sklearn\\linear_model\\_stochastic_gradient.py:713: ConvergenceWarning: Maximum number of iteration reached before convergence. Consider increasing max_iter to improve the fit.\n",
      "  warnings.warn(\n",
      "C:\\Users\\aleks\\anaconda3\\Lib\\site-packages\\sklearn\\linear_model\\_stochastic_gradient.py:713: ConvergenceWarning: Maximum number of iteration reached before convergence. Consider increasing max_iter to improve the fit.\n",
      "  warnings.warn(\n",
      "C:\\Users\\aleks\\anaconda3\\Lib\\site-packages\\sklearn\\linear_model\\_stochastic_gradient.py:713: ConvergenceWarning: Maximum number of iteration reached before convergence. Consider increasing max_iter to improve the fit.\n",
      "  warnings.warn(\n",
      "C:\\Users\\aleks\\anaconda3\\Lib\\site-packages\\sklearn\\linear_model\\_stochastic_gradient.py:713: ConvergenceWarning: Maximum number of iteration reached before convergence. Consider increasing max_iter to improve the fit.\n",
      "  warnings.warn(\n",
      "C:\\Users\\aleks\\anaconda3\\Lib\\site-packages\\sklearn\\linear_model\\_stochastic_gradient.py:713: ConvergenceWarning: Maximum number of iteration reached before convergence. Consider increasing max_iter to improve the fit.\n",
      "  warnings.warn(\n",
      "C:\\Users\\aleks\\anaconda3\\Lib\\site-packages\\sklearn\\linear_model\\_stochastic_gradient.py:713: ConvergenceWarning: Maximum number of iteration reached before convergence. Consider increasing max_iter to improve the fit.\n",
      "  warnings.warn(\n",
      "C:\\Users\\aleks\\anaconda3\\Lib\\site-packages\\sklearn\\linear_model\\_stochastic_gradient.py:713: ConvergenceWarning: Maximum number of iteration reached before convergence. Consider increasing max_iter to improve the fit.\n",
      "  warnings.warn(\n",
      "C:\\Users\\aleks\\anaconda3\\Lib\\site-packages\\sklearn\\linear_model\\_stochastic_gradient.py:713: ConvergenceWarning: Maximum number of iteration reached before convergence. Consider increasing max_iter to improve the fit.\n",
      "  warnings.warn(\n",
      "C:\\Users\\aleks\\anaconda3\\Lib\\site-packages\\sklearn\\linear_model\\_stochastic_gradient.py:713: ConvergenceWarning: Maximum number of iteration reached before convergence. Consider increasing max_iter to improve the fit.\n",
      "  warnings.warn(\n",
      "C:\\Users\\aleks\\anaconda3\\Lib\\site-packages\\sklearn\\linear_model\\_stochastic_gradient.py:713: ConvergenceWarning: Maximum number of iteration reached before convergence. Consider increasing max_iter to improve the fit.\n",
      "  warnings.warn(\n",
      "C:\\Users\\aleks\\anaconda3\\Lib\\site-packages\\sklearn\\linear_model\\_stochastic_gradient.py:713: ConvergenceWarning: Maximum number of iteration reached before convergence. Consider increasing max_iter to improve the fit.\n",
      "  warnings.warn(\n",
      "C:\\Users\\aleks\\anaconda3\\Lib\\site-packages\\sklearn\\linear_model\\_stochastic_gradient.py:713: ConvergenceWarning: Maximum number of iteration reached before convergence. Consider increasing max_iter to improve the fit.\n",
      "  warnings.warn(\n",
      "C:\\Users\\aleks\\anaconda3\\Lib\\site-packages\\sklearn\\linear_model\\_stochastic_gradient.py:713: ConvergenceWarning: Maximum number of iteration reached before convergence. Consider increasing max_iter to improve the fit.\n",
      "  warnings.warn(\n",
      "C:\\Users\\aleks\\anaconda3\\Lib\\site-packages\\sklearn\\linear_model\\_stochastic_gradient.py:713: ConvergenceWarning: Maximum number of iteration reached before convergence. Consider increasing max_iter to improve the fit.\n",
      "  warnings.warn(\n",
      "C:\\Users\\aleks\\anaconda3\\Lib\\site-packages\\sklearn\\linear_model\\_stochastic_gradient.py:713: ConvergenceWarning: Maximum number of iteration reached before convergence. Consider increasing max_iter to improve the fit.\n",
      "  warnings.warn(\n",
      "C:\\Users\\aleks\\anaconda3\\Lib\\site-packages\\sklearn\\linear_model\\_stochastic_gradient.py:713: ConvergenceWarning: Maximum number of iteration reached before convergence. Consider increasing max_iter to improve the fit.\n",
      "  warnings.warn(\n",
      "C:\\Users\\aleks\\anaconda3\\Lib\\site-packages\\sklearn\\linear_model\\_stochastic_gradient.py:713: ConvergenceWarning: Maximum number of iteration reached before convergence. Consider increasing max_iter to improve the fit.\n",
      "  warnings.warn(\n",
      "C:\\Users\\aleks\\anaconda3\\Lib\\site-packages\\sklearn\\linear_model\\_stochastic_gradient.py:713: ConvergenceWarning: Maximum number of iteration reached before convergence. Consider increasing max_iter to improve the fit.\n",
      "  warnings.warn(\n",
      "C:\\Users\\aleks\\anaconda3\\Lib\\site-packages\\sklearn\\linear_model\\_stochastic_gradient.py:713: ConvergenceWarning: Maximum number of iteration reached before convergence. Consider increasing max_iter to improve the fit.\n",
      "  warnings.warn(\n",
      "C:\\Users\\aleks\\anaconda3\\Lib\\site-packages\\sklearn\\linear_model\\_stochastic_gradient.py:713: ConvergenceWarning: Maximum number of iteration reached before convergence. Consider increasing max_iter to improve the fit.\n",
      "  warnings.warn(\n",
      "C:\\Users\\aleks\\anaconda3\\Lib\\site-packages\\sklearn\\linear_model\\_stochastic_gradient.py:713: ConvergenceWarning: Maximum number of iteration reached before convergence. Consider increasing max_iter to improve the fit.\n",
      "  warnings.warn(\n",
      "C:\\Users\\aleks\\anaconda3\\Lib\\site-packages\\sklearn\\linear_model\\_stochastic_gradient.py:713: ConvergenceWarning: Maximum number of iteration reached before convergence. Consider increasing max_iter to improve the fit.\n",
      "  warnings.warn(\n",
      "C:\\Users\\aleks\\anaconda3\\Lib\\site-packages\\sklearn\\linear_model\\_stochastic_gradient.py:713: ConvergenceWarning: Maximum number of iteration reached before convergence. Consider increasing max_iter to improve the fit.\n",
      "  warnings.warn(\n",
      "C:\\Users\\aleks\\anaconda3\\Lib\\site-packages\\sklearn\\linear_model\\_stochastic_gradient.py:713: ConvergenceWarning: Maximum number of iteration reached before convergence. Consider increasing max_iter to improve the fit.\n",
      "  warnings.warn(\n",
      "C:\\Users\\aleks\\anaconda3\\Lib\\site-packages\\sklearn\\linear_model\\_stochastic_gradient.py:713: ConvergenceWarning: Maximum number of iteration reached before convergence. Consider increasing max_iter to improve the fit.\n",
      "  warnings.warn(\n",
      "C:\\Users\\aleks\\anaconda3\\Lib\\site-packages\\sklearn\\linear_model\\_stochastic_gradient.py:713: ConvergenceWarning: Maximum number of iteration reached before convergence. Consider increasing max_iter to improve the fit.\n",
      "  warnings.warn(\n",
      "C:\\Users\\aleks\\anaconda3\\Lib\\site-packages\\sklearn\\linear_model\\_stochastic_gradient.py:713: ConvergenceWarning: Maximum number of iteration reached before convergence. Consider increasing max_iter to improve the fit.\n",
      "  warnings.warn(\n",
      "C:\\Users\\aleks\\anaconda3\\Lib\\site-packages\\sklearn\\linear_model\\_stochastic_gradient.py:713: ConvergenceWarning: Maximum number of iteration reached before convergence. Consider increasing max_iter to improve the fit.\n",
      "  warnings.warn(\n",
      "C:\\Users\\aleks\\anaconda3\\Lib\\site-packages\\sklearn\\linear_model\\_stochastic_gradient.py:713: ConvergenceWarning: Maximum number of iteration reached before convergence. Consider increasing max_iter to improve the fit.\n",
      "  warnings.warn(\n",
      "C:\\Users\\aleks\\anaconda3\\Lib\\site-packages\\sklearn\\linear_model\\_stochastic_gradient.py:713: ConvergenceWarning: Maximum number of iteration reached before convergence. Consider increasing max_iter to improve the fit.\n",
      "  warnings.warn(\n",
      "C:\\Users\\aleks\\anaconda3\\Lib\\site-packages\\sklearn\\linear_model\\_stochastic_gradient.py:713: ConvergenceWarning: Maximum number of iteration reached before convergence. Consider increasing max_iter to improve the fit.\n",
      "  warnings.warn(\n",
      "C:\\Users\\aleks\\anaconda3\\Lib\\site-packages\\sklearn\\linear_model\\_stochastic_gradient.py:713: ConvergenceWarning: Maximum number of iteration reached before convergence. Consider increasing max_iter to improve the fit.\n",
      "  warnings.warn(\n",
      "C:\\Users\\aleks\\anaconda3\\Lib\\site-packages\\sklearn\\linear_model\\_stochastic_gradient.py:713: ConvergenceWarning: Maximum number of iteration reached before convergence. Consider increasing max_iter to improve the fit.\n",
      "  warnings.warn(\n",
      "C:\\Users\\aleks\\anaconda3\\Lib\\site-packages\\sklearn\\linear_model\\_stochastic_gradient.py:713: ConvergenceWarning: Maximum number of iteration reached before convergence. Consider increasing max_iter to improve the fit.\n",
      "  warnings.warn(\n",
      "C:\\Users\\aleks\\anaconda3\\Lib\\site-packages\\sklearn\\linear_model\\_stochastic_gradient.py:713: ConvergenceWarning: Maximum number of iteration reached before convergence. Consider increasing max_iter to improve the fit.\n",
      "  warnings.warn(\n",
      "C:\\Users\\aleks\\anaconda3\\Lib\\site-packages\\sklearn\\linear_model\\_stochastic_gradient.py:713: ConvergenceWarning: Maximum number of iteration reached before convergence. Consider increasing max_iter to improve the fit.\n",
      "  warnings.warn(\n",
      "C:\\Users\\aleks\\anaconda3\\Lib\\site-packages\\sklearn\\linear_model\\_stochastic_gradient.py:713: ConvergenceWarning: Maximum number of iteration reached before convergence. Consider increasing max_iter to improve the fit.\n",
      "  warnings.warn(\n",
      "C:\\Users\\aleks\\anaconda3\\Lib\\site-packages\\sklearn\\linear_model\\_stochastic_gradient.py:713: ConvergenceWarning: Maximum number of iteration reached before convergence. Consider increasing max_iter to improve the fit.\n",
      "  warnings.warn(\n",
      "C:\\Users\\aleks\\anaconda3\\Lib\\site-packages\\sklearn\\linear_model\\_stochastic_gradient.py:713: ConvergenceWarning: Maximum number of iteration reached before convergence. Consider increasing max_iter to improve the fit.\n",
      "  warnings.warn(\n",
      "C:\\Users\\aleks\\anaconda3\\Lib\\site-packages\\sklearn\\linear_model\\_stochastic_gradient.py:713: ConvergenceWarning: Maximum number of iteration reached before convergence. Consider increasing max_iter to improve the fit.\n",
      "  warnings.warn(\n",
      "C:\\Users\\aleks\\anaconda3\\Lib\\site-packages\\sklearn\\linear_model\\_stochastic_gradient.py:713: ConvergenceWarning: Maximum number of iteration reached before convergence. Consider increasing max_iter to improve the fit.\n",
      "  warnings.warn(\n",
      "C:\\Users\\aleks\\anaconda3\\Lib\\site-packages\\sklearn\\linear_model\\_stochastic_gradient.py:713: ConvergenceWarning: Maximum number of iteration reached before convergence. Consider increasing max_iter to improve the fit.\n",
      "  warnings.warn(\n",
      "C:\\Users\\aleks\\anaconda3\\Lib\\site-packages\\sklearn\\linear_model\\_stochastic_gradient.py:713: ConvergenceWarning: Maximum number of iteration reached before convergence. Consider increasing max_iter to improve the fit.\n",
      "  warnings.warn(\n",
      "C:\\Users\\aleks\\anaconda3\\Lib\\site-packages\\sklearn\\linear_model\\_stochastic_gradient.py:713: ConvergenceWarning: Maximum number of iteration reached before convergence. Consider increasing max_iter to improve the fit.\n",
      "  warnings.warn(\n",
      "C:\\Users\\aleks\\anaconda3\\Lib\\site-packages\\sklearn\\linear_model\\_stochastic_gradient.py:713: ConvergenceWarning: Maximum number of iteration reached before convergence. Consider increasing max_iter to improve the fit.\n",
      "  warnings.warn(\n",
      "C:\\Users\\aleks\\anaconda3\\Lib\\site-packages\\sklearn\\linear_model\\_stochastic_gradient.py:713: ConvergenceWarning: Maximum number of iteration reached before convergence. Consider increasing max_iter to improve the fit.\n",
      "  warnings.warn(\n",
      "C:\\Users\\aleks\\anaconda3\\Lib\\site-packages\\sklearn\\linear_model\\_stochastic_gradient.py:713: ConvergenceWarning: Maximum number of iteration reached before convergence. Consider increasing max_iter to improve the fit.\n",
      "  warnings.warn(\n",
      "C:\\Users\\aleks\\anaconda3\\Lib\\site-packages\\sklearn\\linear_model\\_stochastic_gradient.py:713: ConvergenceWarning: Maximum number of iteration reached before convergence. Consider increasing max_iter to improve the fit.\n",
      "  warnings.warn(\n",
      "C:\\Users\\aleks\\anaconda3\\Lib\\site-packages\\sklearn\\linear_model\\_stochastic_gradient.py:713: ConvergenceWarning: Maximum number of iteration reached before convergence. Consider increasing max_iter to improve the fit.\n",
      "  warnings.warn(\n",
      "C:\\Users\\aleks\\anaconda3\\Lib\\site-packages\\sklearn\\linear_model\\_stochastic_gradient.py:713: ConvergenceWarning: Maximum number of iteration reached before convergence. Consider increasing max_iter to improve the fit.\n",
      "  warnings.warn(\n",
      "C:\\Users\\aleks\\anaconda3\\Lib\\site-packages\\sklearn\\linear_model\\_stochastic_gradient.py:713: ConvergenceWarning: Maximum number of iteration reached before convergence. Consider increasing max_iter to improve the fit.\n",
      "  warnings.warn(\n",
      "C:\\Users\\aleks\\anaconda3\\Lib\\site-packages\\sklearn\\linear_model\\_stochastic_gradient.py:713: ConvergenceWarning: Maximum number of iteration reached before convergence. Consider increasing max_iter to improve the fit.\n",
      "  warnings.warn(\n",
      "C:\\Users\\aleks\\anaconda3\\Lib\\site-packages\\sklearn\\linear_model\\_stochastic_gradient.py:713: ConvergenceWarning: Maximum number of iteration reached before convergence. Consider increasing max_iter to improve the fit.\n",
      "  warnings.warn(\n",
      "C:\\Users\\aleks\\anaconda3\\Lib\\site-packages\\sklearn\\linear_model\\_stochastic_gradient.py:713: ConvergenceWarning: Maximum number of iteration reached before convergence. Consider increasing max_iter to improve the fit.\n",
      "  warnings.warn(\n",
      "C:\\Users\\aleks\\anaconda3\\Lib\\site-packages\\sklearn\\linear_model\\_stochastic_gradient.py:713: ConvergenceWarning: Maximum number of iteration reached before convergence. Consider increasing max_iter to improve the fit.\n",
      "  warnings.warn(\n",
      "C:\\Users\\aleks\\anaconda3\\Lib\\site-packages\\sklearn\\linear_model\\_stochastic_gradient.py:713: ConvergenceWarning: Maximum number of iteration reached before convergence. Consider increasing max_iter to improve the fit.\n",
      "  warnings.warn(\n",
      "C:\\Users\\aleks\\anaconda3\\Lib\\site-packages\\sklearn\\linear_model\\_stochastic_gradient.py:713: ConvergenceWarning: Maximum number of iteration reached before convergence. Consider increasing max_iter to improve the fit.\n",
      "  warnings.warn(\n",
      "C:\\Users\\aleks\\anaconda3\\Lib\\site-packages\\sklearn\\linear_model\\_stochastic_gradient.py:713: ConvergenceWarning: Maximum number of iteration reached before convergence. Consider increasing max_iter to improve the fit.\n",
      "  warnings.warn(\n",
      "C:\\Users\\aleks\\anaconda3\\Lib\\site-packages\\sklearn\\linear_model\\_stochastic_gradient.py:713: ConvergenceWarning: Maximum number of iteration reached before convergence. Consider increasing max_iter to improve the fit.\n",
      "  warnings.warn(\n",
      "C:\\Users\\aleks\\anaconda3\\Lib\\site-packages\\sklearn\\linear_model\\_stochastic_gradient.py:713: ConvergenceWarning: Maximum number of iteration reached before convergence. Consider increasing max_iter to improve the fit.\n",
      "  warnings.warn(\n",
      "C:\\Users\\aleks\\anaconda3\\Lib\\site-packages\\sklearn\\linear_model\\_stochastic_gradient.py:713: ConvergenceWarning: Maximum number of iteration reached before convergence. Consider increasing max_iter to improve the fit.\n",
      "  warnings.warn(\n",
      "C:\\Users\\aleks\\anaconda3\\Lib\\site-packages\\sklearn\\linear_model\\_stochastic_gradient.py:713: ConvergenceWarning: Maximum number of iteration reached before convergence. Consider increasing max_iter to improve the fit.\n",
      "  warnings.warn(\n",
      "C:\\Users\\aleks\\anaconda3\\Lib\\site-packages\\sklearn\\linear_model\\_stochastic_gradient.py:713: ConvergenceWarning: Maximum number of iteration reached before convergence. Consider increasing max_iter to improve the fit.\n",
      "  warnings.warn(\n",
      "C:\\Users\\aleks\\anaconda3\\Lib\\site-packages\\sklearn\\linear_model\\_stochastic_gradient.py:713: ConvergenceWarning: Maximum number of iteration reached before convergence. Consider increasing max_iter to improve the fit.\n",
      "  warnings.warn(\n",
      "C:\\Users\\aleks\\anaconda3\\Lib\\site-packages\\sklearn\\linear_model\\_stochastic_gradient.py:713: ConvergenceWarning: Maximum number of iteration reached before convergence. Consider increasing max_iter to improve the fit.\n",
      "  warnings.warn(\n",
      "C:\\Users\\aleks\\anaconda3\\Lib\\site-packages\\sklearn\\linear_model\\_stochastic_gradient.py:713: ConvergenceWarning: Maximum number of iteration reached before convergence. Consider increasing max_iter to improve the fit.\n",
      "  warnings.warn(\n",
      "C:\\Users\\aleks\\anaconda3\\Lib\\site-packages\\sklearn\\linear_model\\_stochastic_gradient.py:713: ConvergenceWarning: Maximum number of iteration reached before convergence. Consider increasing max_iter to improve the fit.\n",
      "  warnings.warn(\n",
      "C:\\Users\\aleks\\anaconda3\\Lib\\site-packages\\sklearn\\linear_model\\_stochastic_gradient.py:713: ConvergenceWarning: Maximum number of iteration reached before convergence. Consider increasing max_iter to improve the fit.\n",
      "  warnings.warn(\n",
      "C:\\Users\\aleks\\anaconda3\\Lib\\site-packages\\sklearn\\linear_model\\_stochastic_gradient.py:713: ConvergenceWarning: Maximum number of iteration reached before convergence. Consider increasing max_iter to improve the fit.\n",
      "  warnings.warn(\n",
      "C:\\Users\\aleks\\anaconda3\\Lib\\site-packages\\sklearn\\linear_model\\_stochastic_gradient.py:713: ConvergenceWarning: Maximum number of iteration reached before convergence. Consider increasing max_iter to improve the fit.\n",
      "  warnings.warn(\n",
      "C:\\Users\\aleks\\anaconda3\\Lib\\site-packages\\sklearn\\linear_model\\_stochastic_gradient.py:713: ConvergenceWarning: Maximum number of iteration reached before convergence. Consider increasing max_iter to improve the fit.\n",
      "  warnings.warn(\n",
      "C:\\Users\\aleks\\anaconda3\\Lib\\site-packages\\sklearn\\linear_model\\_stochastic_gradient.py:713: ConvergenceWarning: Maximum number of iteration reached before convergence. Consider increasing max_iter to improve the fit.\n",
      "  warnings.warn(\n",
      "C:\\Users\\aleks\\anaconda3\\Lib\\site-packages\\sklearn\\linear_model\\_stochastic_gradient.py:713: ConvergenceWarning: Maximum number of iteration reached before convergence. Consider increasing max_iter to improve the fit.\n",
      "  warnings.warn(\n",
      "C:\\Users\\aleks\\anaconda3\\Lib\\site-packages\\sklearn\\linear_model\\_stochastic_gradient.py:713: ConvergenceWarning: Maximum number of iteration reached before convergence. Consider increasing max_iter to improve the fit.\n",
      "  warnings.warn(\n",
      "C:\\Users\\aleks\\anaconda3\\Lib\\site-packages\\sklearn\\linear_model\\_stochastic_gradient.py:713: ConvergenceWarning: Maximum number of iteration reached before convergence. Consider increasing max_iter to improve the fit.\n",
      "  warnings.warn(\n",
      "C:\\Users\\aleks\\anaconda3\\Lib\\site-packages\\sklearn\\linear_model\\_stochastic_gradient.py:713: ConvergenceWarning: Maximum number of iteration reached before convergence. Consider increasing max_iter to improve the fit.\n",
      "  warnings.warn(\n",
      "C:\\Users\\aleks\\anaconda3\\Lib\\site-packages\\sklearn\\linear_model\\_stochastic_gradient.py:713: ConvergenceWarning: Maximum number of iteration reached before convergence. Consider increasing max_iter to improve the fit.\n",
      "  warnings.warn(\n",
      "C:\\Users\\aleks\\anaconda3\\Lib\\site-packages\\sklearn\\linear_model\\_stochastic_gradient.py:713: ConvergenceWarning: Maximum number of iteration reached before convergence. Consider increasing max_iter to improve the fit.\n",
      "  warnings.warn(\n",
      "C:\\Users\\aleks\\anaconda3\\Lib\\site-packages\\sklearn\\linear_model\\_stochastic_gradient.py:713: ConvergenceWarning: Maximum number of iteration reached before convergence. Consider increasing max_iter to improve the fit.\n",
      "  warnings.warn(\n",
      "C:\\Users\\aleks\\anaconda3\\Lib\\site-packages\\sklearn\\linear_model\\_stochastic_gradient.py:713: ConvergenceWarning: Maximum number of iteration reached before convergence. Consider increasing max_iter to improve the fit.\n",
      "  warnings.warn(\n",
      "C:\\Users\\aleks\\anaconda3\\Lib\\site-packages\\sklearn\\linear_model\\_stochastic_gradient.py:713: ConvergenceWarning: Maximum number of iteration reached before convergence. Consider increasing max_iter to improve the fit.\n",
      "  warnings.warn(\n",
      "C:\\Users\\aleks\\anaconda3\\Lib\\site-packages\\sklearn\\linear_model\\_stochastic_gradient.py:713: ConvergenceWarning: Maximum number of iteration reached before convergence. Consider increasing max_iter to improve the fit.\n",
      "  warnings.warn(\n",
      "C:\\Users\\aleks\\anaconda3\\Lib\\site-packages\\sklearn\\linear_model\\_stochastic_gradient.py:713: ConvergenceWarning: Maximum number of iteration reached before convergence. Consider increasing max_iter to improve the fit.\n",
      "  warnings.warn(\n",
      "C:\\Users\\aleks\\anaconda3\\Lib\\site-packages\\sklearn\\linear_model\\_stochastic_gradient.py:713: ConvergenceWarning: Maximum number of iteration reached before convergence. Consider increasing max_iter to improve the fit.\n",
      "  warnings.warn(\n",
      "C:\\Users\\aleks\\anaconda3\\Lib\\site-packages\\sklearn\\linear_model\\_stochastic_gradient.py:713: ConvergenceWarning: Maximum number of iteration reached before convergence. Consider increasing max_iter to improve the fit.\n",
      "  warnings.warn(\n",
      "C:\\Users\\aleks\\anaconda3\\Lib\\site-packages\\sklearn\\linear_model\\_stochastic_gradient.py:713: ConvergenceWarning: Maximum number of iteration reached before convergence. Consider increasing max_iter to improve the fit.\n",
      "  warnings.warn(\n",
      "C:\\Users\\aleks\\anaconda3\\Lib\\site-packages\\sklearn\\linear_model\\_stochastic_gradient.py:713: ConvergenceWarning: Maximum number of iteration reached before convergence. Consider increasing max_iter to improve the fit.\n",
      "  warnings.warn(\n",
      "C:\\Users\\aleks\\anaconda3\\Lib\\site-packages\\sklearn\\linear_model\\_stochastic_gradient.py:713: ConvergenceWarning: Maximum number of iteration reached before convergence. Consider increasing max_iter to improve the fit.\n",
      "  warnings.warn(\n",
      "C:\\Users\\aleks\\anaconda3\\Lib\\site-packages\\sklearn\\linear_model\\_stochastic_gradient.py:713: ConvergenceWarning: Maximum number of iteration reached before convergence. Consider increasing max_iter to improve the fit.\n",
      "  warnings.warn(\n",
      "C:\\Users\\aleks\\anaconda3\\Lib\\site-packages\\sklearn\\linear_model\\_stochastic_gradient.py:713: ConvergenceWarning: Maximum number of iteration reached before convergence. Consider increasing max_iter to improve the fit.\n",
      "  warnings.warn(\n",
      "C:\\Users\\aleks\\anaconda3\\Lib\\site-packages\\sklearn\\linear_model\\_stochastic_gradient.py:713: ConvergenceWarning: Maximum number of iteration reached before convergence. Consider increasing max_iter to improve the fit.\n",
      "  warnings.warn(\n",
      "C:\\Users\\aleks\\anaconda3\\Lib\\site-packages\\sklearn\\linear_model\\_stochastic_gradient.py:713: ConvergenceWarning: Maximum number of iteration reached before convergence. Consider increasing max_iter to improve the fit.\n",
      "  warnings.warn(\n",
      "C:\\Users\\aleks\\anaconda3\\Lib\\site-packages\\sklearn\\linear_model\\_stochastic_gradient.py:713: ConvergenceWarning: Maximum number of iteration reached before convergence. Consider increasing max_iter to improve the fit.\n",
      "  warnings.warn(\n",
      "C:\\Users\\aleks\\anaconda3\\Lib\\site-packages\\sklearn\\linear_model\\_stochastic_gradient.py:713: ConvergenceWarning: Maximum number of iteration reached before convergence. Consider increasing max_iter to improve the fit.\n",
      "  warnings.warn(\n",
      "C:\\Users\\aleks\\anaconda3\\Lib\\site-packages\\sklearn\\linear_model\\_stochastic_gradient.py:713: ConvergenceWarning: Maximum number of iteration reached before convergence. Consider increasing max_iter to improve the fit.\n",
      "  warnings.warn(\n",
      "C:\\Users\\aleks\\anaconda3\\Lib\\site-packages\\sklearn\\linear_model\\_stochastic_gradient.py:713: ConvergenceWarning: Maximum number of iteration reached before convergence. Consider increasing max_iter to improve the fit.\n",
      "  warnings.warn(\n",
      "C:\\Users\\aleks\\anaconda3\\Lib\\site-packages\\sklearn\\linear_model\\_stochastic_gradient.py:713: ConvergenceWarning: Maximum number of iteration reached before convergence. Consider increasing max_iter to improve the fit.\n",
      "  warnings.warn(\n",
      "C:\\Users\\aleks\\anaconda3\\Lib\\site-packages\\sklearn\\linear_model\\_stochastic_gradient.py:713: ConvergenceWarning: Maximum number of iteration reached before convergence. Consider increasing max_iter to improve the fit.\n",
      "  warnings.warn(\n",
      "C:\\Users\\aleks\\anaconda3\\Lib\\site-packages\\sklearn\\linear_model\\_stochastic_gradient.py:713: ConvergenceWarning: Maximum number of iteration reached before convergence. Consider increasing max_iter to improve the fit.\n",
      "  warnings.warn(\n",
      "C:\\Users\\aleks\\anaconda3\\Lib\\site-packages\\sklearn\\linear_model\\_stochastic_gradient.py:713: ConvergenceWarning: Maximum number of iteration reached before convergence. Consider increasing max_iter to improve the fit.\n",
      "  warnings.warn(\n",
      "C:\\Users\\aleks\\anaconda3\\Lib\\site-packages\\sklearn\\linear_model\\_stochastic_gradient.py:713: ConvergenceWarning: Maximum number of iteration reached before convergence. Consider increasing max_iter to improve the fit.\n",
      "  warnings.warn(\n",
      "C:\\Users\\aleks\\anaconda3\\Lib\\site-packages\\sklearn\\linear_model\\_stochastic_gradient.py:713: ConvergenceWarning: Maximum number of iteration reached before convergence. Consider increasing max_iter to improve the fit.\n",
      "  warnings.warn(\n",
      "C:\\Users\\aleks\\anaconda3\\Lib\\site-packages\\sklearn\\linear_model\\_stochastic_gradient.py:713: ConvergenceWarning: Maximum number of iteration reached before convergence. Consider increasing max_iter to improve the fit.\n",
      "  warnings.warn(\n",
      "C:\\Users\\aleks\\anaconda3\\Lib\\site-packages\\sklearn\\linear_model\\_stochastic_gradient.py:713: ConvergenceWarning: Maximum number of iteration reached before convergence. Consider increasing max_iter to improve the fit.\n",
      "  warnings.warn(\n",
      "C:\\Users\\aleks\\anaconda3\\Lib\\site-packages\\sklearn\\linear_model\\_stochastic_gradient.py:713: ConvergenceWarning: Maximum number of iteration reached before convergence. Consider increasing max_iter to improve the fit.\n",
      "  warnings.warn(\n",
      "C:\\Users\\aleks\\anaconda3\\Lib\\site-packages\\sklearn\\linear_model\\_stochastic_gradient.py:713: ConvergenceWarning: Maximum number of iteration reached before convergence. Consider increasing max_iter to improve the fit.\n",
      "  warnings.warn(\n",
      "C:\\Users\\aleks\\anaconda3\\Lib\\site-packages\\sklearn\\linear_model\\_stochastic_gradient.py:713: ConvergenceWarning: Maximum number of iteration reached before convergence. Consider increasing max_iter to improve the fit.\n",
      "  warnings.warn(\n",
      "C:\\Users\\aleks\\anaconda3\\Lib\\site-packages\\sklearn\\linear_model\\_stochastic_gradient.py:713: ConvergenceWarning: Maximum number of iteration reached before convergence. Consider increasing max_iter to improve the fit.\n",
      "  warnings.warn(\n",
      "C:\\Users\\aleks\\anaconda3\\Lib\\site-packages\\sklearn\\linear_model\\_stochastic_gradient.py:713: ConvergenceWarning: Maximum number of iteration reached before convergence. Consider increasing max_iter to improve the fit.\n",
      "  warnings.warn(\n",
      "C:\\Users\\aleks\\anaconda3\\Lib\\site-packages\\sklearn\\linear_model\\_stochastic_gradient.py:713: ConvergenceWarning: Maximum number of iteration reached before convergence. Consider increasing max_iter to improve the fit.\n",
      "  warnings.warn(\n",
      "C:\\Users\\aleks\\anaconda3\\Lib\\site-packages\\sklearn\\linear_model\\_stochastic_gradient.py:713: ConvergenceWarning: Maximum number of iteration reached before convergence. Consider increasing max_iter to improve the fit.\n",
      "  warnings.warn(\n",
      "C:\\Users\\aleks\\anaconda3\\Lib\\site-packages\\sklearn\\linear_model\\_stochastic_gradient.py:713: ConvergenceWarning: Maximum number of iteration reached before convergence. Consider increasing max_iter to improve the fit.\n",
      "  warnings.warn(\n",
      "C:\\Users\\aleks\\anaconda3\\Lib\\site-packages\\sklearn\\linear_model\\_stochastic_gradient.py:713: ConvergenceWarning: Maximum number of iteration reached before convergence. Consider increasing max_iter to improve the fit.\n",
      "  warnings.warn(\n",
      "C:\\Users\\aleks\\anaconda3\\Lib\\site-packages\\sklearn\\linear_model\\_stochastic_gradient.py:713: ConvergenceWarning: Maximum number of iteration reached before convergence. Consider increasing max_iter to improve the fit.\n",
      "  warnings.warn(\n",
      "C:\\Users\\aleks\\anaconda3\\Lib\\site-packages\\sklearn\\linear_model\\_stochastic_gradient.py:713: ConvergenceWarning: Maximum number of iteration reached before convergence. Consider increasing max_iter to improve the fit.\n",
      "  warnings.warn(\n",
      "C:\\Users\\aleks\\anaconda3\\Lib\\site-packages\\sklearn\\linear_model\\_stochastic_gradient.py:713: ConvergenceWarning: Maximum number of iteration reached before convergence. Consider increasing max_iter to improve the fit.\n",
      "  warnings.warn(\n",
      "C:\\Users\\aleks\\anaconda3\\Lib\\site-packages\\sklearn\\linear_model\\_stochastic_gradient.py:713: ConvergenceWarning: Maximum number of iteration reached before convergence. Consider increasing max_iter to improve the fit.\n",
      "  warnings.warn(\n",
      "C:\\Users\\aleks\\anaconda3\\Lib\\site-packages\\sklearn\\linear_model\\_stochastic_gradient.py:713: ConvergenceWarning: Maximum number of iteration reached before convergence. Consider increasing max_iter to improve the fit.\n",
      "  warnings.warn(\n",
      "C:\\Users\\aleks\\anaconda3\\Lib\\site-packages\\sklearn\\linear_model\\_stochastic_gradient.py:713: ConvergenceWarning: Maximum number of iteration reached before convergence. Consider increasing max_iter to improve the fit.\n",
      "  warnings.warn(\n",
      "C:\\Users\\aleks\\anaconda3\\Lib\\site-packages\\sklearn\\linear_model\\_stochastic_gradient.py:713: ConvergenceWarning: Maximum number of iteration reached before convergence. Consider increasing max_iter to improve the fit.\n",
      "  warnings.warn(\n",
      "C:\\Users\\aleks\\anaconda3\\Lib\\site-packages\\sklearn\\linear_model\\_stochastic_gradient.py:713: ConvergenceWarning: Maximum number of iteration reached before convergence. Consider increasing max_iter to improve the fit.\n",
      "  warnings.warn(\n",
      "C:\\Users\\aleks\\anaconda3\\Lib\\site-packages\\sklearn\\linear_model\\_stochastic_gradient.py:713: ConvergenceWarning: Maximum number of iteration reached before convergence. Consider increasing max_iter to improve the fit.\n",
      "  warnings.warn(\n",
      "C:\\Users\\aleks\\anaconda3\\Lib\\site-packages\\sklearn\\linear_model\\_stochastic_gradient.py:713: ConvergenceWarning: Maximum number of iteration reached before convergence. Consider increasing max_iter to improve the fit.\n",
      "  warnings.warn(\n",
      "C:\\Users\\aleks\\anaconda3\\Lib\\site-packages\\sklearn\\linear_model\\_stochastic_gradient.py:713: ConvergenceWarning: Maximum number of iteration reached before convergence. Consider increasing max_iter to improve the fit.\n",
      "  warnings.warn(\n",
      "C:\\Users\\aleks\\anaconda3\\Lib\\site-packages\\sklearn\\linear_model\\_stochastic_gradient.py:713: ConvergenceWarning: Maximum number of iteration reached before convergence. Consider increasing max_iter to improve the fit.\n",
      "  warnings.warn(\n",
      "C:\\Users\\aleks\\anaconda3\\Lib\\site-packages\\sklearn\\linear_model\\_stochastic_gradient.py:713: ConvergenceWarning: Maximum number of iteration reached before convergence. Consider increasing max_iter to improve the fit.\n",
      "  warnings.warn(\n",
      "C:\\Users\\aleks\\anaconda3\\Lib\\site-packages\\sklearn\\linear_model\\_stochastic_gradient.py:713: ConvergenceWarning: Maximum number of iteration reached before convergence. Consider increasing max_iter to improve the fit.\n",
      "  warnings.warn(\n",
      "C:\\Users\\aleks\\anaconda3\\Lib\\site-packages\\sklearn\\linear_model\\_stochastic_gradient.py:713: ConvergenceWarning: Maximum number of iteration reached before convergence. Consider increasing max_iter to improve the fit.\n",
      "  warnings.warn(\n",
      "C:\\Users\\aleks\\anaconda3\\Lib\\site-packages\\sklearn\\linear_model\\_stochastic_gradient.py:713: ConvergenceWarning: Maximum number of iteration reached before convergence. Consider increasing max_iter to improve the fit.\n",
      "  warnings.warn(\n",
      "C:\\Users\\aleks\\anaconda3\\Lib\\site-packages\\sklearn\\linear_model\\_stochastic_gradient.py:713: ConvergenceWarning: Maximum number of iteration reached before convergence. Consider increasing max_iter to improve the fit.\n",
      "  warnings.warn(\n",
      "C:\\Users\\aleks\\anaconda3\\Lib\\site-packages\\sklearn\\linear_model\\_stochastic_gradient.py:713: ConvergenceWarning: Maximum number of iteration reached before convergence. Consider increasing max_iter to improve the fit.\n",
      "  warnings.warn(\n",
      "C:\\Users\\aleks\\anaconda3\\Lib\\site-packages\\sklearn\\linear_model\\_stochastic_gradient.py:713: ConvergenceWarning: Maximum number of iteration reached before convergence. Consider increasing max_iter to improve the fit.\n",
      "  warnings.warn(\n",
      "C:\\Users\\aleks\\anaconda3\\Lib\\site-packages\\sklearn\\linear_model\\_stochastic_gradient.py:713: ConvergenceWarning: Maximum number of iteration reached before convergence. Consider increasing max_iter to improve the fit.\n",
      "  warnings.warn(\n",
      "C:\\Users\\aleks\\anaconda3\\Lib\\site-packages\\sklearn\\linear_model\\_stochastic_gradient.py:713: ConvergenceWarning: Maximum number of iteration reached before convergence. Consider increasing max_iter to improve the fit.\n",
      "  warnings.warn(\n",
      "C:\\Users\\aleks\\anaconda3\\Lib\\site-packages\\sklearn\\linear_model\\_stochastic_gradient.py:713: ConvergenceWarning: Maximum number of iteration reached before convergence. Consider increasing max_iter to improve the fit.\n",
      "  warnings.warn(\n",
      "C:\\Users\\aleks\\anaconda3\\Lib\\site-packages\\sklearn\\linear_model\\_stochastic_gradient.py:713: ConvergenceWarning: Maximum number of iteration reached before convergence. Consider increasing max_iter to improve the fit.\n",
      "  warnings.warn(\n",
      "C:\\Users\\aleks\\anaconda3\\Lib\\site-packages\\sklearn\\linear_model\\_stochastic_gradient.py:713: ConvergenceWarning: Maximum number of iteration reached before convergence. Consider increasing max_iter to improve the fit.\n",
      "  warnings.warn(\n",
      "C:\\Users\\aleks\\anaconda3\\Lib\\site-packages\\sklearn\\linear_model\\_stochastic_gradient.py:713: ConvergenceWarning: Maximum number of iteration reached before convergence. Consider increasing max_iter to improve the fit.\n",
      "  warnings.warn(\n",
      "C:\\Users\\aleks\\anaconda3\\Lib\\site-packages\\sklearn\\linear_model\\_stochastic_gradient.py:713: ConvergenceWarning: Maximum number of iteration reached before convergence. Consider increasing max_iter to improve the fit.\n",
      "  warnings.warn(\n",
      "C:\\Users\\aleks\\anaconda3\\Lib\\site-packages\\sklearn\\linear_model\\_stochastic_gradient.py:713: ConvergenceWarning: Maximum number of iteration reached before convergence. Consider increasing max_iter to improve the fit.\n",
      "  warnings.warn(\n",
      "C:\\Users\\aleks\\anaconda3\\Lib\\site-packages\\sklearn\\linear_model\\_stochastic_gradient.py:713: ConvergenceWarning: Maximum number of iteration reached before convergence. Consider increasing max_iter to improve the fit.\n",
      "  warnings.warn(\n",
      "C:\\Users\\aleks\\anaconda3\\Lib\\site-packages\\sklearn\\linear_model\\_stochastic_gradient.py:713: ConvergenceWarning: Maximum number of iteration reached before convergence. Consider increasing max_iter to improve the fit.\n",
      "  warnings.warn(\n",
      "C:\\Users\\aleks\\anaconda3\\Lib\\site-packages\\sklearn\\linear_model\\_stochastic_gradient.py:713: ConvergenceWarning: Maximum number of iteration reached before convergence. Consider increasing max_iter to improve the fit.\n",
      "  warnings.warn(\n",
      "C:\\Users\\aleks\\anaconda3\\Lib\\site-packages\\sklearn\\linear_model\\_stochastic_gradient.py:713: ConvergenceWarning: Maximum number of iteration reached before convergence. Consider increasing max_iter to improve the fit.\n",
      "  warnings.warn(\n",
      "C:\\Users\\aleks\\anaconda3\\Lib\\site-packages\\sklearn\\linear_model\\_stochastic_gradient.py:713: ConvergenceWarning: Maximum number of iteration reached before convergence. Consider increasing max_iter to improve the fit.\n",
      "  warnings.warn(\n",
      "C:\\Users\\aleks\\anaconda3\\Lib\\site-packages\\sklearn\\linear_model\\_stochastic_gradient.py:713: ConvergenceWarning: Maximum number of iteration reached before convergence. Consider increasing max_iter to improve the fit.\n",
      "  warnings.warn(\n",
      "C:\\Users\\aleks\\anaconda3\\Lib\\site-packages\\sklearn\\linear_model\\_stochastic_gradient.py:713: ConvergenceWarning: Maximum number of iteration reached before convergence. Consider increasing max_iter to improve the fit.\n",
      "  warnings.warn(\n",
      "C:\\Users\\aleks\\anaconda3\\Lib\\site-packages\\sklearn\\linear_model\\_stochastic_gradient.py:713: ConvergenceWarning: Maximum number of iteration reached before convergence. Consider increasing max_iter to improve the fit.\n",
      "  warnings.warn(\n",
      "C:\\Users\\aleks\\anaconda3\\Lib\\site-packages\\sklearn\\linear_model\\_stochastic_gradient.py:713: ConvergenceWarning: Maximum number of iteration reached before convergence. Consider increasing max_iter to improve the fit.\n",
      "  warnings.warn(\n",
      "C:\\Users\\aleks\\anaconda3\\Lib\\site-packages\\sklearn\\linear_model\\_stochastic_gradient.py:713: ConvergenceWarning: Maximum number of iteration reached before convergence. Consider increasing max_iter to improve the fit.\n",
      "  warnings.warn(\n",
      "C:\\Users\\aleks\\anaconda3\\Lib\\site-packages\\sklearn\\linear_model\\_stochastic_gradient.py:713: ConvergenceWarning: Maximum number of iteration reached before convergence. Consider increasing max_iter to improve the fit.\n",
      "  warnings.warn(\n",
      "C:\\Users\\aleks\\anaconda3\\Lib\\site-packages\\sklearn\\linear_model\\_stochastic_gradient.py:713: ConvergenceWarning: Maximum number of iteration reached before convergence. Consider increasing max_iter to improve the fit.\n",
      "  warnings.warn(\n",
      "C:\\Users\\aleks\\anaconda3\\Lib\\site-packages\\sklearn\\linear_model\\_stochastic_gradient.py:713: ConvergenceWarning: Maximum number of iteration reached before convergence. Consider increasing max_iter to improve the fit.\n",
      "  warnings.warn(\n",
      "C:\\Users\\aleks\\anaconda3\\Lib\\site-packages\\sklearn\\linear_model\\_stochastic_gradient.py:713: ConvergenceWarning: Maximum number of iteration reached before convergence. Consider increasing max_iter to improve the fit.\n",
      "  warnings.warn(\n",
      "C:\\Users\\aleks\\anaconda3\\Lib\\site-packages\\sklearn\\linear_model\\_stochastic_gradient.py:713: ConvergenceWarning: Maximum number of iteration reached before convergence. Consider increasing max_iter to improve the fit.\n",
      "  warnings.warn(\n",
      "C:\\Users\\aleks\\anaconda3\\Lib\\site-packages\\sklearn\\linear_model\\_stochastic_gradient.py:713: ConvergenceWarning: Maximum number of iteration reached before convergence. Consider increasing max_iter to improve the fit.\n",
      "  warnings.warn(\n",
      "C:\\Users\\aleks\\anaconda3\\Lib\\site-packages\\sklearn\\linear_model\\_stochastic_gradient.py:713: ConvergenceWarning: Maximum number of iteration reached before convergence. Consider increasing max_iter to improve the fit.\n",
      "  warnings.warn(\n",
      "C:\\Users\\aleks\\anaconda3\\Lib\\site-packages\\sklearn\\linear_model\\_stochastic_gradient.py:713: ConvergenceWarning: Maximum number of iteration reached before convergence. Consider increasing max_iter to improve the fit.\n",
      "  warnings.warn(\n",
      "C:\\Users\\aleks\\anaconda3\\Lib\\site-packages\\sklearn\\linear_model\\_stochastic_gradient.py:713: ConvergenceWarning: Maximum number of iteration reached before convergence. Consider increasing max_iter to improve the fit.\n",
      "  warnings.warn(\n",
      "C:\\Users\\aleks\\anaconda3\\Lib\\site-packages\\sklearn\\linear_model\\_stochastic_gradient.py:713: ConvergenceWarning: Maximum number of iteration reached before convergence. Consider increasing max_iter to improve the fit.\n",
      "  warnings.warn(\n",
      "C:\\Users\\aleks\\anaconda3\\Lib\\site-packages\\sklearn\\linear_model\\_stochastic_gradient.py:713: ConvergenceWarning: Maximum number of iteration reached before convergence. Consider increasing max_iter to improve the fit.\n",
      "  warnings.warn(\n",
      "C:\\Users\\aleks\\anaconda3\\Lib\\site-packages\\sklearn\\linear_model\\_stochastic_gradient.py:713: ConvergenceWarning: Maximum number of iteration reached before convergence. Consider increasing max_iter to improve the fit.\n",
      "  warnings.warn(\n",
      "C:\\Users\\aleks\\anaconda3\\Lib\\site-packages\\sklearn\\linear_model\\_stochastic_gradient.py:713: ConvergenceWarning: Maximum number of iteration reached before convergence. Consider increasing max_iter to improve the fit.\n",
      "  warnings.warn(\n",
      "C:\\Users\\aleks\\anaconda3\\Lib\\site-packages\\sklearn\\linear_model\\_stochastic_gradient.py:713: ConvergenceWarning: Maximum number of iteration reached before convergence. Consider increasing max_iter to improve the fit.\n",
      "  warnings.warn(\n",
      "C:\\Users\\aleks\\anaconda3\\Lib\\site-packages\\sklearn\\linear_model\\_stochastic_gradient.py:713: ConvergenceWarning: Maximum number of iteration reached before convergence. Consider increasing max_iter to improve the fit.\n",
      "  warnings.warn(\n",
      "C:\\Users\\aleks\\anaconda3\\Lib\\site-packages\\sklearn\\linear_model\\_stochastic_gradient.py:713: ConvergenceWarning: Maximum number of iteration reached before convergence. Consider increasing max_iter to improve the fit.\n",
      "  warnings.warn(\n",
      "C:\\Users\\aleks\\anaconda3\\Lib\\site-packages\\sklearn\\linear_model\\_stochastic_gradient.py:713: ConvergenceWarning: Maximum number of iteration reached before convergence. Consider increasing max_iter to improve the fit.\n",
      "  warnings.warn(\n",
      "C:\\Users\\aleks\\anaconda3\\Lib\\site-packages\\sklearn\\linear_model\\_stochastic_gradient.py:713: ConvergenceWarning: Maximum number of iteration reached before convergence. Consider increasing max_iter to improve the fit.\n",
      "  warnings.warn(\n",
      "C:\\Users\\aleks\\anaconda3\\Lib\\site-packages\\sklearn\\linear_model\\_stochastic_gradient.py:713: ConvergenceWarning: Maximum number of iteration reached before convergence. Consider increasing max_iter to improve the fit.\n",
      "  warnings.warn(\n",
      "C:\\Users\\aleks\\anaconda3\\Lib\\site-packages\\sklearn\\linear_model\\_stochastic_gradient.py:713: ConvergenceWarning: Maximum number of iteration reached before convergence. Consider increasing max_iter to improve the fit.\n",
      "  warnings.warn(\n",
      "C:\\Users\\aleks\\anaconda3\\Lib\\site-packages\\sklearn\\linear_model\\_stochastic_gradient.py:713: ConvergenceWarning: Maximum number of iteration reached before convergence. Consider increasing max_iter to improve the fit.\n",
      "  warnings.warn(\n",
      "C:\\Users\\aleks\\anaconda3\\Lib\\site-packages\\sklearn\\linear_model\\_stochastic_gradient.py:713: ConvergenceWarning: Maximum number of iteration reached before convergence. Consider increasing max_iter to improve the fit.\n",
      "  warnings.warn(\n",
      "C:\\Users\\aleks\\anaconda3\\Lib\\site-packages\\sklearn\\linear_model\\_stochastic_gradient.py:713: ConvergenceWarning: Maximum number of iteration reached before convergence. Consider increasing max_iter to improve the fit.\n",
      "  warnings.warn(\n",
      "C:\\Users\\aleks\\anaconda3\\Lib\\site-packages\\sklearn\\linear_model\\_stochastic_gradient.py:713: ConvergenceWarning: Maximum number of iteration reached before convergence. Consider increasing max_iter to improve the fit.\n",
      "  warnings.warn(\n",
      "C:\\Users\\aleks\\anaconda3\\Lib\\site-packages\\sklearn\\linear_model\\_stochastic_gradient.py:713: ConvergenceWarning: Maximum number of iteration reached before convergence. Consider increasing max_iter to improve the fit.\n",
      "  warnings.warn(\n",
      "C:\\Users\\aleks\\anaconda3\\Lib\\site-packages\\sklearn\\linear_model\\_stochastic_gradient.py:713: ConvergenceWarning: Maximum number of iteration reached before convergence. Consider increasing max_iter to improve the fit.\n",
      "  warnings.warn(\n",
      "C:\\Users\\aleks\\anaconda3\\Lib\\site-packages\\sklearn\\linear_model\\_stochastic_gradient.py:713: ConvergenceWarning: Maximum number of iteration reached before convergence. Consider increasing max_iter to improve the fit.\n",
      "  warnings.warn(\n",
      "C:\\Users\\aleks\\anaconda3\\Lib\\site-packages\\sklearn\\linear_model\\_stochastic_gradient.py:713: ConvergenceWarning: Maximum number of iteration reached before convergence. Consider increasing max_iter to improve the fit.\n",
      "  warnings.warn(\n",
      "C:\\Users\\aleks\\anaconda3\\Lib\\site-packages\\sklearn\\linear_model\\_stochastic_gradient.py:713: ConvergenceWarning: Maximum number of iteration reached before convergence. Consider increasing max_iter to improve the fit.\n",
      "  warnings.warn(\n",
      "C:\\Users\\aleks\\anaconda3\\Lib\\site-packages\\sklearn\\linear_model\\_stochastic_gradient.py:713: ConvergenceWarning: Maximum number of iteration reached before convergence. Consider increasing max_iter to improve the fit.\n",
      "  warnings.warn(\n",
      "C:\\Users\\aleks\\anaconda3\\Lib\\site-packages\\sklearn\\linear_model\\_stochastic_gradient.py:713: ConvergenceWarning: Maximum number of iteration reached before convergence. Consider increasing max_iter to improve the fit.\n",
      "  warnings.warn(\n",
      "C:\\Users\\aleks\\anaconda3\\Lib\\site-packages\\sklearn\\linear_model\\_stochastic_gradient.py:713: ConvergenceWarning: Maximum number of iteration reached before convergence. Consider increasing max_iter to improve the fit.\n",
      "  warnings.warn(\n",
      "C:\\Users\\aleks\\anaconda3\\Lib\\site-packages\\sklearn\\linear_model\\_stochastic_gradient.py:713: ConvergenceWarning: Maximum number of iteration reached before convergence. Consider increasing max_iter to improve the fit.\n",
      "  warnings.warn(\n",
      "C:\\Users\\aleks\\anaconda3\\Lib\\site-packages\\sklearn\\linear_model\\_stochastic_gradient.py:713: ConvergenceWarning: Maximum number of iteration reached before convergence. Consider increasing max_iter to improve the fit.\n",
      "  warnings.warn(\n",
      "C:\\Users\\aleks\\anaconda3\\Lib\\site-packages\\sklearn\\linear_model\\_stochastic_gradient.py:713: ConvergenceWarning: Maximum number of iteration reached before convergence. Consider increasing max_iter to improve the fit.\n",
      "  warnings.warn(\n",
      "C:\\Users\\aleks\\anaconda3\\Lib\\site-packages\\sklearn\\linear_model\\_stochastic_gradient.py:713: ConvergenceWarning: Maximum number of iteration reached before convergence. Consider increasing max_iter to improve the fit.\n",
      "  warnings.warn(\n",
      "C:\\Users\\aleks\\anaconda3\\Lib\\site-packages\\sklearn\\linear_model\\_stochastic_gradient.py:713: ConvergenceWarning: Maximum number of iteration reached before convergence. Consider increasing max_iter to improve the fit.\n",
      "  warnings.warn(\n",
      "C:\\Users\\aleks\\anaconda3\\Lib\\site-packages\\sklearn\\linear_model\\_stochastic_gradient.py:713: ConvergenceWarning: Maximum number of iteration reached before convergence. Consider increasing max_iter to improve the fit.\n",
      "  warnings.warn(\n",
      "C:\\Users\\aleks\\anaconda3\\Lib\\site-packages\\sklearn\\linear_model\\_stochastic_gradient.py:713: ConvergenceWarning: Maximum number of iteration reached before convergence. Consider increasing max_iter to improve the fit.\n",
      "  warnings.warn(\n",
      "C:\\Users\\aleks\\anaconda3\\Lib\\site-packages\\sklearn\\linear_model\\_stochastic_gradient.py:713: ConvergenceWarning: Maximum number of iteration reached before convergence. Consider increasing max_iter to improve the fit.\n",
      "  warnings.warn(\n",
      "C:\\Users\\aleks\\anaconda3\\Lib\\site-packages\\sklearn\\linear_model\\_stochastic_gradient.py:713: ConvergenceWarning: Maximum number of iteration reached before convergence. Consider increasing max_iter to improve the fit.\n",
      "  warnings.warn(\n",
      "C:\\Users\\aleks\\anaconda3\\Lib\\site-packages\\sklearn\\linear_model\\_stochastic_gradient.py:713: ConvergenceWarning: Maximum number of iteration reached before convergence. Consider increasing max_iter to improve the fit.\n",
      "  warnings.warn(\n",
      "C:\\Users\\aleks\\anaconda3\\Lib\\site-packages\\sklearn\\linear_model\\_stochastic_gradient.py:713: ConvergenceWarning: Maximum number of iteration reached before convergence. Consider increasing max_iter to improve the fit.\n",
      "  warnings.warn(\n",
      "C:\\Users\\aleks\\anaconda3\\Lib\\site-packages\\sklearn\\linear_model\\_stochastic_gradient.py:713: ConvergenceWarning: Maximum number of iteration reached before convergence. Consider increasing max_iter to improve the fit.\n",
      "  warnings.warn(\n",
      "C:\\Users\\aleks\\anaconda3\\Lib\\site-packages\\sklearn\\linear_model\\_stochastic_gradient.py:713: ConvergenceWarning: Maximum number of iteration reached before convergence. Consider increasing max_iter to improve the fit.\n",
      "  warnings.warn(\n",
      "C:\\Users\\aleks\\anaconda3\\Lib\\site-packages\\sklearn\\linear_model\\_stochastic_gradient.py:713: ConvergenceWarning: Maximum number of iteration reached before convergence. Consider increasing max_iter to improve the fit.\n",
      "  warnings.warn(\n",
      "C:\\Users\\aleks\\anaconda3\\Lib\\site-packages\\sklearn\\linear_model\\_stochastic_gradient.py:713: ConvergenceWarning: Maximum number of iteration reached before convergence. Consider increasing max_iter to improve the fit.\n",
      "  warnings.warn(\n",
      "C:\\Users\\aleks\\anaconda3\\Lib\\site-packages\\sklearn\\linear_model\\_stochastic_gradient.py:713: ConvergenceWarning: Maximum number of iteration reached before convergence. Consider increasing max_iter to improve the fit.\n",
      "  warnings.warn(\n",
      "C:\\Users\\aleks\\anaconda3\\Lib\\site-packages\\sklearn\\linear_model\\_stochastic_gradient.py:713: ConvergenceWarning: Maximum number of iteration reached before convergence. Consider increasing max_iter to improve the fit.\n",
      "  warnings.warn(\n",
      "C:\\Users\\aleks\\anaconda3\\Lib\\site-packages\\sklearn\\linear_model\\_stochastic_gradient.py:713: ConvergenceWarning: Maximum number of iteration reached before convergence. Consider increasing max_iter to improve the fit.\n",
      "  warnings.warn(\n",
      "C:\\Users\\aleks\\anaconda3\\Lib\\site-packages\\sklearn\\linear_model\\_stochastic_gradient.py:713: ConvergenceWarning: Maximum number of iteration reached before convergence. Consider increasing max_iter to improve the fit.\n",
      "  warnings.warn(\n",
      "C:\\Users\\aleks\\anaconda3\\Lib\\site-packages\\sklearn\\linear_model\\_stochastic_gradient.py:713: ConvergenceWarning: Maximum number of iteration reached before convergence. Consider increasing max_iter to improve the fit.\n",
      "  warnings.warn(\n",
      "C:\\Users\\aleks\\anaconda3\\Lib\\site-packages\\sklearn\\linear_model\\_stochastic_gradient.py:713: ConvergenceWarning: Maximum number of iteration reached before convergence. Consider increasing max_iter to improve the fit.\n",
      "  warnings.warn(\n",
      "C:\\Users\\aleks\\anaconda3\\Lib\\site-packages\\sklearn\\linear_model\\_stochastic_gradient.py:713: ConvergenceWarning: Maximum number of iteration reached before convergence. Consider increasing max_iter to improve the fit.\n",
      "  warnings.warn(\n",
      "C:\\Users\\aleks\\anaconda3\\Lib\\site-packages\\sklearn\\linear_model\\_stochastic_gradient.py:713: ConvergenceWarning: Maximum number of iteration reached before convergence. Consider increasing max_iter to improve the fit.\n",
      "  warnings.warn(\n",
      "C:\\Users\\aleks\\anaconda3\\Lib\\site-packages\\sklearn\\linear_model\\_stochastic_gradient.py:713: ConvergenceWarning: Maximum number of iteration reached before convergence. Consider increasing max_iter to improve the fit.\n",
      "  warnings.warn(\n",
      "C:\\Users\\aleks\\anaconda3\\Lib\\site-packages\\sklearn\\linear_model\\_stochastic_gradient.py:713: ConvergenceWarning: Maximum number of iteration reached before convergence. Consider increasing max_iter to improve the fit.\n",
      "  warnings.warn(\n",
      "C:\\Users\\aleks\\anaconda3\\Lib\\site-packages\\sklearn\\linear_model\\_stochastic_gradient.py:713: ConvergenceWarning: Maximum number of iteration reached before convergence. Consider increasing max_iter to improve the fit.\n",
      "  warnings.warn(\n",
      "C:\\Users\\aleks\\anaconda3\\Lib\\site-packages\\sklearn\\linear_model\\_stochastic_gradient.py:713: ConvergenceWarning: Maximum number of iteration reached before convergence. Consider increasing max_iter to improve the fit.\n",
      "  warnings.warn(\n",
      "C:\\Users\\aleks\\anaconda3\\Lib\\site-packages\\sklearn\\linear_model\\_stochastic_gradient.py:713: ConvergenceWarning: Maximum number of iteration reached before convergence. Consider increasing max_iter to improve the fit.\n",
      "  warnings.warn(\n",
      "C:\\Users\\aleks\\anaconda3\\Lib\\site-packages\\sklearn\\linear_model\\_stochastic_gradient.py:713: ConvergenceWarning: Maximum number of iteration reached before convergence. Consider increasing max_iter to improve the fit.\n",
      "  warnings.warn(\n",
      "C:\\Users\\aleks\\anaconda3\\Lib\\site-packages\\sklearn\\linear_model\\_stochastic_gradient.py:713: ConvergenceWarning: Maximum number of iteration reached before convergence. Consider increasing max_iter to improve the fit.\n",
      "  warnings.warn(\n",
      "C:\\Users\\aleks\\anaconda3\\Lib\\site-packages\\sklearn\\linear_model\\_stochastic_gradient.py:713: ConvergenceWarning: Maximum number of iteration reached before convergence. Consider increasing max_iter to improve the fit.\n",
      "  warnings.warn(\n",
      "C:\\Users\\aleks\\anaconda3\\Lib\\site-packages\\sklearn\\linear_model\\_stochastic_gradient.py:713: ConvergenceWarning: Maximum number of iteration reached before convergence. Consider increasing max_iter to improve the fit.\n",
      "  warnings.warn(\n",
      "C:\\Users\\aleks\\anaconda3\\Lib\\site-packages\\sklearn\\linear_model\\_stochastic_gradient.py:713: ConvergenceWarning: Maximum number of iteration reached before convergence. Consider increasing max_iter to improve the fit.\n",
      "  warnings.warn(\n",
      "C:\\Users\\aleks\\anaconda3\\Lib\\site-packages\\sklearn\\linear_model\\_stochastic_gradient.py:713: ConvergenceWarning: Maximum number of iteration reached before convergence. Consider increasing max_iter to improve the fit.\n",
      "  warnings.warn(\n",
      "C:\\Users\\aleks\\anaconda3\\Lib\\site-packages\\sklearn\\linear_model\\_stochastic_gradient.py:713: ConvergenceWarning: Maximum number of iteration reached before convergence. Consider increasing max_iter to improve the fit.\n",
      "  warnings.warn(\n",
      "C:\\Users\\aleks\\anaconda3\\Lib\\site-packages\\sklearn\\linear_model\\_stochastic_gradient.py:713: ConvergenceWarning: Maximum number of iteration reached before convergence. Consider increasing max_iter to improve the fit.\n",
      "  warnings.warn(\n",
      "C:\\Users\\aleks\\anaconda3\\Lib\\site-packages\\sklearn\\linear_model\\_stochastic_gradient.py:713: ConvergenceWarning: Maximum number of iteration reached before convergence. Consider increasing max_iter to improve the fit.\n",
      "  warnings.warn(\n",
      "C:\\Users\\aleks\\anaconda3\\Lib\\site-packages\\sklearn\\linear_model\\_stochastic_gradient.py:713: ConvergenceWarning: Maximum number of iteration reached before convergence. Consider increasing max_iter to improve the fit.\n",
      "  warnings.warn(\n",
      "C:\\Users\\aleks\\anaconda3\\Lib\\site-packages\\sklearn\\linear_model\\_stochastic_gradient.py:713: ConvergenceWarning: Maximum number of iteration reached before convergence. Consider increasing max_iter to improve the fit.\n",
      "  warnings.warn(\n",
      "C:\\Users\\aleks\\anaconda3\\Lib\\site-packages\\sklearn\\linear_model\\_stochastic_gradient.py:713: ConvergenceWarning: Maximum number of iteration reached before convergence. Consider increasing max_iter to improve the fit.\n",
      "  warnings.warn(\n",
      "C:\\Users\\aleks\\anaconda3\\Lib\\site-packages\\sklearn\\linear_model\\_stochastic_gradient.py:713: ConvergenceWarning: Maximum number of iteration reached before convergence. Consider increasing max_iter to improve the fit.\n",
      "  warnings.warn(\n",
      "C:\\Users\\aleks\\anaconda3\\Lib\\site-packages\\sklearn\\linear_model\\_stochastic_gradient.py:713: ConvergenceWarning: Maximum number of iteration reached before convergence. Consider increasing max_iter to improve the fit.\n",
      "  warnings.warn(\n",
      "C:\\Users\\aleks\\anaconda3\\Lib\\site-packages\\sklearn\\linear_model\\_stochastic_gradient.py:713: ConvergenceWarning: Maximum number of iteration reached before convergence. Consider increasing max_iter to improve the fit.\n",
      "  warnings.warn(\n",
      "C:\\Users\\aleks\\anaconda3\\Lib\\site-packages\\sklearn\\linear_model\\_stochastic_gradient.py:713: ConvergenceWarning: Maximum number of iteration reached before convergence. Consider increasing max_iter to improve the fit.\n",
      "  warnings.warn(\n",
      "C:\\Users\\aleks\\anaconda3\\Lib\\site-packages\\sklearn\\linear_model\\_stochastic_gradient.py:713: ConvergenceWarning: Maximum number of iteration reached before convergence. Consider increasing max_iter to improve the fit.\n",
      "  warnings.warn(\n",
      "C:\\Users\\aleks\\anaconda3\\Lib\\site-packages\\sklearn\\linear_model\\_stochastic_gradient.py:713: ConvergenceWarning: Maximum number of iteration reached before convergence. Consider increasing max_iter to improve the fit.\n",
      "  warnings.warn(\n",
      "C:\\Users\\aleks\\anaconda3\\Lib\\site-packages\\sklearn\\linear_model\\_stochastic_gradient.py:713: ConvergenceWarning: Maximum number of iteration reached before convergence. Consider increasing max_iter to improve the fit.\n",
      "  warnings.warn(\n",
      "C:\\Users\\aleks\\anaconda3\\Lib\\site-packages\\sklearn\\linear_model\\_stochastic_gradient.py:713: ConvergenceWarning: Maximum number of iteration reached before convergence. Consider increasing max_iter to improve the fit.\n",
      "  warnings.warn(\n",
      "C:\\Users\\aleks\\anaconda3\\Lib\\site-packages\\sklearn\\linear_model\\_stochastic_gradient.py:713: ConvergenceWarning: Maximum number of iteration reached before convergence. Consider increasing max_iter to improve the fit.\n",
      "  warnings.warn(\n",
      "C:\\Users\\aleks\\anaconda3\\Lib\\site-packages\\sklearn\\linear_model\\_stochastic_gradient.py:713: ConvergenceWarning: Maximum number of iteration reached before convergence. Consider increasing max_iter to improve the fit.\n",
      "  warnings.warn(\n",
      "C:\\Users\\aleks\\anaconda3\\Lib\\site-packages\\sklearn\\linear_model\\_stochastic_gradient.py:713: ConvergenceWarning: Maximum number of iteration reached before convergence. Consider increasing max_iter to improve the fit.\n",
      "  warnings.warn(\n",
      "C:\\Users\\aleks\\anaconda3\\Lib\\site-packages\\sklearn\\linear_model\\_stochastic_gradient.py:713: ConvergenceWarning: Maximum number of iteration reached before convergence. Consider increasing max_iter to improve the fit.\n",
      "  warnings.warn(\n",
      "C:\\Users\\aleks\\anaconda3\\Lib\\site-packages\\sklearn\\linear_model\\_stochastic_gradient.py:713: ConvergenceWarning: Maximum number of iteration reached before convergence. Consider increasing max_iter to improve the fit.\n",
      "  warnings.warn(\n",
      "C:\\Users\\aleks\\anaconda3\\Lib\\site-packages\\sklearn\\linear_model\\_stochastic_gradient.py:713: ConvergenceWarning: Maximum number of iteration reached before convergence. Consider increasing max_iter to improve the fit.\n",
      "  warnings.warn(\n",
      "C:\\Users\\aleks\\anaconda3\\Lib\\site-packages\\sklearn\\linear_model\\_stochastic_gradient.py:713: ConvergenceWarning: Maximum number of iteration reached before convergence. Consider increasing max_iter to improve the fit.\n",
      "  warnings.warn(\n",
      "C:\\Users\\aleks\\anaconda3\\Lib\\site-packages\\sklearn\\linear_model\\_stochastic_gradient.py:713: ConvergenceWarning: Maximum number of iteration reached before convergence. Consider increasing max_iter to improve the fit.\n",
      "  warnings.warn(\n",
      "C:\\Users\\aleks\\anaconda3\\Lib\\site-packages\\sklearn\\linear_model\\_stochastic_gradient.py:713: ConvergenceWarning: Maximum number of iteration reached before convergence. Consider increasing max_iter to improve the fit.\n",
      "  warnings.warn(\n",
      "C:\\Users\\aleks\\anaconda3\\Lib\\site-packages\\sklearn\\linear_model\\_stochastic_gradient.py:713: ConvergenceWarning: Maximum number of iteration reached before convergence. Consider increasing max_iter to improve the fit.\n",
      "  warnings.warn(\n",
      "C:\\Users\\aleks\\anaconda3\\Lib\\site-packages\\sklearn\\linear_model\\_stochastic_gradient.py:713: ConvergenceWarning: Maximum number of iteration reached before convergence. Consider increasing max_iter to improve the fit.\n",
      "  warnings.warn(\n",
      "C:\\Users\\aleks\\anaconda3\\Lib\\site-packages\\sklearn\\linear_model\\_stochastic_gradient.py:713: ConvergenceWarning: Maximum number of iteration reached before convergence. Consider increasing max_iter to improve the fit.\n",
      "  warnings.warn(\n",
      "C:\\Users\\aleks\\anaconda3\\Lib\\site-packages\\sklearn\\linear_model\\_stochastic_gradient.py:713: ConvergenceWarning: Maximum number of iteration reached before convergence. Consider increasing max_iter to improve the fit.\n",
      "  warnings.warn(\n",
      "C:\\Users\\aleks\\anaconda3\\Lib\\site-packages\\sklearn\\linear_model\\_stochastic_gradient.py:713: ConvergenceWarning: Maximum number of iteration reached before convergence. Consider increasing max_iter to improve the fit.\n",
      "  warnings.warn(\n",
      "C:\\Users\\aleks\\anaconda3\\Lib\\site-packages\\sklearn\\linear_model\\_stochastic_gradient.py:713: ConvergenceWarning: Maximum number of iteration reached before convergence. Consider increasing max_iter to improve the fit.\n",
      "  warnings.warn(\n",
      "C:\\Users\\aleks\\anaconda3\\Lib\\site-packages\\sklearn\\linear_model\\_stochastic_gradient.py:713: ConvergenceWarning: Maximum number of iteration reached before convergence. Consider increasing max_iter to improve the fit.\n",
      "  warnings.warn(\n",
      "C:\\Users\\aleks\\anaconda3\\Lib\\site-packages\\sklearn\\linear_model\\_stochastic_gradient.py:713: ConvergenceWarning: Maximum number of iteration reached before convergence. Consider increasing max_iter to improve the fit.\n",
      "  warnings.warn(\n",
      "C:\\Users\\aleks\\anaconda3\\Lib\\site-packages\\sklearn\\linear_model\\_stochastic_gradient.py:713: ConvergenceWarning: Maximum number of iteration reached before convergence. Consider increasing max_iter to improve the fit.\n",
      "  warnings.warn(\n",
      "C:\\Users\\aleks\\anaconda3\\Lib\\site-packages\\sklearn\\linear_model\\_stochastic_gradient.py:713: ConvergenceWarning: Maximum number of iteration reached before convergence. Consider increasing max_iter to improve the fit.\n",
      "  warnings.warn(\n",
      "C:\\Users\\aleks\\anaconda3\\Lib\\site-packages\\sklearn\\linear_model\\_stochastic_gradient.py:713: ConvergenceWarning: Maximum number of iteration reached before convergence. Consider increasing max_iter to improve the fit.\n",
      "  warnings.warn(\n",
      "C:\\Users\\aleks\\anaconda3\\Lib\\site-packages\\sklearn\\linear_model\\_stochastic_gradient.py:713: ConvergenceWarning: Maximum number of iteration reached before convergence. Consider increasing max_iter to improve the fit.\n",
      "  warnings.warn(\n",
      "C:\\Users\\aleks\\anaconda3\\Lib\\site-packages\\sklearn\\linear_model\\_stochastic_gradient.py:713: ConvergenceWarning: Maximum number of iteration reached before convergence. Consider increasing max_iter to improve the fit.\n",
      "  warnings.warn(\n",
      "C:\\Users\\aleks\\anaconda3\\Lib\\site-packages\\sklearn\\linear_model\\_stochastic_gradient.py:713: ConvergenceWarning: Maximum number of iteration reached before convergence. Consider increasing max_iter to improve the fit.\n",
      "  warnings.warn(\n",
      "C:\\Users\\aleks\\anaconda3\\Lib\\site-packages\\sklearn\\linear_model\\_stochastic_gradient.py:713: ConvergenceWarning: Maximum number of iteration reached before convergence. Consider increasing max_iter to improve the fit.\n",
      "  warnings.warn(\n",
      "C:\\Users\\aleks\\anaconda3\\Lib\\site-packages\\sklearn\\linear_model\\_stochastic_gradient.py:713: ConvergenceWarning: Maximum number of iteration reached before convergence. Consider increasing max_iter to improve the fit.\n",
      "  warnings.warn(\n",
      "C:\\Users\\aleks\\anaconda3\\Lib\\site-packages\\sklearn\\linear_model\\_stochastic_gradient.py:713: ConvergenceWarning: Maximum number of iteration reached before convergence. Consider increasing max_iter to improve the fit.\n",
      "  warnings.warn(\n",
      "C:\\Users\\aleks\\anaconda3\\Lib\\site-packages\\sklearn\\linear_model\\_stochastic_gradient.py:713: ConvergenceWarning: Maximum number of iteration reached before convergence. Consider increasing max_iter to improve the fit.\n",
      "  warnings.warn(\n",
      "C:\\Users\\aleks\\anaconda3\\Lib\\site-packages\\sklearn\\linear_model\\_stochastic_gradient.py:713: ConvergenceWarning: Maximum number of iteration reached before convergence. Consider increasing max_iter to improve the fit.\n",
      "  warnings.warn(\n",
      "C:\\Users\\aleks\\anaconda3\\Lib\\site-packages\\sklearn\\linear_model\\_stochastic_gradient.py:713: ConvergenceWarning: Maximum number of iteration reached before convergence. Consider increasing max_iter to improve the fit.\n",
      "  warnings.warn(\n",
      "C:\\Users\\aleks\\anaconda3\\Lib\\site-packages\\sklearn\\linear_model\\_stochastic_gradient.py:713: ConvergenceWarning: Maximum number of iteration reached before convergence. Consider increasing max_iter to improve the fit.\n",
      "  warnings.warn(\n",
      "C:\\Users\\aleks\\anaconda3\\Lib\\site-packages\\sklearn\\linear_model\\_stochastic_gradient.py:713: ConvergenceWarning: Maximum number of iteration reached before convergence. Consider increasing max_iter to improve the fit.\n",
      "  warnings.warn(\n",
      "C:\\Users\\aleks\\anaconda3\\Lib\\site-packages\\sklearn\\linear_model\\_stochastic_gradient.py:713: ConvergenceWarning: Maximum number of iteration reached before convergence. Consider increasing max_iter to improve the fit.\n",
      "  warnings.warn(\n",
      "C:\\Users\\aleks\\anaconda3\\Lib\\site-packages\\sklearn\\linear_model\\_stochastic_gradient.py:713: ConvergenceWarning: Maximum number of iteration reached before convergence. Consider increasing max_iter to improve the fit.\n",
      "  warnings.warn(\n",
      "C:\\Users\\aleks\\anaconda3\\Lib\\site-packages\\sklearn\\linear_model\\_stochastic_gradient.py:713: ConvergenceWarning: Maximum number of iteration reached before convergence. Consider increasing max_iter to improve the fit.\n",
      "  warnings.warn(\n",
      "C:\\Users\\aleks\\anaconda3\\Lib\\site-packages\\sklearn\\linear_model\\_stochastic_gradient.py:713: ConvergenceWarning: Maximum number of iteration reached before convergence. Consider increasing max_iter to improve the fit.\n",
      "  warnings.warn(\n",
      "C:\\Users\\aleks\\anaconda3\\Lib\\site-packages\\sklearn\\linear_model\\_stochastic_gradient.py:713: ConvergenceWarning: Maximum number of iteration reached before convergence. Consider increasing max_iter to improve the fit.\n",
      "  warnings.warn(\n",
      "C:\\Users\\aleks\\anaconda3\\Lib\\site-packages\\sklearn\\linear_model\\_stochastic_gradient.py:713: ConvergenceWarning: Maximum number of iteration reached before convergence. Consider increasing max_iter to improve the fit.\n",
      "  warnings.warn(\n",
      "C:\\Users\\aleks\\anaconda3\\Lib\\site-packages\\sklearn\\linear_model\\_stochastic_gradient.py:713: ConvergenceWarning: Maximum number of iteration reached before convergence. Consider increasing max_iter to improve the fit.\n",
      "  warnings.warn(\n",
      "C:\\Users\\aleks\\anaconda3\\Lib\\site-packages\\sklearn\\linear_model\\_stochastic_gradient.py:713: ConvergenceWarning: Maximum number of iteration reached before convergence. Consider increasing max_iter to improve the fit.\n",
      "  warnings.warn(\n",
      "C:\\Users\\aleks\\anaconda3\\Lib\\site-packages\\sklearn\\linear_model\\_stochastic_gradient.py:713: ConvergenceWarning: Maximum number of iteration reached before convergence. Consider increasing max_iter to improve the fit.\n",
      "  warnings.warn(\n",
      "C:\\Users\\aleks\\anaconda3\\Lib\\site-packages\\sklearn\\linear_model\\_stochastic_gradient.py:713: ConvergenceWarning: Maximum number of iteration reached before convergence. Consider increasing max_iter to improve the fit.\n",
      "  warnings.warn(\n",
      "C:\\Users\\aleks\\anaconda3\\Lib\\site-packages\\sklearn\\linear_model\\_stochastic_gradient.py:713: ConvergenceWarning: Maximum number of iteration reached before convergence. Consider increasing max_iter to improve the fit.\n",
      "  warnings.warn(\n",
      "C:\\Users\\aleks\\anaconda3\\Lib\\site-packages\\sklearn\\linear_model\\_stochastic_gradient.py:713: ConvergenceWarning: Maximum number of iteration reached before convergence. Consider increasing max_iter to improve the fit.\n",
      "  warnings.warn(\n",
      "C:\\Users\\aleks\\anaconda3\\Lib\\site-packages\\sklearn\\linear_model\\_stochastic_gradient.py:713: ConvergenceWarning: Maximum number of iteration reached before convergence. Consider increasing max_iter to improve the fit.\n",
      "  warnings.warn(\n",
      "C:\\Users\\aleks\\anaconda3\\Lib\\site-packages\\sklearn\\linear_model\\_stochastic_gradient.py:713: ConvergenceWarning: Maximum number of iteration reached before convergence. Consider increasing max_iter to improve the fit.\n",
      "  warnings.warn(\n",
      "C:\\Users\\aleks\\anaconda3\\Lib\\site-packages\\sklearn\\linear_model\\_stochastic_gradient.py:713: ConvergenceWarning: Maximum number of iteration reached before convergence. Consider increasing max_iter to improve the fit.\n",
      "  warnings.warn(\n",
      "C:\\Users\\aleks\\anaconda3\\Lib\\site-packages\\sklearn\\linear_model\\_stochastic_gradient.py:713: ConvergenceWarning: Maximum number of iteration reached before convergence. Consider increasing max_iter to improve the fit.\n",
      "  warnings.warn(\n",
      "C:\\Users\\aleks\\anaconda3\\Lib\\site-packages\\sklearn\\linear_model\\_stochastic_gradient.py:713: ConvergenceWarning: Maximum number of iteration reached before convergence. Consider increasing max_iter to improve the fit.\n",
      "  warnings.warn(\n",
      "C:\\Users\\aleks\\anaconda3\\Lib\\site-packages\\sklearn\\linear_model\\_stochastic_gradient.py:713: ConvergenceWarning: Maximum number of iteration reached before convergence. Consider increasing max_iter to improve the fit.\n",
      "  warnings.warn(\n",
      "C:\\Users\\aleks\\anaconda3\\Lib\\site-packages\\sklearn\\linear_model\\_stochastic_gradient.py:713: ConvergenceWarning: Maximum number of iteration reached before convergence. Consider increasing max_iter to improve the fit.\n",
      "  warnings.warn(\n",
      "C:\\Users\\aleks\\anaconda3\\Lib\\site-packages\\sklearn\\linear_model\\_stochastic_gradient.py:713: ConvergenceWarning: Maximum number of iteration reached before convergence. Consider increasing max_iter to improve the fit.\n",
      "  warnings.warn(\n",
      "C:\\Users\\aleks\\anaconda3\\Lib\\site-packages\\sklearn\\linear_model\\_stochastic_gradient.py:713: ConvergenceWarning: Maximum number of iteration reached before convergence. Consider increasing max_iter to improve the fit.\n",
      "  warnings.warn(\n",
      "C:\\Users\\aleks\\anaconda3\\Lib\\site-packages\\sklearn\\linear_model\\_stochastic_gradient.py:713: ConvergenceWarning: Maximum number of iteration reached before convergence. Consider increasing max_iter to improve the fit.\n",
      "  warnings.warn(\n",
      "C:\\Users\\aleks\\anaconda3\\Lib\\site-packages\\sklearn\\linear_model\\_stochastic_gradient.py:713: ConvergenceWarning: Maximum number of iteration reached before convergence. Consider increasing max_iter to improve the fit.\n",
      "  warnings.warn(\n",
      "C:\\Users\\aleks\\anaconda3\\Lib\\site-packages\\sklearn\\linear_model\\_stochastic_gradient.py:713: ConvergenceWarning: Maximum number of iteration reached before convergence. Consider increasing max_iter to improve the fit.\n",
      "  warnings.warn(\n",
      "C:\\Users\\aleks\\anaconda3\\Lib\\site-packages\\sklearn\\linear_model\\_stochastic_gradient.py:713: ConvergenceWarning: Maximum number of iteration reached before convergence. Consider increasing max_iter to improve the fit.\n",
      "  warnings.warn(\n",
      "C:\\Users\\aleks\\anaconda3\\Lib\\site-packages\\sklearn\\linear_model\\_stochastic_gradient.py:713: ConvergenceWarning: Maximum number of iteration reached before convergence. Consider increasing max_iter to improve the fit.\n",
      "  warnings.warn(\n",
      "C:\\Users\\aleks\\anaconda3\\Lib\\site-packages\\sklearn\\linear_model\\_stochastic_gradient.py:713: ConvergenceWarning: Maximum number of iteration reached before convergence. Consider increasing max_iter to improve the fit.\n",
      "  warnings.warn(\n",
      "C:\\Users\\aleks\\anaconda3\\Lib\\site-packages\\sklearn\\linear_model\\_stochastic_gradient.py:713: ConvergenceWarning: Maximum number of iteration reached before convergence. Consider increasing max_iter to improve the fit.\n",
      "  warnings.warn(\n",
      "C:\\Users\\aleks\\anaconda3\\Lib\\site-packages\\sklearn\\linear_model\\_stochastic_gradient.py:713: ConvergenceWarning: Maximum number of iteration reached before convergence. Consider increasing max_iter to improve the fit.\n",
      "  warnings.warn(\n",
      "C:\\Users\\aleks\\anaconda3\\Lib\\site-packages\\sklearn\\linear_model\\_stochastic_gradient.py:713: ConvergenceWarning: Maximum number of iteration reached before convergence. Consider increasing max_iter to improve the fit.\n",
      "  warnings.warn(\n",
      "C:\\Users\\aleks\\anaconda3\\Lib\\site-packages\\sklearn\\linear_model\\_stochastic_gradient.py:713: ConvergenceWarning: Maximum number of iteration reached before convergence. Consider increasing max_iter to improve the fit.\n",
      "  warnings.warn(\n",
      "C:\\Users\\aleks\\anaconda3\\Lib\\site-packages\\sklearn\\linear_model\\_stochastic_gradient.py:713: ConvergenceWarning: Maximum number of iteration reached before convergence. Consider increasing max_iter to improve the fit.\n",
      "  warnings.warn(\n",
      "C:\\Users\\aleks\\anaconda3\\Lib\\site-packages\\sklearn\\linear_model\\_stochastic_gradient.py:713: ConvergenceWarning: Maximum number of iteration reached before convergence. Consider increasing max_iter to improve the fit.\n",
      "  warnings.warn(\n",
      "C:\\Users\\aleks\\anaconda3\\Lib\\site-packages\\sklearn\\linear_model\\_stochastic_gradient.py:713: ConvergenceWarning: Maximum number of iteration reached before convergence. Consider increasing max_iter to improve the fit.\n",
      "  warnings.warn(\n",
      "C:\\Users\\aleks\\anaconda3\\Lib\\site-packages\\sklearn\\linear_model\\_stochastic_gradient.py:713: ConvergenceWarning: Maximum number of iteration reached before convergence. Consider increasing max_iter to improve the fit.\n",
      "  warnings.warn(\n",
      "C:\\Users\\aleks\\anaconda3\\Lib\\site-packages\\sklearn\\linear_model\\_stochastic_gradient.py:713: ConvergenceWarning: Maximum number of iteration reached before convergence. Consider increasing max_iter to improve the fit.\n",
      "  warnings.warn(\n",
      "C:\\Users\\aleks\\anaconda3\\Lib\\site-packages\\sklearn\\linear_model\\_stochastic_gradient.py:713: ConvergenceWarning: Maximum number of iteration reached before convergence. Consider increasing max_iter to improve the fit.\n",
      "  warnings.warn(\n",
      "C:\\Users\\aleks\\anaconda3\\Lib\\site-packages\\sklearn\\linear_model\\_stochastic_gradient.py:713: ConvergenceWarning: Maximum number of iteration reached before convergence. Consider increasing max_iter to improve the fit.\n",
      "  warnings.warn(\n",
      "C:\\Users\\aleks\\anaconda3\\Lib\\site-packages\\sklearn\\linear_model\\_stochastic_gradient.py:713: ConvergenceWarning: Maximum number of iteration reached before convergence. Consider increasing max_iter to improve the fit.\n",
      "  warnings.warn(\n",
      "C:\\Users\\aleks\\anaconda3\\Lib\\site-packages\\sklearn\\linear_model\\_stochastic_gradient.py:713: ConvergenceWarning: Maximum number of iteration reached before convergence. Consider increasing max_iter to improve the fit.\n",
      "  warnings.warn(\n",
      "C:\\Users\\aleks\\anaconda3\\Lib\\site-packages\\sklearn\\linear_model\\_stochastic_gradient.py:713: ConvergenceWarning: Maximum number of iteration reached before convergence. Consider increasing max_iter to improve the fit.\n",
      "  warnings.warn(\n",
      "C:\\Users\\aleks\\anaconda3\\Lib\\site-packages\\sklearn\\linear_model\\_stochastic_gradient.py:713: ConvergenceWarning: Maximum number of iteration reached before convergence. Consider increasing max_iter to improve the fit.\n",
      "  warnings.warn(\n",
      "C:\\Users\\aleks\\anaconda3\\Lib\\site-packages\\sklearn\\linear_model\\_stochastic_gradient.py:713: ConvergenceWarning: Maximum number of iteration reached before convergence. Consider increasing max_iter to improve the fit.\n",
      "  warnings.warn(\n",
      "C:\\Users\\aleks\\anaconda3\\Lib\\site-packages\\sklearn\\linear_model\\_stochastic_gradient.py:713: ConvergenceWarning: Maximum number of iteration reached before convergence. Consider increasing max_iter to improve the fit.\n",
      "  warnings.warn(\n",
      "C:\\Users\\aleks\\anaconda3\\Lib\\site-packages\\sklearn\\linear_model\\_stochastic_gradient.py:713: ConvergenceWarning: Maximum number of iteration reached before convergence. Consider increasing max_iter to improve the fit.\n",
      "  warnings.warn(\n",
      "C:\\Users\\aleks\\anaconda3\\Lib\\site-packages\\sklearn\\linear_model\\_stochastic_gradient.py:713: ConvergenceWarning: Maximum number of iteration reached before convergence. Consider increasing max_iter to improve the fit.\n",
      "  warnings.warn(\n",
      "C:\\Users\\aleks\\anaconda3\\Lib\\site-packages\\sklearn\\linear_model\\_stochastic_gradient.py:713: ConvergenceWarning: Maximum number of iteration reached before convergence. Consider increasing max_iter to improve the fit.\n",
      "  warnings.warn(\n",
      "C:\\Users\\aleks\\anaconda3\\Lib\\site-packages\\sklearn\\linear_model\\_stochastic_gradient.py:713: ConvergenceWarning: Maximum number of iteration reached before convergence. Consider increasing max_iter to improve the fit.\n",
      "  warnings.warn(\n",
      "C:\\Users\\aleks\\anaconda3\\Lib\\site-packages\\sklearn\\linear_model\\_stochastic_gradient.py:713: ConvergenceWarning: Maximum number of iteration reached before convergence. Consider increasing max_iter to improve the fit.\n",
      "  warnings.warn(\n",
      "C:\\Users\\aleks\\anaconda3\\Lib\\site-packages\\sklearn\\linear_model\\_stochastic_gradient.py:713: ConvergenceWarning: Maximum number of iteration reached before convergence. Consider increasing max_iter to improve the fit.\n",
      "  warnings.warn(\n",
      "C:\\Users\\aleks\\anaconda3\\Lib\\site-packages\\sklearn\\linear_model\\_stochastic_gradient.py:713: ConvergenceWarning: Maximum number of iteration reached before convergence. Consider increasing max_iter to improve the fit.\n",
      "  warnings.warn(\n",
      "C:\\Users\\aleks\\anaconda3\\Lib\\site-packages\\sklearn\\linear_model\\_stochastic_gradient.py:713: ConvergenceWarning: Maximum number of iteration reached before convergence. Consider increasing max_iter to improve the fit.\n",
      "  warnings.warn(\n",
      "C:\\Users\\aleks\\anaconda3\\Lib\\site-packages\\sklearn\\linear_model\\_stochastic_gradient.py:713: ConvergenceWarning: Maximum number of iteration reached before convergence. Consider increasing max_iter to improve the fit.\n",
      "  warnings.warn(\n",
      "C:\\Users\\aleks\\anaconda3\\Lib\\site-packages\\sklearn\\linear_model\\_stochastic_gradient.py:713: ConvergenceWarning: Maximum number of iteration reached before convergence. Consider increasing max_iter to improve the fit.\n",
      "  warnings.warn(\n",
      "C:\\Users\\aleks\\anaconda3\\Lib\\site-packages\\sklearn\\linear_model\\_stochastic_gradient.py:713: ConvergenceWarning: Maximum number of iteration reached before convergence. Consider increasing max_iter to improve the fit.\n",
      "  warnings.warn(\n",
      "C:\\Users\\aleks\\anaconda3\\Lib\\site-packages\\sklearn\\linear_model\\_stochastic_gradient.py:713: ConvergenceWarning: Maximum number of iteration reached before convergence. Consider increasing max_iter to improve the fit.\n",
      "  warnings.warn(\n",
      "C:\\Users\\aleks\\anaconda3\\Lib\\site-packages\\sklearn\\linear_model\\_stochastic_gradient.py:713: ConvergenceWarning: Maximum number of iteration reached before convergence. Consider increasing max_iter to improve the fit.\n",
      "  warnings.warn(\n",
      "C:\\Users\\aleks\\anaconda3\\Lib\\site-packages\\sklearn\\linear_model\\_stochastic_gradient.py:713: ConvergenceWarning: Maximum number of iteration reached before convergence. Consider increasing max_iter to improve the fit.\n",
      "  warnings.warn(\n",
      "C:\\Users\\aleks\\anaconda3\\Lib\\site-packages\\sklearn\\linear_model\\_stochastic_gradient.py:713: ConvergenceWarning: Maximum number of iteration reached before convergence. Consider increasing max_iter to improve the fit.\n",
      "  warnings.warn(\n",
      "C:\\Users\\aleks\\anaconda3\\Lib\\site-packages\\sklearn\\linear_model\\_stochastic_gradient.py:713: ConvergenceWarning: Maximum number of iteration reached before convergence. Consider increasing max_iter to improve the fit.\n",
      "  warnings.warn(\n",
      "C:\\Users\\aleks\\anaconda3\\Lib\\site-packages\\sklearn\\linear_model\\_stochastic_gradient.py:713: ConvergenceWarning: Maximum number of iteration reached before convergence. Consider increasing max_iter to improve the fit.\n",
      "  warnings.warn(\n",
      "C:\\Users\\aleks\\anaconda3\\Lib\\site-packages\\sklearn\\linear_model\\_stochastic_gradient.py:713: ConvergenceWarning: Maximum number of iteration reached before convergence. Consider increasing max_iter to improve the fit.\n",
      "  warnings.warn(\n",
      "C:\\Users\\aleks\\anaconda3\\Lib\\site-packages\\sklearn\\linear_model\\_stochastic_gradient.py:713: ConvergenceWarning: Maximum number of iteration reached before convergence. Consider increasing max_iter to improve the fit.\n",
      "  warnings.warn(\n",
      "C:\\Users\\aleks\\anaconda3\\Lib\\site-packages\\sklearn\\linear_model\\_stochastic_gradient.py:713: ConvergenceWarning: Maximum number of iteration reached before convergence. Consider increasing max_iter to improve the fit.\n",
      "  warnings.warn(\n",
      "C:\\Users\\aleks\\anaconda3\\Lib\\site-packages\\sklearn\\linear_model\\_stochastic_gradient.py:713: ConvergenceWarning: Maximum number of iteration reached before convergence. Consider increasing max_iter to improve the fit.\n",
      "  warnings.warn(\n",
      "C:\\Users\\aleks\\anaconda3\\Lib\\site-packages\\sklearn\\linear_model\\_stochastic_gradient.py:713: ConvergenceWarning: Maximum number of iteration reached before convergence. Consider increasing max_iter to improve the fit.\n",
      "  warnings.warn(\n",
      "C:\\Users\\aleks\\anaconda3\\Lib\\site-packages\\sklearn\\linear_model\\_stochastic_gradient.py:713: ConvergenceWarning: Maximum number of iteration reached before convergence. Consider increasing max_iter to improve the fit.\n",
      "  warnings.warn(\n",
      "C:\\Users\\aleks\\anaconda3\\Lib\\site-packages\\sklearn\\linear_model\\_stochastic_gradient.py:713: ConvergenceWarning: Maximum number of iteration reached before convergence. Consider increasing max_iter to improve the fit.\n",
      "  warnings.warn(\n",
      "C:\\Users\\aleks\\anaconda3\\Lib\\site-packages\\sklearn\\linear_model\\_stochastic_gradient.py:713: ConvergenceWarning: Maximum number of iteration reached before convergence. Consider increasing max_iter to improve the fit.\n",
      "  warnings.warn(\n",
      "C:\\Users\\aleks\\anaconda3\\Lib\\site-packages\\sklearn\\linear_model\\_stochastic_gradient.py:713: ConvergenceWarning: Maximum number of iteration reached before convergence. Consider increasing max_iter to improve the fit.\n",
      "  warnings.warn(\n",
      "C:\\Users\\aleks\\anaconda3\\Lib\\site-packages\\sklearn\\linear_model\\_stochastic_gradient.py:713: ConvergenceWarning: Maximum number of iteration reached before convergence. Consider increasing max_iter to improve the fit.\n",
      "  warnings.warn(\n",
      "C:\\Users\\aleks\\anaconda3\\Lib\\site-packages\\sklearn\\linear_model\\_stochastic_gradient.py:713: ConvergenceWarning: Maximum number of iteration reached before convergence. Consider increasing max_iter to improve the fit.\n",
      "  warnings.warn(\n",
      "C:\\Users\\aleks\\anaconda3\\Lib\\site-packages\\sklearn\\linear_model\\_stochastic_gradient.py:713: ConvergenceWarning: Maximum number of iteration reached before convergence. Consider increasing max_iter to improve the fit.\n",
      "  warnings.warn(\n",
      "C:\\Users\\aleks\\anaconda3\\Lib\\site-packages\\sklearn\\linear_model\\_stochastic_gradient.py:713: ConvergenceWarning: Maximum number of iteration reached before convergence. Consider increasing max_iter to improve the fit.\n",
      "  warnings.warn(\n",
      "C:\\Users\\aleks\\anaconda3\\Lib\\site-packages\\sklearn\\linear_model\\_stochastic_gradient.py:713: ConvergenceWarning: Maximum number of iteration reached before convergence. Consider increasing max_iter to improve the fit.\n",
      "  warnings.warn(\n",
      "C:\\Users\\aleks\\anaconda3\\Lib\\site-packages\\sklearn\\linear_model\\_stochastic_gradient.py:713: ConvergenceWarning: Maximum number of iteration reached before convergence. Consider increasing max_iter to improve the fit.\n",
      "  warnings.warn(\n",
      "C:\\Users\\aleks\\anaconda3\\Lib\\site-packages\\sklearn\\linear_model\\_stochastic_gradient.py:713: ConvergenceWarning: Maximum number of iteration reached before convergence. Consider increasing max_iter to improve the fit.\n",
      "  warnings.warn(\n",
      "C:\\Users\\aleks\\anaconda3\\Lib\\site-packages\\sklearn\\linear_model\\_stochastic_gradient.py:713: ConvergenceWarning: Maximum number of iteration reached before convergence. Consider increasing max_iter to improve the fit.\n",
      "  warnings.warn(\n",
      "C:\\Users\\aleks\\anaconda3\\Lib\\site-packages\\sklearn\\linear_model\\_stochastic_gradient.py:713: ConvergenceWarning: Maximum number of iteration reached before convergence. Consider increasing max_iter to improve the fit.\n",
      "  warnings.warn(\n",
      "C:\\Users\\aleks\\anaconda3\\Lib\\site-packages\\sklearn\\linear_model\\_stochastic_gradient.py:713: ConvergenceWarning: Maximum number of iteration reached before convergence. Consider increasing max_iter to improve the fit.\n",
      "  warnings.warn(\n",
      "C:\\Users\\aleks\\anaconda3\\Lib\\site-packages\\sklearn\\linear_model\\_stochastic_gradient.py:713: ConvergenceWarning: Maximum number of iteration reached before convergence. Consider increasing max_iter to improve the fit.\n",
      "  warnings.warn(\n",
      "C:\\Users\\aleks\\anaconda3\\Lib\\site-packages\\sklearn\\linear_model\\_stochastic_gradient.py:713: ConvergenceWarning: Maximum number of iteration reached before convergence. Consider increasing max_iter to improve the fit.\n",
      "  warnings.warn(\n",
      "C:\\Users\\aleks\\anaconda3\\Lib\\site-packages\\sklearn\\linear_model\\_stochastic_gradient.py:713: ConvergenceWarning: Maximum number of iteration reached before convergence. Consider increasing max_iter to improve the fit.\n",
      "  warnings.warn(\n",
      "C:\\Users\\aleks\\anaconda3\\Lib\\site-packages\\sklearn\\linear_model\\_stochastic_gradient.py:713: ConvergenceWarning: Maximum number of iteration reached before convergence. Consider increasing max_iter to improve the fit.\n",
      "  warnings.warn(\n",
      "C:\\Users\\aleks\\anaconda3\\Lib\\site-packages\\sklearn\\linear_model\\_stochastic_gradient.py:713: ConvergenceWarning: Maximum number of iteration reached before convergence. Consider increasing max_iter to improve the fit.\n",
      "  warnings.warn(\n",
      "C:\\Users\\aleks\\anaconda3\\Lib\\site-packages\\sklearn\\linear_model\\_stochastic_gradient.py:713: ConvergenceWarning: Maximum number of iteration reached before convergence. Consider increasing max_iter to improve the fit.\n",
      "  warnings.warn(\n",
      "C:\\Users\\aleks\\anaconda3\\Lib\\site-packages\\sklearn\\linear_model\\_stochastic_gradient.py:713: ConvergenceWarning: Maximum number of iteration reached before convergence. Consider increasing max_iter to improve the fit.\n",
      "  warnings.warn(\n",
      "C:\\Users\\aleks\\anaconda3\\Lib\\site-packages\\sklearn\\linear_model\\_stochastic_gradient.py:713: ConvergenceWarning: Maximum number of iteration reached before convergence. Consider increasing max_iter to improve the fit.\n",
      "  warnings.warn(\n",
      "C:\\Users\\aleks\\anaconda3\\Lib\\site-packages\\sklearn\\linear_model\\_stochastic_gradient.py:713: ConvergenceWarning: Maximum number of iteration reached before convergence. Consider increasing max_iter to improve the fit.\n",
      "  warnings.warn(\n",
      "C:\\Users\\aleks\\anaconda3\\Lib\\site-packages\\sklearn\\linear_model\\_stochastic_gradient.py:713: ConvergenceWarning: Maximum number of iteration reached before convergence. Consider increasing max_iter to improve the fit.\n",
      "  warnings.warn(\n",
      "C:\\Users\\aleks\\anaconda3\\Lib\\site-packages\\sklearn\\linear_model\\_stochastic_gradient.py:713: ConvergenceWarning: Maximum number of iteration reached before convergence. Consider increasing max_iter to improve the fit.\n",
      "  warnings.warn(\n",
      "C:\\Users\\aleks\\anaconda3\\Lib\\site-packages\\sklearn\\linear_model\\_stochastic_gradient.py:713: ConvergenceWarning: Maximum number of iteration reached before convergence. Consider increasing max_iter to improve the fit.\n",
      "  warnings.warn(\n",
      "C:\\Users\\aleks\\anaconda3\\Lib\\site-packages\\sklearn\\linear_model\\_stochastic_gradient.py:713: ConvergenceWarning: Maximum number of iteration reached before convergence. Consider increasing max_iter to improve the fit.\n",
      "  warnings.warn(\n",
      "C:\\Users\\aleks\\anaconda3\\Lib\\site-packages\\sklearn\\linear_model\\_stochastic_gradient.py:713: ConvergenceWarning: Maximum number of iteration reached before convergence. Consider increasing max_iter to improve the fit.\n",
      "  warnings.warn(\n",
      "C:\\Users\\aleks\\anaconda3\\Lib\\site-packages\\sklearn\\linear_model\\_stochastic_gradient.py:713: ConvergenceWarning: Maximum number of iteration reached before convergence. Consider increasing max_iter to improve the fit.\n",
      "  warnings.warn(\n",
      "C:\\Users\\aleks\\anaconda3\\Lib\\site-packages\\sklearn\\linear_model\\_stochastic_gradient.py:713: ConvergenceWarning: Maximum number of iteration reached before convergence. Consider increasing max_iter to improve the fit.\n",
      "  warnings.warn(\n",
      "C:\\Users\\aleks\\anaconda3\\Lib\\site-packages\\sklearn\\linear_model\\_stochastic_gradient.py:713: ConvergenceWarning: Maximum number of iteration reached before convergence. Consider increasing max_iter to improve the fit.\n",
      "  warnings.warn(\n",
      "C:\\Users\\aleks\\anaconda3\\Lib\\site-packages\\sklearn\\linear_model\\_stochastic_gradient.py:713: ConvergenceWarning: Maximum number of iteration reached before convergence. Consider increasing max_iter to improve the fit.\n",
      "  warnings.warn(\n",
      "C:\\Users\\aleks\\anaconda3\\Lib\\site-packages\\sklearn\\linear_model\\_stochastic_gradient.py:713: ConvergenceWarning: Maximum number of iteration reached before convergence. Consider increasing max_iter to improve the fit.\n",
      "  warnings.warn(\n",
      "C:\\Users\\aleks\\anaconda3\\Lib\\site-packages\\sklearn\\linear_model\\_stochastic_gradient.py:713: ConvergenceWarning: Maximum number of iteration reached before convergence. Consider increasing max_iter to improve the fit.\n",
      "  warnings.warn(\n",
      "C:\\Users\\aleks\\anaconda3\\Lib\\site-packages\\sklearn\\linear_model\\_stochastic_gradient.py:713: ConvergenceWarning: Maximum number of iteration reached before convergence. Consider increasing max_iter to improve the fit.\n",
      "  warnings.warn(\n",
      "C:\\Users\\aleks\\anaconda3\\Lib\\site-packages\\sklearn\\linear_model\\_stochastic_gradient.py:713: ConvergenceWarning: Maximum number of iteration reached before convergence. Consider increasing max_iter to improve the fit.\n",
      "  warnings.warn(\n",
      "C:\\Users\\aleks\\anaconda3\\Lib\\site-packages\\sklearn\\linear_model\\_stochastic_gradient.py:713: ConvergenceWarning: Maximum number of iteration reached before convergence. Consider increasing max_iter to improve the fit.\n",
      "  warnings.warn(\n",
      "C:\\Users\\aleks\\anaconda3\\Lib\\site-packages\\sklearn\\linear_model\\_stochastic_gradient.py:713: ConvergenceWarning: Maximum number of iteration reached before convergence. Consider increasing max_iter to improve the fit.\n",
      "  warnings.warn(\n",
      "C:\\Users\\aleks\\anaconda3\\Lib\\site-packages\\sklearn\\linear_model\\_stochastic_gradient.py:713: ConvergenceWarning: Maximum number of iteration reached before convergence. Consider increasing max_iter to improve the fit.\n",
      "  warnings.warn(\n",
      "C:\\Users\\aleks\\anaconda3\\Lib\\site-packages\\sklearn\\linear_model\\_stochastic_gradient.py:713: ConvergenceWarning: Maximum number of iteration reached before convergence. Consider increasing max_iter to improve the fit.\n",
      "  warnings.warn(\n",
      "C:\\Users\\aleks\\anaconda3\\Lib\\site-packages\\sklearn\\linear_model\\_stochastic_gradient.py:713: ConvergenceWarning: Maximum number of iteration reached before convergence. Consider increasing max_iter to improve the fit.\n",
      "  warnings.warn(\n",
      "C:\\Users\\aleks\\anaconda3\\Lib\\site-packages\\sklearn\\linear_model\\_stochastic_gradient.py:713: ConvergenceWarning: Maximum number of iteration reached before convergence. Consider increasing max_iter to improve the fit.\n",
      "  warnings.warn(\n",
      "C:\\Users\\aleks\\anaconda3\\Lib\\site-packages\\sklearn\\linear_model\\_stochastic_gradient.py:713: ConvergenceWarning: Maximum number of iteration reached before convergence. Consider increasing max_iter to improve the fit.\n",
      "  warnings.warn(\n",
      "C:\\Users\\aleks\\anaconda3\\Lib\\site-packages\\sklearn\\linear_model\\_stochastic_gradient.py:713: ConvergenceWarning: Maximum number of iteration reached before convergence. Consider increasing max_iter to improve the fit.\n",
      "  warnings.warn(\n",
      "C:\\Users\\aleks\\anaconda3\\Lib\\site-packages\\sklearn\\linear_model\\_stochastic_gradient.py:713: ConvergenceWarning: Maximum number of iteration reached before convergence. Consider increasing max_iter to improve the fit.\n",
      "  warnings.warn(\n",
      "C:\\Users\\aleks\\anaconda3\\Lib\\site-packages\\sklearn\\linear_model\\_stochastic_gradient.py:713: ConvergenceWarning: Maximum number of iteration reached before convergence. Consider increasing max_iter to improve the fit.\n",
      "  warnings.warn(\n",
      "C:\\Users\\aleks\\anaconda3\\Lib\\site-packages\\sklearn\\linear_model\\_stochastic_gradient.py:713: ConvergenceWarning: Maximum number of iteration reached before convergence. Consider increasing max_iter to improve the fit.\n",
      "  warnings.warn(\n",
      "C:\\Users\\aleks\\anaconda3\\Lib\\site-packages\\sklearn\\linear_model\\_stochastic_gradient.py:713: ConvergenceWarning: Maximum number of iteration reached before convergence. Consider increasing max_iter to improve the fit.\n",
      "  warnings.warn(\n",
      "C:\\Users\\aleks\\anaconda3\\Lib\\site-packages\\sklearn\\linear_model\\_stochastic_gradient.py:713: ConvergenceWarning: Maximum number of iteration reached before convergence. Consider increasing max_iter to improve the fit.\n",
      "  warnings.warn(\n"
     ]
    },
    {
     "data": {
      "text/plain": "GridSearchCV(estimator=SGDClassifier(random_state=22),\n             param_grid={'eta0': [0.1, 0.2, 0.3, 0.4, 0.5],\n                         'learning_rate': ['constant', 'optimal', 'adaptive'],\n                         'loss': ['hinge', 'modified_huber', 'squared_hinge',\n                                  'perceptron', 'huber'],\n                         'max_iter': [50, 100, 200, 500, 1000],\n                         'penalty': ['l2', 'l1', 'elasticnet']})",
      "text/html": "<style>#sk-container-id-3 {color: black;}#sk-container-id-3 pre{padding: 0;}#sk-container-id-3 div.sk-toggleable {background-color: white;}#sk-container-id-3 label.sk-toggleable__label {cursor: pointer;display: block;width: 100%;margin-bottom: 0;padding: 0.3em;box-sizing: border-box;text-align: center;}#sk-container-id-3 label.sk-toggleable__label-arrow:before {content: \"▸\";float: left;margin-right: 0.25em;color: #696969;}#sk-container-id-3 label.sk-toggleable__label-arrow:hover:before {color: black;}#sk-container-id-3 div.sk-estimator:hover label.sk-toggleable__label-arrow:before {color: black;}#sk-container-id-3 div.sk-toggleable__content {max-height: 0;max-width: 0;overflow: hidden;text-align: left;background-color: #f0f8ff;}#sk-container-id-3 div.sk-toggleable__content pre {margin: 0.2em;color: black;border-radius: 0.25em;background-color: #f0f8ff;}#sk-container-id-3 input.sk-toggleable__control:checked~div.sk-toggleable__content {max-height: 200px;max-width: 100%;overflow: auto;}#sk-container-id-3 input.sk-toggleable__control:checked~label.sk-toggleable__label-arrow:before {content: \"▾\";}#sk-container-id-3 div.sk-estimator input.sk-toggleable__control:checked~label.sk-toggleable__label {background-color: #d4ebff;}#sk-container-id-3 div.sk-label input.sk-toggleable__control:checked~label.sk-toggleable__label {background-color: #d4ebff;}#sk-container-id-3 input.sk-hidden--visually {border: 0;clip: rect(1px 1px 1px 1px);clip: rect(1px, 1px, 1px, 1px);height: 1px;margin: -1px;overflow: hidden;padding: 0;position: absolute;width: 1px;}#sk-container-id-3 div.sk-estimator {font-family: monospace;background-color: #f0f8ff;border: 1px dotted black;border-radius: 0.25em;box-sizing: border-box;margin-bottom: 0.5em;}#sk-container-id-3 div.sk-estimator:hover {background-color: #d4ebff;}#sk-container-id-3 div.sk-parallel-item::after {content: \"\";width: 100%;border-bottom: 1px solid gray;flex-grow: 1;}#sk-container-id-3 div.sk-label:hover label.sk-toggleable__label {background-color: #d4ebff;}#sk-container-id-3 div.sk-serial::before {content: \"\";position: absolute;border-left: 1px solid gray;box-sizing: border-box;top: 0;bottom: 0;left: 50%;z-index: 0;}#sk-container-id-3 div.sk-serial {display: flex;flex-direction: column;align-items: center;background-color: white;padding-right: 0.2em;padding-left: 0.2em;position: relative;}#sk-container-id-3 div.sk-item {position: relative;z-index: 1;}#sk-container-id-3 div.sk-parallel {display: flex;align-items: stretch;justify-content: center;background-color: white;position: relative;}#sk-container-id-3 div.sk-item::before, #sk-container-id-3 div.sk-parallel-item::before {content: \"\";position: absolute;border-left: 1px solid gray;box-sizing: border-box;top: 0;bottom: 0;left: 50%;z-index: -1;}#sk-container-id-3 div.sk-parallel-item {display: flex;flex-direction: column;z-index: 1;position: relative;background-color: white;}#sk-container-id-3 div.sk-parallel-item:first-child::after {align-self: flex-end;width: 50%;}#sk-container-id-3 div.sk-parallel-item:last-child::after {align-self: flex-start;width: 50%;}#sk-container-id-3 div.sk-parallel-item:only-child::after {width: 0;}#sk-container-id-3 div.sk-dashed-wrapped {border: 1px dashed gray;margin: 0 0.4em 0.5em 0.4em;box-sizing: border-box;padding-bottom: 0.4em;background-color: white;}#sk-container-id-3 div.sk-label label {font-family: monospace;font-weight: bold;display: inline-block;line-height: 1.2em;}#sk-container-id-3 div.sk-label-container {text-align: center;}#sk-container-id-3 div.sk-container {/* jupyter's `normalize.less` sets `[hidden] { display: none; }` but bootstrap.min.css set `[hidden] { display: none !important; }` so we also need the `!important` here to be able to override the default hidden behavior on the sphinx rendered scikit-learn.org. See: https://github.com/scikit-learn/scikit-learn/issues/21755 */display: inline-block !important;position: relative;}#sk-container-id-3 div.sk-text-repr-fallback {display: none;}</style><div id=\"sk-container-id-3\" class=\"sk-top-container\"><div class=\"sk-text-repr-fallback\"><pre>GridSearchCV(estimator=SGDClassifier(random_state=22),\n             param_grid={&#x27;eta0&#x27;: [0.1, 0.2, 0.3, 0.4, 0.5],\n                         &#x27;learning_rate&#x27;: [&#x27;constant&#x27;, &#x27;optimal&#x27;, &#x27;adaptive&#x27;],\n                         &#x27;loss&#x27;: [&#x27;hinge&#x27;, &#x27;modified_huber&#x27;, &#x27;squared_hinge&#x27;,\n                                  &#x27;perceptron&#x27;, &#x27;huber&#x27;],\n                         &#x27;max_iter&#x27;: [50, 100, 200, 500, 1000],\n                         &#x27;penalty&#x27;: [&#x27;l2&#x27;, &#x27;l1&#x27;, &#x27;elasticnet&#x27;]})</pre><b>In a Jupyter environment, please rerun this cell to show the HTML representation or trust the notebook. <br />On GitHub, the HTML representation is unable to render, please try loading this page with nbviewer.org.</b></div><div class=\"sk-container\" hidden><div class=\"sk-item sk-dashed-wrapped\"><div class=\"sk-label-container\"><div class=\"sk-label sk-toggleable\"><input class=\"sk-toggleable__control sk-hidden--visually\" id=\"sk-estimator-id-5\" type=\"checkbox\" ><label for=\"sk-estimator-id-5\" class=\"sk-toggleable__label sk-toggleable__label-arrow\">GridSearchCV</label><div class=\"sk-toggleable__content\"><pre>GridSearchCV(estimator=SGDClassifier(random_state=22),\n             param_grid={&#x27;eta0&#x27;: [0.1, 0.2, 0.3, 0.4, 0.5],\n                         &#x27;learning_rate&#x27;: [&#x27;constant&#x27;, &#x27;optimal&#x27;, &#x27;adaptive&#x27;],\n                         &#x27;loss&#x27;: [&#x27;hinge&#x27;, &#x27;modified_huber&#x27;, &#x27;squared_hinge&#x27;,\n                                  &#x27;perceptron&#x27;, &#x27;huber&#x27;],\n                         &#x27;max_iter&#x27;: [50, 100, 200, 500, 1000],\n                         &#x27;penalty&#x27;: [&#x27;l2&#x27;, &#x27;l1&#x27;, &#x27;elasticnet&#x27;]})</pre></div></div></div><div class=\"sk-parallel\"><div class=\"sk-parallel-item\"><div class=\"sk-item\"><div class=\"sk-label-container\"><div class=\"sk-label sk-toggleable\"><input class=\"sk-toggleable__control sk-hidden--visually\" id=\"sk-estimator-id-6\" type=\"checkbox\" ><label for=\"sk-estimator-id-6\" class=\"sk-toggleable__label sk-toggleable__label-arrow\">estimator: SGDClassifier</label><div class=\"sk-toggleable__content\"><pre>SGDClassifier(random_state=22)</pre></div></div></div><div class=\"sk-serial\"><div class=\"sk-item\"><div class=\"sk-estimator sk-toggleable\"><input class=\"sk-toggleable__control sk-hidden--visually\" id=\"sk-estimator-id-7\" type=\"checkbox\" ><label for=\"sk-estimator-id-7\" class=\"sk-toggleable__label sk-toggleable__label-arrow\">SGDClassifier</label><div class=\"sk-toggleable__content\"><pre>SGDClassifier(random_state=22)</pre></div></div></div></div></div></div></div></div></div></div>"
     },
     "execution_count": 50,
     "metadata": {},
     "output_type": "execute_result"
    }
   ],
   "source": [
    "grid_search.fit(X_train_prepared, y_train)"
   ],
   "metadata": {
    "collapsed": false,
    "ExecuteTime": {
     "end_time": "2023-11-04T11:05:13.222512500Z",
     "start_time": "2023-11-04T10:56:03.609941300Z"
    }
   }
  },
  {
   "cell_type": "code",
   "execution_count": 52,
   "outputs": [
    {
     "data": {
      "text/plain": "{'eta0': 0.3,\n 'learning_rate': 'adaptive',\n 'loss': 'perceptron',\n 'max_iter': 50,\n 'penalty': 'l1'}"
     },
     "execution_count": 52,
     "metadata": {},
     "output_type": "execute_result"
    }
   ],
   "source": [
    "grid_search.best_params_"
   ],
   "metadata": {
    "collapsed": false,
    "ExecuteTime": {
     "end_time": "2023-11-04T11:05:59.330848800Z",
     "start_time": "2023-11-04T11:05:59.309838200Z"
    }
   }
  },
  {
   "cell_type": "markdown",
   "id": "36ae3ffc",
   "metadata": {},
   "source": [
    "## Объединение преобразований над признаками с обучением модели. Модуль pipeline "
   ]
  },
  {
   "cell_type": "code",
   "execution_count": 49,
   "id": "936c40a6",
   "metadata": {},
   "outputs": [],
   "source": [
    "pipeline = Pipeline(\n",
    "     steps=[\n",
    "         (\n",
    "             'preprocessor', ColumnTransformer(\n",
    "                 transformers=[\n",
    "                     ('text', TfidfVectorizer(), text_feature), \n",
    "                     ('category', OneHotEncoder(handle_unknown='ignore'), cat_features),\n",
    "                 ],\n",
    "             )\n",
    "         ),\n",
    "         ('classifier', SGDClassifier(\n",
    "             eta0=0.5,\n",
    "             learning_rate='adaptive',\n",
    "             loss='hinge',\n",
    "             max_iter=100,\n",
    "             penalty='l1',\n",
    "             random_state=RANDOM_STATE,\n",
    "         )\n",
    "         ),\n",
    "     ],\n",
    " )\n",
    "pipeline.fit(X_train, y_train)\n",
    "y_pred = pipeline.predict(X_test)"
   ]
  },
  {
   "cell_type": "code",
   "execution_count": 50,
   "id": "77e4bd24",
   "metadata": {},
   "outputs": [
    {
     "data": {
      "text/plain": [
       "0.8969529850491467"
      ]
     },
     "execution_count": 50,
     "metadata": {},
     "output_type": "execute_result"
    }
   ],
   "source": [
    "f1_score(y_pred, y_test, average='weighted')"
   ]
  },
  {
   "cell_type": "markdown",
   "id": "ec7706ac",
   "metadata": {},
   "source": [
    "### Приложение к задаче"
   ]
  },
  {
   "cell_type": "code",
   "execution_count": 51,
   "id": "b3833cc6",
   "metadata": {},
   "outputs": [],
   "source": [
    ">>> def get_feature_names(preprocessor: ColumnTransformer):\n",
    "    \"\"\"\n",
    "    Отдает названия признаков после метода fit / fit_transform в ColumnTransformer\n",
    "    \"\"\"\n",
    "    features = []\n",
    "    for _, transformer, transformer_features, _ in preprocessor._iter(fitted=True):\n",
    "        \n",
    "        if isinstance(transformer, str):\n",
    "            continue\n",
    "            \n",
    "        if hasattr(transformer, 'get_feature_names_out'):\n",
    "            transformer_features = transformer.get_feature_names_out()    \n",
    "            \n",
    "        if hasattr(transformer, 'get_feature_names'):\n",
    "            transformer_features = transformer.get_feature_names()            \n",
    "            \n",
    "        for feature in transformer_features:\n",
    "            features.append(feature)\n",
    "            \n",
    "    return features"
   ]
  },
  {
   "cell_type": "code",
   "execution_count": 15,
   "id": "87751eec",
   "metadata": {},
   "outputs": [],
   "source": [
    "# get_feature_names(preprocessor)"
   ]
  },
  {
   "cell_type": "code",
   "execution_count": null,
   "id": "6cca1c97",
   "metadata": {},
   "outputs": [],
   "source": []
  }
 ],
 "metadata": {
  "kernelspec": {
   "display_name": "Python 3",
   "language": "python",
   "name": "python3"
  },
  "language_info": {
   "codemirror_mode": {
    "name": "ipython",
    "version": 3
   },
   "file_extension": ".py",
   "mimetype": "text/x-python",
   "name": "python",
   "nbconvert_exporter": "python",
   "pygments_lexer": "ipython3",
   "version": "3.8.6"
  }
 },
 "nbformat": 4,
 "nbformat_minor": 5
}

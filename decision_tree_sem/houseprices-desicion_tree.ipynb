{
 "metadata": {
  "kernelspec": {
   "language": "python",
   "display_name": "Python 3",
   "name": "python3"
  },
  "language_info": {
   "name": "python",
   "version": "3.10.12",
   "mimetype": "text/x-python",
   "codemirror_mode": {
    "name": "ipython",
    "version": 3
   },
   "pygments_lexer": "ipython3",
   "nbconvert_exporter": "python",
   "file_extension": ".py"
  },
  "kaggle": {
   "accelerator": "none",
   "dataSources": [
    {
     "sourceId": 5407,
     "databundleVersionId": 868283,
     "sourceType": "competition"
    }
   ],
   "dockerImageVersionId": 30615,
   "isInternetEnabled": true,
   "language": "python",
   "sourceType": "notebook",
   "isGpuEnabled": false
  }
 },
 "nbformat_minor": 4,
 "nbformat": 4,
 "cells": [
  {
   "cell_type": "code",
   "source": [
    "# This Python 3 environment comes with many helpful analytics libraries installed\n",
    "# It is defined by the kaggle/python Docker image: https://github.com/kaggle/docker-python\n",
    "# For example, here's several helpful packages to load\n",
    "\n",
    "import numpy as np # linear algebra\n",
    "import pandas as pd # data processing, CSV file I/O (e.g. pd.read_csv)\n",
    "\n",
    "import matplotlib.pyplot as plt\n",
    "\n",
    "import seaborn as sns \n",
    "\n",
    "from sklearn.linear_model import Ridge\n",
    "from sklearn.model_selection import train_test_split\n",
    "from sklearn.tree import DecisionTreeRegressor\n",
    "from sklearn.tree import plot_tree\n",
    "from sklearn.preprocessing import OneHotEncoder\n",
    "from sklearn.metrics import mean_squared_error\n",
    "from sklearn.metrics import make_scorer\n",
    "from sklearn.model_selection import cross_val_score\n",
    "from sklearn.model_selection import GridSearchCV\n",
    "\n",
    "\n",
    "plt.rcParams[\"figure.figsize\"] = (20, 10)\n",
    "\n",
    "%matplotlib inline\n",
    "\n",
    "# Input data files are available in the read-only \"../input/\" directory\n",
    "# For example, running this (by clicking run or pressing Shift+Enter) will list all files under the input directory\n",
    "\n",
    "import os\n",
    "for dirname, _, filenames in os.walk('/kaggle/input'):\n",
    "    for filename in filenames:\n",
    "        print(os.path.join(dirname, filename))\n",
    "\n",
    "# You can write up to 20GB to the current directory (/kaggle/working/) that gets preserved as output when you create a version using \"Save & Run All\" \n",
    "# You can also write temporary files to /kaggle/temp/, but they won't be saved outside of the current session"
   ],
   "metadata": {
    "_uuid": "8f2839f25d086af736a60e9eeb907d3b93b6e0e5",
    "_cell_guid": "b1076dfc-b9ad-4769-8c92-a6c4dae69d19",
    "execution": {
     "iopub.status.busy": "2023-12-27T06:49:43.975215Z",
     "iopub.execute_input": "2023-12-27T06:49:43.975695Z",
     "iopub.status.idle": "2023-12-27T06:49:46.128458Z",
     "shell.execute_reply.started": "2023-12-27T06:49:43.975649Z",
     "shell.execute_reply": "2023-12-27T06:49:46.127409Z"
    },
    "trusted": true
   },
   "execution_count": null,
   "outputs": []
  },
  {
   "cell_type": "markdown",
   "source": [
    "# Загрузка данных"
   ],
   "metadata": {}
  },
  {
   "cell_type": "code",
   "source": [
    "df_train = pd.read_csv('../input/house-prices-advanced-regression-techniques/train.csv')\n",
    "df_test = pd.read_csv('../input/house-prices-advanced-regression-techniques/test.csv')"
   ],
   "metadata": {
    "execution": {
     "iopub.status.busy": "2023-12-27T06:49:46.130757Z",
     "iopub.execute_input": "2023-12-27T06:49:46.131466Z",
     "iopub.status.idle": "2023-12-27T06:49:46.22725Z",
     "shell.execute_reply.started": "2023-12-27T06:49:46.13143Z",
     "shell.execute_reply": "2023-12-27T06:49:46.226163Z"
    },
    "trusted": true
   },
   "execution_count": null,
   "outputs": []
  },
  {
   "cell_type": "code",
   "source": [
    "df_train.shape"
   ],
   "metadata": {
    "execution": {
     "iopub.status.busy": "2023-12-27T06:49:46.228976Z",
     "iopub.execute_input": "2023-12-27T06:49:46.229332Z",
     "iopub.status.idle": "2023-12-27T06:49:46.237384Z",
     "shell.execute_reply.started": "2023-12-27T06:49:46.229303Z",
     "shell.execute_reply": "2023-12-27T06:49:46.236107Z"
    },
    "trusted": true
   },
   "execution_count": null,
   "outputs": []
  },
  {
   "cell_type": "code",
   "source": [
    "df_test.shape"
   ],
   "metadata": {
    "execution": {
     "iopub.status.busy": "2023-12-27T06:49:46.238768Z",
     "iopub.execute_input": "2023-12-27T06:49:46.239116Z",
     "iopub.status.idle": "2023-12-27T06:49:46.250898Z",
     "shell.execute_reply.started": "2023-12-27T06:49:46.239085Z",
     "shell.execute_reply": "2023-12-27T06:49:46.249631Z"
    },
    "trusted": true
   },
   "execution_count": null,
   "outputs": []
  },
  {
   "cell_type": "markdown",
   "source": [
    "# Подход к решению"
   ],
   "metadata": {}
  },
  {
   "cell_type": "markdown",
   "source": [
    "В первом ноутбуке мы смогли с вами быстро собрать бейзлайн, но давайте попробуем более детально посмотреть в то, какую задачу нам предстоит решать, корректно оформим подсчет метрик и поймем, как корректно проводить различные эксперименты"
   ],
   "metadata": {}
  },
  {
   "cell_type": "markdown",
   "source": [
    "# Предобработка данных"
   ],
   "metadata": {}
  },
  {
   "cell_type": "markdown",
   "source": [
    "Несмотря на то, что алгоритм решающего дерева умеет работать с пропущенными значениями, предлагаю более детально посмотреть на них и заполнить, так как это позволит нам глубже погрузиться в датасет и в дальнейшем сравнить работу дерева с линейной моделью:"
   ],
   "metadata": {}
  },
  {
   "cell_type": "markdown",
   "source": [
    "## Обработка пропущенных значений"
   ],
   "metadata": {}
  },
  {
   "cell_type": "markdown",
   "source": [
    "Посчитаем статистики по пропущенным значениям в трейне и тесте:"
   ],
   "metadata": {}
  },
  {
   "cell_type": "code",
   "source": [
    "def get_missed_values_stat(df):\n",
    "    missed_stat = df.isna().sum().sort_values(ascending=False).reset_index()\n",
    "    missed_stat.columns = ['feature', 'NaN count']\n",
    "    missed_stat['NaN share'] = missed_stat['NaN count'] / df.shape[0]\n",
    "    return missed_stat[missed_stat['NaN count'] > 0]"
   ],
   "metadata": {
    "execution": {
     "iopub.status.busy": "2023-12-27T06:49:46.254704Z",
     "iopub.execute_input": "2023-12-27T06:49:46.255471Z",
     "iopub.status.idle": "2023-12-27T06:49:46.263595Z",
     "shell.execute_reply.started": "2023-12-27T06:49:46.255434Z",
     "shell.execute_reply": "2023-12-27T06:49:46.262557Z"
    },
    "trusted": true
   },
   "execution_count": null,
   "outputs": []
  },
  {
   "cell_type": "code",
   "source": [
    "def get_common_missed_data(df_train, df_test):\n",
    "    missed_train = get_missed_values_stat(df_train)\n",
    "    missed_test = get_missed_values_stat(df_test)\n",
    "\n",
    "    missed_data = missed_train.merge(missed_test, how='outer', on='feature', suffixes=['_train', '_test'])\n",
    "    \n",
    "    return missed_data"
   ],
   "metadata": {
    "execution": {
     "iopub.status.busy": "2023-12-27T06:49:46.265309Z",
     "iopub.execute_input": "2023-12-27T06:49:46.266096Z",
     "iopub.status.idle": "2023-12-27T06:49:46.280485Z",
     "shell.execute_reply.started": "2023-12-27T06:49:46.266051Z",
     "shell.execute_reply": "2023-12-27T06:49:46.2794Z"
    },
    "trusted": true
   },
   "execution_count": null,
   "outputs": []
  },
  {
   "cell_type": "markdown",
   "source": [
    "Как видите, пропущенные значения есть в разных столбцах в трейне и тесте, поэтому нам будет затруднительно использовать отбрасывание столбцов с пропущенными значениями, так как могут разойтись размерности на обучении и на инференсе\n",
    "\n",
    "Что самое важное – в тестовых данных есть пропущенные значения в тех столбцах, которые полностью заполнены в обучающей выборке, поэтому из этой ситуации надо как-то выкручиваться "
   ],
   "metadata": {}
  },
  {
   "cell_type": "code",
   "source": [
    "missed_data = get_common_missed_data(df_train, df_test)\n",
    "missed_data"
   ],
   "metadata": {
    "execution": {
     "iopub.status.busy": "2023-12-27T06:49:46.282489Z",
     "iopub.execute_input": "2023-12-27T06:49:46.282859Z",
     "iopub.status.idle": "2023-12-27T06:49:46.374416Z",
     "shell.execute_reply.started": "2023-12-27T06:49:46.282828Z",
     "shell.execute_reply": "2023-12-27T06:49:46.373293Z"
    },
    "trusted": true
   },
   "execution_count": null,
   "outputs": []
  },
  {
   "cell_type": "markdown",
   "source": [
    "### Какие признаки исключить из выборки:"
   ],
   "metadata": {}
  },
  {
   "cell_type": "markdown",
   "source": [
    "Давайте исключим из выборки те признаки, доля пропущенных значений в которых больше 10%:"
   ],
   "metadata": {}
  },
  {
   "cell_type": "code",
   "source": [
    "columns_to_drop = missed_data.loc[missed_data['NaN share_train'] > 0.1, 'feature'].values\n",
    "columns_to_drop"
   ],
   "metadata": {
    "execution": {
     "iopub.status.busy": "2023-12-27T06:49:46.3761Z",
     "iopub.execute_input": "2023-12-27T06:49:46.37667Z",
     "iopub.status.idle": "2023-12-27T06:49:46.386345Z",
     "shell.execute_reply.started": "2023-12-27T06:49:46.376628Z",
     "shell.execute_reply": "2023-12-27T06:49:46.384999Z"
    },
    "trusted": true
   },
   "execution_count": null,
   "outputs": []
  },
  {
   "cell_type": "code",
   "source": [
    "df_train = df_train.drop(columns=columns_to_drop)\n",
    "df_test = df_test.drop(columns=columns_to_drop)"
   ],
   "metadata": {
    "execution": {
     "iopub.status.busy": "2023-12-27T06:49:46.387772Z",
     "iopub.execute_input": "2023-12-27T06:49:46.3882Z",
     "iopub.status.idle": "2023-12-27T06:49:46.399346Z",
     "shell.execute_reply.started": "2023-12-27T06:49:46.38815Z",
     "shell.execute_reply": "2023-12-27T06:49:46.398537Z"
    },
    "trusted": true
   },
   "execution_count": null,
   "outputs": []
  },
  {
   "cell_type": "code",
   "source": [
    "df_train.shape, df_test.shape"
   ],
   "metadata": {
    "execution": {
     "iopub.status.busy": "2023-12-27T06:49:46.401009Z",
     "iopub.execute_input": "2023-12-27T06:49:46.401313Z",
     "iopub.status.idle": "2023-12-27T06:49:46.409015Z",
     "shell.execute_reply.started": "2023-12-27T06:49:46.401286Z",
     "shell.execute_reply": "2023-12-27T06:49:46.407799Z"
    },
    "trusted": true
   },
   "execution_count": null,
   "outputs": []
  },
  {
   "cell_type": "markdown",
   "source": [
    "### Признаки `Garage*` – признаки гаража"
   ],
   "metadata": {}
  },
  {
   "cell_type": "code",
   "source": [
    "missed_data = get_common_missed_data(df_train, df_test)\n",
    "missed_data"
   ],
   "metadata": {
    "execution": {
     "iopub.status.busy": "2023-12-27T06:49:46.410343Z",
     "iopub.execute_input": "2023-12-27T06:49:46.410799Z",
     "iopub.status.idle": "2023-12-27T06:49:46.460633Z",
     "shell.execute_reply.started": "2023-12-27T06:49:46.410753Z",
     "shell.execute_reply": "2023-12-27T06:49:46.459485Z"
    },
    "trusted": true
   },
   "execution_count": null,
   "outputs": []
  },
  {
   "cell_type": "markdown",
   "source": [
    "Какие признаки являются категориальными, а какие – числовыми? \n",
    "\n",
    "Как вы будете их заполнять?"
   ],
   "metadata": {}
  },
  {
   "cell_type": "code",
   "source": [
    "garage_cat_features = ['GarageType', 'GarageCond', 'GarageFinish', 'GarageQual']"
   ],
   "metadata": {
    "execution": {
     "iopub.status.busy": "2023-12-27T06:49:46.462593Z",
     "iopub.execute_input": "2023-12-27T06:49:46.46302Z",
     "iopub.status.idle": "2023-12-27T06:49:46.46855Z",
     "shell.execute_reply.started": "2023-12-27T06:49:46.462979Z",
     "shell.execute_reply": "2023-12-27T06:49:46.467307Z"
    },
    "trusted": true
   },
   "execution_count": null,
   "outputs": []
  },
  {
   "cell_type": "code",
   "source": [
    "for feature in garage_cat_features:\n",
    "    df_train[feature] = df_train[feature].fillna('None')\n",
    "    df_test[feature] = df_test[feature].fillna('None')"
   ],
   "metadata": {
    "execution": {
     "iopub.status.busy": "2023-12-27T06:49:46.470536Z",
     "iopub.execute_input": "2023-12-27T06:49:46.471017Z",
     "iopub.status.idle": "2023-12-27T06:49:46.489009Z",
     "shell.execute_reply.started": "2023-12-27T06:49:46.470976Z",
     "shell.execute_reply": "2023-12-27T06:49:46.487833Z"
    },
    "trusted": true
   },
   "execution_count": null,
   "outputs": []
  },
  {
   "cell_type": "code",
   "source": [
    "garage_num_features = ['GarageYrBlt', 'GarageCars', 'GarageArea']"
   ],
   "metadata": {
    "execution": {
     "iopub.status.busy": "2023-12-27T06:49:46.496646Z",
     "iopub.execute_input": "2023-12-27T06:49:46.497064Z",
     "iopub.status.idle": "2023-12-27T06:49:46.502436Z",
     "shell.execute_reply.started": "2023-12-27T06:49:46.49703Z",
     "shell.execute_reply": "2023-12-27T06:49:46.501501Z"
    },
    "trusted": true
   },
   "execution_count": null,
   "outputs": []
  },
  {
   "cell_type": "code",
   "source": [
    "for feature in garage_num_features:\n",
    "    df_train[feature] = df_train[feature].fillna(0)\n",
    "    df_test[feature] = df_test[feature].fillna(0)"
   ],
   "metadata": {
    "execution": {
     "iopub.status.busy": "2023-12-27T06:49:46.50335Z",
     "iopub.execute_input": "2023-12-27T06:49:46.503674Z",
     "iopub.status.idle": "2023-12-27T06:49:46.51767Z",
     "shell.execute_reply.started": "2023-12-27T06:49:46.503646Z",
     "shell.execute_reply": "2023-12-27T06:49:46.516259Z"
    },
    "trusted": true
   },
   "execution_count": null,
   "outputs": []
  },
  {
   "cell_type": "markdown",
   "source": [
    "### Признаки `Bsmt*` – признаки подвала"
   ],
   "metadata": {}
  },
  {
   "cell_type": "code",
   "source": [
    "missed_data = get_common_missed_data(df_train, df_test)\n",
    "missed_data"
   ],
   "metadata": {
    "execution": {
     "iopub.status.busy": "2023-12-27T06:49:46.518816Z",
     "iopub.execute_input": "2023-12-27T06:49:46.51916Z",
     "iopub.status.idle": "2023-12-27T06:49:46.568213Z",
     "shell.execute_reply.started": "2023-12-27T06:49:46.519129Z",
     "shell.execute_reply": "2023-12-27T06:49:46.567085Z"
    },
    "trusted": true
   },
   "execution_count": null,
   "outputs": []
  },
  {
   "cell_type": "markdown",
   "source": [
    "Какие признаки являются категориальными, а какие – числовыми? \n",
    "\n",
    "Как вы будете их заполнять?"
   ],
   "metadata": {}
  },
  {
   "cell_type": "code",
   "source": [
    "bsmt_cat_features = ['BsmtQual', 'BsmtCond', 'BsmtExposure', 'BsmtFinType1', 'BsmtFinType2']"
   ],
   "metadata": {
    "execution": {
     "iopub.status.busy": "2023-12-27T06:49:46.570272Z",
     "iopub.execute_input": "2023-12-27T06:49:46.57062Z",
     "iopub.status.idle": "2023-12-27T06:49:46.575857Z",
     "shell.execute_reply.started": "2023-12-27T06:49:46.570591Z",
     "shell.execute_reply": "2023-12-27T06:49:46.574551Z"
    },
    "trusted": true
   },
   "execution_count": null,
   "outputs": []
  },
  {
   "cell_type": "code",
   "source": [
    "for feature in bsmt_cat_features:\n",
    "    df_train[feature] = df_train[feature].fillna('None')\n",
    "    df_test[feature] = df_test[feature].fillna('None')"
   ],
   "metadata": {
    "execution": {
     "iopub.status.busy": "2023-12-27T06:49:46.577285Z",
     "iopub.execute_input": "2023-12-27T06:49:46.577686Z",
     "iopub.status.idle": "2023-12-27T06:49:46.596391Z",
     "shell.execute_reply.started": "2023-12-27T06:49:46.577652Z",
     "shell.execute_reply": "2023-12-27T06:49:46.595193Z"
    },
    "trusted": true
   },
   "execution_count": null,
   "outputs": []
  },
  {
   "cell_type": "code",
   "source": [
    "bsmt_num_features = ['BsmtFinSF1', 'BsmtFinSF2', 'BsmtUnfSF','TotalBsmtSF', 'BsmtFullBath', 'BsmtHalfBath']"
   ],
   "metadata": {
    "execution": {
     "iopub.status.busy": "2023-12-27T06:49:46.597958Z",
     "iopub.execute_input": "2023-12-27T06:49:46.598385Z",
     "iopub.status.idle": "2023-12-27T06:49:46.609484Z",
     "shell.execute_reply.started": "2023-12-27T06:49:46.598351Z",
     "shell.execute_reply": "2023-12-27T06:49:46.608051Z"
    },
    "trusted": true
   },
   "execution_count": null,
   "outputs": []
  },
  {
   "cell_type": "code",
   "source": [
    "for feature in bsmt_num_features:\n",
    "    df_train[feature] = df_train[feature].fillna(0)\n",
    "    df_test[feature] = df_test[feature].fillna(0)"
   ],
   "metadata": {
    "execution": {
     "iopub.status.busy": "2023-12-27T06:49:46.611178Z",
     "iopub.execute_input": "2023-12-27T06:49:46.61161Z",
     "iopub.status.idle": "2023-12-27T06:49:46.625392Z",
     "shell.execute_reply.started": "2023-12-27T06:49:46.611575Z",
     "shell.execute_reply": "2023-12-27T06:49:46.624152Z"
    },
    "trusted": true
   },
   "execution_count": null,
   "outputs": []
  },
  {
   "cell_type": "markdown",
   "source": [
    "### Дозаполним оставшиеся пропуски в трейне:"
   ],
   "metadata": {}
  },
  {
   "cell_type": "code",
   "source": [
    "missed_data = get_common_missed_data(df_train, df_test)\n",
    "missed_data"
   ],
   "metadata": {
    "execution": {
     "iopub.status.busy": "2023-12-27T06:49:46.627114Z",
     "iopub.execute_input": "2023-12-27T06:49:46.627466Z",
     "iopub.status.idle": "2023-12-27T06:49:46.67038Z",
     "shell.execute_reply.started": "2023-12-27T06:49:46.627434Z",
     "shell.execute_reply": "2023-12-27T06:49:46.669273Z"
    },
    "trusted": true
   },
   "execution_count": null,
   "outputs": []
  },
  {
   "cell_type": "markdown",
   "source": [
    "Все признаки категориальные, кроме `MasVnrArea`:"
   ],
   "metadata": {}
  },
  {
   "cell_type": "code",
   "source": [
    "df_train[missed_data['feature']]"
   ],
   "metadata": {
    "execution": {
     "iopub.status.busy": "2023-12-27T06:49:46.672118Z",
     "iopub.execute_input": "2023-12-27T06:49:46.672857Z",
     "iopub.status.idle": "2023-12-27T06:49:46.699837Z",
     "shell.execute_reply.started": "2023-12-27T06:49:46.672811Z",
     "shell.execute_reply": "2023-12-27T06:49:46.698459Z"
    },
    "trusted": true
   },
   "execution_count": null,
   "outputs": []
  },
  {
   "cell_type": "code",
   "source": [
    "df_train['MasVnrArea'] = df_train['MasVnrArea'].fillna(0)\n",
    "df_test['MasVnrArea'] = df_test['MasVnrArea'].fillna(0)"
   ],
   "metadata": {
    "execution": {
     "iopub.status.busy": "2023-12-27T06:49:46.701467Z",
     "iopub.execute_input": "2023-12-27T06:49:46.702195Z",
     "iopub.status.idle": "2023-12-27T06:49:46.711072Z",
     "shell.execute_reply.started": "2023-12-27T06:49:46.702155Z",
     "shell.execute_reply": "2023-12-27T06:49:46.709785Z"
    },
    "trusted": true
   },
   "execution_count": null,
   "outputs": []
  },
  {
   "cell_type": "markdown",
   "source": [
    "Давайте заполним признаки не просто `None`'ами, а модами – наиболее часто встречающимися значениями, так как у нас остались единичные пропуски:"
   ],
   "metadata": {}
  },
  {
   "cell_type": "code",
   "source": [
    "df_train['Electrical'].mode()[0]"
   ],
   "metadata": {
    "execution": {
     "iopub.status.busy": "2023-12-27T06:49:46.712816Z",
     "iopub.execute_input": "2023-12-27T06:49:46.713148Z",
     "iopub.status.idle": "2023-12-27T06:49:46.728004Z",
     "shell.execute_reply.started": "2023-12-27T06:49:46.713119Z",
     "shell.execute_reply": "2023-12-27T06:49:46.726864Z"
    },
    "trusted": true
   },
   "execution_count": null,
   "outputs": []
  },
  {
   "cell_type": "code",
   "source": [
    "df_train['Electrical'] = df_train['Electrical'].fillna(df_train['Electrical'].mode()[0])"
   ],
   "metadata": {
    "execution": {
     "iopub.status.busy": "2023-12-27T06:49:46.729467Z",
     "iopub.execute_input": "2023-12-27T06:49:46.73061Z",
     "iopub.status.idle": "2023-12-27T06:49:46.738077Z",
     "shell.execute_reply.started": "2023-12-27T06:49:46.730571Z",
     "shell.execute_reply": "2023-12-27T06:49:46.736803Z"
    },
    "trusted": true
   },
   "execution_count": null,
   "outputs": []
  },
  {
   "cell_type": "markdown",
   "source": [
    "### Дозаполним пропуски в тесте:\n",
    "\n",
    "Это критически важно сделать, потому что иначе дерево не сможет сделать предсказание:"
   ],
   "metadata": {}
  },
  {
   "cell_type": "code",
   "source": [
    "missed_data = get_common_missed_data(df_train, df_test)\n",
    "missed_data"
   ],
   "metadata": {
    "execution": {
     "iopub.status.busy": "2023-12-27T06:49:46.739825Z",
     "iopub.execute_input": "2023-12-27T06:49:46.740276Z",
     "iopub.status.idle": "2023-12-27T06:49:46.781877Z",
     "shell.execute_reply.started": "2023-12-27T06:49:46.740233Z",
     "shell.execute_reply": "2023-12-27T06:49:46.780737Z"
    },
    "trusted": true
   },
   "execution_count": null,
   "outputs": []
  },
  {
   "cell_type": "markdown",
   "source": [
    "Пропуски единичные, поэтому давайте заполним тоже наиболее часто встречающимися значениями:"
   ],
   "metadata": {}
  },
  {
   "cell_type": "code",
   "source": [
    "for feature in missed_data['feature']:\n",
    "    print(feature, df_test[feature].mode()[0])\n",
    "    df_test[feature] = df_test[feature].fillna(df_test[feature].mode()[0])"
   ],
   "metadata": {
    "execution": {
     "iopub.status.busy": "2023-12-27T06:49:46.783577Z",
     "iopub.execute_input": "2023-12-27T06:49:46.784053Z",
     "iopub.status.idle": "2023-12-27T06:49:46.804991Z",
     "shell.execute_reply.started": "2023-12-27T06:49:46.783999Z",
     "shell.execute_reply": "2023-12-27T06:49:46.803649Z"
    },
    "trusted": true
   },
   "execution_count": null,
   "outputs": []
  },
  {
   "cell_type": "code",
   "source": [
    "missed_data = get_common_missed_data(df_train, df_test)\n",
    "missed_data"
   ],
   "metadata": {
    "execution": {
     "iopub.status.busy": "2023-12-27T06:49:46.807245Z",
     "iopub.execute_input": "2023-12-27T06:49:46.807726Z",
     "iopub.status.idle": "2023-12-27T06:49:46.848836Z",
     "shell.execute_reply.started": "2023-12-27T06:49:46.807681Z",
     "shell.execute_reply": "2023-12-27T06:49:46.84755Z"
    },
    "trusted": true
   },
   "execution_count": null,
   "outputs": []
  },
  {
   "cell_type": "markdown",
   "source": [
    "## Работа с категориальными признаками"
   ],
   "metadata": {}
  },
  {
   "cell_type": "markdown",
   "source": [
    "### Перевод числовых признаков в категориальные"
   ],
   "metadata": {}
  },
  {
   "cell_type": "code",
   "source": [
    "num_to_cat_features = ['MSSubClass', 'OverallQual', 'OverallCond']"
   ],
   "metadata": {
    "execution": {
     "iopub.status.busy": "2023-12-27T06:49:46.850747Z",
     "iopub.execute_input": "2023-12-27T06:49:46.851975Z",
     "iopub.status.idle": "2023-12-27T06:49:46.857527Z",
     "shell.execute_reply.started": "2023-12-27T06:49:46.851928Z",
     "shell.execute_reply": "2023-12-27T06:49:46.856141Z"
    },
    "trusted": true
   },
   "execution_count": null,
   "outputs": []
  },
  {
   "cell_type": "code",
   "source": [
    "for feature in num_to_cat_features:\n",
    "    df_train[feature] = df_train[feature].astype(str)\n",
    "    df_test[feature] = df_test[feature].astype(str)"
   ],
   "metadata": {
    "execution": {
     "iopub.status.busy": "2023-12-27T06:49:46.859196Z",
     "iopub.execute_input": "2023-12-27T06:49:46.859621Z",
     "iopub.status.idle": "2023-12-27T06:49:46.879751Z",
     "shell.execute_reply.started": "2023-12-27T06:49:46.859553Z",
     "shell.execute_reply": "2023-12-27T06:49:46.878604Z"
    },
    "trusted": true
   },
   "execution_count": null,
   "outputs": []
  },
  {
   "cell_type": "markdown",
   "source": [
    "### Feature engineering (добавление новых признаков в данные)"
   ],
   "metadata": {}
  },
  {
   "cell_type": "markdown",
   "source": [
    "Добавьте новые признаки в модель, которые смогут улучшить точность предсказания:"
   ],
   "metadata": {}
  },
  {
   "cell_type": "code",
   "source": [
    "df_train.columns"
   ],
   "metadata": {
    "execution": {
     "iopub.status.busy": "2023-12-27T06:49:46.881399Z",
     "iopub.execute_input": "2023-12-27T06:49:46.882332Z",
     "iopub.status.idle": "2023-12-27T06:49:46.889532Z",
     "shell.execute_reply.started": "2023-12-27T06:49:46.882292Z",
     "shell.execute_reply": "2023-12-27T06:49:46.888255Z"
    },
    "trusted": true
   },
   "execution_count": null,
   "outputs": []
  },
  {
   "cell_type": "code",
   "source": [
    "def create_features(df):\n",
    "    \n",
    "    ## YOUR CODE HERE\n",
    "    \n",
    "    \n",
    "    return df\n",
    "\n",
    "\n",
    "# На первом запуске считаем метрики без дополнительных фичей\n",
    "df_train = create_features(df_train)"
   ],
   "metadata": {
    "execution": {
     "iopub.status.busy": "2023-12-27T07:04:26.004834Z",
     "iopub.execute_input": "2023-12-27T07:04:26.005263Z",
     "iopub.status.idle": "2023-12-27T07:04:26.027453Z",
     "shell.execute_reply.started": "2023-12-27T07:04:26.005229Z",
     "shell.execute_reply": "2023-12-27T07:04:26.025441Z"
    },
    "trusted": true
   },
   "execution_count": null,
   "outputs": []
  },
  {
   "cell_type": "markdown",
   "source": [
    "### Кодирование категориальных признаков"
   ],
   "metadata": {}
  },
  {
   "cell_type": "code",
   "source": [
    "TARGET = 'SalePrice'\n",
    "COLUMNS_TO_DROP = ['Id', 'SalePrice']\n",
    "\n",
    "def preprocess_data(data, columns_to_drop, target):\n",
    "    X = data.drop(columns=columns_to_drop)\n",
    "    y = data[target]\n",
    "    return X, y\n",
    "\n",
    "X_train, y_train = preprocess_data(df_train, COLUMNS_TO_DROP, TARGET)\n",
    "ohe = OneHotEncoder(handle_unknown='ignore')\n",
    "X_train = ohe.fit_transform(X_train)"
   ],
   "metadata": {
    "execution": {
     "iopub.status.busy": "2023-12-27T06:50:50.890492Z",
     "iopub.execute_input": "2023-12-27T06:50:50.890942Z",
     "iopub.status.idle": "2023-12-27T06:50:50.967577Z",
     "shell.execute_reply.started": "2023-12-27T06:50:50.890907Z",
     "shell.execute_reply": "2023-12-27T06:50:50.966311Z"
    },
    "trusted": true
   },
   "execution_count": null,
   "outputs": []
  },
  {
   "cell_type": "code",
   "source": [
    "X_train.shape"
   ],
   "metadata": {
    "execution": {
     "iopub.status.busy": "2023-12-27T06:50:53.257698Z",
     "iopub.execute_input": "2023-12-27T06:50:53.258118Z",
     "iopub.status.idle": "2023-12-27T06:50:53.266626Z",
     "shell.execute_reply.started": "2023-12-27T06:50:53.258081Z",
     "shell.execute_reply": "2023-12-27T06:50:53.265134Z"
    },
    "trusted": true
   },
   "execution_count": null,
   "outputs": []
  },
  {
   "cell_type": "markdown",
   "source": [
    "## Обучение модели и оценка метрик"
   ],
   "metadata": {}
  },
  {
   "cell_type": "markdown",
   "source": [
    "### Подберите оптимальную глубину дерева и оцените метрики на кросс-валидации:"
   ],
   "metadata": {}
  },
  {
   "cell_type": "markdown",
   "source": [
    "Подберите наилучшую глубину дерева на кросс-валидации:"
   ],
   "metadata": {}
  },
  {
   "cell_type": "code",
   "source": [
    "def log_rmse(y_true, y_pred, **kwargs):\n",
    "    return mean_squared_error(np.log(y_true), np.log(y_pred), squared=False)"
   ],
   "metadata": {
    "execution": {
     "iopub.status.busy": "2023-12-27T06:50:58.412802Z",
     "iopub.execute_input": "2023-12-27T06:50:58.413192Z",
     "iopub.status.idle": "2023-12-27T06:50:58.41931Z",
     "shell.execute_reply.started": "2023-12-27T06:50:58.413158Z",
     "shell.execute_reply": "2023-12-27T06:50:58.41807Z"
    },
    "trusted": true
   },
   "execution_count": null,
   "outputs": []
  },
  {
   "cell_type": "code",
   "source": [
    "log_rmse_scorer = make_scorer(log_rmse, greater_is_better=False)"
   ],
   "metadata": {
    "execution": {
     "iopub.status.busy": "2023-12-27T06:50:58.940557Z",
     "iopub.execute_input": "2023-12-27T06:50:58.941736Z",
     "iopub.status.idle": "2023-12-27T06:50:58.946832Z",
     "shell.execute_reply.started": "2023-12-27T06:50:58.941694Z",
     "shell.execute_reply": "2023-12-27T06:50:58.945703Z"
    },
    "trusted": true
   },
   "execution_count": null,
   "outputs": []
  },
  {
   "cell_type": "markdown",
   "source": [
    "### Сделайте подбор гиперпараметров с помощью `GridSearchCV`"
   ],
   "metadata": {}
  },
  {
   "cell_type": "markdown",
   "source": [
    "#### Решающее дерево"
   ],
   "metadata": {}
  },
  {
   "cell_type": "code",
   "source": [
    "param_grid = [{'criterion': ['squared_error', 'friedman_mse'], 'max_depth': range(1, 20, 1)},\n",
    "              {'criterion': ['squared_error', 'friedman_mse'], 'min_samples_leaf': range(1, 5, 1)}]\n",
    "\n",
    "dt_reg = GridSearchCV(DecisionTreeRegressor(random_state=42), param_grid=param_grid, scoring=log_rmse_scorer)\n",
    "dt_reg.fit(X_train, y_train)\n",
    "print(dt_reg.best_params_)\n",
    "print(dt_reg.best_score_)"
   ],
   "metadata": {
    "execution": {
     "iopub.status.busy": "2023-12-27T06:51:00.830882Z",
     "iopub.execute_input": "2023-12-27T06:51:00.831702Z",
     "iopub.status.idle": "2023-12-27T06:51:00.83615Z",
     "shell.execute_reply.started": "2023-12-27T06:51:00.831663Z",
     "shell.execute_reply": "2023-12-27T06:51:00.835023Z"
    },
    "trusted": true
   },
   "execution_count": null,
   "outputs": []
  },
  {
   "cell_type": "markdown",
   "source": [
    "## Сделайте предсказание на тестовом датасете"
   ],
   "metadata": {}
  },
  {
   "cell_type": "code",
   "source": [
    "df_test = create_features(df_test)"
   ],
   "metadata": {
    "execution": {
     "iopub.status.busy": "2023-12-27T07:04:34.158Z",
     "iopub.execute_input": "2023-12-27T07:04:34.158435Z",
     "iopub.status.idle": "2023-12-27T07:04:34.178045Z",
     "shell.execute_reply.started": "2023-12-27T07:04:34.158401Z",
     "shell.execute_reply": "2023-12-27T07:04:34.177099Z"
    },
    "trusted": true
   },
   "execution_count": null,
   "outputs": []
  },
  {
   "cell_type": "code",
   "source": [
    "X_test = df_test.drop(columns=COLUMNS_TO_DROP, errors='ignore')\n",
    "X_test = ohe.transform(X_test)"
   ],
   "metadata": {
    "execution": {
     "iopub.status.busy": "2023-12-27T07:04:38.799951Z",
     "iopub.execute_input": "2023-12-27T07:04:38.800376Z",
     "iopub.status.idle": "2023-12-27T07:04:38.866229Z",
     "shell.execute_reply.started": "2023-12-27T07:04:38.800339Z",
     "shell.execute_reply": "2023-12-27T07:04:38.864831Z"
    },
    "trusted": true
   },
   "execution_count": null,
   "outputs": []
  },
  {
   "cell_type": "markdown",
   "source": [
    "Объект класса `GridSearchCV` делает предсказание алгоритмом с тем набором гиперпараметров, который лучше всего показал себя на кросс-валидации\n",
    "\n",
    "Лучше себя на кросс-валидации показала линейная модель, убедитесь в том, что они будут себя также вести и на тестовой выборке, закоммитив 2 решения – с помощью дерева и с помощью линейной модели:"
   ],
   "metadata": {}
  },
  {
   "cell_type": "code",
   "source": [
    "y_test_pred = dt_reg.predict(X_test)"
   ],
   "metadata": {
    "execution": {
     "iopub.status.busy": "2023-12-27T07:04:40.54316Z",
     "iopub.execute_input": "2023-12-27T07:04:40.543645Z",
     "iopub.status.idle": "2023-12-27T07:04:40.585407Z",
     "shell.execute_reply.started": "2023-12-27T07:04:40.543604Z",
     "shell.execute_reply": "2023-12-27T07:04:40.584033Z"
    },
    "trusted": true
   },
   "execution_count": null,
   "outputs": []
  },
  {
   "cell_type": "code",
   "source": [
    "y_test_pred "
   ],
   "metadata": {
    "execution": {
     "iopub.status.busy": "2023-12-27T07:04:42.542234Z",
     "iopub.execute_input": "2023-12-27T07:04:42.542797Z",
     "iopub.status.idle": "2023-12-27T07:04:42.551412Z",
     "shell.execute_reply.started": "2023-12-27T07:04:42.54274Z",
     "shell.execute_reply": "2023-12-27T07:04:42.550066Z"
    },
    "trusted": true
   },
   "execution_count": null,
   "outputs": []
  },
  {
   "cell_type": "markdown",
   "source": [
    "## Закоммитьте решение в соревнование"
   ],
   "metadata": {}
  },
  {
   "cell_type": "code",
   "source": [
    "output = pd.DataFrame({'Id': df_test['Id'], 'SalePrice': y_test_pred})\n",
    "output.to_csv('my_submission.csv', index=False)\n",
    "print(\"Your submission was successfully saved!\")"
   ],
   "metadata": {
    "execution": {
     "iopub.status.busy": "2023-12-27T07:04:49.667345Z",
     "iopub.execute_input": "2023-12-27T07:04:49.667773Z",
     "iopub.status.idle": "2023-12-27T07:04:49.686127Z",
     "shell.execute_reply.started": "2023-12-27T07:04:49.66774Z",
     "shell.execute_reply": "2023-12-27T07:04:49.684906Z"
    },
    "trusted": true
   },
   "execution_count": null,
   "outputs": []
  },
  {
   "cell_type": "code",
   "source": [],
   "metadata": {},
   "execution_count": null,
   "outputs": []
  }
 ]
}

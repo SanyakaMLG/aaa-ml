{
 "cells": [
  {
   "cell_type": "code",
   "execution_count": 1,
   "id": "c441a383",
   "metadata": {
    "_cell_guid": "b1076dfc-b9ad-4769-8c92-a6c4dae69d19",
    "_uuid": "8f2839f25d086af736a60e9eeb907d3b93b6e0e5",
    "execution": {
     "iopub.execute_input": "2023-12-18T17:07:43.670214Z",
     "iopub.status.busy": "2023-12-18T17:07:43.669465Z",
     "iopub.status.idle": "2023-12-18T17:07:45.635933Z",
     "shell.execute_reply": "2023-12-18T17:07:45.634078Z"
    },
    "papermill": {
     "duration": 1.975968,
     "end_time": "2023-12-18T17:07:45.638661",
     "exception": false,
     "start_time": "2023-12-18T17:07:43.662693",
     "status": "completed"
    },
    "tags": []
   },
   "outputs": [
    {
     "name": "stdout",
     "output_type": "stream",
     "text": [
      "/kaggle/input/house-prices-advanced-regression-techniques/sample_submission.csv\n",
      "/kaggle/input/house-prices-advanced-regression-techniques/data_description.txt\n",
      "/kaggle/input/house-prices-advanced-regression-techniques/train.csv\n",
      "/kaggle/input/house-prices-advanced-regression-techniques/test.csv\n"
     ]
    }
   ],
   "source": [
    "# This Python 3 environment comes with many helpful analytics libraries installed\n",
    "# It is defined by the kaggle/python Docker image: https://github.com/kaggle/docker-python\n",
    "# For example, here's several helpful packages to load\n",
    "\n",
    "import numpy as np # linear algebra\n",
    "import pandas as pd # data processing, CSV file I/O (e.g. pd.read_csv)\n",
    "\n",
    "import matplotlib.pyplot as plt\n",
    "\n",
    "import seaborn as sns \n",
    "from sklearn.linear_model import LinearRegression\n",
    "from sklearn.model_selection import train_test_split\n",
    "from sklearn.tree import DecisionTreeRegressor\n",
    "from sklearn.tree import plot_tree\n",
    "from sklearn.preprocessing import OneHotEncoder\n",
    "from sklearn.metrics import mean_squared_error\n",
    "from sklearn.metrics import make_scorer\n",
    "from sklearn.model_selection import cross_val_score\n",
    "\n",
    "\n",
    "plt.rcParams[\"figure.figsize\"] = (20, 10)\n",
    "\n",
    "%matplotlib inline\n",
    "\n",
    "# Input data files are available in the read-only \"../input/\" directory\n",
    "# For example, running this (by clicking run or pressing Shift+Enter) will list all files under the input directory\n",
    "\n",
    "import os\n",
    "for dirname, _, filenames in os.walk('/kaggle/input'):\n",
    "    for filename in filenames:\n",
    "        print(os.path.join(dirname, filename))\n",
    "\n",
    "# You can write up to 20GB to the current directory (/kaggle/working/) that gets preserved as output when you create a version using \"Save & Run All\" \n",
    "# You can also write temporary files to /kaggle/temp/, but they won't be saved outside of the current session"
   ]
  },
  {
   "cell_type": "markdown",
   "id": "d1e1a824",
   "metadata": {
    "execution": {
     "iopub.execute_input": "2023-12-18T13:06:14.385117Z",
     "iopub.status.busy": "2023-12-18T13:06:14.384711Z",
     "iopub.status.idle": "2023-12-18T13:06:14.390303Z",
     "shell.execute_reply": "2023-12-18T13:06:14.388947Z",
     "shell.execute_reply.started": "2023-12-18T13:06:14.385086Z"
    },
    "papermill": {
     "duration": 0.004465,
     "end_time": "2023-12-18T17:07:45.648095",
     "exception": false,
     "start_time": "2023-12-18T17:07:45.643630",
     "status": "completed"
    },
    "tags": []
   },
   "source": [
    "# Загрузка данных"
   ]
  },
  {
   "cell_type": "code",
   "execution_count": 2,
   "id": "a7b84612",
   "metadata": {
    "execution": {
     "iopub.execute_input": "2023-12-18T17:07:45.659172Z",
     "iopub.status.busy": "2023-12-18T17:07:45.658680Z",
     "iopub.status.idle": "2023-12-18T17:07:45.735605Z",
     "shell.execute_reply": "2023-12-18T17:07:45.734421Z"
    },
    "papermill": {
     "duration": 0.084963,
     "end_time": "2023-12-18T17:07:45.737613",
     "exception": false,
     "start_time": "2023-12-18T17:07:45.652650",
     "status": "completed"
    },
    "tags": []
   },
   "outputs": [],
   "source": [
    "df_train = pd.read_csv('../input/house-prices-advanced-regression-techniques/train.csv')\n",
    "df_test = pd.read_csv('../input/house-prices-advanced-regression-techniques/test.csv')"
   ]
  },
  {
   "cell_type": "code",
   "execution_count": 3,
   "id": "7cbbd944",
   "metadata": {
    "execution": {
     "iopub.execute_input": "2023-12-18T17:07:45.748572Z",
     "iopub.status.busy": "2023-12-18T17:07:45.747864Z",
     "iopub.status.idle": "2023-12-18T17:07:45.756183Z",
     "shell.execute_reply": "2023-12-18T17:07:45.755347Z"
    },
    "papermill": {
     "duration": 0.015351,
     "end_time": "2023-12-18T17:07:45.757870",
     "exception": false,
     "start_time": "2023-12-18T17:07:45.742519",
     "status": "completed"
    },
    "tags": []
   },
   "outputs": [
    {
     "data": {
      "text/plain": [
       "(1460, 81)"
      ]
     },
     "execution_count": 3,
     "metadata": {},
     "output_type": "execute_result"
    }
   ],
   "source": [
    "df_train.shape"
   ]
  },
  {
   "cell_type": "code",
   "execution_count": 4,
   "id": "a5dc09fe",
   "metadata": {
    "execution": {
     "iopub.execute_input": "2023-12-18T17:07:45.768265Z",
     "iopub.status.busy": "2023-12-18T17:07:45.767969Z",
     "iopub.status.idle": "2023-12-18T17:07:45.772871Z",
     "shell.execute_reply": "2023-12-18T17:07:45.772107Z"
    },
    "papermill": {
     "duration": 0.012083,
     "end_time": "2023-12-18T17:07:45.774573",
     "exception": false,
     "start_time": "2023-12-18T17:07:45.762490",
     "status": "completed"
    },
    "tags": []
   },
   "outputs": [
    {
     "data": {
      "text/plain": [
       "(1459, 80)"
      ]
     },
     "execution_count": 4,
     "metadata": {},
     "output_type": "execute_result"
    }
   ],
   "source": [
    "df_test.shape"
   ]
  },
  {
   "cell_type": "markdown",
   "id": "a64a3931",
   "metadata": {
    "papermill": {
     "duration": 0.004475,
     "end_time": "2023-12-18T17:07:45.784007",
     "exception": false,
     "start_time": "2023-12-18T17:07:45.779532",
     "status": "completed"
    },
    "tags": []
   },
   "source": [
    "# Бейзлайн\n",
    "## Обучение модели"
   ]
  },
  {
   "cell_type": "markdown",
   "id": "984d8c6e",
   "metadata": {
    "papermill": {
     "duration": 0.004537,
     "end_time": "2023-12-18T17:07:45.793258",
     "exception": false,
     "start_time": "2023-12-18T17:07:45.788721",
     "status": "completed"
    },
    "tags": []
   },
   "source": [
    "Обучите неглубокое решающее дерево на обучающей выборке\n",
    "\n",
    "Какие минимальные действия вы должны сделать, чтобы алгоритм завелся?"
   ]
  },
  {
   "cell_type": "code",
   "execution_count": 5,
   "id": "14e270c9",
   "metadata": {
    "execution": {
     "iopub.execute_input": "2023-12-18T17:07:45.804571Z",
     "iopub.status.busy": "2023-12-18T17:07:45.804207Z",
     "iopub.status.idle": "2023-12-18T17:07:45.836248Z",
     "shell.execute_reply": "2023-12-18T17:07:45.835298Z"
    },
    "papermill": {
     "duration": 0.039894,
     "end_time": "2023-12-18T17:07:45.837941",
     "exception": false,
     "start_time": "2023-12-18T17:07:45.798047",
     "status": "completed"
    },
    "tags": []
   },
   "outputs": [
    {
     "data": {
      "text/html": [
       "<div>\n",
       "<style scoped>\n",
       "    .dataframe tbody tr th:only-of-type {\n",
       "        vertical-align: middle;\n",
       "    }\n",
       "\n",
       "    .dataframe tbody tr th {\n",
       "        vertical-align: top;\n",
       "    }\n",
       "\n",
       "    .dataframe thead th {\n",
       "        text-align: right;\n",
       "    }\n",
       "</style>\n",
       "<table border=\"1\" class=\"dataframe\">\n",
       "  <thead>\n",
       "    <tr style=\"text-align: right;\">\n",
       "      <th></th>\n",
       "      <th>Id</th>\n",
       "      <th>MSSubClass</th>\n",
       "      <th>MSZoning</th>\n",
       "      <th>LotFrontage</th>\n",
       "      <th>LotArea</th>\n",
       "      <th>Street</th>\n",
       "      <th>Alley</th>\n",
       "      <th>LotShape</th>\n",
       "      <th>LandContour</th>\n",
       "      <th>Utilities</th>\n",
       "      <th>...</th>\n",
       "      <th>PoolArea</th>\n",
       "      <th>PoolQC</th>\n",
       "      <th>Fence</th>\n",
       "      <th>MiscFeature</th>\n",
       "      <th>MiscVal</th>\n",
       "      <th>MoSold</th>\n",
       "      <th>YrSold</th>\n",
       "      <th>SaleType</th>\n",
       "      <th>SaleCondition</th>\n",
       "      <th>SalePrice</th>\n",
       "    </tr>\n",
       "  </thead>\n",
       "  <tbody>\n",
       "    <tr>\n",
       "      <th>0</th>\n",
       "      <td>1</td>\n",
       "      <td>60</td>\n",
       "      <td>RL</td>\n",
       "      <td>65.0</td>\n",
       "      <td>8450</td>\n",
       "      <td>Pave</td>\n",
       "      <td>NaN</td>\n",
       "      <td>Reg</td>\n",
       "      <td>Lvl</td>\n",
       "      <td>AllPub</td>\n",
       "      <td>...</td>\n",
       "      <td>0</td>\n",
       "      <td>NaN</td>\n",
       "      <td>NaN</td>\n",
       "      <td>NaN</td>\n",
       "      <td>0</td>\n",
       "      <td>2</td>\n",
       "      <td>2008</td>\n",
       "      <td>WD</td>\n",
       "      <td>Normal</td>\n",
       "      <td>208500</td>\n",
       "    </tr>\n",
       "    <tr>\n",
       "      <th>1</th>\n",
       "      <td>2</td>\n",
       "      <td>20</td>\n",
       "      <td>RL</td>\n",
       "      <td>80.0</td>\n",
       "      <td>9600</td>\n",
       "      <td>Pave</td>\n",
       "      <td>NaN</td>\n",
       "      <td>Reg</td>\n",
       "      <td>Lvl</td>\n",
       "      <td>AllPub</td>\n",
       "      <td>...</td>\n",
       "      <td>0</td>\n",
       "      <td>NaN</td>\n",
       "      <td>NaN</td>\n",
       "      <td>NaN</td>\n",
       "      <td>0</td>\n",
       "      <td>5</td>\n",
       "      <td>2007</td>\n",
       "      <td>WD</td>\n",
       "      <td>Normal</td>\n",
       "      <td>181500</td>\n",
       "    </tr>\n",
       "    <tr>\n",
       "      <th>2</th>\n",
       "      <td>3</td>\n",
       "      <td>60</td>\n",
       "      <td>RL</td>\n",
       "      <td>68.0</td>\n",
       "      <td>11250</td>\n",
       "      <td>Pave</td>\n",
       "      <td>NaN</td>\n",
       "      <td>IR1</td>\n",
       "      <td>Lvl</td>\n",
       "      <td>AllPub</td>\n",
       "      <td>...</td>\n",
       "      <td>0</td>\n",
       "      <td>NaN</td>\n",
       "      <td>NaN</td>\n",
       "      <td>NaN</td>\n",
       "      <td>0</td>\n",
       "      <td>9</td>\n",
       "      <td>2008</td>\n",
       "      <td>WD</td>\n",
       "      <td>Normal</td>\n",
       "      <td>223500</td>\n",
       "    </tr>\n",
       "    <tr>\n",
       "      <th>3</th>\n",
       "      <td>4</td>\n",
       "      <td>70</td>\n",
       "      <td>RL</td>\n",
       "      <td>60.0</td>\n",
       "      <td>9550</td>\n",
       "      <td>Pave</td>\n",
       "      <td>NaN</td>\n",
       "      <td>IR1</td>\n",
       "      <td>Lvl</td>\n",
       "      <td>AllPub</td>\n",
       "      <td>...</td>\n",
       "      <td>0</td>\n",
       "      <td>NaN</td>\n",
       "      <td>NaN</td>\n",
       "      <td>NaN</td>\n",
       "      <td>0</td>\n",
       "      <td>2</td>\n",
       "      <td>2006</td>\n",
       "      <td>WD</td>\n",
       "      <td>Abnorml</td>\n",
       "      <td>140000</td>\n",
       "    </tr>\n",
       "    <tr>\n",
       "      <th>4</th>\n",
       "      <td>5</td>\n",
       "      <td>60</td>\n",
       "      <td>RL</td>\n",
       "      <td>84.0</td>\n",
       "      <td>14260</td>\n",
       "      <td>Pave</td>\n",
       "      <td>NaN</td>\n",
       "      <td>IR1</td>\n",
       "      <td>Lvl</td>\n",
       "      <td>AllPub</td>\n",
       "      <td>...</td>\n",
       "      <td>0</td>\n",
       "      <td>NaN</td>\n",
       "      <td>NaN</td>\n",
       "      <td>NaN</td>\n",
       "      <td>0</td>\n",
       "      <td>12</td>\n",
       "      <td>2008</td>\n",
       "      <td>WD</td>\n",
       "      <td>Normal</td>\n",
       "      <td>250000</td>\n",
       "    </tr>\n",
       "  </tbody>\n",
       "</table>\n",
       "<p>5 rows × 81 columns</p>\n",
       "</div>"
      ],
      "text/plain": [
       "   Id  MSSubClass MSZoning  LotFrontage  LotArea Street Alley LotShape  \\\n",
       "0   1          60       RL         65.0     8450   Pave   NaN      Reg   \n",
       "1   2          20       RL         80.0     9600   Pave   NaN      Reg   \n",
       "2   3          60       RL         68.0    11250   Pave   NaN      IR1   \n",
       "3   4          70       RL         60.0     9550   Pave   NaN      IR1   \n",
       "4   5          60       RL         84.0    14260   Pave   NaN      IR1   \n",
       "\n",
       "  LandContour Utilities  ... PoolArea PoolQC Fence MiscFeature MiscVal MoSold  \\\n",
       "0         Lvl    AllPub  ...        0    NaN   NaN         NaN       0      2   \n",
       "1         Lvl    AllPub  ...        0    NaN   NaN         NaN       0      5   \n",
       "2         Lvl    AllPub  ...        0    NaN   NaN         NaN       0      9   \n",
       "3         Lvl    AllPub  ...        0    NaN   NaN         NaN       0      2   \n",
       "4         Lvl    AllPub  ...        0    NaN   NaN         NaN       0     12   \n",
       "\n",
       "  YrSold  SaleType  SaleCondition  SalePrice  \n",
       "0   2008        WD         Normal     208500  \n",
       "1   2007        WD         Normal     181500  \n",
       "2   2008        WD         Normal     223500  \n",
       "3   2006        WD        Abnorml     140000  \n",
       "4   2008        WD         Normal     250000  \n",
       "\n",
       "[5 rows x 81 columns]"
      ]
     },
     "execution_count": 5,
     "metadata": {},
     "output_type": "execute_result"
    }
   ],
   "source": [
    "df_train.head()"
   ]
  },
  {
   "cell_type": "code",
   "execution_count": 6,
   "id": "fbf8f6ad",
   "metadata": {
    "execution": {
     "iopub.execute_input": "2023-12-18T17:07:45.850296Z",
     "iopub.status.busy": "2023-12-18T17:07:45.849451Z",
     "iopub.status.idle": "2023-12-18T17:07:45.853585Z",
     "shell.execute_reply": "2023-12-18T17:07:45.852927Z"
    },
    "papermill": {
     "duration": 0.012038,
     "end_time": "2023-12-18T17:07:45.855269",
     "exception": false,
     "start_time": "2023-12-18T17:07:45.843231",
     "status": "completed"
    },
    "tags": []
   },
   "outputs": [],
   "source": [
    "tree = DecisionTreeRegressor()"
   ]
  },
  {
   "cell_type": "code",
   "execution_count": 7,
   "id": "3dafddd2",
   "metadata": {
    "execution": {
     "iopub.execute_input": "2023-12-18T17:07:45.867621Z",
     "iopub.status.busy": "2023-12-18T17:07:45.867055Z",
     "iopub.status.idle": "2023-12-18T17:07:45.874959Z",
     "shell.execute_reply": "2023-12-18T17:07:45.874293Z"
    },
    "papermill": {
     "duration": 0.016735,
     "end_time": "2023-12-18T17:07:45.877439",
     "exception": false,
     "start_time": "2023-12-18T17:07:45.860704",
     "status": "completed"
    },
    "tags": []
   },
   "outputs": [],
   "source": [
    "X_train, y_train = df_train.drop(columns=['Id', 'SalePrice']), df_train['SalePrice']"
   ]
  },
  {
   "cell_type": "code",
   "execution_count": 8,
   "id": "9a54efbc",
   "metadata": {
    "execution": {
     "iopub.execute_input": "2023-12-18T17:07:45.889353Z",
     "iopub.status.busy": "2023-12-18T17:07:45.888993Z",
     "iopub.status.idle": "2023-12-18T17:07:45.893253Z",
     "shell.execute_reply": "2023-12-18T17:07:45.892535Z"
    },
    "papermill": {
     "duration": 0.012493,
     "end_time": "2023-12-18T17:07:45.895294",
     "exception": false,
     "start_time": "2023-12-18T17:07:45.882801",
     "status": "completed"
    },
    "tags": []
   },
   "outputs": [],
   "source": [
    "ohe = OneHotEncoder(handle_unknown='ignore')"
   ]
  },
  {
   "cell_type": "code",
   "execution_count": 9,
   "id": "a249453f",
   "metadata": {
    "execution": {
     "iopub.execute_input": "2023-12-18T17:07:45.909061Z",
     "iopub.status.busy": "2023-12-18T17:07:45.908113Z",
     "iopub.status.idle": "2023-12-18T17:07:45.957634Z",
     "shell.execute_reply": "2023-12-18T17:07:45.956920Z"
    },
    "papermill": {
     "duration": 0.058571,
     "end_time": "2023-12-18T17:07:45.959533",
     "exception": false,
     "start_time": "2023-12-18T17:07:45.900962",
     "status": "completed"
    },
    "tags": []
   },
   "outputs": [],
   "source": [
    "X_train_ohe = ohe.fit_transform(X_train)"
   ]
  },
  {
   "cell_type": "code",
   "execution_count": 10,
   "id": "e9a04ed3",
   "metadata": {
    "execution": {
     "iopub.execute_input": "2023-12-18T17:07:45.971401Z",
     "iopub.status.busy": "2023-12-18T17:07:45.970685Z",
     "iopub.status.idle": "2023-12-18T17:07:45.976874Z",
     "shell.execute_reply": "2023-12-18T17:07:45.975717Z"
    },
    "papermill": {
     "duration": 0.014349,
     "end_time": "2023-12-18T17:07:45.979127",
     "exception": false,
     "start_time": "2023-12-18T17:07:45.964778",
     "status": "completed"
    },
    "tags": []
   },
   "outputs": [
    {
     "data": {
      "text/plain": [
       "<1460x7647 sparse matrix of type '<class 'numpy.float64'>'\n",
       "\twith 115340 stored elements in Compressed Sparse Row format>"
      ]
     },
     "execution_count": 10,
     "metadata": {},
     "output_type": "execute_result"
    }
   ],
   "source": [
    "X_train_ohe"
   ]
  },
  {
   "cell_type": "code",
   "execution_count": 11,
   "id": "ee5aae39",
   "metadata": {
    "execution": {
     "iopub.execute_input": "2023-12-18T17:07:45.991756Z",
     "iopub.status.busy": "2023-12-18T17:07:45.990865Z",
     "iopub.status.idle": "2023-12-18T17:07:46.342684Z",
     "shell.execute_reply": "2023-12-18T17:07:46.341473Z"
    },
    "papermill": {
     "duration": 0.36003,
     "end_time": "2023-12-18T17:07:46.344804",
     "exception": false,
     "start_time": "2023-12-18T17:07:45.984774",
     "status": "completed"
    },
    "tags": []
   },
   "outputs": [
    {
     "data": {
      "text/html": [
       "<style>#sk-container-id-1 {color: black;background-color: white;}#sk-container-id-1 pre{padding: 0;}#sk-container-id-1 div.sk-toggleable {background-color: white;}#sk-container-id-1 label.sk-toggleable__label {cursor: pointer;display: block;width: 100%;margin-bottom: 0;padding: 0.3em;box-sizing: border-box;text-align: center;}#sk-container-id-1 label.sk-toggleable__label-arrow:before {content: \"▸\";float: left;margin-right: 0.25em;color: #696969;}#sk-container-id-1 label.sk-toggleable__label-arrow:hover:before {color: black;}#sk-container-id-1 div.sk-estimator:hover label.sk-toggleable__label-arrow:before {color: black;}#sk-container-id-1 div.sk-toggleable__content {max-height: 0;max-width: 0;overflow: hidden;text-align: left;background-color: #f0f8ff;}#sk-container-id-1 div.sk-toggleable__content pre {margin: 0.2em;color: black;border-radius: 0.25em;background-color: #f0f8ff;}#sk-container-id-1 input.sk-toggleable__control:checked~div.sk-toggleable__content {max-height: 200px;max-width: 100%;overflow: auto;}#sk-container-id-1 input.sk-toggleable__control:checked~label.sk-toggleable__label-arrow:before {content: \"▾\";}#sk-container-id-1 div.sk-estimator input.sk-toggleable__control:checked~label.sk-toggleable__label {background-color: #d4ebff;}#sk-container-id-1 div.sk-label input.sk-toggleable__control:checked~label.sk-toggleable__label {background-color: #d4ebff;}#sk-container-id-1 input.sk-hidden--visually {border: 0;clip: rect(1px 1px 1px 1px);clip: rect(1px, 1px, 1px, 1px);height: 1px;margin: -1px;overflow: hidden;padding: 0;position: absolute;width: 1px;}#sk-container-id-1 div.sk-estimator {font-family: monospace;background-color: #f0f8ff;border: 1px dotted black;border-radius: 0.25em;box-sizing: border-box;margin-bottom: 0.5em;}#sk-container-id-1 div.sk-estimator:hover {background-color: #d4ebff;}#sk-container-id-1 div.sk-parallel-item::after {content: \"\";width: 100%;border-bottom: 1px solid gray;flex-grow: 1;}#sk-container-id-1 div.sk-label:hover label.sk-toggleable__label {background-color: #d4ebff;}#sk-container-id-1 div.sk-serial::before {content: \"\";position: absolute;border-left: 1px solid gray;box-sizing: border-box;top: 0;bottom: 0;left: 50%;z-index: 0;}#sk-container-id-1 div.sk-serial {display: flex;flex-direction: column;align-items: center;background-color: white;padding-right: 0.2em;padding-left: 0.2em;position: relative;}#sk-container-id-1 div.sk-item {position: relative;z-index: 1;}#sk-container-id-1 div.sk-parallel {display: flex;align-items: stretch;justify-content: center;background-color: white;position: relative;}#sk-container-id-1 div.sk-item::before, #sk-container-id-1 div.sk-parallel-item::before {content: \"\";position: absolute;border-left: 1px solid gray;box-sizing: border-box;top: 0;bottom: 0;left: 50%;z-index: -1;}#sk-container-id-1 div.sk-parallel-item {display: flex;flex-direction: column;z-index: 1;position: relative;background-color: white;}#sk-container-id-1 div.sk-parallel-item:first-child::after {align-self: flex-end;width: 50%;}#sk-container-id-1 div.sk-parallel-item:last-child::after {align-self: flex-start;width: 50%;}#sk-container-id-1 div.sk-parallel-item:only-child::after {width: 0;}#sk-container-id-1 div.sk-dashed-wrapped {border: 1px dashed gray;margin: 0 0.4em 0.5em 0.4em;box-sizing: border-box;padding-bottom: 0.4em;background-color: white;}#sk-container-id-1 div.sk-label label {font-family: monospace;font-weight: bold;display: inline-block;line-height: 1.2em;}#sk-container-id-1 div.sk-label-container {text-align: center;}#sk-container-id-1 div.sk-container {/* jupyter's `normalize.less` sets `[hidden] { display: none; }` but bootstrap.min.css set `[hidden] { display: none !important; }` so we also need the `!important` here to be able to override the default hidden behavior on the sphinx rendered scikit-learn.org. See: https://github.com/scikit-learn/scikit-learn/issues/21755 */display: inline-block !important;position: relative;}#sk-container-id-1 div.sk-text-repr-fallback {display: none;}</style><div id=\"sk-container-id-1\" class=\"sk-top-container\"><div class=\"sk-text-repr-fallback\"><pre>DecisionTreeRegressor()</pre><b>In a Jupyter environment, please rerun this cell to show the HTML representation or trust the notebook. <br />On GitHub, the HTML representation is unable to render, please try loading this page with nbviewer.org.</b></div><div class=\"sk-container\" hidden><div class=\"sk-item\"><div class=\"sk-estimator sk-toggleable\"><input class=\"sk-toggleable__control sk-hidden--visually\" id=\"sk-estimator-id-1\" type=\"checkbox\" checked><label for=\"sk-estimator-id-1\" class=\"sk-toggleable__label sk-toggleable__label-arrow\">DecisionTreeRegressor</label><div class=\"sk-toggleable__content\"><pre>DecisionTreeRegressor()</pre></div></div></div></div></div>"
      ],
      "text/plain": [
       "DecisionTreeRegressor()"
      ]
     },
     "execution_count": 11,
     "metadata": {},
     "output_type": "execute_result"
    }
   ],
   "source": [
    "tree.fit(X_train_ohe, y_train)"
   ]
  },
  {
   "cell_type": "code",
   "execution_count": 12,
   "id": "8565eb0c",
   "metadata": {
    "execution": {
     "iopub.execute_input": "2023-12-18T17:07:46.357017Z",
     "iopub.status.busy": "2023-12-18T17:07:46.356682Z",
     "iopub.status.idle": "2023-12-18T17:07:46.399756Z",
     "shell.execute_reply": "2023-12-18T17:07:46.398836Z"
    },
    "papermill": {
     "duration": 0.051786,
     "end_time": "2023-12-18T17:07:46.402163",
     "exception": false,
     "start_time": "2023-12-18T17:07:46.350377",
     "status": "completed"
    },
    "tags": []
   },
   "outputs": [],
   "source": [
    "X_test = ohe.transform(df_test.drop(columns='Id'))"
   ]
  },
  {
   "cell_type": "markdown",
   "id": "1dabe8cc",
   "metadata": {
    "papermill": {
     "duration": 0.005161,
     "end_time": "2023-12-18T17:07:46.412834",
     "exception": false,
     "start_time": "2023-12-18T17:07:46.407673",
     "status": "completed"
    },
    "tags": []
   },
   "source": [
    "## Предсказание модели"
   ]
  },
  {
   "cell_type": "markdown",
   "id": "71c8652b",
   "metadata": {
    "papermill": {
     "duration": 0.004868,
     "end_time": "2023-12-18T17:07:46.422784",
     "exception": false,
     "start_time": "2023-12-18T17:07:46.417916",
     "status": "completed"
    },
    "tags": []
   },
   "source": [
    "Сделайте предсказание моделью на тестовой выборке"
   ]
  },
  {
   "cell_type": "code",
   "execution_count": null,
   "id": "bfe7d0a5",
   "metadata": {
    "papermill": {
     "duration": 0.004855,
     "end_time": "2023-12-18T17:07:46.432707",
     "exception": false,
     "start_time": "2023-12-18T17:07:46.427852",
     "status": "completed"
    },
    "tags": []
   },
   "outputs": [],
   "source": []
  },
  {
   "cell_type": "code",
   "execution_count": 13,
   "id": "f0fa8dc2",
   "metadata": {
    "execution": {
     "iopub.execute_input": "2023-12-18T17:07:46.444472Z",
     "iopub.status.busy": "2023-12-18T17:07:46.444171Z",
     "iopub.status.idle": "2023-12-18T17:07:46.449611Z",
     "shell.execute_reply": "2023-12-18T17:07:46.449025Z"
    },
    "papermill": {
     "duration": 0.013402,
     "end_time": "2023-12-18T17:07:46.451270",
     "exception": false,
     "start_time": "2023-12-18T17:07:46.437868",
     "status": "completed"
    },
    "tags": []
   },
   "outputs": [],
   "source": [
    "y_test_pred = tree.predict(X_test)"
   ]
  },
  {
   "cell_type": "markdown",
   "id": "fb167554",
   "metadata": {
    "papermill": {
     "duration": 0.005051,
     "end_time": "2023-12-18T17:07:46.461611",
     "exception": false,
     "start_time": "2023-12-18T17:07:46.456560",
     "status": "completed"
    },
    "tags": []
   },
   "source": [
    "## Сделайте коммит в соревнование"
   ]
  },
  {
   "cell_type": "markdown",
   "id": "8b9611e7",
   "metadata": {
    "papermill": {
     "duration": 0.005169,
     "end_time": "2023-12-18T17:07:46.471774",
     "exception": false,
     "start_time": "2023-12-18T17:07:46.466605",
     "status": "completed"
    },
    "tags": []
   },
   "source": [
    "Сохраните предсказание в файл и сделайте коммит, чтобы получить первые метрики:"
   ]
  },
  {
   "cell_type": "code",
   "execution_count": 14,
   "id": "f7f30eb5",
   "metadata": {
    "execution": {
     "iopub.execute_input": "2023-12-18T17:07:46.483738Z",
     "iopub.status.busy": "2023-12-18T17:07:46.483217Z",
     "iopub.status.idle": "2023-12-18T17:07:46.494283Z",
     "shell.execute_reply": "2023-12-18T17:07:46.493131Z"
    },
    "papermill": {
     "duration": 0.019238,
     "end_time": "2023-12-18T17:07:46.496035",
     "exception": false,
     "start_time": "2023-12-18T17:07:46.476797",
     "status": "completed"
    },
    "tags": []
   },
   "outputs": [
    {
     "name": "stdout",
     "output_type": "stream",
     "text": [
      "Your submission was successfully saved!\n"
     ]
    }
   ],
   "source": [
    "output = pd.DataFrame({'Id': df_test['Id'], 'SalePrice': y_test_pred})\n",
    "output.to_csv('my_submission.csv', index=False)\n",
    "print(\"Your submission was successfully saved!\")"
   ]
  },
  {
   "cell_type": "code",
   "execution_count": null,
   "id": "82eda563",
   "metadata": {
    "papermill": {
     "duration": 0.005502,
     "end_time": "2023-12-18T17:07:46.507749",
     "exception": false,
     "start_time": "2023-12-18T17:07:46.502247",
     "status": "completed"
    },
    "tags": []
   },
   "outputs": [],
   "source": []
  }
 ],
 "metadata": {
  "kaggle": {
   "accelerator": "none",
   "dataSources": [
    {
     "databundleVersionId": 868283,
     "sourceId": 5407,
     "sourceType": "competition"
    }
   ],
   "dockerImageVersionId": 30626,
   "isGpuEnabled": false,
   "isInternetEnabled": true,
   "language": "python",
   "sourceType": "notebook"
  },
  "kernelspec": {
   "display_name": "Python 3",
   "language": "python",
   "name": "python3"
  },
  "language_info": {
   "codemirror_mode": {
    "name": "ipython",
    "version": 3
   },
   "file_extension": ".py",
   "mimetype": "text/x-python",
   "name": "python",
   "nbconvert_exporter": "python",
   "pygments_lexer": "ipython3",
   "version": "3.10.12"
  },
  "papermill": {
   "default_parameters": {},
   "duration": 5.864897,
   "end_time": "2023-12-18T17:07:47.033029",
   "environment_variables": {},
   "exception": null,
   "input_path": "__notebook__.ipynb",
   "output_path": "__notebook__.ipynb",
   "parameters": {},
   "start_time": "2023-12-18T17:07:41.168132",
   "version": "2.4.0"
  }
 },
 "nbformat": 4,
 "nbformat_minor": 5
}

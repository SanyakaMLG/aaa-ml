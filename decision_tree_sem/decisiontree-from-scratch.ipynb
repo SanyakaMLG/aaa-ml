{
 "metadata": {
  "kernelspec": {
   "display_name": "Python 3",
   "language": "python",
   "name": "python3"
  },
  "language_info": {
   "name": "python",
   "version": "3.10.12",
   "mimetype": "text/x-python",
   "codemirror_mode": {
    "name": "ipython",
    "version": 3
   },
   "pygments_lexer": "ipython3",
   "nbconvert_exporter": "python",
   "file_extension": ".py"
  },
  "kaggle": {
   "accelerator": "none",
   "dataSources": [
    {
     "sourceId": 5407,
     "databundleVersionId": 868283,
     "sourceType": "competition"
    }
   ],
   "dockerImageVersionId": 30626,
   "isInternetEnabled": true,
   "language": "python",
   "sourceType": "notebook",
   "isGpuEnabled": false
  }
 },
 "nbformat_minor": 4,
 "nbformat": 4,
 "cells": [
  {
   "cell_type": "code",
   "source": [
    "import numpy as np\n",
    "import pandas as pd\n",
    "import matplotlib.pyplot as plt\n",
    "\n",
    "from sklearn.datasets import make_circles, make_regression, make_swiss_roll\n",
    "from sklearn.tree import DecisionTreeClassifier, DecisionTreeRegressor, plot_tree\n",
    "from IPython.display import display\n",
    "\n",
    "%matplotlib inline"
   ],
   "metadata": {
    "execution": {
     "iopub.status.busy": "2023-12-18T16:14:52.878891Z",
     "iopub.execute_input": "2023-12-18T16:14:52.879303Z",
     "iopub.status.idle": "2023-12-18T16:14:55.283341Z",
     "shell.execute_reply.started": "2023-12-18T16:14:52.879271Z",
     "shell.execute_reply": "2023-12-18T16:14:55.281898Z"
    },
    "trusted": true
   },
   "execution_count": null,
   "outputs": []
  },
  {
   "cell_type": "code",
   "source": [
    "def plot_2d_function(X1, X2, P, figsize, title):\n",
    "    \n",
    "    \"\"\"\n",
    "    \n",
    "    Функция для визуализации решающей функции\n",
    "    \n",
    "    X1 – матрица значений по признаку x1\n",
    "    X2 – матрица значений по признаку x2\n",
    "    P – решающая функция\n",
    "    \n",
    "    title – заголовок картинки\n",
    "    \"\"\"\n",
    "    \n",
    "    plt.figure(figsize=figsize)\n",
    "    plt.contourf(X1, X2, P, cmap='coolwarm', levels=2)\n",
    "    plt.title(title)\n",
    "    plt.xlabel('$X1$')\n",
    "    plt.ylabel('$X2$');\n",
    "    \n",
    "    \n",
    "def plot_clf_dataset(X, y, x1_lim, x2_lim, figsize):\n",
    "    \n",
    "    \"\"\"\n",
    "    Функция для визуализации датасета задачи классификации\n",
    "    \n",
    "    X - матрица объектов с как минимум двумя признаками\n",
    "    y – ответы на объектах\n",
    "    x1_lim – ограничения визуализации по x1\n",
    "    x2_lim – ограничения визуализации по x2\n",
    "    figsize – размер картинки\n",
    "    \"\"\"\n",
    "    \n",
    "    plt.figure(figsize=figsize)\n",
    "    plt.scatter(X[:, 0], X[:, 1], c=y)\n",
    "    plt.xlim(x1_lim)\n",
    "    plt.ylim(x2_lim)\n",
    "    plt.xlabel('$x1$')\n",
    "    plt.ylabel('$x2$');\n",
    "    \n",
    "    \n",
    "def plot_reg_dataset(X, y, figsize):\n",
    "    \n",
    "    \"\"\"\n",
    "    Функция для визуализации датасета задачи регрессии\n",
    "    \n",
    "    X - матрица объектов с как минимум одним признаком\n",
    "    y – ответы на объектах\n",
    "    figsize – размер картинки\n",
    "    \n",
    "    \"\"\"\n",
    "        \n",
    "    plt.figure(figsize=figsize)\n",
    "    plt.scatter(X[:, 0], y)\n",
    "    plt.xlabel('$x$')\n",
    "    plt.ylabel('$y$');\n",
    "    \n",
    "    \n",
    "def get_decision_function(x1, x2, model, x1_lim, x2_lim, num=50):\n",
    "    \n",
    "    \"\"\"\n",
    "    \n",
    "    Функция для получения предикта решающего дерева в 2d\n",
    "    \n",
    "    x1 – значение признаков по x1\n",
    "    x2 – значение признаков по x2\n",
    "    \n",
    "    model – обученная модель\n",
    "    x1_lim – ограничения визуализации по x1\n",
    "    x2_lim – ограничения визуализации по x2\n",
    "    num – разрешение решающей функции\n",
    "    \n",
    "    \"\"\"\n",
    "\n",
    "    x1_grid = np.linspace(*x1_lim, num=num)\n",
    "    x2_grid = np.linspace(*x2_lim, num=num)\n",
    "\n",
    "    X1, X2 = np.meshgrid(x1_grid, x2_grid)\n",
    "\n",
    "    P = np.zeros_like(X1)\n",
    "\n",
    "    for i in range(num):\n",
    "        for j in range(num):\n",
    "            P[i, j] = model.predict([[X1[i, j],  X2[i, j]]])\n",
    "            \n",
    "    return X1, X2, P"
   ],
   "metadata": {
    "execution": {
     "iopub.status.busy": "2023-12-18T16:14:55.286346Z",
     "iopub.execute_input": "2023-12-18T16:14:55.287507Z",
     "iopub.status.idle": "2023-12-18T16:14:55.305028Z",
     "shell.execute_reply.started": "2023-12-18T16:14:55.287458Z",
     "shell.execute_reply": "2023-12-18T16:14:55.303754Z"
    },
    "trusted": true
   },
   "execution_count": null,
   "outputs": []
  },
  {
   "cell_type": "markdown",
   "source": [
    "* [Дерево классификации](#Дерево-классификации)\n",
    "* [Дерево регрессии](#Дерево-регрессии)\n",
    "\n",
    "* [Строим решающее дерево для небольшой выборки классификации](#Строим-решающее-дерево-для-небольшой-выборки-классификации)\n",
    "* [Строим решающее дерево для небольшой выборки регрессии](#Строим-решающее-дерево-для-небольшой-выборки-регрессии)\n",
    "* [Регуляризуем дерево на датасете титаника](#Регуляризуем-дерево-на-датасете-титаника)"
   ],
   "metadata": {}
  },
  {
   "cell_type": "code",
   "source": [
    "FIG_SIZE = (12, 8)\n",
    "X1_LIM = (-1, 1.2)\n",
    "X2_LIM = (-1.1, 1.1)"
   ],
   "metadata": {
    "execution": {
     "iopub.status.busy": "2023-12-18T16:14:55.306818Z",
     "iopub.execute_input": "2023-12-18T16:14:55.307889Z",
     "iopub.status.idle": "2023-12-18T16:14:55.332086Z",
     "shell.execute_reply.started": "2023-12-18T16:14:55.307830Z",
     "shell.execute_reply": "2023-12-18T16:14:55.331070Z"
    },
    "trusted": true
   },
   "execution_count": null,
   "outputs": []
  },
  {
   "cell_type": "markdown",
   "source": [
    "## Дерево классификации"
   ],
   "metadata": {}
  },
  {
   "cell_type": "code",
   "source": [
    "X, y = make_circles(n_samples=100)\n",
    "plot_clf_dataset(X, y, x1_lim=X1_LIM, x2_lim=X2_LIM, figsize=FIG_SIZE)"
   ],
   "metadata": {
    "execution": {
     "iopub.status.busy": "2023-12-18T16:14:55.335145Z",
     "iopub.execute_input": "2023-12-18T16:14:55.335901Z",
     "iopub.status.idle": "2023-12-18T16:14:55.898476Z",
     "shell.execute_reply.started": "2023-12-18T16:14:55.335848Z",
     "shell.execute_reply": "2023-12-18T16:14:55.897220Z"
    },
    "trusted": true
   },
   "execution_count": null,
   "outputs": []
  },
  {
   "cell_type": "code",
   "source": [
    "clf_tree = DecisionTreeClassifier()\n",
    "clf_tree.fit(X, y)\n",
    "\n",
    "plt.figure(figsize=(7, 7))\n",
    "plot_tree(clf_tree, feature_names=['x1', 'x2'], filled=True, );"
   ],
   "metadata": {
    "execution": {
     "iopub.status.busy": "2023-12-18T16:14:55.900030Z",
     "iopub.execute_input": "2023-12-18T16:14:55.900535Z",
     "iopub.status.idle": "2023-12-18T16:14:57.198236Z",
     "shell.execute_reply.started": "2023-12-18T16:14:55.900497Z",
     "shell.execute_reply": "2023-12-18T16:14:57.197168Z"
    },
    "trusted": true
   },
   "execution_count": null,
   "outputs": []
  },
  {
   "cell_type": "code",
   "source": [
    "X1, X2, P = get_decision_function(\n",
    "    X[:, 0], X[:, 1], model=clf_tree, x1_lim=X1_LIM, x2_lim=X2_LIM\n",
    ")\n",
    "plot_2d_function(X1, X2, P, figsize=FIG_SIZE, title='Решающая функция для decision tree')\n",
    "\n",
    "plt.scatter(X[:, 0], X[:, 1], c=y)\n",
    "plt.xlim(X1_LIM)\n",
    "plt.ylim(X2_LIM);"
   ],
   "metadata": {
    "execution": {
     "iopub.status.busy": "2023-12-18T16:14:57.199758Z",
     "iopub.execute_input": "2023-12-18T16:14:57.201036Z",
     "iopub.status.idle": "2023-12-18T16:14:57.973046Z",
     "shell.execute_reply.started": "2023-12-18T16:14:57.200988Z",
     "shell.execute_reply": "2023-12-18T16:14:57.971769Z"
    },
    "trusted": true
   },
   "execution_count": null,
   "outputs": []
  },
  {
   "cell_type": "markdown",
   "source": [
    "## Дерево регрессии"
   ],
   "metadata": {}
  },
  {
   "cell_type": "code",
   "source": [
    "X, y = make_regression(n_samples=100, n_features=1, noise=10, random_state=1)\n",
    "\n",
    "# для нелинейности\n",
    "# x_min, x_max = -3, 3\n",
    "# X = np.linspace(x_min, x_max, num=20).reshape(-1, 1)\n",
    "# y = np.sin(X)\n",
    "\n",
    "plt.figure(figsize=FIG_SIZE)\n",
    "plt.scatter(X.flatten(), y)\n",
    "plt.xlabel('x')\n",
    "plt.ylabel('y')\n",
    "plt.title('Regression data');"
   ],
   "metadata": {
    "execution": {
     "iopub.status.busy": "2023-12-18T16:14:57.974717Z",
     "iopub.execute_input": "2023-12-18T16:14:57.989026Z",
     "iopub.status.idle": "2023-12-18T16:14:58.493677Z",
     "shell.execute_reply.started": "2023-12-18T16:14:57.988950Z",
     "shell.execute_reply": "2023-12-18T16:14:58.492729Z"
    },
    "trusted": true
   },
   "execution_count": null,
   "outputs": []
  },
  {
   "cell_type": "code",
   "source": [
    "reg_tree = DecisionTreeRegressor(max_depth=5, criterion='absolute_error')\n",
    "reg_tree.fit(X, y)"
   ],
   "metadata": {
    "execution": {
     "iopub.status.busy": "2023-12-18T16:14:58.495166Z",
     "iopub.execute_input": "2023-12-18T16:14:58.496356Z",
     "iopub.status.idle": "2023-12-18T16:14:58.511239Z",
     "shell.execute_reply.started": "2023-12-18T16:14:58.496313Z",
     "shell.execute_reply": "2023-12-18T16:14:58.509887Z"
    },
    "trusted": true
   },
   "execution_count": null,
   "outputs": []
  },
  {
   "cell_type": "code",
   "source": [
    "x_min, x_max = X.min()-1, X.max()+1\n",
    "X_val = np.linspace(x_min, x_max, num=1000).reshape(-1, 1)\n",
    "\n",
    "predict = reg_tree.predict(X_val)\n",
    "\n",
    "plt.figure(figsize=FIG_SIZE)\n",
    "plt.scatter(X.flatten(), y)\n",
    "plt.plot(X_val, predict, 'r', label='dt predict')\n",
    "plt.legend()\n",
    "plt.xlabel('x')\n",
    "plt.ylabel('y')\n",
    "plt.title('Decision tree for regression');"
   ],
   "metadata": {
    "execution": {
     "iopub.status.busy": "2023-12-18T16:14:58.512976Z",
     "iopub.execute_input": "2023-12-18T16:14:58.513505Z",
     "iopub.status.idle": "2023-12-18T16:14:59.021236Z",
     "shell.execute_reply.started": "2023-12-18T16:14:58.513459Z",
     "shell.execute_reply": "2023-12-18T16:14:59.020113Z"
    },
    "trusted": true
   },
   "execution_count": null,
   "outputs": []
  },
  {
   "cell_type": "markdown",
   "source": [
    "### Экстраполяция"
   ],
   "metadata": {}
  },
  {
   "cell_type": "code",
   "source": [
    "from sklearn.linear_model import LinearRegression"
   ],
   "metadata": {
    "execution": {
     "iopub.status.busy": "2023-12-18T16:14:59.024953Z",
     "iopub.execute_input": "2023-12-18T16:14:59.025440Z",
     "iopub.status.idle": "2023-12-18T16:14:59.031102Z",
     "shell.execute_reply.started": "2023-12-18T16:14:59.025396Z",
     "shell.execute_reply": "2023-12-18T16:14:59.029877Z"
    },
    "trusted": true
   },
   "execution_count": null,
   "outputs": []
  },
  {
   "cell_type": "code",
   "source": [
    "x_min, x_max = X.min() - 1, X.max() + 1\n",
    "X_val = np.linspace(x_min, x_max, num=1000).reshape(-1, 1)\n",
    "\n",
    "predict = reg_tree.predict(X_val)\n",
    "linreg = LinearRegression().fit(X, y)\n",
    "predict_ln = linreg.predict(X_val)\n",
    "\n",
    "plt.figure(figsize=FIG_SIZE)\n",
    "plt.scatter(X.flatten(), y)\n",
    "plt.plot(X_val, predict, 'r', label='dt predict')\n",
    "plt.plot(X_val, predict_ln, 'g', label='ln predict')\n",
    "plt.legend()\n",
    "plt.xlabel('x')\n",
    "plt.ylabel('y')\n",
    "plt.title('Decision tree for regression');"
   ],
   "metadata": {
    "execution": {
     "iopub.status.busy": "2023-12-18T16:14:59.032969Z",
     "iopub.execute_input": "2023-12-18T16:14:59.034112Z",
     "iopub.status.idle": "2023-12-18T16:14:59.476417Z",
     "shell.execute_reply.started": "2023-12-18T16:14:59.034069Z",
     "shell.execute_reply": "2023-12-18T16:14:59.475202Z"
    },
    "trusted": true
   },
   "execution_count": null,
   "outputs": []
  },
  {
   "cell_type": "markdown",
   "source": [
    "## Строим решающее дерево для небольшой выборки классификации"
   ],
   "metadata": {}
  },
  {
   "cell_type": "markdown",
   "source": [
    "$$Q(X_m, j, t) = \\frac{N_l}{N_m}H_l + \\frac{N_r}{N_m}H_r$$\n",
    " \n",
    "$H_l$ – критерий информативности для левой подвыборки;\n",
    "$H_r$ – критерий информативности для правой подвыборки; \n",
    "\n",
    "$N_m$ – общее количество объектов;\n",
    "$N_l$ – количество объектов в левой подвыборке;\n",
    "$N_r$ – количество объектов в левой подвыборке."
   ],
   "metadata": {}
  },
  {
   "cell_type": "markdown",
   "source": [
    "**Критерии информативности в задачах классификации**\n",
    "\n",
    "Gini: \n",
    "$$H = \\sum_k p_k(1-p_k)$$\n",
    "\n",
    "Entropy:\n",
    "$$H = -\\sum_k p_k log(p_k)$$\n",
    "\n",
    "где $p_k$ – доля класса $k$ в данной подвыборке."
   ],
   "metadata": {}
  },
  {
   "cell_type": "markdown",
   "source": [
    "**Задание**\n",
    "\n",
    "* Построить решающее дерево глубины 2 для задачи классификации аналитически (посчитав критерий информативности для всех возможных сплитов на листочке или с помощью функции на python);\n",
    "* Сравнить полученный результат с реализацией в sklearn с помощью `graphviz`."
   ],
   "metadata": {}
  },
  {
   "cell_type": "code",
   "source": [
    "def Q():\n",
    "    pass\n",
    "\n",
    "def H():\n",
    "    pass\n"
   ],
   "metadata": {},
   "execution_count": null,
   "outputs": []
  },
  {
   "cell_type": "code",
   "source": [
    "X = np.array([\n",
    "    [0.5, 3],\n",
    "    [3.5, 1],\n",
    "    [3.9, 4],\n",
    "    [2, 2],\n",
    "    [1.5, 1.2]\n",
    "])\n",
    "\n",
    "y = [0, 1, 0, 1, 0]\n",
    "\n",
    "plot_clf_dataset(X, y, x1_lim=(0, 4),  x2_lim=(0, 5), figsize=FIG_SIZE)"
   ],
   "metadata": {
    "execution": {
     "iopub.status.busy": "2023-12-18T16:21:15.513939Z",
     "iopub.execute_input": "2023-12-18T16:21:15.514434Z",
     "iopub.status.idle": "2023-12-18T16:21:15.813066Z",
     "shell.execute_reply.started": "2023-12-18T16:21:15.514397Z",
     "shell.execute_reply": "2023-12-18T16:21:15.811843Z"
    },
    "trusted": true
   },
   "execution_count": null,
   "outputs": []
  },
  {
   "cell_type": "code",
   "source": [
    "data = pd.DataFrame(X, columns=['x1', 'x2'])\n",
    "data['y'] = y"
   ],
   "metadata": {
    "execution": {
     "iopub.status.busy": "2023-12-18T16:39:29.428398Z",
     "iopub.execute_input": "2023-12-18T16:39:29.428881Z",
     "iopub.status.idle": "2023-12-18T16:39:29.435988Z",
     "shell.execute_reply.started": "2023-12-18T16:39:29.428844Z",
     "shell.execute_reply": "2023-12-18T16:39:29.434839Z"
    },
    "trusted": true
   },
   "execution_count": null,
   "outputs": []
  },
  {
   "cell_type": "code",
   "source": [
    "sorted_x1 = data.sort_values(by='x1')"
   ],
   "metadata": {
    "execution": {
     "iopub.status.busy": "2023-12-18T16:39:33.640228Z",
     "iopub.execute_input": "2023-12-18T16:39:33.640699Z",
     "iopub.status.idle": "2023-12-18T16:39:33.647268Z",
     "shell.execute_reply.started": "2023-12-18T16:39:33.640624Z",
     "shell.execute_reply": "2023-12-18T16:39:33.646039Z"
    },
    "trusted": true
   },
   "execution_count": null,
   "outputs": []
  },
  {
   "cell_type": "code",
   "source": [
    "for i in range(1, sorted_x1.shape[0]):\n",
    "    left = sorted_x1[:i]\n",
    "    right = sorted_x1[i:]\n",
    "    display(Q(left, right))\n",
    "    break"
   ],
   "metadata": {
    "execution": {
     "iopub.status.busy": "2023-12-18T16:42:16.547522Z",
     "iopub.execute_input": "2023-12-18T16:42:16.548264Z",
     "iopub.status.idle": "2023-12-18T16:42:16.566927Z",
     "shell.execute_reply.started": "2023-12-18T16:42:16.548217Z",
     "shell.execute_reply": "2023-12-18T16:42:16.565710Z"
    },
    "trusted": true
   },
   "execution_count": null,
   "outputs": []
  },
  {
   "cell_type": "code",
   "source": [
    "def H(data_part):\n",
    "    p_ks = data_part['y'].value_counts(normalize=True)\n",
    "    p_0 = p_ks.loc[0] if (data_part['y'] == 0).sum() > 0 else 0\n",
    "    p_1 = p_ks.loc[1] if (data_part['y'] == 1).sum() > 0 else 0\n",
    "    \n",
    "    return p_0 * (1 - p_0) + p_1 * (1 - p_1)"
   ],
   "metadata": {
    "execution": {
     "iopub.status.busy": "2023-12-18T16:38:13.227291Z",
     "iopub.execute_input": "2023-12-18T16:38:13.227811Z",
     "iopub.status.idle": "2023-12-18T16:38:13.235994Z",
     "shell.execute_reply.started": "2023-12-18T16:38:13.227774Z",
     "shell.execute_reply": "2023-12-18T16:38:13.234559Z"
    },
    "trusted": true
   },
   "execution_count": null,
   "outputs": []
  },
  {
   "cell_type": "code",
   "source": [
    "def Q(data_left, data_right):\n",
    "    N_l = left.shape[0]\n",
    "    N_r = right.shape[0]\n",
    "    N_m = N_l + N_r\n",
    "    return N_l / N_m * H(data_left) + N_r / N_m * H(data_right)"
   ],
   "metadata": {
    "execution": {
     "iopub.status.busy": "2023-12-18T16:41:31.832691Z",
     "iopub.execute_input": "2023-12-18T16:41:31.833184Z",
     "iopub.status.idle": "2023-12-18T16:41:31.840987Z",
     "shell.execute_reply.started": "2023-12-18T16:41:31.833150Z",
     "shell.execute_reply": "2023-12-18T16:41:31.839499Z"
    },
    "trusted": true
   },
   "execution_count": null,
   "outputs": []
  },
  {
   "cell_type": "code",
   "source": [
    "def choose_best(data):\n",
    "    for i in range(1, data.shape[0]):"
   ],
   "metadata": {},
   "execution_count": null,
   "outputs": []
  },
  {
   "cell_type": "markdown",
   "source": [
    "## Строим решающее дерево для небольшой выборки регрессии"
   ],
   "metadata": {}
  },
  {
   "cell_type": "markdown",
   "source": [
    "**Критерии информативности в задачах регрессии**\n",
    "\n",
    "*Mean squared error:*\n",
    "$$H = \\frac{1}{n}\\sum_i (y_i - \\hat{y})^2$$\n",
    "где $\\hat{y}$ – средне по $i$-ым объектам\n",
    "$n$ – количество объектов.\n"
   ],
   "metadata": {}
  },
  {
   "cell_type": "markdown",
   "source": [
    "---"
   ],
   "metadata": {}
  },
  {
   "cell_type": "markdown",
   "source": [
    "*Mean absolute error:*\n",
    "$$H =  \\frac{1}{n}\\sum_i |y - \\hat{y}|$$\n",
    "где $\\hat{y}$ – медиана по $i$-ым объектам"
   ],
   "metadata": {}
  },
  {
   "cell_type": "markdown",
   "source": [
    "* Построить решающее дерево глубины 2 для задачи регрессии аналитически (посчитав критерий информативности для всех возможных сплитов на листочке или с помощью функции на python);\n",
    "* Сравнить полученный результат с реализацией в sklearn с помощью `plot_tree`."
   ],
   "metadata": {}
  },
  {
   "cell_type": "code",
   "source": [
    "X = np.array([\n",
    "    [1],\n",
    "    [2],\n",
    "    [3],\n",
    "    [4],\n",
    "    [5]\n",
    "])\n",
    "\n",
    "y = [3, 2.5, 2.0, 2.2, 2.7]\n",
    "\n",
    "plot_reg_dataset(X, y,  figsize=FIG_SIZE)"
   ],
   "metadata": {},
   "execution_count": null,
   "outputs": []
  },
  {
   "cell_type": "code",
   "source": [],
   "metadata": {},
   "execution_count": null,
   "outputs": []
  },
  {
   "cell_type": "code",
   "source": [],
   "metadata": {},
   "execution_count": null,
   "outputs": []
  },
  {
   "cell_type": "code",
   "source": [],
   "metadata": {},
   "execution_count": null,
   "outputs": []
  },
  {
   "cell_type": "code",
   "source": [],
   "metadata": {},
   "execution_count": null,
   "outputs": []
  }
 ]
}

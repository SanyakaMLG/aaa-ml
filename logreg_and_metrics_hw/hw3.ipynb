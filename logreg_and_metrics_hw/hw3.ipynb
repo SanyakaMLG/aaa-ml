{
 "cells": [
  {
   "cell_type": "code",
   "execution_count": 1,
   "metadata": {
    "collapsed": true,
    "ExecuteTime": {
     "end_time": "2023-10-24T11:09:30.586630700Z",
     "start_time": "2023-10-24T11:09:30.438207900Z"
    }
   },
   "outputs": [],
   "source": [
    "import numpy as np"
   ]
  },
  {
   "cell_type": "code",
   "execution_count": 6,
   "outputs": [],
   "source": [
    "class LinearRegression:\n",
    "\n",
    "    def __init__(self, max_iter=1e4, lr=0.001, tol=0.001, l2_coef=1.):\n",
    "\n",
    "        self.max_iter = max_iter\n",
    "        self.lr = lr\n",
    "        self.tol = tol\n",
    "        self.l2_coef = l2_coef\n",
    "        self.weights = None\n",
    "        self.bias = None\n",
    "\n",
    "    def fit(self, X_train, y_train):\n",
    "\n",
    "        n, m = X_train.shape\n",
    "\n",
    "        self.weights = np.zeros((m, 1))\n",
    "        self.bias = np.mean(y_train)\n",
    "\n",
    "        n_iter = 0\n",
    "        gradient_norm = np.inf\n",
    "\n",
    "        while n_iter < self.max_iter and gradient_norm > self.tol:\n",
    "\n",
    "            dJdw, dJdb = self.grads(X_train, y_train)\n",
    "\n",
    "            gradient_norm = np.linalg.norm(np.hstack([dJdw.flatten(), [dJdb]]))\n",
    "\n",
    "            self.weights = self.weights * (1 - self.lr * self.l2_coef) - self.lr * dJdw\n",
    "            self.bias = self.bias - self.lr * dJdb\n",
    "\n",
    "            n_iter += 1\n",
    "\n",
    "        return self\n",
    "\n",
    "    def predict(self, X):\n",
    "        return np.dot(X, self.weights) + self.bias\n",
    "\n",
    "    def grads(self, X, y):\n",
    "\n",
    "        y_hat = self.predict(X)\n",
    "\n",
    "        dJdw = np.mean(X * (y_hat - y), axis=0, keepdims=True).T\n",
    "        dJdb = np.mean(y_hat - y)\n",
    "\n",
    "        return dJdw, dJdb"
   ],
   "metadata": {
    "collapsed": false,
    "ExecuteTime": {
     "end_time": "2023-10-24T11:12:01.140046800Z",
     "start_time": "2023-10-24T11:12:01.135465300Z"
    }
   }
  },
  {
   "cell_type": "code",
   "execution_count": 3,
   "outputs": [],
   "source": [
    "def read_input():\n",
    "    n, m, k = map(int, input().split())\n",
    "\n",
    "    x_train = np.array([input().split() for _ in range(n)]).astype(float)\n",
    "    y_train = np.array([input().split() for _ in range(n)]).astype(float)\n",
    "    x_test = np.array([input().split() for _ in range(k)]).astype(float)\n",
    "    return x_train, y_train, x_test\n",
    "\n",
    "def solution():\n",
    "\n",
    "    x_train, y_train, x_test = read_input()\n",
    "\n",
    "    model = LinearRegression(max_iter=5000, lr=1e-3, l2_coef=2.) # не меняйте гиперпараметры модели\n",
    "    model.fit(x_train, y_train)\n",
    "\n",
    "    predictions = model.predict(x_test)\n",
    "\n",
    "    result = ' '.join(map(lambda x: str(float(x)), predictions))\n",
    "    print(result)"
   ],
   "metadata": {
    "collapsed": false,
    "ExecuteTime": {
     "end_time": "2023-10-24T11:09:58.338757800Z",
     "start_time": "2023-10-24T11:09:58.332264300Z"
    }
   }
  },
  {
   "cell_type": "code",
   "execution_count": 7,
   "outputs": [
    {
     "name": "stdout",
     "output_type": "stream",
     "text": [
      "1.8571440655479936 2.0 2.1428559344520064\n"
     ]
    }
   ],
   "source": [
    "solution()"
   ],
   "metadata": {
    "collapsed": false,
    "ExecuteTime": {
     "end_time": "2023-10-24T11:12:28.549212300Z",
     "start_time": "2023-10-24T11:12:08.089784Z"
    }
   }
  },
  {
   "cell_type": "code",
   "execution_count": 37,
   "outputs": [],
   "source": [
    "class LogisticRegression:\n",
    "\n",
    "    def __init__(self, max_iter=1e3, lr=0.03, tol=0.001):\n",
    "\n",
    "\n",
    "        '''\n",
    "        max_iter – максимальное количество итераций\n",
    "        lr - learning rate\n",
    "        '''\n",
    "\n",
    "        self.max_iter = max_iter\n",
    "        self.lr = lr\n",
    "        self.tol = tol\n",
    "\n",
    "        self.weights = None\n",
    "        self.bias = None\n",
    "\n",
    "    def fit(self, X_train, y_train):\n",
    "\n",
    "        '''\n",
    "        Обучение модели.\n",
    "\n",
    "        X_train – матрица объектов для обучения\n",
    "        y_train – ответы на объектах для обучения\n",
    "\n",
    "        '''\n",
    "\n",
    "        n, m = X_train.shape\n",
    "\n",
    "        self.weights = np.zeros((m, 1))\n",
    "        self.bias = np.mean(y_train)\n",
    "\n",
    "        n_iter = 0\n",
    "        gradient_norm = np.inf\n",
    "\n",
    "        while n_iter < self.max_iter and gradient_norm > self.tol:\n",
    "\n",
    "            dJdw, dJdb = self.grads(X_train, y_train)\n",
    "            gradient_norm = np.linalg.norm(np.hstack([dJdw.flatten(), [dJdb]]))\n",
    "\n",
    "            self.weights = self.weights - self.lr * dJdw\n",
    "            self.bias = self.bias - self.lr * dJdb\n",
    "\n",
    "            n_iter += 1\n",
    "\n",
    "        return self\n",
    "\n",
    "    def predict(self, X):\n",
    "        '''\n",
    "        Метод возвращает предсказанную метку класса на объектах X\n",
    "        '''\n",
    "        return self.predict_proba(X) > 0.5\n",
    "\n",
    "\n",
    "    def predict_proba(self, X):\n",
    "        '''\n",
    "        Метод возвращает вероятность класса 1 на объектах X\n",
    "        '''\n",
    "        return self.sigmoid(X @ self.weights + self.bias)\n",
    "\n",
    "    def grads(self, X, y):\n",
    "        '''\n",
    "        Рассчёт градиентов\n",
    "        '''\n",
    "        y_hat = self.predict_proba(X)\n",
    "\n",
    "        dJdw = np.mean(X * (y_hat - y), axis=0, keepdims=True).T\n",
    "        dJdb = np.mean(y_hat - y)\n",
    "\n",
    "        return dJdw, dJdb\n",
    "\n",
    "    @staticmethod\n",
    "    def sigmoid(x):\n",
    "        '''\n",
    "        Сигмоида от x\n",
    "        '''\n",
    "        return 1 / (1 + np.exp(-x))"
   ],
   "metadata": {
    "collapsed": false,
    "ExecuteTime": {
     "end_time": "2023-10-24T12:08:59.216181300Z",
     "start_time": "2023-10-24T12:08:59.200000900Z"
    }
   }
  },
  {
   "cell_type": "code",
   "execution_count": 34,
   "outputs": [],
   "source": [
    "def read_input():\n",
    "    n, m, k = map(int, input().split())\n",
    "\n",
    "    x_train = np.array([input().split() for _ in range(n)]).astype(float)\n",
    "    y_train = np.array([input().split() for _ in range(n)]).astype(float)\n",
    "    x_test = np.array([input().split() for _ in range(k)]).astype(float)\n",
    "    return x_train, y_train, x_test\n",
    "\n",
    "\n",
    "def solution():\n",
    "    x_train, y_train, x_test = read_input()\n",
    "\n",
    "    model = LogisticRegression()\n",
    "    model.fit(x_train, y_train)\n",
    "\n",
    "    predictions = model.predict(x_test)\n",
    "\n",
    "    result = ' '.join(map(lambda x: str(int(x)), predictions))\n",
    "    print(result)"
   ],
   "metadata": {
    "collapsed": false,
    "ExecuteTime": {
     "end_time": "2023-10-24T12:03:39.192789Z",
     "start_time": "2023-10-24T12:03:39.189796700Z"
    }
   }
  },
  {
   "cell_type": "code",
   "execution_count": 38,
   "outputs": [
    {
     "name": "stdout",
     "output_type": "stream",
     "text": [
      "0 1\n"
     ]
    }
   ],
   "source": [
    "solution()"
   ],
   "metadata": {
    "collapsed": false,
    "ExecuteTime": {
     "end_time": "2023-10-24T12:09:17.360845900Z",
     "start_time": "2023-10-24T12:09:01.819803700Z"
    }
   }
  },
  {
   "cell_type": "code",
   "execution_count": 107,
   "outputs": [],
   "source": [
    "class LogisticRegression:\n",
    "\n",
    "    def __init__(self, max_iter=5e3, lr=0.04, tol=0.001, l1_coef=0.1):\n",
    "\n",
    "\n",
    "        '''\n",
    "        max_iter – максимальное количеств\n",
    "        '''\n",
    "\n",
    "        self.max_iter = max_iter\n",
    "        self.lr = lr\n",
    "        self.tol = tol\n",
    "        self.l1_coef = l1_coef\n",
    "\n",
    "        self.weights = None\n",
    "        self.bias = None\n",
    "\n",
    "    def fit(self, X_train, y_train):\n",
    "\n",
    "        '''\n",
    "        Обучение модели.\n",
    "\n",
    "        X_train – матрица объектов для обучения\n",
    "        y_train – ответы на объектах для обучения\n",
    "\n",
    "        '''\n",
    "\n",
    "        n, m = X_train.shape\n",
    "\n",
    "        self.weights = np.zeros((m, 1))\n",
    "        self.bias = np.mean(y_train)\n",
    "\n",
    "        n_iter = 0\n",
    "        gradient_norm = np.inf\n",
    "\n",
    "        while n_iter < self.max_iter and gradient_norm > self.tol:\n",
    "\n",
    "            dJdw, dJdb = self.grads(X_train, y_train)\n",
    "            gradient_norm = np.linalg.norm(np.hstack([dJdw.flatten(), [dJdb]]))\n",
    "\n",
    "            self.weights = self.weights - self.lr * dJdw\n",
    "            self.bias = self.bias - self.lr * dJdb\n",
    "\n",
    "            n_iter += 1\n",
    "\n",
    "        return self\n",
    "\n",
    "    def predict(self, X):\n",
    "\n",
    "        '''\n",
    "        Метод возвращает предсказанную метку класса на объектах X\n",
    "        '''\n",
    "\n",
    "        return self.predict_proba(X) > 0.5\n",
    "\n",
    "\n",
    "    def predict_proba(self, X):\n",
    "\n",
    "        '''\n",
    "        Метод возвращает вероятность класса 1 на объектах X\n",
    "        '''\n",
    "        return self.sigmoid(X @ self.weights + self.bias)\n",
    "\n",
    "    def grads(self, X, y):\n",
    "\n",
    "        '''\n",
    "        Рассчёт градиентов\n",
    "        '''\n",
    "        y_hat = self.predict_proba(X)\n",
    "\n",
    "        sign = self.weights / (np.abs(self.weights) + 1e-20)\n",
    "        dJdw = np.mean(X * (y_hat - y), axis=0, keepdims=True).T + self.l1_coef * sign\n",
    "        dJdb = np.mean(y_hat - y)\n",
    "\n",
    "        return dJdw, dJdb\n",
    "\n",
    "    @staticmethod\n",
    "    def sigmoid(x):\n",
    "        '''\n",
    "        Сигмоида от x\n",
    "        '''\n",
    "        return 1 / (1 + np.exp(-x))"
   ],
   "metadata": {
    "collapsed": false,
    "ExecuteTime": {
     "end_time": "2023-10-24T13:25:28.852333700Z",
     "start_time": "2023-10-24T13:25:28.845804400Z"
    }
   }
  },
  {
   "cell_type": "code",
   "execution_count": 102,
   "outputs": [],
   "source": [
    "def read_input():\n",
    "    n, m = map(int, input().split())\n",
    "    x_train = np.array([input().split() for _ in range(n)]).astype(float)\n",
    "    y_train = np.array([input().split() for _ in range(n)]).astype(float)\n",
    "    return x_train, y_train\n",
    "\n",
    "\n",
    "def solution():\n",
    "    x_train, y_train = (\n",
    "        np.array([\n",
    "            [-2, 2],\n",
    "            [2, -2],\n",
    "            [-2, 2],\n",
    "            [1, -1],\n",
    "            [-1, 1],\n",
    "            [2, -1]\n",
    "        ]),\n",
    "        np.array([\n",
    "            [0],\n",
    "            [1],\n",
    "            [0],\n",
    "            [1],\n",
    "            [0],\n",
    "            [1]\n",
    "        ])\n",
    "    )\n",
    "\n",
    "    model = LogisticRegression(max_iter=5e3, lr=0.04, l1_coef=0.1)\n",
    "    model.fit(x_train, y_train)\n",
    "\n",
    "    all_weights = [model.bias] + list(model.weights.flatten())\n",
    "    result = ' '.join(map(lambda x: str(float(x)), all_weights))\n",
    "    print(result)"
   ],
   "metadata": {
    "collapsed": false,
    "ExecuteTime": {
     "end_time": "2023-10-24T13:17:06.203940800Z",
     "start_time": "2023-10-24T13:17:06.201408300Z"
    }
   }
  },
  {
   "cell_type": "code",
   "execution_count": 108,
   "outputs": [
    {
     "name": "stdout",
     "output_type": "stream",
     "text": [
      "0.00443797077736644 1.63406495815339 -0.003190510815292158\n"
     ]
    }
   ],
   "source": [
    "solution()"
   ],
   "metadata": {
    "collapsed": false,
    "ExecuteTime": {
     "end_time": "2023-10-24T13:25:33.652821Z",
     "start_time": "2023-10-24T13:25:33.274000600Z"
    }
   }
  }
 ],
 "metadata": {
  "kernelspec": {
   "display_name": "Python 3",
   "language": "python",
   "name": "python3"
  },
  "language_info": {
   "codemirror_mode": {
    "name": "ipython",
    "version": 2
   },
   "file_extension": ".py",
   "mimetype": "text/x-python",
   "name": "python",
   "nbconvert_exporter": "python",
   "pygments_lexer": "ipython2",
   "version": "2.7.6"
  }
 },
 "nbformat": 4,
 "nbformat_minor": 0
}

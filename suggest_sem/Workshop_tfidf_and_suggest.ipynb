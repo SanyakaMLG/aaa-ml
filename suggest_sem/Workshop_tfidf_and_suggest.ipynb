{
 "cells": [
  {
   "cell_type": "code",
   "execution_count": 1,
   "metadata": {
    "ExecuteTime": {
     "end_time": "2023-11-12T13:31:18.019238Z",
     "start_time": "2023-11-12T13:31:12.302798400Z"
    }
   },
   "outputs": [
    {
     "name": "stdout",
     "output_type": "stream",
     "text": [
      "Requirement already satisfied: gensim in c:\\users\\aleks\\anaconda3\\lib\\site-packages (4.3.0)\n",
      "Requirement already satisfied: numpy>=1.18.5 in c:\\users\\aleks\\anaconda3\\lib\\site-packages (from gensim) (1.24.3)\n",
      "Requirement already satisfied: scipy>=1.7.0 in c:\\users\\aleks\\anaconda3\\lib\\site-packages (from gensim) (1.10.1)\n",
      "Requirement already satisfied: smart-open>=1.8.1 in c:\\users\\aleks\\anaconda3\\lib\\site-packages (from gensim) (5.2.1)\n",
      "Requirement already satisfied: FuzzyTM>=0.4.0 in c:\\users\\aleks\\anaconda3\\lib\\site-packages (from gensim) (2.0.5)\n",
      "Requirement already satisfied: pandas in c:\\users\\aleks\\anaconda3\\lib\\site-packages (from FuzzyTM>=0.4.0->gensim) (1.5.3)\n",
      "Requirement already satisfied: pyfume in c:\\users\\aleks\\anaconda3\\lib\\site-packages (from FuzzyTM>=0.4.0->gensim) (0.2.25)\n",
      "Requirement already satisfied: python-dateutil>=2.8.1 in c:\\users\\aleks\\anaconda3\\lib\\site-packages (from pandas->FuzzyTM>=0.4.0->gensim) (2.8.2)\n",
      "Requirement already satisfied: pytz>=2020.1 in c:\\users\\aleks\\anaconda3\\lib\\site-packages (from pandas->FuzzyTM>=0.4.0->gensim) (2022.7)\n",
      "Requirement already satisfied: simpful in c:\\users\\aleks\\anaconda3\\lib\\site-packages (from pyfume->FuzzyTM>=0.4.0->gensim) (2.11.0)\n",
      "Requirement already satisfied: fst-pso in c:\\users\\aleks\\anaconda3\\lib\\site-packages (from pyfume->FuzzyTM>=0.4.0->gensim) (1.8.1)\n",
      "Requirement already satisfied: six>=1.5 in c:\\users\\aleks\\anaconda3\\lib\\site-packages (from python-dateutil>=2.8.1->pandas->FuzzyTM>=0.4.0->gensim) (1.16.0)\n",
      "Requirement already satisfied: miniful in c:\\users\\aleks\\anaconda3\\lib\\site-packages (from fst-pso->pyfume->FuzzyTM>=0.4.0->gensim) (0.0.6)\n"
     ]
    }
   ],
   "source": [
    "!pip install gensim"
   ]
  },
  {
   "cell_type": "code",
   "execution_count": 21,
   "metadata": {
    "pycharm": {
     "name": "#%%\n"
    },
    "ExecuteTime": {
     "end_time": "2023-11-12T13:42:53.186259500Z",
     "start_time": "2023-11-12T13:42:53.181416800Z"
    }
   },
   "outputs": [],
   "source": [
    "import pandas as pd\n",
    "import numpy as np\n",
    "import ssl\n",
    "import gensim\n",
    "from gensim.models.callbacks import CallbackAny2Vec\n",
    "\n",
    "from sklearn.linear_model import LogisticRegression\n",
    "from sklearn.feature_extraction.text import CountVectorizer, TfidfVectorizer\n",
    "from sklearn.model_selection import train_test_split\n",
    "from sklearn.metrics import accuracy_score\n",
    "\n",
    "ssl._create_default_https_context = ssl._create_unverified_context\n",
    "\n",
    "\n",
    "class LossLogger(CallbackAny2Vec):\n",
    "    def __init__(self):\n",
    "        self.epoch = 0\n",
    "        self.loss_previous_step = 0\n",
    "\n",
    "    def on_epoch_end(self, model):\n",
    "        loss = model.get_latest_training_loss()\n",
    "        print('Loss after epoch {}: {}'.format(self.epoch, loss - self.loss_previous_step))\n",
    "        self.epoch += 1\n",
    "        self.loss_previous_step = loss\n",
    "        \n",
    "\n",
    "class EpochLogger(CallbackAny2Vec):\n",
    "    def __init__(self):\n",
    "        self.epoch = 0\n",
    "\n",
    "    def on_epoch_end(self, model):\n",
    "        print(f'Epoch {self.epoch}')\n",
    "        self.epoch += 1\n",
    "\n",
    "        "
   ]
  },
  {
   "cell_type": "markdown",
   "metadata": {
    "pycharm": {
     "name": "#%% md\n"
    }
   },
   "source": [
    "# TF-IDF и Suggest"
   ]
  },
  {
   "cell_type": "markdown",
   "metadata": {
    "pycharm": {
     "name": "#%% md\n"
    }
   },
   "source": [
    "Этот семинар будет посвящен работе с текстами. Мы будем решать задачу о которой говорили на лекции: будем реализовывать suggest."
   ]
  },
  {
   "cell_type": "markdown",
   "metadata": {
    "pycharm": {
     "name": "#%% md\n"
    }
   },
   "source": [
    "### План семинара\n",
    "\n",
    "\n",
    "* [Задача suggest: многоклассовая классификация](#Задача-suggest)\n",
    "* [Обучаем модель линейной регрессии](#Обучаем-модель-лог-регрессии)\n",
    "    - Делаем бейзлайн\n",
    "    - Улучшаем бейзлайн\n",
    "    \n",
    "* Обучаем word2vec\n",
    "* Вычисляем признаки заголовков\n",
    "* Смотрим метрику в нашей задаче\n",
    "\n",
    "**Работа на семинаре**\n",
    "* Реализуем tf-idf \n",
    "\n",
    "**Домашнее задание**\n",
    "* Реализовать класс сервиса suggest-by-title"
   ]
  },
  {
   "cell_type": "markdown",
   "metadata": {
    "pycharm": {
     "name": "#%% md\n"
    }
   },
   "source": [
    "### Задача suggest\n",
    "\n",
    "Подача без suggest:\n",
    "\n",
    "<img src=\"https://ucarecdn.com/05ab935a-ff65-4d75-afcb-6eb0d71c5d44/\" width=\"700\">"
   ]
  },
  {
   "cell_type": "markdown",
   "metadata": {
    "pycharm": {
     "name": "#%% md\n"
    }
   },
   "source": [
    "Подача с suggest:\n",
    "<img src=\"https://ucarecdn.com/5e1684f1-eec5-4054-9e43-08be8d9acbcb/\" width=\"700\">"
   ]
  },
  {
   "cell_type": "markdown",
   "metadata": {
    "pycharm": {
     "name": "#%% md\n"
    }
   },
   "source": [
    "Задача заключается в том, чтобы определить к какой категории относится объявление используя заголовок. Категорий в выборке 54, задача, соответственно многоклассовая классификация."
   ]
  },
  {
   "cell_type": "markdown",
   "metadata": {
    "pycharm": {
     "name": "#%% md\n"
    }
   },
   "source": [
    "Задача многоклассовой классификации методом one-versus-all:\n",
    "\n",
    "<img src=\"https://ucarecdn.com/2abe5812-3f6e-42cf-97a4-a35a6de58c6d/\" width=\"534\">"
   ]
  },
  {
   "cell_type": "markdown",
   "metadata": {
    "pycharm": {
     "name": "#%% md\n"
    }
   },
   "source": [
    "### Смотрим на данные"
   ]
  },
  {
   "cell_type": "code",
   "execution_count": 3,
   "metadata": {
    "pycharm": {
     "name": "#%%\n"
    },
    "ExecuteTime": {
     "end_time": "2023-11-12T13:31:49.306758700Z",
     "start_time": "2023-11-12T13:31:48.923041400Z"
    }
   },
   "outputs": [],
   "source": [
    "data_train = pd.read_csv('suggest_train.csv', index_col=0)\n",
    "data_test = pd.read_csv('suggest_test.csv', index_col=0)\n",
    "w2v_train = pd.read_csv('unlabeled_data.csv', index_col=0)"
   ]
  },
  {
   "cell_type": "code",
   "execution_count": 4,
   "metadata": {
    "pycharm": {
     "name": "#%%\n"
    },
    "ExecuteTime": {
     "end_time": "2023-11-12T13:31:50.475507300Z",
     "start_time": "2023-11-12T13:31:50.456385300Z"
    }
   },
   "outputs": [
    {
     "data": {
      "text/plain": "                                                     title  category_id  \\\nitem_id                                                                   \n335330            Раствор. Товарный бетон от производителя           15   \n137480                                    Детская кроватка           16   \n242690   Кровать -качалка с ящиком для вещей, два полож...           34   \n434016              Линолеум комитекс лин печора орфей 431           15   \n237890        Распродажа имущества предприятия. Компьютеры            7   \n\n                                                      name  \nitem_id                                                     \n335330   Для дома и дачи|Ремонт и строительство|Стройма...  \n137480   Для дома и дачи|Мебель и интерьер|Кровати, див...  \n242690   Личные вещи|Товары для детей и игрушки|Детская...  \n434016   Для дома и дачи|Ремонт и строительство|Стройма...  \n237890           Бытовая электроника|Настольные компьютеры  ",
      "text/html": "<div>\n<style scoped>\n    .dataframe tbody tr th:only-of-type {\n        vertical-align: middle;\n    }\n\n    .dataframe tbody tr th {\n        vertical-align: top;\n    }\n\n    .dataframe thead th {\n        text-align: right;\n    }\n</style>\n<table border=\"1\" class=\"dataframe\">\n  <thead>\n    <tr style=\"text-align: right;\">\n      <th></th>\n      <th>title</th>\n      <th>category_id</th>\n      <th>name</th>\n    </tr>\n    <tr>\n      <th>item_id</th>\n      <th></th>\n      <th></th>\n      <th></th>\n    </tr>\n  </thead>\n  <tbody>\n    <tr>\n      <th>335330</th>\n      <td>Раствор. Товарный бетон от производителя</td>\n      <td>15</td>\n      <td>Для дома и дачи|Ремонт и строительство|Стройма...</td>\n    </tr>\n    <tr>\n      <th>137480</th>\n      <td>Детская кроватка</td>\n      <td>16</td>\n      <td>Для дома и дачи|Мебель и интерьер|Кровати, див...</td>\n    </tr>\n    <tr>\n      <th>242690</th>\n      <td>Кровать -качалка с ящиком для вещей, два полож...</td>\n      <td>34</td>\n      <td>Личные вещи|Товары для детей и игрушки|Детская...</td>\n    </tr>\n    <tr>\n      <th>434016</th>\n      <td>Линолеум комитекс лин печора орфей 431</td>\n      <td>15</td>\n      <td>Для дома и дачи|Ремонт и строительство|Стройма...</td>\n    </tr>\n    <tr>\n      <th>237890</th>\n      <td>Распродажа имущества предприятия. Компьютеры</td>\n      <td>7</td>\n      <td>Бытовая электроника|Настольные компьютеры</td>\n    </tr>\n  </tbody>\n</table>\n</div>"
     },
     "execution_count": 4,
     "metadata": {},
     "output_type": "execute_result"
    }
   ],
   "source": [
    "data_train.head()"
   ]
  },
  {
   "cell_type": "markdown",
   "metadata": {
    "pycharm": {
     "name": "#%% md\n"
    }
   },
   "source": [
    "### Обучаем модель линейной регрессии"
   ]
  },
  {
   "cell_type": "markdown",
   "metadata": {
    "pycharm": {
     "name": "#%% md\n"
    }
   },
   "source": [
    "#### Разбиваем данные на трейн и валидацию"
   ]
  },
  {
   "cell_type": "markdown",
   "metadata": {
    "pycharm": {
     "name": "#%% md\n"
    }
   },
   "source": [
    "Идеи:\n",
    "- Частые слова зашумляют выборку;\n",
    "- Редкие слова дают модели переобучиться;\n",
    "- n-граммы позволят частично учитывать порядок;\n",
    "- Регуляризация позволит уменьшить эффект переобучения;\n",
    "- ???"
   ]
  },
  {
   "cell_type": "code",
   "execution_count": 123,
   "metadata": {
    "pycharm": {
     "name": "#%%\n"
    },
    "ExecuteTime": {
     "end_time": "2023-11-12T15:12:52.976594800Z",
     "start_time": "2023-11-12T15:12:52.966337200Z"
    }
   },
   "outputs": [],
   "source": [
    "train_titles, val_titles, y_train, y_val = train_test_split(\n",
    "    data_train['title'],\n",
    "    data_train['category_id'],\n",
    "    random_state=42\n",
    ")"
   ]
  },
  {
   "cell_type": "code",
   "execution_count": 6,
   "metadata": {
    "pycharm": {
     "name": "#%%\n"
    },
    "ExecuteTime": {
     "end_time": "2023-11-12T13:32:11.050482100Z",
     "start_time": "2023-11-12T13:32:11.035456700Z"
    }
   },
   "outputs": [
    {
     "data": {
      "text/plain": "CountVectorizer()",
      "text/html": "<style>#sk-container-id-1 {color: black;}#sk-container-id-1 pre{padding: 0;}#sk-container-id-1 div.sk-toggleable {background-color: white;}#sk-container-id-1 label.sk-toggleable__label {cursor: pointer;display: block;width: 100%;margin-bottom: 0;padding: 0.3em;box-sizing: border-box;text-align: center;}#sk-container-id-1 label.sk-toggleable__label-arrow:before {content: \"▸\";float: left;margin-right: 0.25em;color: #696969;}#sk-container-id-1 label.sk-toggleable__label-arrow:hover:before {color: black;}#sk-container-id-1 div.sk-estimator:hover label.sk-toggleable__label-arrow:before {color: black;}#sk-container-id-1 div.sk-toggleable__content {max-height: 0;max-width: 0;overflow: hidden;text-align: left;background-color: #f0f8ff;}#sk-container-id-1 div.sk-toggleable__content pre {margin: 0.2em;color: black;border-radius: 0.25em;background-color: #f0f8ff;}#sk-container-id-1 input.sk-toggleable__control:checked~div.sk-toggleable__content {max-height: 200px;max-width: 100%;overflow: auto;}#sk-container-id-1 input.sk-toggleable__control:checked~label.sk-toggleable__label-arrow:before {content: \"▾\";}#sk-container-id-1 div.sk-estimator input.sk-toggleable__control:checked~label.sk-toggleable__label {background-color: #d4ebff;}#sk-container-id-1 div.sk-label input.sk-toggleable__control:checked~label.sk-toggleable__label {background-color: #d4ebff;}#sk-container-id-1 input.sk-hidden--visually {border: 0;clip: rect(1px 1px 1px 1px);clip: rect(1px, 1px, 1px, 1px);height: 1px;margin: -1px;overflow: hidden;padding: 0;position: absolute;width: 1px;}#sk-container-id-1 div.sk-estimator {font-family: monospace;background-color: #f0f8ff;border: 1px dotted black;border-radius: 0.25em;box-sizing: border-box;margin-bottom: 0.5em;}#sk-container-id-1 div.sk-estimator:hover {background-color: #d4ebff;}#sk-container-id-1 div.sk-parallel-item::after {content: \"\";width: 100%;border-bottom: 1px solid gray;flex-grow: 1;}#sk-container-id-1 div.sk-label:hover label.sk-toggleable__label {background-color: #d4ebff;}#sk-container-id-1 div.sk-serial::before {content: \"\";position: absolute;border-left: 1px solid gray;box-sizing: border-box;top: 0;bottom: 0;left: 50%;z-index: 0;}#sk-container-id-1 div.sk-serial {display: flex;flex-direction: column;align-items: center;background-color: white;padding-right: 0.2em;padding-left: 0.2em;position: relative;}#sk-container-id-1 div.sk-item {position: relative;z-index: 1;}#sk-container-id-1 div.sk-parallel {display: flex;align-items: stretch;justify-content: center;background-color: white;position: relative;}#sk-container-id-1 div.sk-item::before, #sk-container-id-1 div.sk-parallel-item::before {content: \"\";position: absolute;border-left: 1px solid gray;box-sizing: border-box;top: 0;bottom: 0;left: 50%;z-index: -1;}#sk-container-id-1 div.sk-parallel-item {display: flex;flex-direction: column;z-index: 1;position: relative;background-color: white;}#sk-container-id-1 div.sk-parallel-item:first-child::after {align-self: flex-end;width: 50%;}#sk-container-id-1 div.sk-parallel-item:last-child::after {align-self: flex-start;width: 50%;}#sk-container-id-1 div.sk-parallel-item:only-child::after {width: 0;}#sk-container-id-1 div.sk-dashed-wrapped {border: 1px dashed gray;margin: 0 0.4em 0.5em 0.4em;box-sizing: border-box;padding-bottom: 0.4em;background-color: white;}#sk-container-id-1 div.sk-label label {font-family: monospace;font-weight: bold;display: inline-block;line-height: 1.2em;}#sk-container-id-1 div.sk-label-container {text-align: center;}#sk-container-id-1 div.sk-container {/* jupyter's `normalize.less` sets `[hidden] { display: none; }` but bootstrap.min.css set `[hidden] { display: none !important; }` so we also need the `!important` here to be able to override the default hidden behavior on the sphinx rendered scikit-learn.org. See: https://github.com/scikit-learn/scikit-learn/issues/21755 */display: inline-block !important;position: relative;}#sk-container-id-1 div.sk-text-repr-fallback {display: none;}</style><div id=\"sk-container-id-1\" class=\"sk-top-container\"><div class=\"sk-text-repr-fallback\"><pre>CountVectorizer()</pre><b>In a Jupyter environment, please rerun this cell to show the HTML representation or trust the notebook. <br />On GitHub, the HTML representation is unable to render, please try loading this page with nbviewer.org.</b></div><div class=\"sk-container\" hidden><div class=\"sk-item\"><div class=\"sk-estimator sk-toggleable\"><input class=\"sk-toggleable__control sk-hidden--visually\" id=\"sk-estimator-id-1\" type=\"checkbox\" checked><label for=\"sk-estimator-id-1\" class=\"sk-toggleable__label sk-toggleable__label-arrow\">CountVectorizer</label><div class=\"sk-toggleable__content\"><pre>CountVectorizer()</pre></div></div></div></div></div>"
     },
     "execution_count": 6,
     "metadata": {},
     "output_type": "execute_result"
    }
   ],
   "source": [
    "count_vectorizer = CountVectorizer()\n",
    "count_vectorizer"
   ]
  },
  {
   "cell_type": "code",
   "execution_count": 7,
   "metadata": {
    "pycharm": {
     "name": "#%%\n"
    },
    "ExecuteTime": {
     "end_time": "2023-11-12T13:32:12.767603500Z",
     "start_time": "2023-11-12T13:32:12.575168300Z"
    }
   },
   "outputs": [],
   "source": [
    "X_train = count_vectorizer.fit_transform(train_titles.values)\n",
    "X_val = count_vectorizer.transform(val_titles.values)"
   ]
  },
  {
   "cell_type": "code",
   "execution_count": 8,
   "metadata": {
    "pycharm": {
     "name": "#%%\n"
    },
    "ExecuteTime": {
     "end_time": "2023-11-12T13:32:19.794949400Z",
     "start_time": "2023-11-12T13:32:19.765027700Z"
    }
   },
   "outputs": [
    {
     "name": "stdout",
     "output_type": "stream",
     "text": [
      "17203\n"
     ]
    },
    {
     "data": {
      "text/plain": "{'бильярдный': 7912,\n 'стол': 15273,\n 'крассула': 10951,\n 'оватта': 12566,\n 'денежное': 9243,\n 'дерево': 9257,\n 'фиксатор': 16165,\n 'вальгус': 8240,\n 'про': 13737,\n 'подставка': 13385,\n 'для': 9403,\n 'цветов': 16486,\n 'комплект': 10695,\n 'мебели': 11705,\n 'ибица': 9941,\n 'wi': 6974,\n 'fi': 3596,\n 'роутер': 14329,\n 'link': 4611,\n 'dir': 3143,\n '615': 1598,\n 'электрический': 16976,\n 'самовар': 14492,\n 'sony': 6238,\n 'experia': 3500,\n 'snell': 6208,\n 'farcry': 3557,\n 'ps4': 5635,\n 'продам': 13770,\n 'смартфон': 14896,\n 'nokia': 5241,\n 'lumia': 4694,\n '630': 1613,\n 'dual': 3234,\n 'чёрный': 16667,\n 'minelab': 4954,\n '17': 424,\n 'smart': 6186,\n 'ctx': 2971,\n '3030': 1017,\n 'ведьмак': 8295,\n 'дикая': 9354,\n 'охота': 12824,\n 'продаются': 13774,\n 'коньки': 10764,\n 'фигурные': 16158,\n 'женские': 9672,\n 'ретро': 14217,\n 'свеча': 14601,\n 'очень': 12842,\n 'красивая': 10928,\n 'настенная': 12259,\n 'полка': 13463,\n 'навесная': 12162,\n 'пиджак': 13124,\n 'из': 9982,\n 'экокожи': 16935,\n 'со': 14944,\n 'стульями': 15349,\n 'набор': 12158,\n 'машинок': 11687,\n '26': 866,\n 'штук': 16876,\n 'компьютер': 10717,\n 'сруб': 15136,\n 'айпад': 7360,\n 'шкаф': 16794,\n 'комод': 10680,\n 'компьютерный': 10721,\n 'всей': 8624,\n 'семьи': 14668,\n 'билли': 7909,\n 'стеллажи': 15225,\n 'от': 12744,\n 'икеа': 10009,\n 'iphone': 4268,\n '4s': 1340,\n '16': 390,\n 'gb': 3799,\n 'рст': 14332,\n 'white': 6972,\n 'зановески': 9786,\n 'светильник': 14575,\n 'настольный': 12267,\n 'нож': 12437,\n 'вrоwning': 8218,\n 'складной': 14832,\n 'da': 3033,\n '45': 1289,\n 'бас': 7761,\n 'гитара': 8898,\n 'спорт': 15104,\n 'шапки': 16685,\n '599': 1518,\n 'фунгицид': 16311,\n 'против': 13830,\n 'грибных': 9057,\n 'бактериальных': 7694,\n 'заболеван': 9722,\n 'пластилин': 13200,\n 'marvel': 4812,\n 'мстители': 12063,\n 'матрас': 11659,\n 'ватный': 8273,\n '70x190': 1725,\n 'чехле': 16624,\n 'поликатон': 13450,\n 'статуэтка': 15198,\n 'обезьяна': 12507,\n 'символ': 14756,\n 'нового': 12420,\n 'года': 8939,\n 'горшочек': 8997,\n 'ссср': 15142,\n 'платье': 13215,\n 'телефон': 15542,\n 'prestigio': 5594,\n 'шведская': 16717,\n 'стенка': 15229,\n 'ольховка': 12642,\n 'декор': 9214,\n '5а': 1537,\n 'зеркало': 9874,\n 'бетон': 7888,\n 'фундамента': 16312,\n '200': 658,\n 'п4': 12857,\n 'w6': 6899,\n 'f50': 3528,\n 'завод': 9729,\n 'новые': 12428,\n 'санки': 14518,\n 'коляска': 10642,\n 'ника4': 12386,\n 'перекид': 13050,\n 'ручка': 14396,\n 'шорты': 16839,\n 'хлопок': 16386,\n 'почти': 13615,\n '32': 1049,\n 'стульчик': 15346,\n 'кормления': 10811,\n 'пеларгония': 13009,\n 'розебудная': 14267,\n 'туфли': 15860,\n 'чердак': 16592,\n 'электрогенератор': 16985,\n 'бензиновый': 7842,\n 'двери': 9136,\n 'гребной': 9047,\n 'тренажер': 15750,\n 'kettler': 4429,\n 'kadett': 4393,\n '5s': 1532,\n 'ноутбук': 12473,\n 'кейс': 10395,\n 'lg': 4587,\n 'spirit': 6271,\n 'pulsar': 5652,\n 'shellcase': 6104,\n 'красный': 10946,\n 'выпрямитель': 8687,\n 'волос': 8571,\n 'maxima': 4830,\n 'прихожей': 13728,\n 'табуретами': 15438,\n 'детск': 9278,\n 'люстра': 11461,\n 'потолочная': 13604,\n 'манеж': 11568,\n 'бреви': 8087,\n 'brevi': 2598,\n 'прихожая': 13727,\n 'maxim': 4829,\n 'дверь': 9144,\n 'металлическая': 11778,\n 'новый': 12429,\n 'золотой': 9918,\n '16gb': 416,\n 'горизот': 8973,\n 'виго': 8434,\n 'перчатки': 13086,\n 'оптом': 12670,\n 'розница': 14271,\n 'paso': 5421,\n '3008': 1001,\n 'защитное': 9825,\n 'стекло': 15214,\n 'meizu': 4869,\n 'm2note': 4725,\n 'дубленка': 9527,\n 'натуральная': 12279,\n 'стаканы': 15158,\n 'coca': 2864,\n 'cola': 2867,\n '2014': 695,\n 'acer': 2092,\n 'v206hqlab': 6739,\n 'игрушки': 9969,\n 'ручной': 14401,\n 'работы': 13975,\n 'по': 13277,\n 'низким': 12384,\n 'ценам': 16501,\n 'серебряная': 14699,\n 'черепаха': 16597,\n 'на': 12156,\n 'продажу': 13769,\n 'два': 9133,\n 'стола': 15274,\n 'угловых': 15896,\n 'пк': 13173,\n 'полотенцесушитель': 13487,\n 'америна': 7480,\n '60': 1560,\n 'белый': 7828,\n 'тумба': 15828,\n 'умывальник': 15974,\n 'раковиной': 14069,\n 'fifa15': 3603,\n 'мультиварка': 12095,\n 'mystery': 5096,\n 'samsung': 5995,\n 'galaxy': 3786,\n 'tab': 6442,\n '10': 96,\n 'sm': 6183,\n 't531': 6433,\n 'электроды': 16991,\n 'standard': 6315,\n 'элвс': 16968,\n 'щетки': 16914,\n 'болгарку': 8019,\n 'круг': 11017,\n 'коньячные': 10768,\n 'бокалы': 8009,\n 'yamaha': 7157,\n 'c40': 2663,\n 'тостер': 15713,\n 'atlanta': 2302,\n 'ath': 2294,\n '231': 796,\n 'korg': 4462,\n 'electribe': 3371,\n 'esx': 3467,\n 'asus': 2287,\n 'n73sv': 5147,\n 'автомобиль': 7316,\n 'жигули': 9694,\n 'москвич': 12033,\n 'серьги': 14721,\n 'золотые': 9920,\n 'бриллиантами': 8106,\n 'стильный': 15251,\n 'сони': 15015,\n 'коробкой': 10818,\n 'документами': 9434,\n 'кожаная': 10564,\n 'сумка': 15370,\n 'cappelletto': 2711,\n 'этюдник': 17097,\n 'полевой': 13442,\n 'выдвижными': 8668,\n 'ножками': 12443,\n 'великолепный': 8305,\n 'детский': 9281,\n 'электромобиль': 17001,\n 'bmw': 2538,\n 'х6m': 16335,\n 'highscreen': 4046,\n 'zera': 7229,\n 'фикус': 16168,\n 'норковая': 12458,\n 'шуба': 16886,\n 'тунис': 15837,\n 'москвы': 12035,\n 'июне': 10162,\n 'radiotehnika': 5723,\n 's90': 5968,\n 'multipad': 5067,\n 'ultra': 6684,\n 'duo': 3242,\n '3g': 1174,\n 'корпус': 10840,\n 'пароварка': 12945,\n 'как': 10199,\n 'новая': 12415,\n 'титановые': 15631,\n 'рыболовные': 14411,\n 'поводки': 13290,\n '012': 37,\n '21qsalg03717g': 751,\n '19': 519,\n 'kubcirkonii': 4475,\n 'кольца': 10636,\n '925': 1969,\n 'замшевая': 9781,\n 'кепка': 10403,\n 'аккумулятор': 7384,\n 'panasonic': 5400,\n '18650': 501,\n '3200mah': 1052,\n 'игры': 9970,\n 'пс4': 13884,\n 'айфик': 7363,\n '4ка': 1350,\n 'ltd': 4685,\n 'delux': 3079,\n 'replica': 5786,\n 'каруселька': 10321,\n 'заводная': 9731,\n 'телевизор': 15533,\n 'кронштейн': 11009,\n 'учебники': 16074,\n '11': 188,\n 'класс': 10468,\n 'whirlpool': 6970,\n 'awg': 2334,\n '324': 1068,\n '600': 1561,\n 'шекспир': 16733,\n 'шиллер': 16760,\n 'отд': 12760,\n 'тома': 15664,\n 'академия': 7370,\n '1937г': 553,\n 'стиральная': 15259,\n 'машина': 11683,\n 'самсунг': 14506,\n 'загрузка': 9738,\n 'белья': 7833,\n 'кг': 10387,\n 'электрогитара': 16987,\n 'thunder': 6535,\n 'фоторамка': 16264,\n 'за': 9720,\n 'вятка': 8734,\n 'сережки': 14710,\n 'наличии': 12217,\n 'кофейный': 10889,\n 'столик': 15281,\n 'межкомнатные': 11741,\n 'rt': 5893,\n 'n10p': 5104,\n 'щенок': 16910,\n 'ficher': 3598,\n 'price': 5597,\n 'ощути': 12855,\n 'мощь': 12054,\n 'скорость': 14840,\n 'lenovo': 4575,\n 'v580': 6743,\n 'core': 2908,\n 'i7': 4156,\n '3520m': 1113,\n 'диван': 9339,\n 'очиститель': 12843,\n 'воды': 8548,\n 'zepter': 7228,\n 'd2005': 3011,\n 'монитор': 11991,\n 'жк': 9706,\n 'viewsonic': 6825,\n 'va2016w': 6747,\n '20': 657,\n 'дюймов': 9572,\n 's4': 5942,\n 'sakura': 5983,\n 'sa': 5970,\n '7753': 1797,\n 'шестиструнная': 16752,\n 'акустическая': 7418,\n 'чехлом': 16626,\n 'asuz': 2288,\n 'zenfone': 7223,\n 'a450': 2056,\n 'межкомнатная': 11740,\n 'мозаика': 11943,\n 'обменяю': 12518,\n 'ванна': 8247,\n 'акриловая': 7394,\n 'banoperito': 2397,\n 'aralia': 2231,\n 'de': 3060,\n 'lux': 4704,\n '170x75': 432,\n 'экскурсия': 16957,\n 'игра': 9955,\n 'зарница': 9807,\n 'школ': 16803,\n 'рулонные': 14371,\n 'шторы': 16872,\n 'mini': 4955,\n 'тканью': 15640,\n 'лаура': 11209,\n 'плойка': 13252,\n 'стайлер': 15153,\n 'babyliss': 2375,\n 'pro': 5611,\n 'perfect': 5462,\n 'curl': 2978,\n 'housefit': 4098,\n 'ht': 4116,\n '90332hp': 1950,\n 'подвесной': 13323,\n 'модуль': 11934,\n 'электробритва': 16981,\n 'philips': 5484,\n 'at': 2290,\n '890': 1906,\n 'детская': 9279,\n 'кровать': 10995,\n 'смесь': 14912,\n 'ps3': 5633,\n 'slim': 6181,\n '350': 1106,\n 'xbox': 7105,\n '360': 1130,\n '500': 1369,\n 'слон': 14882,\n 'качалка': 10346,\n 'халат': 16345,\n 'медицинский': 11730,\n 'домик': 9455,\n 'сортер': 15028,\n 'полесье': 13444,\n 'сапоги': 14526,\n 'кожанная': 10565,\n 'итальянская': 10153,\n 'тысячелетие': 15866,\n 'русской': 14386,\n 'истории': 10140,\n 'переплет': 13064,\n 'кольцо': 10640,\n 'бриллиантом': 8110,\n 'сплиттер': 15102,\n 'входная': 8660,\n 'круглый': 11022,\n 'чехол': 16629,\n 'продаю': 13772,\n 'чудесный': 16655,\n 'ребенка': 14138,\n 'x6m': 7094,\n '101': 128,\n 'см': 14890,\n 'стиральную': 15262,\n 'машину': 11688,\n 'груша': 9079,\n 'бокса': 8013,\n 'пропеллеры': 13809,\n 'skymec': 6170,\n '1345': 290,\n 'quick': 5691,\n 'release': 5778,\n 'carbon': 2719,\n 'props': 5625,\n 'a7': 2069,\n 'трансформер': 15736,\n 'gene': 3819,\n 'две': 9134,\n 'лавки': 11150,\n 'частного': 16565,\n 'дома': 9443,\n 'или': 10018,\n 'дачи': 9127,\n 'кожаные': 10570,\n 'сервиз': 14683,\n 'гдр': 8802,\n 'фигурного': 16157,\n 'катания': 10332,\n 'размер': 14040,\n '44': 1280,\n '46': 1305,\n 'кофты': 10897,\n 'пайты': 12872,\n 'свитерки': 14607,\n 'системный': 14792,\n 'блок': 7964,\n 'классическое': 10475,\n 'белое': 7820,\n 'aio': 2130,\n 'smarti': 6191,\n 'multi': 5064,\n 'touch': 6592,\n 'a550': 2063,\n 'андроид': 7526,\n 'блузки': 7971,\n 'бадлоны': 7680,\n 'футболки': 16321,\n 'колонки': 10623,\n 'microlab': 4925,\n 'solo': 6229,\n '2с': 970,\n 'генератор': 8814,\n 'дыма': 9562,\n 'viper': 6838,\n 'nt': 5261,\n 'оригинальные': 12692,\n 'ботинки': 8057,\n 'timberland': 6540,\n '38': 1153,\n 'рибок': 14223,\n 'besmoda': 2475,\n 'конструирование': 10745,\n 'женской': 9677,\n 'мужской': 12074,\n 'одежды': 12591,\n '2013': 694,\n '14г': 342,\n 'tab2': 6443,\n '8gb': 1916,\n 'fpv': 3679,\n 'квадрокоптер': 10373,\n 'syma': 6413,\n 'x5sw': 7090,\n 'видеокамерой': 8441,\n 'xp': 7133,\n 'deus': 3101,\n 'катушка': 10337,\n '28': 899,\n 'наушники': 12289,\n 'ws4': 7057,\n 'без': 7799,\n 'блока': 7965,\n 'ivanka': 4301,\n 'trump': 6630,\n 'оригинал': 12689,\n 'мебель': 11706,\n 'школьника': 16805,\n 'massimo': 4819,\n 'dutti': 3252,\n 'кинескоп': 10425,\n '51': 1413,\n 'шейный': 16732,\n 'корсет': 10848,\n 'orlett': 5338,\n 'уф': 16063,\n 'лампа': 11183,\n 'док': 9428,\n 'станция': 15175,\n 'ipod': 4271,\n 'продаётся': 13776,\n 'планшет': 13188,\n 'digma': 3133,\n 'optima': 5323,\n '25': 833,\n 'рублей': 14343,\n '2000': 659,\n 'россия': 14317,\n 'рубеже': 14340,\n 'просвещение': 13816,\n 'электроника': 17004,\n '25ас': 859,\n '126': 251,\n 'рыболовная': 14410,\n 'база': 7681,\n 'отдыха': 12769,\n 'gta': 3935,\n 'электрическая': 16975,\n 'соковыжималка': 14984,\n 'упаковке': 16006,\n 'подголовник': 13334,\n 'вверх': 8286,\n 'гантель': 8762,\n 'разборная': 14011,\n 'хромированная': 16442,\n 'кейсе': 10396,\n 'дальномер': 9108,\n 'bosch': 2566,\n 'plr': 5529,\n '50': 1368,\n 'plus': 5530,\n 'сноуборд': 14935,\n 'arbor': 2233,\n 'series': 6077,\n '170': 425,\n 'macbook': 4755,\n '13': 277,\n '2011': 692,\n 'xperia': 7136,\n '2305': 792,\n 'кактус': 10200,\n 'turbinicarpus': 6643,\n 'pseudopectinatus': 5638,\n '198675': 600,\n 'power': 5572,\n 'five': 3626,\n 'coolpad': 2903,\n 'f2': 3519,\n 'настольная': 12264,\n 'твери': 15512,\n 'чтения': 16644,\n 'тур': 15839,\n 'арабские': 7566,\n 'эмираты': 17057,\n 'питанием': 13163,\n 'неделю': 12317,\n 'jbl': 4334,\n 'charge': 2796,\n 'ibanez': 4167,\n 's420': 5945,\n 'cardio': 2722,\n 'twister': 6655,\n 'мормышки': 12022,\n 'безнасадочные': 7802,\n 'fitstudio': 3624,\n 'открытым': 12785,\n 'носом': 12467,\n 'usb': 6723,\n 'модем': 11923,\n 'мегафон': 11714,\n 'huawei': 4125,\n 'e1550': 3281,\n 'чайник': 16552,\n 'пластиковый': 13199,\n 'centek': 2769,\n 'ct': 2967,\n '0030': 18,\n 'игрушечная': 9967,\n 'дрель': 9505,\n 'сабвуфер': 14449,\n 'крытые': 11044,\n 'резиновые': 14168,\n '6s': 1680,\n 'быстросьемный': 8202,\n 'пилон': 13138,\n '2х': 976,\n 'режимный': 14160,\n 'высота': 8703,\n '135': 291,\n 'летящая': 11293,\n 'юбка': 17115,\n 'bsb': 2616,\n 'collection': 2871,\n 'фарфоровая': 16113,\n 'фигурка': 16154,\n 'лисы': 11346,\n 'me': 4853,\n '170c': 428,\n 'пара': 12920,\n 'проигрывателей': 13789,\n 'denon': 3089,\n 'dn': 3175,\n 's3000': 5939,\n 'кухни': 11123,\n 'комнаты': 10679,\n 'изделия': 9992,\n 'элементами': 17028,\n 'ковки': 10545,\n 'би': 7896,\n 'метал': 11770,\n 'руб': 14335,\n 'юбилейные': 17112,\n 'монеты': 11989,\n 'стул': 15343,\n 'массива': 11634,\n 'лиственницы': 11340,\n 'фея': 16143,\n 'френч': 16288,\n 'пресс': 13676,\n 'мл': 11898,\n 'артикул': 7600,\n '40156': 1218,\n 'знаменитые': 9904,\n 'наручные': 12241,\n 'часы': 16572,\n 'skmei': 6165,\n '1025': 139,\n 'утяжелители': 16061,\n 'поясные': 13623,\n 'adsl': 2111,\n 'ethernet': 3471,\n 'маршрутизатор': 11612,\n 'dsl': 3227,\n '2500u': 837,\n 'фиолетовый': 16192,\n 'шарфик': 16704,\n 'голубой': 8961,\n 'шарф': 16703,\n 'хомут': 16410,\n '5130': 1426,\n 'xpressmusic': 7140,\n 'мягкая': 12142,\n 'игрушка': 9968,\n 'заяц': 9830,\n 'бра': 8073,\n 'tv': 6651,\n '6500': 1638,\n 'накладки': 12202,\n 'avent': 2324,\n 'кулон': 11091,\n 'удача': 15908,\n 'шуруповерт': 16896,\n 'dwt': 3263,\n 'abs': 2087,\n '18': 465,\n 'behringer': 2452,\n 'phoria': 5489,\n 'umc204': 6695,\n 'сепаратор': 14677,\n 'гирю': 8895,\n '24кг': 831,\n 'чайно': 16555,\n 'модонна': 11931,\n 'китаянки': 10455,\n 'ниточная': 12403,\n 'штора': 16869,\n 'ниблер': 12378,\n 'атласное': 7632,\n 'чёрное': 16665,\n 'праздничное': 13643,\n '360e': 1132,\n 'прошитый': 13862,\n 'персональный': 13081,\n '90f': 1956,\n 'om': 5304,\n 'молоток': 11968,\n 'отбойный': 12749,\n 'hm1317c': 4067,\n 'makita': 4774,\n 'журнальный': 9715,\n 'икея': 10011,\n 'булат': 8165,\n 'окуджава': 12627,\n 'путешествие': 13919,\n 'дилетантов': 9357,\n 'indesit': 4217,\n 'поризованный': 13552,\n '75': 1765,\n 'porikam': 5564,\n 'купальник': 11095,\n 'художественной': 16454,\n 'гимнастики': 8876,\n 'модель': 11920,\n 'экошпон': 16946,\n 'стильная': 15248,\n 'разноцветным': 14049,\n 'принтом': 13714,\n 'пила': 13133,\n 'торцовочная': 15708,\n 'прогресс': 13757,\n 'пту': 13891,\n '255': 851,\n '1800': 467,\n 'табурет': 15437,\n 'металл': 11775,\n '4х2': 1361,\n 'box': 2577,\n '250gb': 840,\n 'женский': 9673,\n 'кожаный': 10571,\n 'ремень': 14190,\n 'vera': 6783,\n 'pelle': 5455,\n 'поясная': 13620,\n 'раздвижные': 14030,\n 'самовывоз': 14493,\n 'мкр': 11896,\n 'кузнечики': 11072,\n 'кофеварка': 10883,\n 'gl': 3853,\n '0706': 79,\n 'юбочки': 17119,\n '100': 97,\n 'el': 3366,\n 'porta': 5566,\n 'mg1': 4897,\n 'alu': 2172,\n 'bs': 2615,\n 'гитару': 8902,\n 'ямаха': 17158,\n 'ковер': 10544,\n 'orville': 5344,\n 'by': 2642,\n 'gibson': 3837,\n 'sg': 6086,\n '61': 1589,\n 'reissue': 5777,\n 'музыкальный': 12085,\n 'мобиль': 11910,\n 'кроватку': 10994,\n 'экскаватор': 16951,\n 'lego': 4568,\n 'technic': 6483,\n '8235': 1868,\n 'столовый': 15285,\n 'времён': 8616,\n 'campomaggi': 2697,\n 'плиткорез': 13249,\n 'z3': 7190,\n 'sipo': 6146,\n 'покрывало': 13427,\n 'цветное': 16483,\n 'новое': 12421,\n '160x220': 398,\n '2шт': 988,\n 'дым': 9561,\n '900': 1944,\n 'вт': 8646,\n 'мс72': 12060,\n 'черн': 16599,\n 'монет': 11980,\n '2015': 697,\n '10к': 178,\n '50к': 1403,\n '1р': 651,\n '5р': 1548,\n '10р': 182,\n 'ммд': 11902,\n 'валенки': 8236,\n 'плитка': 13246,\n 'перстень': 13083,\n '585': 1514,\n 'пробы': 13743,\n 'бриллиант': 8105,\n 'аккумуляторы': 7390,\n 'эриксон': 17077,\n 'yotaphone': 7175,\n 'обмен': 12517,\n 'magari': 4761,\n 'b1': 2348,\n 'c1': 2644,\n 'corso': 2913,\n 'di': 3119,\n 'italiano': 4295,\n 'ikea': 4201,\n 'айфон': 7364,\n 'куртка': 11114,\n 'натур': 12278,\n 'кожа': 10563,\n 'стулья': 15348,\n 'стеновые': 15233,\n 'панели': 12907,\n 'под': 13306,\n 'кирпич': 10436,\n 'искусственный': 10121,\n 'камень': 10223,\n 'sp': 6250,\n 'gio': 3847,\n 'n427': 5131,\n 'комбинезон': 10658,\n 'защитный': 9827,\n 'велошлем': 8332,\n 'giro': 3850,\n 'me2': 4855,\n 'highlight': 4045,\n 'yellow': 7163,\n 'желтый': 9662,\n 'кроватка': 10992,\n 'орхидея': 12715,\n 'фаленопсис': 16100,\n 'розово': 14275,\n 'вишнёвый': 8497,\n '22004': 762,\n 'радиаторы': 13990,\n 'отопления': 12798,\n 'модульная': 11935,\n '136': 298,\n 'глория': 8921,\n '295': 916,\n 'z1': 7186,\n 'кух': 11122,\n 'уголок': 15899,\n 'часовой': 16563,\n 'браслет': 8076,\n 'винтаж': 8473,\n 'fixo': 3629,\n 'flex': 3637,\n 'растягивающийся': 14117,\n 'жилет': 9701,\n 'swat': 6399,\n 'три': 15777,\n 'elenberg': 3384,\n 'ss5050': 6297,\n 'саб': 14447,\n 'перфоратор': 13085,\n 'чудесное': 16653,\n 'которое': 10878,\n 'подойдёт': 13362,\n 'любое': 11446,\n 'желтая': 9659,\n 'msi': 5042,\n 'gt': 3929,\n '70': 1702,\n 'onc': 5312,\n 'n8': 5148,\n 'hublot': 4127,\n 'big': 2495,\n 'bang': 2396,\n 'арт': 7597,\n '995': 2011,\n 'колонка': 10620,\n 'элетрическая': 17031,\n 'беговая': 7791,\n 'дорожка': 9474,\n 'до': 9415,\n '120': 219,\n 'бойла': 8004,\n 'full': 3714,\n 'hd': 4010,\n 'led': 4565,\n '22': 759,\n 'дюйма': 9571,\n '223v5l': 776,\n 'санаторий': 14512,\n 'знание': 9905,\n 'сочи': 15057,\n 'молокоотсос': 11963,\n 'tommee': 6569,\n 'tippee': 6545,\n 'x553ma': 7088,\n 'винтажная': 8474,\n 'янтарная': 17166,\n 'подвеска': 13318,\n 'цепочке': 16517,\n 'la': 4510,\n 'fleur': 3636,\n 'уличный': 15957,\n 'куба': 11058,\n 'варадеро': 8257,\n 'вылет': 8679,\n 'марта': 11608,\n 'ночей': 12476,\n 'старт': 15189,\n 'дуас': 9522,\n 'ортопедические': 12705,\n 'матрасы': 11665,\n 'живец': 9689,\n 'карась': 10282,\n 'рыбалки': 14406,\n 'sven': 6393,\n 'фантастика': 16104,\n 'кристофер': 10986,\n 'сташефф': 15204,\n 'чародей': 16559,\n 'разгневанны': 14024,\n 'шарлотта': 16694,\n 'земляничка': 9868,\n 'конструктор': 10746,\n 'uncharted': 6701,\n 'дверцы': 9143,\n 'жалюзийные': 9643,\n 'дерева': 9253,\n 'палатку': 12882,\n 'зимнюю': 9889,\n 'подседельная': 13380,\n 'medi': 4860,\n 'защитная': 9822,\n 'крышка': 11047,\n 'молодежная': 11960,\n 'велосипедная': 8321,\n 'толстовка': 15656,\n 'bork': 2563,\n 'ju': 4362,\n 'cup': 2977,\n '21095': 738,\n 'si': 6124,\n '64': 1624,\n 'rose': 5872,\n 'gold': 3871,\n 'маникюрный': 11577,\n '1950': 565,\n 'ворсма': 8591,\n 'nillkin': 5229,\n 'h324': 3969,\n 'leon': 4579,\n '920': 1967,\n 'windows': 6990,\n 'возможен': 8554,\n 'торг': 15693,\n 'срочно': 15135,\n 'compact': 2882,\n '12000': 221,\n 'возможе': 8553,\n 'акустические': 7419,\n '4ом': 1353,\n 'мощная': 12050,\n 'светодиодная': 14589,\n 'e40': 3296,\n '120w': 232,\n 'цоколь': 16543,\n 'е27': 9581,\n 'е4': 9582,\n 'лицензионный': 11360,\n 'диск': 9375,\n 'rise': 5828,\n 'of': 5296,\n 'the': 6515,\n 'argonauts': 2239,\n '100008': 100,\n 'ноутбука': 12474,\n 'v19': 6734,\n 'thule': 6534,\n 'pack': 5387,\n 'pedal': 5448,\n 'сенсоры': 14676,\n 'глюкометра': 8929,\n 'freestyle': 3692,\n 'libre': 4596,\n 'светильники': 14578,\n ...}"
     },
     "execution_count": 8,
     "metadata": {},
     "output_type": "execute_result"
    }
   ],
   "source": [
    "print(len(count_vectorizer.vocabulary_))\n",
    "count_vectorizer.vocabulary_"
   ]
  },
  {
   "cell_type": "code",
   "execution_count": 9,
   "metadata": {
    "pycharm": {
     "name": "#%%\n"
    },
    "ExecuteTime": {
     "end_time": "2023-11-12T13:32:48.436401900Z",
     "start_time": "2023-11-12T13:32:32.983526500Z"
    }
   },
   "outputs": [
    {
     "data": {
      "text/plain": "LogisticRegression()",
      "text/html": "<style>#sk-container-id-2 {color: black;}#sk-container-id-2 pre{padding: 0;}#sk-container-id-2 div.sk-toggleable {background-color: white;}#sk-container-id-2 label.sk-toggleable__label {cursor: pointer;display: block;width: 100%;margin-bottom: 0;padding: 0.3em;box-sizing: border-box;text-align: center;}#sk-container-id-2 label.sk-toggleable__label-arrow:before {content: \"▸\";float: left;margin-right: 0.25em;color: #696969;}#sk-container-id-2 label.sk-toggleable__label-arrow:hover:before {color: black;}#sk-container-id-2 div.sk-estimator:hover label.sk-toggleable__label-arrow:before {color: black;}#sk-container-id-2 div.sk-toggleable__content {max-height: 0;max-width: 0;overflow: hidden;text-align: left;background-color: #f0f8ff;}#sk-container-id-2 div.sk-toggleable__content pre {margin: 0.2em;color: black;border-radius: 0.25em;background-color: #f0f8ff;}#sk-container-id-2 input.sk-toggleable__control:checked~div.sk-toggleable__content {max-height: 200px;max-width: 100%;overflow: auto;}#sk-container-id-2 input.sk-toggleable__control:checked~label.sk-toggleable__label-arrow:before {content: \"▾\";}#sk-container-id-2 div.sk-estimator input.sk-toggleable__control:checked~label.sk-toggleable__label {background-color: #d4ebff;}#sk-container-id-2 div.sk-label input.sk-toggleable__control:checked~label.sk-toggleable__label {background-color: #d4ebff;}#sk-container-id-2 input.sk-hidden--visually {border: 0;clip: rect(1px 1px 1px 1px);clip: rect(1px, 1px, 1px, 1px);height: 1px;margin: -1px;overflow: hidden;padding: 0;position: absolute;width: 1px;}#sk-container-id-2 div.sk-estimator {font-family: monospace;background-color: #f0f8ff;border: 1px dotted black;border-radius: 0.25em;box-sizing: border-box;margin-bottom: 0.5em;}#sk-container-id-2 div.sk-estimator:hover {background-color: #d4ebff;}#sk-container-id-2 div.sk-parallel-item::after {content: \"\";width: 100%;border-bottom: 1px solid gray;flex-grow: 1;}#sk-container-id-2 div.sk-label:hover label.sk-toggleable__label {background-color: #d4ebff;}#sk-container-id-2 div.sk-serial::before {content: \"\";position: absolute;border-left: 1px solid gray;box-sizing: border-box;top: 0;bottom: 0;left: 50%;z-index: 0;}#sk-container-id-2 div.sk-serial {display: flex;flex-direction: column;align-items: center;background-color: white;padding-right: 0.2em;padding-left: 0.2em;position: relative;}#sk-container-id-2 div.sk-item {position: relative;z-index: 1;}#sk-container-id-2 div.sk-parallel {display: flex;align-items: stretch;justify-content: center;background-color: white;position: relative;}#sk-container-id-2 div.sk-item::before, #sk-container-id-2 div.sk-parallel-item::before {content: \"\";position: absolute;border-left: 1px solid gray;box-sizing: border-box;top: 0;bottom: 0;left: 50%;z-index: -1;}#sk-container-id-2 div.sk-parallel-item {display: flex;flex-direction: column;z-index: 1;position: relative;background-color: white;}#sk-container-id-2 div.sk-parallel-item:first-child::after {align-self: flex-end;width: 50%;}#sk-container-id-2 div.sk-parallel-item:last-child::after {align-self: flex-start;width: 50%;}#sk-container-id-2 div.sk-parallel-item:only-child::after {width: 0;}#sk-container-id-2 div.sk-dashed-wrapped {border: 1px dashed gray;margin: 0 0.4em 0.5em 0.4em;box-sizing: border-box;padding-bottom: 0.4em;background-color: white;}#sk-container-id-2 div.sk-label label {font-family: monospace;font-weight: bold;display: inline-block;line-height: 1.2em;}#sk-container-id-2 div.sk-label-container {text-align: center;}#sk-container-id-2 div.sk-container {/* jupyter's `normalize.less` sets `[hidden] { display: none; }` but bootstrap.min.css set `[hidden] { display: none !important; }` so we also need the `!important` here to be able to override the default hidden behavior on the sphinx rendered scikit-learn.org. See: https://github.com/scikit-learn/scikit-learn/issues/21755 */display: inline-block !important;position: relative;}#sk-container-id-2 div.sk-text-repr-fallback {display: none;}</style><div id=\"sk-container-id-2\" class=\"sk-top-container\"><div class=\"sk-text-repr-fallback\"><pre>LogisticRegression()</pre><b>In a Jupyter environment, please rerun this cell to show the HTML representation or trust the notebook. <br />On GitHub, the HTML representation is unable to render, please try loading this page with nbviewer.org.</b></div><div class=\"sk-container\" hidden><div class=\"sk-item\"><div class=\"sk-estimator sk-toggleable\"><input class=\"sk-toggleable__control sk-hidden--visually\" id=\"sk-estimator-id-2\" type=\"checkbox\" checked><label for=\"sk-estimator-id-2\" class=\"sk-toggleable__label sk-toggleable__label-arrow\">LogisticRegression</label><div class=\"sk-toggleable__content\"><pre>LogisticRegression()</pre></div></div></div></div></div>"
     },
     "execution_count": 9,
     "metadata": {},
     "output_type": "execute_result"
    }
   ],
   "source": [
    "log_reg = LogisticRegression(multi_class='auto', solver='lbfgs')\n",
    "log_reg.fit(X_train, y_train)"
   ]
  },
  {
   "cell_type": "code",
   "execution_count": 10,
   "metadata": {
    "pycharm": {
     "name": "#%%\n"
    },
    "ExecuteTime": {
     "end_time": "2023-11-12T13:33:09.124863300Z",
     "start_time": "2023-11-12T13:33:09.111314100Z"
    }
   },
   "outputs": [
    {
     "data": {
      "text/plain": "0.739"
     },
     "execution_count": 10,
     "metadata": {},
     "output_type": "execute_result"
    }
   ],
   "source": [
    "preds = log_reg.predict(X_val)\n",
    "accuracy_score(preds, y_val)"
   ]
  },
  {
   "cell_type": "markdown",
   "metadata": {
    "pycharm": {
     "name": "#%% md\n"
    },
    "ExecuteTime": {
     "end_time": "2023-10-24T17:52:27.365454800Z",
     "start_time": "2023-10-24T17:52:27.355039600Z"
    }
   },
   "source": [
    "### Учим w2v"
   ]
  },
  {
   "cell_type": "markdown",
   "metadata": {
    "pycharm": {
     "name": "#%% md\n"
    }
   },
   "source": [
    "Идеи:\n",
    "- Обучить качественные векторные представление слов на неразмеченных данных;\n",
    "- Получить из них вектора заголовков;\n",
    "- Оценить адекватность;\n",
    "- Оценить качество решения нашей задачи;\n",
    "- Большая размерность позволит получить более качественные векторные представления;\n",
    "- Сравнить CBOW и skip-gram;\n",
    "- ???"
   ]
  },
  {
   "cell_type": "code",
   "execution_count": 22,
   "metadata": {
    "pycharm": {
     "name": "#%%\n"
    },
    "ExecuteTime": {
     "end_time": "2023-11-12T13:43:00.494138700Z",
     "start_time": "2023-11-12T13:43:00.273383400Z"
    }
   },
   "outputs": [
    {
     "name": "stdout",
     "output_type": "stream",
     "text": [
      "(200000, 2)\n"
     ]
    },
    {
     "data": {
      "text/plain": "       item_id                                              title\n30000   377939                            1 рубль царские 10 штук\n30001   384779  Напольный насос giyo высокого давления, с мано...\n30002   276889                                Sony Xperia m2 Dual\n30003   155718   Zoom B2.1U+ AC Процессор эффектов для бас-гитары\n30004   260705                    Люстра Favourite petite 1574-7P",
      "text/html": "<div>\n<style scoped>\n    .dataframe tbody tr th:only-of-type {\n        vertical-align: middle;\n    }\n\n    .dataframe tbody tr th {\n        vertical-align: top;\n    }\n\n    .dataframe thead th {\n        text-align: right;\n    }\n</style>\n<table border=\"1\" class=\"dataframe\">\n  <thead>\n    <tr style=\"text-align: right;\">\n      <th></th>\n      <th>item_id</th>\n      <th>title</th>\n    </tr>\n  </thead>\n  <tbody>\n    <tr>\n      <th>30000</th>\n      <td>377939</td>\n      <td>1 рубль царские 10 штук</td>\n    </tr>\n    <tr>\n      <th>30001</th>\n      <td>384779</td>\n      <td>Напольный насос giyo высокого давления, с мано...</td>\n    </tr>\n    <tr>\n      <th>30002</th>\n      <td>276889</td>\n      <td>Sony Xperia m2 Dual</td>\n    </tr>\n    <tr>\n      <th>30003</th>\n      <td>155718</td>\n      <td>Zoom B2.1U+ AC Процессор эффектов для бас-гитары</td>\n    </tr>\n    <tr>\n      <th>30004</th>\n      <td>260705</td>\n      <td>Люстра Favourite petite 1574-7P</td>\n    </tr>\n  </tbody>\n</table>\n</div>"
     },
     "execution_count": 22,
     "metadata": {},
     "output_type": "execute_result"
    }
   ],
   "source": [
    "import re\n",
    "from gensim.models.word2vec import Word2Vec\n",
    "from gensim.models.fasttext import FastText\n",
    "\n",
    "WORD_PATTERN = '(?u)\\\\b\\\\w\\\\w+\\\\b'\n",
    "\n",
    "reg_exp = re.compile(pattern=WORD_PATTERN)\n",
    "w2v_train_data = pd.read_csv('unlabeled_data.csv',  index_col=0)\n",
    "print(w2v_train_data.shape)\n",
    "w2v_train_data.head()"
   ]
  },
  {
   "cell_type": "code",
   "execution_count": 13,
   "metadata": {
    "pycharm": {
     "name": "#%%\n"
    },
    "ExecuteTime": {
     "end_time": "2023-11-12T13:34:17.607437800Z",
     "start_time": "2023-11-12T13:34:16.920317300Z"
    }
   },
   "outputs": [
    {
     "data": {
      "text/plain": "[['рубль', 'царские', '10', 'штук'],\n ['напольный', 'насос', 'giyo', 'высокого', 'давления', 'манометр'],\n ['sony', 'xperia', 'm2', 'dual'],\n ['zoom', 'b2', '1u', 'ac', 'процессор', 'эффектов', 'для', 'бас', 'гитары'],\n ['люстра', 'favourite', 'petite', '1574', '7p']]"
     },
     "execution_count": 13,
     "metadata": {},
     "output_type": "execute_result"
    }
   ],
   "source": [
    "sentences = [reg_exp.findall(s.lower()) for s in w2v_train_data.title]\n",
    "sentences[:5]"
   ]
  },
  {
   "cell_type": "code",
   "execution_count": 108,
   "metadata": {
    "pycharm": {
     "name": "#%%\n"
    },
    "scrolled": true,
    "ExecuteTime": {
     "end_time": "2023-11-12T14:46:23.860788Z",
     "start_time": "2023-11-12T14:45:25.200595100Z"
    }
   },
   "outputs": [
    {
     "name": "stdout",
     "output_type": "stream",
     "text": [
      "Loss after epoch 0: 3059256.25\n",
      "Loss after epoch 1: 2194016.75\n",
      "Loss after epoch 2: 1941359.0\n",
      "Loss after epoch 3: 1781419.0\n",
      "Loss after epoch 4: 1579477.0\n",
      "Loss after epoch 5: 1531855.0\n",
      "Loss after epoch 6: 1522879.0\n",
      "Loss after epoch 7: 1497039.0\n",
      "Loss after epoch 8: 1476703.0\n",
      "Loss after epoch 9: 1097924.0\n",
      "Loss after epoch 10: 1033648.0\n",
      "Loss after epoch 11: 1015964.0\n",
      "Loss after epoch 12: 1015168.0\n",
      "Loss after epoch 13: 1001242.0\n",
      "Loss after epoch 14: 992018.0\n",
      "Loss after epoch 15: 986758.0\n",
      "Loss after epoch 16: 987446.0\n",
      "Loss after epoch 17: 973238.0\n",
      "Loss after epoch 18: 969504.0\n",
      "Loss after epoch 19: 959824.0\n",
      "Loss after epoch 20: 954220.0\n",
      "Loss after epoch 21: 953956.0\n",
      "Loss after epoch 22: 942324.0\n",
      "Loss after epoch 23: 935746.0\n",
      "Loss after epoch 24: 933738.0\n",
      "Loss after epoch 25: 928354.0\n",
      "Loss after epoch 26: 514960.0\n",
      "Loss after epoch 27: 325740.0\n",
      "Loss after epoch 28: 322000.0\n",
      "Loss after epoch 29: 317464.0\n",
      "Loss after epoch 30: 313628.0\n",
      "Loss after epoch 31: 308852.0\n",
      "Loss after epoch 32: 297292.0\n",
      "Loss after epoch 33: 296056.0\n",
      "Loss after epoch 34: 288744.0\n",
      "Loss after epoch 35: 285548.0\n",
      "Loss after epoch 36: 287660.0\n",
      "Loss after epoch 37: 276444.0\n",
      "Loss after epoch 38: 279184.0\n",
      "Loss after epoch 39: 260024.0\n",
      "Loss after epoch 40: 258932.0\n",
      "Loss after epoch 41: 252180.0\n",
      "Loss after epoch 42: 262648.0\n",
      "Loss after epoch 43: 257544.0\n",
      "Loss after epoch 44: 253876.0\n",
      "Loss after epoch 45: 250696.0\n",
      "Loss after epoch 46: 245020.0\n",
      "Loss after epoch 47: 240416.0\n",
      "Loss after epoch 48: 235716.0\n",
      "Loss after epoch 49: 232652.0\n"
     ]
    },
    {
     "data": {
      "text/plain": "(26655014, 36711850)"
     },
     "execution_count": 108,
     "metadata": {},
     "output_type": "execute_result"
    }
   ],
   "source": [
    "w2v_model = Word2Vec(sg=1, vector_size=200, window=5, min_count=3, hs=1, negative=12)\n",
    "w2v_model.build_vocab(sentences)\n",
    "w2v_model.train(\n",
    "    sentences,\n",
    "    total_examples=w2v_model.corpus_count,\n",
    "    epochs=50,\n",
    "    compute_loss=True,\n",
    "    callbacks=[LossLogger()]\n",
    ")"
   ]
  },
  {
   "cell_type": "code",
   "execution_count": 117,
   "outputs": [
    {
     "name": "stdout",
     "output_type": "stream",
     "text": [
      "Loss after epoch 0: 0.0\n",
      "Loss after epoch 1: 0.0\n",
      "Loss after epoch 2: 0.0\n",
      "Loss after epoch 3: 0.0\n",
      "Loss after epoch 4: 0.0\n",
      "Loss after epoch 5: 0.0\n",
      "Loss after epoch 6: 0.0\n",
      "Loss after epoch 7: 0.0\n",
      "Loss after epoch 8: 0.0\n",
      "Loss after epoch 9: 0.0\n",
      "Loss after epoch 10: 0.0\n",
      "Loss after epoch 11: 0.0\n",
      "Loss after epoch 12: 0.0\n",
      "Loss after epoch 13: 0.0\n",
      "Loss after epoch 14: 0.0\n",
      "Loss after epoch 15: 0.0\n",
      "Loss after epoch 16: 0.0\n",
      "Loss after epoch 17: 0.0\n",
      "Loss after epoch 18: 0.0\n",
      "Loss after epoch 19: 0.0\n",
      "Loss after epoch 20: 0.0\n",
      "Loss after epoch 21: 0.0\n",
      "Loss after epoch 22: 0.0\n",
      "Loss after epoch 23: 0.0\n",
      "Loss after epoch 24: 0.0\n",
      "Loss after epoch 25: 0.0\n",
      "Loss after epoch 26: 0.0\n",
      "Loss after epoch 27: 0.0\n",
      "Loss after epoch 28: 0.0\n",
      "Loss after epoch 29: 0.0\n",
      "Loss after epoch 30: 0.0\n",
      "Loss after epoch 31: 0.0\n",
      "Loss after epoch 32: 0.0\n",
      "Loss after epoch 33: 0.0\n",
      "Loss after epoch 34: 0.0\n",
      "Loss after epoch 35: 0.0\n",
      "Loss after epoch 36: 0.0\n",
      "Loss after epoch 37: 0.0\n",
      "Loss after epoch 38: 0.0\n",
      "Loss after epoch 39: 0.0\n",
      "Loss after epoch 40: 0.0\n",
      "Loss after epoch 41: 0.0\n",
      "Loss after epoch 42: 0.0\n",
      "Loss after epoch 43: 0.0\n",
      "Loss after epoch 44: 0.0\n",
      "Loss after epoch 45: 0.0\n",
      "Loss after epoch 46: 0.0\n",
      "Loss after epoch 47: 0.0\n",
      "Loss after epoch 48: 0.0\n",
      "Loss after epoch 49: 0.0\n"
     ]
    },
    {
     "data": {
      "text/plain": "(30686138, 36711850)"
     },
     "execution_count": 117,
     "metadata": {},
     "output_type": "execute_result"
    }
   ],
   "source": [
    "fasttext = FastText(sg=1, vector_size=150, window=3, min_count=3, hs=1, negative=5)\n",
    "fasttext.build_vocab(sentences)\n",
    "fasttext.train(\n",
    "    sentences,\n",
    "    total_examples=fasttext.corpus_count,\n",
    "    epochs=50,\n",
    "    compute_loss=True,\n",
    "    callbacks=[LossLogger()]\n",
    ")"
   ],
   "metadata": {
    "collapsed": false,
    "ExecuteTime": {
     "end_time": "2023-11-12T14:54:12.444048800Z",
     "start_time": "2023-11-12T14:51:25.797199900Z"
    }
   }
  },
  {
   "cell_type": "code",
   "execution_count": 71,
   "metadata": {
    "pycharm": {
     "name": "#%%\n"
    },
    "ExecuteTime": {
     "end_time": "2023-11-12T14:27:05.069684400Z",
     "start_time": "2023-11-12T14:27:05.048287900Z"
    }
   },
   "outputs": [
    {
     "data": {
      "text/plain": "[('продаю', 0.9604673385620117),\n ('породам', 0.7619137763977051),\n ('новую', 0.6197563409805298),\n ('продаются', 0.6033662557601929),\n ('продадим', 0.5792599320411682),\n ('хорошую', 0.5781928896903992),\n ('обменяю', 0.5660350918769836),\n ('срочно', 0.5624358654022217),\n ('подам', 0.5613104701042175),\n ('прдаю', 0.5541633367538452)]"
     },
     "execution_count": 71,
     "metadata": {},
     "output_type": "execute_result"
    }
   ],
   "source": [
    "w2v_model.wv.similar_by_word('продам')"
   ]
  },
  {
   "cell_type": "code",
   "execution_count": 72,
   "metadata": {
    "pycharm": {
     "name": "#%%\n"
    },
    "ExecuteTime": {
     "end_time": "2023-11-12T14:27:08.264112300Z",
     "start_time": "2023-11-12T14:27:08.252555600Z"
    }
   },
   "outputs": [
    {
     "data": {
      "text/plain": "[('iphone', 0.7975996732711792),\n ('4s', 0.7229064702987671),\n ('5s', 0.7223721742630005),\n ('iphone5', 0.7081241011619568),\n ('селикон', 0.7000847458839417),\n ('5с', 0.6986843943595886),\n ('ipone', 0.6905215978622437),\n ('айфоны', 0.6752544641494751),\n ('айфон4', 0.6624860763549805),\n ('5c', 0.6389901041984558)]"
     },
     "execution_count": 72,
     "metadata": {},
     "output_type": "execute_result"
    }
   ],
   "source": [
    "w2v_model.wv.similar_by_word('айфон')"
   ]
  },
  {
   "cell_type": "code",
   "execution_count": 149,
   "metadata": {
    "pycharm": {
     "name": "#%%\n"
    },
    "ExecuteTime": {
     "end_time": "2023-11-12T15:21:42.477040300Z",
     "start_time": "2023-11-12T15:21:42.468384Z"
    }
   },
   "outputs": [],
   "source": [
    "class Word2VecTransformer:\n",
    "    \n",
    "    def __init__(self, w2v_model, word_pattern):\n",
    "        \n",
    "        self.w2v_model = w2v_model\n",
    "        self.word_pattern = word_pattern\n",
    "        self.re = re.compile(pattern=self.word_pattern)\n",
    "        \n",
    "    def fit(self, X):\n",
    "        return self\n",
    "    \n",
    "    def transform(self, X):\n",
    "        \n",
    "        X_transformed = np.zeros((len(X), self.w2v_model.wv.vector_size))\n",
    "        for i, title in enumerate(X):\n",
    "            \n",
    "            title_vector = np.zeros((self.w2v_model.wv.vector_size,))\n",
    "            tokens = self.re.findall(title.lower())\n",
    "            for token in tokens:\n",
    "                if token in self.w2v_model.wv.key_to_index:\n",
    "                    title_vector += self.w2v_model.wv.get_vector(token)\n",
    "                    \n",
    "            X_transformed[i] = title_vector / (1 if len(tokens) == 0 else len(tokens))\n",
    "        \n",
    "        return X_transformed"
   ]
  },
  {
   "cell_type": "code",
   "execution_count": 151,
   "metadata": {
    "pycharm": {
     "name": "#%%\n"
    },
    "ExecuteTime": {
     "end_time": "2023-11-12T15:22:15.087254700Z",
     "start_time": "2023-11-12T15:22:14.182476700Z"
    }
   },
   "outputs": [],
   "source": [
    "w2v_transformer = Word2VecTransformer(w2v_model=w2v_model, word_pattern=WORD_PATTERN)\n",
    "ft_transformer = Word2VecTransformer(w2v_model=fasttext, word_pattern=WORD_PATTERN)\n",
    "\n",
    "train_w2v = w2v_transformer.transform(train_titles.values)\n",
    "val_w2v = w2v_transformer.transform(val_titles.values)\n",
    "train_ft = ft_transformer.transform(train_titles.values)\n",
    "val_ft = ft_transformer.transform(val_titles.values)\n",
    "full_ft = ft_transformer.transform(data_train['title'].values)"
   ]
  },
  {
   "cell_type": "code",
   "execution_count": 129,
   "metadata": {
    "pycharm": {
     "name": "#%%\n"
    },
    "ExecuteTime": {
     "end_time": "2023-11-12T15:15:06.723498500Z",
     "start_time": "2023-11-12T15:15:01.580382100Z"
    }
   },
   "outputs": [
    {
     "data": {
      "text/plain": "LogisticRegression(max_iter=1000)",
      "text/html": "<style>#sk-container-id-25 {color: black;}#sk-container-id-25 pre{padding: 0;}#sk-container-id-25 div.sk-toggleable {background-color: white;}#sk-container-id-25 label.sk-toggleable__label {cursor: pointer;display: block;width: 100%;margin-bottom: 0;padding: 0.3em;box-sizing: border-box;text-align: center;}#sk-container-id-25 label.sk-toggleable__label-arrow:before {content: \"▸\";float: left;margin-right: 0.25em;color: #696969;}#sk-container-id-25 label.sk-toggleable__label-arrow:hover:before {color: black;}#sk-container-id-25 div.sk-estimator:hover label.sk-toggleable__label-arrow:before {color: black;}#sk-container-id-25 div.sk-toggleable__content {max-height: 0;max-width: 0;overflow: hidden;text-align: left;background-color: #f0f8ff;}#sk-container-id-25 div.sk-toggleable__content pre {margin: 0.2em;color: black;border-radius: 0.25em;background-color: #f0f8ff;}#sk-container-id-25 input.sk-toggleable__control:checked~div.sk-toggleable__content {max-height: 200px;max-width: 100%;overflow: auto;}#sk-container-id-25 input.sk-toggleable__control:checked~label.sk-toggleable__label-arrow:before {content: \"▾\";}#sk-container-id-25 div.sk-estimator input.sk-toggleable__control:checked~label.sk-toggleable__label {background-color: #d4ebff;}#sk-container-id-25 div.sk-label input.sk-toggleable__control:checked~label.sk-toggleable__label {background-color: #d4ebff;}#sk-container-id-25 input.sk-hidden--visually {border: 0;clip: rect(1px 1px 1px 1px);clip: rect(1px, 1px, 1px, 1px);height: 1px;margin: -1px;overflow: hidden;padding: 0;position: absolute;width: 1px;}#sk-container-id-25 div.sk-estimator {font-family: monospace;background-color: #f0f8ff;border: 1px dotted black;border-radius: 0.25em;box-sizing: border-box;margin-bottom: 0.5em;}#sk-container-id-25 div.sk-estimator:hover {background-color: #d4ebff;}#sk-container-id-25 div.sk-parallel-item::after {content: \"\";width: 100%;border-bottom: 1px solid gray;flex-grow: 1;}#sk-container-id-25 div.sk-label:hover label.sk-toggleable__label {background-color: #d4ebff;}#sk-container-id-25 div.sk-serial::before {content: \"\";position: absolute;border-left: 1px solid gray;box-sizing: border-box;top: 0;bottom: 0;left: 50%;z-index: 0;}#sk-container-id-25 div.sk-serial {display: flex;flex-direction: column;align-items: center;background-color: white;padding-right: 0.2em;padding-left: 0.2em;position: relative;}#sk-container-id-25 div.sk-item {position: relative;z-index: 1;}#sk-container-id-25 div.sk-parallel {display: flex;align-items: stretch;justify-content: center;background-color: white;position: relative;}#sk-container-id-25 div.sk-item::before, #sk-container-id-25 div.sk-parallel-item::before {content: \"\";position: absolute;border-left: 1px solid gray;box-sizing: border-box;top: 0;bottom: 0;left: 50%;z-index: -1;}#sk-container-id-25 div.sk-parallel-item {display: flex;flex-direction: column;z-index: 1;position: relative;background-color: white;}#sk-container-id-25 div.sk-parallel-item:first-child::after {align-self: flex-end;width: 50%;}#sk-container-id-25 div.sk-parallel-item:last-child::after {align-self: flex-start;width: 50%;}#sk-container-id-25 div.sk-parallel-item:only-child::after {width: 0;}#sk-container-id-25 div.sk-dashed-wrapped {border: 1px dashed gray;margin: 0 0.4em 0.5em 0.4em;box-sizing: border-box;padding-bottom: 0.4em;background-color: white;}#sk-container-id-25 div.sk-label label {font-family: monospace;font-weight: bold;display: inline-block;line-height: 1.2em;}#sk-container-id-25 div.sk-label-container {text-align: center;}#sk-container-id-25 div.sk-container {/* jupyter's `normalize.less` sets `[hidden] { display: none; }` but bootstrap.min.css set `[hidden] { display: none !important; }` so we also need the `!important` here to be able to override the default hidden behavior on the sphinx rendered scikit-learn.org. See: https://github.com/scikit-learn/scikit-learn/issues/21755 */display: inline-block !important;position: relative;}#sk-container-id-25 div.sk-text-repr-fallback {display: none;}</style><div id=\"sk-container-id-25\" class=\"sk-top-container\"><div class=\"sk-text-repr-fallback\"><pre>LogisticRegression(max_iter=1000)</pre><b>In a Jupyter environment, please rerun this cell to show the HTML representation or trust the notebook. <br />On GitHub, the HTML representation is unable to render, please try loading this page with nbviewer.org.</b></div><div class=\"sk-container\" hidden><div class=\"sk-item\"><div class=\"sk-estimator sk-toggleable\"><input class=\"sk-toggleable__control sk-hidden--visually\" id=\"sk-estimator-id-25\" type=\"checkbox\" checked><label for=\"sk-estimator-id-25\" class=\"sk-toggleable__label sk-toggleable__label-arrow\">LogisticRegression</label><div class=\"sk-toggleable__content\"><pre>LogisticRegression(max_iter=1000)</pre></div></div></div></div></div>"
     },
     "execution_count": 129,
     "metadata": {},
     "output_type": "execute_result"
    }
   ],
   "source": [
    "log_reg = LogisticRegression(solver='lbfgs', max_iter=1000)\n",
    "log_reg.fit(full_ft, data_train['category_id'].values)"
   ]
  },
  {
   "cell_type": "code",
   "execution_count": 58,
   "outputs": [],
   "source": [
    "def accuracy_score_3(preds, targets):\n",
    "    size = len(targets)\n",
    "    s = 0\n",
    "    for idx, pred in enumerate(preds):\n",
    "        if targets[idx] in pred:\n",
    "            s += 1\n",
    "    return s / size"
   ],
   "metadata": {
    "collapsed": false,
    "ExecuteTime": {
     "end_time": "2023-11-12T14:23:22.283166900Z",
     "start_time": "2023-11-12T14:23:22.276448500Z"
    }
   }
  },
  {
   "cell_type": "code",
   "execution_count": 131,
   "metadata": {
    "pycharm": {
     "name": "#%%\n"
    },
    "ExecuteTime": {
     "end_time": "2023-11-12T15:15:51.085497800Z",
     "start_time": "2023-11-12T15:15:50.956492900Z"
    }
   },
   "outputs": [
    {
     "data": {
      "text/plain": "0.93955"
     },
     "execution_count": 131,
     "metadata": {},
     "output_type": "execute_result"
    }
   ],
   "source": [
    "predict_top3 = np.argsort(-log_reg.predict_proba(full_ft), axis=-1)[:, :3]\n",
    "accuracy_score_3(predict_top3, data_train['category_id'].values)"
   ]
  },
  {
   "cell_type": "code",
   "execution_count": 153,
   "outputs": [],
   "source": [
    "test_titles = np.array(data_test.index)\n",
    "test_ft = ft_transformer.transform(test_titles)\n",
    "predict = np.argsort(-log_reg.predict_proba(test_ft), axis=-1)[:, :3]\n",
    "pd.DataFrame(predict).to_csv('solution.csv', header=['top1', 'top2', 'top3'], index=False)"
   ],
   "metadata": {
    "collapsed": false,
    "ExecuteTime": {
     "end_time": "2023-11-12T15:22:56.226667900Z",
     "start_time": "2023-11-12T15:22:56.038622600Z"
    }
   }
  },
  {
   "cell_type": "markdown",
   "metadata": {
    "pycharm": {
     "name": "#%% md\n"
    }
   },
   "source": [
    "### Домашнее задание"
   ]
  },
  {
   "cell_type": "markdown",
   "metadata": {
    "pycharm": {
     "name": "#%% md\n"
    }
   },
   "source": [
    "Теоритическая часть (обязательно)."
   ]
  },
  {
   "cell_type": "markdown",
   "metadata": {
    "pycharm": {
     "name": "#%% md\n"
    }
   },
   "source": [
    "1. Посмотреть видео на [3BlueBrowb](https://youtu.be/aircAruvnKk)"
   ]
  },
  {
   "cell_type": "markdown",
   "metadata": {
    "pycharm": {
     "name": "#%% md\n"
    }
   },
   "source": [
    "Практическая часть."
   ]
  },
  {
   "cell_type": "markdown",
   "metadata": {
    "pycharm": {
     "name": "#%% md\n"
    }
   },
   "source": [
    "**Реализовать класс Suggester, который возвращает от 1 до 5 наиболее вероятных категорий по введённой строке.**\n",
    "\n",
    "accuracy по top1 > 0.78"
   ]
  },
  {
   "cell_type": "code",
   "execution_count": null,
   "metadata": {
    "pycharm": {
     "name": "#%%\n"
    }
   },
   "outputs": [],
   "source": [
    "from typing import List\n",
    "\n",
    "class Suggester:\n",
    "    \n",
    "    def __init__(self, max_suggest_count=5, default_suggest=''):\n",
    "        self.max_suggest_count = max_suggest_count\n",
    "        self.default_suggest = default_suggest\n",
    "        \n",
    "    def suggest(self, title: str):\n",
    "        print('Для дома и дачи|Посуда и товары для кухни|Посуда')\n",
    "        print('Хобби и отдых|Коллекционирование|Другое')\n",
    "    \n",
    "    def test_suggest(self):\n",
    "        \n",
    "        title = input()\n",
    "        while title != 'stop':\n",
    "            \n",
    "            suggest = self.suggest(title)\n",
    "\n",
    "            if suggest:\n",
    "                print(suggest)\n",
    "            else:\n",
    "                print(self.default_suggest)\n",
    "            \n",
    "            title = input()"
   ]
  },
  {
   "cell_type": "code",
   "execution_count": null,
   "metadata": {
    "pycharm": {
     "name": "#%%\n"
    }
   },
   "outputs": [],
   "source": [
    "sug = Suggester()\n",
    "sug.test_suggest()"
   ]
  }
 ],
 "metadata": {
  "kernelspec": {
   "display_name": "Python 3 (ipykernel)",
   "language": "python",
   "name": "python3"
  },
  "language_info": {
   "codemirror_mode": {
    "name": "ipython",
    "version": 3
   },
   "file_extension": ".py",
   "mimetype": "text/x-python",
   "name": "python",
   "nbconvert_exporter": "python",
   "pygments_lexer": "ipython3",
   "version": "3.8.12"
  }
 },
 "nbformat": 4,
 "nbformat_minor": 4
}

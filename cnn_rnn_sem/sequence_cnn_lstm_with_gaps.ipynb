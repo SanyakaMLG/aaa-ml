{
 "cells": [
  {
   "cell_type": "markdown",
   "id": "athletic-authorization",
   "metadata": {
    "pycharm": {
     "name": "#%% md\n"
    }
   },
   "source": [
    "Попробуем решить головоломку c предыдущего семинара c помощью нейронной сети. \n",
    "\n",
    "Импортируем нужные функции и модули:"
   ]
  },
  {
   "cell_type": "code",
   "execution_count": 18,
   "id": "circular-warehouse",
   "metadata": {
    "pycharm": {
     "name": "#%%\n"
    }
   },
   "outputs": [],
   "source": [
    "import ssl\n",
    "ssl._create_default_https_context = ssl._create_unverified_context"
   ]
  },
  {
   "cell_type": "code",
   "execution_count": 19,
   "id": "handy-emergency",
   "metadata": {
    "pycharm": {
     "name": "#%%\n"
    }
   },
   "outputs": [],
   "source": [
    "import matplotlib.pyplot as plt\n",
    "import numpy as np\n",
    "import pandas as pd\n",
    "import torch\n",
    "\n",
    "from collections import Counter\n",
    "from IPython.display import clear_output\n",
    "from sklearn.model_selection import train_test_split\n",
    "from torch import nn\n",
    "from torch.utils.data import Dataset, DataLoader\n",
    "from tqdm.auto import tqdm"
   ]
  },
  {
   "cell_type": "markdown",
   "id": "banner-heater",
   "metadata": {
    "pycharm": {
     "name": "#%% md\n"
    }
   },
   "source": [
    "Как и обычно, нам понадобится функция для визуализации процесса обучения — очень важно понимать, что происходит, пока  мы учим нейронную сеть. Будем отслеживать значение функции ошибки и долю правильных ответов для обучающей выборки и валидации."
   ]
  },
  {
   "cell_type": "code",
   "execution_count": 20,
   "id": "tracked-mechanism",
   "metadata": {
    "pycharm": {
     "name": "#%%\n"
    }
   },
   "outputs": [],
   "source": [
    "def plot_progress(train_losses, train_accs, val_loss, val_accs):\n",
    "    clear_output(True)\n",
    "    \n",
    "    f, (ax1, ax2) = plt.subplots(nrows=1, ncols=2)\n",
    "    f.set_figheight(6)\n",
    "    f.set_figwidth(12)\n",
    "    \n",
    "    ax1.plot(train_losses, label='train loss')\n",
    "    ax1.plot(val_loss, label='test loss')\n",
    "    ax1.plot(np.zeros_like(train_losses), '--', label='zero')\n",
    "    ax1.set_title('Loss', fontsize=14)\n",
    "    ax1.set_ylabel('Loss')\n",
    "    ax1.set_xlabel('Batch number')\n",
    "    ax1.legend()\n",
    "    \n",
    "    ax2.plot(train_accs, label='train accuracy')\n",
    "    ax2.plot(val_accs, label='val accuracy')\n",
    "    ax2.plot(np.ones_like(accs), '--', label='100% accuracy')\n",
    "    ax2.set_title('Accuracy', fontsize=14)\n",
    "    ax2.set_ylabel('Accuracy')\n",
    "    ax2.set_xlabel('Batch number')\n",
    "    ax2.legend()\n",
    "\n",
    "    plt.show()"
   ]
  },
  {
   "cell_type": "markdown",
   "id": "pharmaceutical-parliament",
   "metadata": {
    "pycharm": {
     "name": "#%% md\n"
    }
   },
   "source": [
    "Прочитаем файл с данными и убедимся, что он считался верно:"
   ]
  },
  {
   "cell_type": "code",
   "execution_count": 21,
   "id": "alternate-determination",
   "metadata": {
    "pycharm": {
     "name": "#%%\n"
    }
   },
   "outputs": [
    {
     "data": {
      "text/plain": "                                            sequence  class\n0  sjqaeauaknxxorozdxlmarrxrxdwgzaybz:lrphgjfltco...      1\n1  nslqardijhgvtqetxkkbl:bvrfgyvmvbphltfjvvilxjat...      0\n2  iyqzsuiflsqrcxvgdidnfvxkvzgiys:wnikygtgiyfhpyf...      0\n3  rjooxlikqmpydfnibhawleeolfrcikpildaxxhumlawch:...      1\n4  pqqsyndxhmdzekcqujpretnjfzzsbpjbjt:nywmpnrfret...      0",
      "text/html": "<div>\n<style scoped>\n    .dataframe tbody tr th:only-of-type {\n        vertical-align: middle;\n    }\n\n    .dataframe tbody tr th {\n        vertical-align: top;\n    }\n\n    .dataframe thead th {\n        text-align: right;\n    }\n</style>\n<table border=\"1\" class=\"dataframe\">\n  <thead>\n    <tr style=\"text-align: right;\">\n      <th></th>\n      <th>sequence</th>\n      <th>class</th>\n    </tr>\n  </thead>\n  <tbody>\n    <tr>\n      <th>0</th>\n      <td>sjqaeauaknxxorozdxlmarrxrxdwgzaybz:lrphgjfltco...</td>\n      <td>1</td>\n    </tr>\n    <tr>\n      <th>1</th>\n      <td>nslqardijhgvtqetxkkbl:bvrfgyvmvbphltfjvvilxjat...</td>\n      <td>0</td>\n    </tr>\n    <tr>\n      <th>2</th>\n      <td>iyqzsuiflsqrcxvgdidnfvxkvzgiys:wnikygtgiyfhpyf...</td>\n      <td>0</td>\n    </tr>\n    <tr>\n      <th>3</th>\n      <td>rjooxlikqmpydfnibhawleeolfrcikpildaxxhumlawch:...</td>\n      <td>1</td>\n    </tr>\n    <tr>\n      <th>4</th>\n      <td>pqqsyndxhmdzekcqujpretnjfzzsbpjbjt:nywmpnrfret...</td>\n      <td>0</td>\n    </tr>\n  </tbody>\n</table>\n</div>"
     },
     "execution_count": 21,
     "metadata": {},
     "output_type": "execute_result"
    }
   ],
   "source": [
    "data = pd.read_csv('https://stepik.org/media/attachments/lesson/537384/sequence_puzzle.csv')\n",
    "data.head()"
   ]
  },
  {
   "cell_type": "markdown",
   "id": "military-baker",
   "metadata": {
    "pycharm": {
     "name": "#%% md\n"
    }
   },
   "source": [
    "Посмотрим на баланс классов, длину строк в среднем и любые другие идеи, которые придут вам в голову:"
   ]
  },
  {
   "cell_type": "code",
   "execution_count": 2,
   "id": "adaptive-validity",
   "metadata": {
    "pycharm": {
     "name": "#%%\n"
    }
   },
   "outputs": [],
   "source": [
    "# <your beautiful code here>"
   ]
  },
  {
   "cell_type": "code",
   "execution_count": 2,
   "outputs": [],
   "source": [],
   "metadata": {
    "collapsed": false,
    "pycharm": {
     "name": "#%%\n"
    }
   },
   "id": "c1634908c5a2f28d"
  },
  {
   "cell_type": "markdown",
   "id": "outdoor-portfolio",
   "metadata": {
    "pycharm": {
     "name": "#%% md\n"
    }
   },
   "source": [
    "Нам нужно закодировать последовательность перед тем, как подавать её в нейронную сеть — для этого реализуем нужные функции. Чтобы закодировать один элемент последовательности, нужно составить словари символов:"
   ]
  },
  {
   "cell_type": "code",
   "execution_count": 36,
   "id": "reasonable-brave",
   "metadata": {
    "pycharm": {
     "name": "#%%\n"
    }
   },
   "outputs": [],
   "source": [
    "letters = set(''.join(data.sequence))\n",
    "n_letters = len(letters)"
   ]
  },
  {
   "cell_type": "code",
   "execution_count": 37,
   "outputs": [],
   "source": [
    "# <your beautiful code here>\n",
    "letter_index_map ="
   ],
   "metadata": {
    "collapsed": false,
    "pycharm": {
     "name": "#%%\n"
    }
   },
   "id": "1311da7b06e99f30"
  },
  {
   "cell_type": "code",
   "execution_count": 38,
   "outputs": [
    {
     "data": {
      "text/plain": "{'t': 0,\n 'n': 1,\n 'j': 2,\n 'r': 3,\n 'u': 4,\n 'k': 5,\n 'x': 6,\n 'b': 7,\n ':': 8,\n 'f': 9,\n 'o': 10,\n 'z': 11,\n 'h': 12,\n 'y': 13,\n 'q': 14,\n 'd': 15,\n 'm': 16,\n 'a': 17,\n 'w': 18,\n 'c': 19,\n 'g': 20,\n 'i': 21,\n 's': 22,\n 'l': 23,\n 'p': 24,\n 'v': 25,\n 'e': 26}"
     },
     "execution_count": 38,
     "metadata": {},
     "output_type": "execute_result"
    }
   ],
   "source": [
    "letter_index_map"
   ],
   "metadata": {
    "collapsed": false,
    "pycharm": {
     "name": "#%%\n"
    }
   },
   "id": "a02a5c433cefe784"
  },
  {
   "cell_type": "markdown",
   "id": "passing-hamburg",
   "metadata": {
    "pycharm": {
     "name": "#%% md\n"
    }
   },
   "source": [
    "Реализуем PyTorch Dataset — класс, переводящий одну строчку символов в последовательность индексов."
   ]
  },
  {
   "cell_type": "code",
   "execution_count": 39,
   "id": "structural-vitamin",
   "metadata": {
    "pycharm": {
     "name": "#%%\n"
    }
   },
   "outputs": [],
   "source": [
    "class SequenceDataset(Dataset):\n",
    "    \n",
    "    def __init__(self, lines, labels):\n",
    "        self.lines = lines\n",
    "        self.labels = labels\n",
    "        \n",
    "    def __len__(self):\n",
    "        return len(self.labels)\n",
    "    \n",
    "    def __getitem__(self, idx):\n",
    "        x = self.line_to_tensor(self.lines[idx]).long()\n",
    "        y = torch.tensor(self.labels[idx]).float()\n",
    "        return x, y\n",
    "    \n",
    "    @staticmethod\n",
    "    def line_to_tensor(line):\n",
    "        return torch.tensor([letter_index_map[l] for l in line])"
   ]
  },
  {
   "cell_type": "markdown",
   "id": "rapid-frederick",
   "metadata": {
    "pycharm": {
     "name": "#%% md\n"
    }
   },
   "source": [
    "Разбиваем данные на обучающую и валидационную выборку, создаём соответствующие объекты DataLoader."
   ]
  },
  {
   "cell_type": "code",
   "execution_count": 40,
   "id": "particular-silver",
   "metadata": {
    "pycharm": {
     "name": "#%%\n"
    }
   },
   "outputs": [],
   "source": [
    "X_train, X_val, y_train, y_val = train_test_split(\n",
    "    data.sequence,\n",
    "    data['class'],\n",
    "    test_size=0.05,\n",
    ")\n",
    "\n",
    "train_dataset = SequenceDataset(lines=X_train.values, labels=y_train.values)\n",
    "val_dataset = SequenceDataset(lines=X_val.values, labels=y_val.values)"
   ]
  },
  {
   "cell_type": "code",
   "execution_count": 67,
   "id": "violent-technical",
   "metadata": {
    "pycharm": {
     "name": "#%%\n"
    }
   },
   "outputs": [],
   "source": [
    "train_sequence_dataloader = DataLoader(train_dataset, batch_size=512, shuffle=True)\n",
    "val_sequence_dataloader = DataLoader(val_dataset, batch_size=512, shuffle=True)"
   ]
  },
  {
   "cell_type": "code",
   "execution_count": 57,
   "outputs": [],
   "source": [],
   "metadata": {
    "collapsed": false,
    "pycharm": {
     "name": "#%%\n"
    }
   },
   "id": "35703f91e9a6de3"
  },
  {
   "cell_type": "markdown",
   "id": "beneficial-wonder",
   "metadata": {
    "pycharm": {
     "name": "#%% md\n"
    }
   },
   "source": [
    "Разберём подробно архитектуру модели:"
   ]
  },
  {
   "cell_type": "markdown",
   "source": [
    "#### embedding -> CNN -> FC -> sigmoid"
   ],
   "metadata": {
    "collapsed": false,
    "pycharm": {
     "name": "#%% md\n"
    }
   },
   "id": "16c4a858f3989d5d"
  },
  {
   "cell_type": "markdown",
   "source": [
    "Сказать, что обучаемые эмбеддинги"
   ],
   "metadata": {
    "collapsed": false,
    "pycharm": {
     "name": "#%% md\n"
    }
   },
   "id": "b94c427400b880ca"
  },
  {
   "cell_type": "code",
   "execution_count": 3,
   "outputs": [
    {
     "ename": "NameError",
     "evalue": "name 'torch' is not defined",
     "output_type": "error",
     "traceback": [
      "\u001B[0;31m---------------------------------------------------------------------------\u001B[0m",
      "\u001B[0;31mNameError\u001B[0m                                 Traceback (most recent call last)",
      "Cell \u001B[0;32mIn [3], line 1\u001B[0m\n\u001B[0;32m----> 1\u001B[0m x \u001B[38;5;241m=\u001B[39m \u001B[43mtorch\u001B[49m\u001B[38;5;241m.\u001B[39mfrom_numpy(\n\u001B[1;32m      2\u001B[0m     np\u001B[38;5;241m.\u001B[39mrandom\u001B[38;5;241m.\u001B[39mrandint(\u001B[38;5;241m0\u001B[39m, \u001B[38;5;28mlen\u001B[39m(letter_index_map), (\u001B[38;5;241m4\u001B[39m, \u001B[38;5;241m64\u001B[39m))\n\u001B[1;32m      3\u001B[0m )\n\u001B[1;32m      4\u001B[0m \u001B[38;5;28mprint\u001B[39m(\u001B[38;5;124m'\u001B[39m\u001B[38;5;124mOur input sample\u001B[39m\u001B[38;5;130;01m\\n\u001B[39;00m\u001B[38;5;124m'\u001B[39m, x, \u001B[38;5;124m'\u001B[39m\u001B[38;5;124m \u001B[39m\u001B[38;5;130;01m\\n\u001B[39;00m\u001B[38;5;124mof size:\u001B[39m\u001B[38;5;124m'\u001B[39m, x\u001B[38;5;241m.\u001B[39mshape)\n",
      "\u001B[0;31mNameError\u001B[0m: name 'torch' is not defined"
     ]
    }
   ],
   "source": [
    "x = torch.from_numpy(\n",
    "    np.random.randint(0, len(letter_index_map), (4, 64))\n",
    ")\n",
    "print('Our input sample\\n', x, ' \\nof size:', x.shape)"
   ],
   "metadata": {
    "collapsed": false,
    "pycharm": {
     "name": "#%%\n"
    }
   },
   "id": "cfaebb7f85b7de50"
  },
  {
   "cell_type": "code",
   "execution_count": 59,
   "outputs": [
    {
     "data": {
      "text/plain": "torch.Size([4, 64, 8])"
     },
     "execution_count": 59,
     "metadata": {},
     "output_type": "execute_result"
    }
   ],
   "source": [
    "emb_layer = nn.Embedding(num_embeddings=len(letter_index_map), embedding_dim=8)\n",
    "emb_output = emb_layer(x)\n",
    "emb_output.shape"
   ],
   "metadata": {
    "collapsed": false,
    "pycharm": {
     "name": "#%%\n"
    }
   },
   "id": "c7107b2d81b2f6aa"
  },
  {
   "cell_type": "code",
   "execution_count": 60,
   "outputs": [
    {
     "data": {
      "text/plain": "tensor([[[ 0.1814, -0.1151,  1.5526,  ..., -1.4403, -0.3702,  1.5418],\n         [ 0.4516, -1.2180,  0.3189,  ...,  0.6535,  0.4808,  0.7501],\n         [-0.1110, -0.5127, -0.7368,  ..., -0.9410, -0.0417, -0.4409],\n         ...,\n         [-0.9926, -0.5138, -0.0447,  ..., -0.2430, -0.0377, -0.1758],\n         [-0.9192, -0.0176, -1.6054,  ...,  0.8962,  1.3936, -1.5005],\n         [ 0.1027,  1.2198, -1.0783,  ...,  0.4908,  1.3987, -0.9556]],\n\n        [[-0.1110, -0.5127, -0.7368,  ..., -0.9410, -0.0417, -0.4409],\n         [ 0.1814, -0.1151,  1.5526,  ..., -1.4403, -0.3702,  1.5418],\n         [ 0.1814, -0.1151,  1.5526,  ..., -1.4403, -0.3702,  1.5418],\n         ...,\n         [-1.4457,  0.0091,  0.3145,  ..., -0.4704,  1.0084, -1.4450],\n         [-0.9192, -0.0176, -1.6054,  ...,  0.8962,  1.3936, -1.5005],\n         [-0.2924, -1.0584, -0.3184,  ..., -2.6849, -0.6493,  0.8326]],\n\n        [[ 0.0704,  0.1120, -0.5697,  ..., -0.0956, -0.7784, -0.4595],\n         [-0.2033, -1.2365, -0.3529,  ..., -0.0567,  0.1005,  0.1089],\n         [-1.5867, -0.7685, -0.2292,  ..., -0.7035, -0.2520, -0.8764],\n         ...,\n         [-0.1110, -0.5127, -0.7368,  ..., -0.9410, -0.0417, -0.4409],\n         [ 0.0861,  1.1777, -0.3771,  ...,  0.5105,  0.3881,  0.3045],\n         [-1.4457,  0.0091,  0.3145,  ..., -0.4704,  1.0084, -1.4450]],\n\n        [[ 0.5544, -1.5248,  1.1733,  ..., -0.6446, -0.7387,  0.8548],\n         [-0.9926, -0.5138, -0.0447,  ..., -0.2430, -0.0377, -0.1758],\n         [-0.2924, -1.0584, -0.3184,  ..., -2.6849, -0.6493,  0.8326],\n         ...,\n         [-0.5315, -3.2200,  0.2264,  ...,  1.8912,  0.7438,  1.2752],\n         [-0.2924, -1.0584, -0.3184,  ..., -2.6849, -0.6493,  0.8326],\n         [ 0.9292, -0.3703,  0.9966,  ..., -0.3940, -0.1986,  0.6911]]],\n       grad_fn=<EmbeddingBackward0>)"
     },
     "execution_count": 60,
     "metadata": {},
     "output_type": "execute_result"
    }
   ],
   "source": [
    "emb_output"
   ],
   "metadata": {
    "collapsed": false,
    "pycharm": {
     "name": "#%%\n"
    }
   },
   "id": "ad67cf2336ba0663"
  },
  {
   "cell_type": "markdown",
   "source": [
    "Посмотрим, как свёрточный слой преобразует данные. Для этого в выходе из эмбеддинг-слоя нужно поменять местами оси. Это можно сделать с помощью метода .permute():"
   ],
   "metadata": {
    "collapsed": false,
    "pycharm": {
     "name": "#%% md\n"
    }
   },
   "id": "601ba31f16cac593"
  },
  {
   "cell_type": "code",
   "execution_count": 61,
   "outputs": [
    {
     "name": "stdout",
     "output_type": "stream",
     "text": [
      "torch.Size([4, 64, 8])\n",
      "torch.Size([4, 8, 64])\n"
     ]
    }
   ],
   "source": [
    "print(emb_output.shape)\n",
    "print(emb_output.permute(0, 2, 1).shape)"
   ],
   "metadata": {
    "collapsed": false,
    "pycharm": {
     "name": "#%%\n"
    }
   },
   "id": "f632aacb3c6a72fa"
  },
  {
   "cell_type": "markdown",
   "source": [
    "Паддинг 'same' сохраняет исходную длину последовательности, при этом размерность векторов получается равной out_channels=16."
   ],
   "metadata": {
    "collapsed": false,
    "pycharm": {
     "name": "#%% md\n"
    }
   },
   "id": "d94db551acbfdd37"
  },
  {
   "cell_type": "code",
   "execution_count": 62,
   "outputs": [
    {
     "data": {
      "text/plain": "torch.Size([4, 16, 64])"
     },
     "execution_count": 62,
     "metadata": {},
     "output_type": "execute_result"
    }
   ],
   "source": [
    "conv1d = nn.Conv1d(in_channels=8, out_channels=16, kernel_size=12, padding='same')\n",
    "\n",
    "conv_output = conv1d(emb_output.permute(0, 2, 1))\n",
    "conv_output.shape"
   ],
   "metadata": {
    "collapsed": false,
    "pycharm": {
     "name": "#%%\n"
    }
   },
   "id": "a49621c9ca9ef046"
  },
  {
   "cell_type": "markdown",
   "source": [
    "Далее мы агрегируем всю информацию из последовательности с помощью вычисления максимума:"
   ],
   "metadata": {
    "collapsed": false,
    "pycharm": {
     "name": "#%% md\n"
    }
   },
   "id": "6140469a56e8fc6f"
  },
  {
   "cell_type": "code",
   "execution_count": null,
   "outputs": [],
   "source": [
    "max_output, l = conv_output.max(dim=-1)\n",
    "conv_output.shape, max_output.shape"
   ],
   "metadata": {
    "collapsed": false,
    "pycharm": {
     "name": "#%%\n"
    }
   },
   "id": "2292b8da0553a464"
  },
  {
   "cell_type": "code",
   "execution_count": 63,
   "outputs": [
    {
     "data": {
      "text/plain": "(torch.Size([4, 16]),\n torch.Size([4, 16, 64]),\n tensor([[50, 50, 20, 58, 27, 42, 39, 29, 57, 51, 13, 26, 56, 15, 32, 36],\n         [20, 22,  5, 38,  2, 45, 44, 14, 17, 50, 51, 10, 18, 49, 50, 52],\n         [26, 18, 43, 24, 50, 33, 28,  8,  1, 13, 22, 59, 31, 49, 22, 34],\n         [11, 60, 16, 18, 16, 48, 41, 36, 13, 23, 26, 32, 44, 49, 39, 18]]),\n tensor([[1.0662, 1.4171, 1.4870, 1.2720, 1.6506, 0.9183, 1.2542, 1.1315, 0.9397,\n          1.1289, 1.3559, 1.2116, 1.2054, 1.6039, 1.1292, 0.9991],\n         [1.2017, 1.3242, 1.5970, 1.1326, 1.2329, 1.1783, 1.2505, 1.4555, 1.1456,\n          1.2270, 1.6260, 1.4064, 1.4201, 0.9606, 1.6327, 1.4067],\n         [0.6511, 1.3640, 1.1930, 0.9829, 2.4494, 1.4087, 1.4334, 1.7147, 1.4971,\n          1.1679, 1.6981, 1.0585, 1.0227, 1.1425, 1.0100, 0.9566],\n         [0.8805, 1.4837, 1.9691, 1.5178, 1.4482, 1.1781, 1.2003, 1.3611, 1.3563,\n          1.2089, 1.7701, 1.4126, 0.8584, 1.2993, 1.3057, 1.5185]],\n        grad_fn=<MaxBackward0>))"
     },
     "execution_count": 63,
     "metadata": {},
     "output_type": "execute_result"
    }
   ],
   "source": [
    "conv_output[0, 0].argmax(), conv_output[0, 0].max(), l, max_output"
   ],
   "metadata": {
    "collapsed": false,
    "pycharm": {
     "name": "#%%\n"
    }
   },
   "id": "3b8f9ec12f47d0ab"
  },
  {
   "cell_type": "markdown",
   "source": [
    "А теперь соберем все это воедино:"
   ],
   "metadata": {
    "collapsed": false,
    "pycharm": {
     "name": "#%% md\n"
    }
   },
   "id": "e1e036076c5a138a"
  },
  {
   "cell_type": "code",
   "execution_count": 71,
   "outputs": [],
   "source": [
    "class PuzzleCNN(nn.Module):\n",
    "\n",
    "    def __init__(self, vocab_size, hidden_size, kernel_size=5, embedding_dim=8):\n",
    "        super(PuzzleCNN, self).__init__()\n",
    "        self.hidden_size = hidden_size\n",
    "\n",
    "        self.embedding = nn.Embedding(vocab_size, embedding_dim)\n",
    "        self.cnn = nn.Conv1d(embedding_dim, hidden_size, kernel_size=kernel_size, groups=2)\n",
    "        self.relu = nn.ReLU()\n",
    "        self.linear = nn.Linear(hidden_size, 1)\n",
    "        self.sigmoid = nn.Sigmoid()\n",
    "\n",
    "    def forward(self, x):\n",
    "        x = self.embedding(x)\n",
    "        x = x.permute(0, 2, 1)\n",
    "        x = self.cnn(x)\n",
    "        x, _ = x.max(dim=-1)\n",
    "        x = self.relu(x)\n",
    "        x = self.linear(x)\n",
    "        x = self.sigmoid(x).squeeze()\n",
    "        return x"
   ],
   "metadata": {
    "collapsed": false,
    "pycharm": {
     "name": "#%%\n"
    }
   },
   "id": "1b34f79a8a2e51bc"
  },
  {
   "cell_type": "code",
   "execution_count": 64,
   "outputs": [],
   "source": [],
   "metadata": {
    "collapsed": false,
    "pycharm": {
     "name": "#%%\n"
    }
   },
   "id": "1a37d5221b1d684e"
  },
  {
   "cell_type": "code",
   "execution_count": 65,
   "outputs": [
    {
     "name": "stdout",
     "output_type": "stream",
     "text": [
      "torch.Size([2, 64])\n",
      "tensor([[25, 24, 24,  1,  9,  5, 14, 17, 22, 17, 20, 24, 17, 13,  6, 11, 15, 11,\n",
      "         11,  5,  1, 12,  2, 16,  5, 23,  9, 25,  5,  3, 15,  8, 18, 15,  9,  2,\n",
      "         11,  9, 17, 15, 16,  6, 17, 24, 18,  2, 19, 10,  4, 21, 14, 25, 11, 14,\n",
      "         26,  0,  7, 22, 15, 24, 18, 22, 21, 22],\n",
      "        [11, 21,  1,  2, 25, 23,  3,  9, 24, 16, 12, 11,  1,  3,  3, 20, 23,  4,\n",
      "         21,  9,  2, 10,  6, 19, 19, 20, 25,  5, 26,  9,  1, 19, 21,  0, 15,  9,\n",
      "          8, 16,  1, 18,  4, 15, 25,  6, 11, 13,  3, 18, 15, 25, 25, 16, 22, 26,\n",
      "         15, 12, 10, 22, 23, 23, 23, 16,  5, 16]]) tensor([1., 0.])\n"
     ]
    }
   ],
   "source": [
    "one_objext_batch_dataloader = DataLoader(train_dataset, batch_size=2, shuffle=True)\n",
    "x, y = next(iter(one_objext_batch_dataloader))\n",
    "print(x.shape)\n",
    "print(x, y)"
   ],
   "metadata": {
    "collapsed": false,
    "pycharm": {
     "name": "#%%\n"
    }
   },
   "id": "b170611154df5dbd"
  },
  {
   "cell_type": "markdown",
   "id": "aquatic-terrorist",
   "metadata": {
    "pycharm": {
     "name": "#%% md\n"
    }
   },
   "source": [
    "Разберём цикл обучения:"
   ]
  },
  {
   "cell_type": "code",
   "execution_count": 76,
   "id": "static-turkey",
   "metadata": {
    "pycharm": {
     "name": "#%%\n"
    }
   },
   "outputs": [
    {
     "data": {
      "text/plain": "<Figure size 1200x600 with 2 Axes>",
      "image/png": "[encoded data removed]"
     },
     "metadata": {},
     "output_type": "display_data"
    }
   ],
   "source": [
    "# Инициализируем класс модели, размер внутреннего слоя 16, ширина окна 12\n",
    "model = PuzzleCNN(\n",
    "    vocab_size=len(letter_index_map),\n",
    "    hidden_size=16,\n",
    "    kernel_size=12,\n",
    ")\n",
    "\n",
    "optimizer = torch.optim.Adam(model.parameters(), lr=0.01)\n",
    "\n",
    "# Лосс функция – бинарная кросс энтропия (другое название logloss функции ошибки)\n",
    "loss_func = nn.BCELoss()\n",
    "\n",
    "n_epochs = 10\n",
    "\n",
    "# Списки для сохранения истории функции ошибки и доли правильных ответов\n",
    "losses = []\n",
    "accs = []\n",
    "\n",
    "val_losses = []\n",
    "val_accs = []\n",
    "\n",
    "\n",
    "for i in range(n_epochs):\n",
    "    for x_train, y_train in train_sequence_dataloader:\n",
    "\n",
    "        model.train()\n",
    "        preds = model(x_train)\n",
    "        train_loss = loss_func(preds, y_train)\n",
    "        train_acc = ((preds > 0.5).long() == y_train).float().mean()\n",
    "        #  считаем долю правильных ответов с порогом\n",
    "        \n",
    "        optimizer.zero_grad()\n",
    "        train_loss.backward()\n",
    "        optimizer.step()\n",
    "\n",
    "        model.eval()\n",
    "        # не рассчитавать градиент по валидационной выборкке про grad и requires_grad\n",
    "\n",
    "        x_val, y_val = next(iter(val_sequence_dataloader))\n",
    "        #  генерируем один батч для валидации 0.5\n",
    "        \n",
    "        val_preds = model(x_val)\n",
    "        val_loss = loss_func(val_preds, y_val)\n",
    "        val_acc = ((val_preds > 0.5).long() == y_val).float().mean()\n",
    "        \n",
    "        losses.append(train_loss.item())\n",
    "        accs.append(train_acc.item())\n",
    "        \n",
    "        val_losses.append(val_loss.item())\n",
    "        val_accs.append(val_acc.item())\n",
    "        \n",
    "        plot_progress(losses, accs, val_losses, val_accs)"
   ]
  },
  {
   "cell_type": "markdown",
   "id": "colored-heart",
   "metadata": {
    "pycharm": {
     "name": "#%% md\n"
    }
   },
   "source": [
    "Теперь посмотрим, как с решением головоломки справится другая архитектура, с которой мы познакомились на лекции — LSTM."
   ]
  },
  {
   "cell_type": "code",
   "execution_count": 75,
   "outputs": [
    {
     "data": {
      "text/plain": "(0.7491856813430786, 0.794921875)"
     },
     "execution_count": 75,
     "metadata": {},
     "output_type": "execute_result"
    }
   ],
   "source": [
    "accs[-1], val_accs[-1]"
   ],
   "metadata": {
    "collapsed": false,
    "pycharm": {
     "name": "#%%\n"
    }
   },
   "id": "a562cf276f4f8935"
  },
  {
   "cell_type": "code",
   "execution_count": 77,
   "outputs": [
    {
     "data": {
      "text/plain": "(1.0, 0.994140625)"
     },
     "execution_count": 77,
     "metadata": {},
     "output_type": "execute_result"
    }
   ],
   "source": [
    "accs[-1], val_accs[-1]"
   ],
   "metadata": {
    "collapsed": false,
    "pycharm": {
     "name": "#%%\n"
    }
   },
   "id": "cb7ea259f012fa01"
  },
  {
   "cell_type": "markdown",
   "source": [
    "Какой LSTM брать?"
   ],
   "metadata": {
    "collapsed": false,
    "pycharm": {
     "name": "#%% md\n"
    }
   },
   "id": "2cce45f850378a24"
  },
  {
   "cell_type": "code",
   "execution_count": 21,
   "id": "manufactured-browser",
   "metadata": {
    "pycharm": {
     "name": "#%%\n"
    }
   },
   "outputs": [],
   "source": [
    "class PuzzleLSTM(nn.Module):\n",
    "    \n",
    "    def __init__(self, vocab_size, hidden_size, embedding_dim=8, bidirectional=False):\n",
    "        super(PuzzleLSTM, self).__init__()\n",
    "        self.hidden_size = hidden_size\n",
    "        self.multiplier = 2 if bidirectional else 1\n",
    "        self.embedding = nn.Embedding(vocab_size, embedding_dim)\n",
    "        self.lstm = nn.LSTM(\n",
    "            input_size=embedding_dim, \n",
    "            hidden_size=hidden_size, \n",
    "            batch_first=True, \n",
    "            bidirectional=bidirectional,\n",
    "            bias=True,\n",
    "            num_layers=1\n",
    "        )\n",
    "        self.linear = nn.Linear(self.multiplier * hidden_size, 1)\n",
    "        self.sigmoid = nn.Sigmoid()\n",
    "\n",
    "    def forward(self, x):\n",
    "        x = self.embedding(x)\n",
    "        x = x.permute(0, 2, 1)\n",
    "        print(x.shape)\n",
    "        x = self.cnn(x)\n",
    "        x, _ = x.max(dim=-1)\n",
    "        x = self.relu(x)\n",
    "        x = self.linear(x)\n",
    "        x = self.sigmoid(x).squeeze()\n",
    "        return x"
   ]
  },
  {
   "cell_type": "markdown",
   "id": "biological-anatomy",
   "metadata": {
    "pycharm": {
     "name": "#%% md\n"
    }
   },
   "source": [
    "Архитектура сети во многом похожа PuzzleCNN: эмбеддинг-слой и линейный слой для бинарной классификации, но между ними вместо Conv1d уже стоит LSTM.  \n",
    "\n",
    "Посмотрим, как преобразует входные данные этот слой:"
   ]
  },
  {
   "cell_type": "code",
   "execution_count": 80,
   "id": "bored-great",
   "metadata": {
    "pycharm": {
     "name": "#%%\n"
    }
   },
   "outputs": [
    {
     "data": {
      "text/plain": "torch.Size([4, 64, 16])"
     },
     "execution_count": 80,
     "metadata": {},
     "output_type": "execute_result"
    }
   ],
   "source": [
    "lstm = nn.LSTM(input_size=8, hidden_size=16, num_layers=3)\n",
    "outputs, (hiddens, cs) = lstm(emb_output)\n",
    "outputs.shape"
   ]
  },
  {
   "cell_type": "markdown",
   "id": "supposed-luxury",
   "metadata": {
    "pycharm": {
     "name": "#%% md\n"
    }
   },
   "source": [
    "Мы можем обучить LSTM для задачи классификации, применяя линейный слой к outputs для последнего токена:"
   ]
  },
  {
   "cell_type": "code",
   "execution_count": 23,
   "id": "residential-georgia",
   "metadata": {
    "pycharm": {
     "name": "#%%\n"
    }
   },
   "outputs": [
    {
     "data": {
      "text/plain": [
       "tensor([0.1474], grad_fn=<AddBackward0>)"
      ]
     },
     "execution_count": 23,
     "metadata": {},
     "output_type": "execute_result"
    }
   ],
   "source": [
    "linear_layer = nn.Linear(16, 1)\n",
    "linear_layer(outputs[:, -1, :].squeeze())"
   ]
  },
  {
   "cell_type": "markdown",
   "id": "hindu-lecture",
   "metadata": {
    "pycharm": {
     "name": "#%% md\n"
    }
   },
   "source": [
    "Выход из линейного слоя преобразуем сигмоидой.\n",
    "\n",
    "В nn.LSTM можно сразу получить выходы на нужное количество классов — для этого есть параметр proj_size, но мы использовали линейный слой для наглядности происходящего.\n",
    "\n",
    "Обучим рекуррентную сеть решать задачу:"
   ]
  },
  {
   "cell_type": "code",
   "execution_count": 28,
   "id": "neural-camera",
   "metadata": {
    "pycharm": {
     "name": "#%%\n"
    }
   },
   "outputs": [
    {
     "data": {
      "image/png": "[encoded data removed]",
      "text/plain": [
       "<Figure size 864x432 with 2 Axes>"
      ]
     },
     "metadata": {
      "needs_background": "light"
     },
     "output_type": "display_data"
    }
   ],
   "source": [
    "# Инициализируем класс модели, размер внутреннего слоя 16\n",
    "model = PuzzleLSTM(\n",
    "    vocab_size=len(letter_index_map),\n",
    "    hidden_size=16,\n",
    ")\n",
    "\n",
    "optimizer = torch.optim.Adam(model.parameters(), lr=0.01)\n",
    "loss_func = nn.BCELoss()\n",
    "\n",
    "n_epochs = 10\n",
    "\n",
    "\n",
    "losses = []\n",
    "accs = []\n",
    "\n",
    "val_losses = []\n",
    "val_accs = []\n",
    "\n",
    "\n",
    "for i in range(n_epochs):\n",
    "    for x_train, y_train in train_sequence_dataloader:\n",
    "\n",
    "        model.train()\n",
    "        preds = model(x_train)\n",
    "        train_loss = loss_func(preds, y_train)\n",
    "        train_acc = ((preds > 0.5).long() == y_train).float().mean()\n",
    "\n",
    "        # zero_grad, backward, step\n",
    "        # <your beautiful code here>\n",
    "\n",
    "        x_val, y_val = next(iter(val_sequence_dataloader))\n",
    "        \n",
    "        val_preds = model(x_val)\n",
    "        val_loss = loss_func(val_preds, y_val)\n",
    "        val_acc = ((val_preds > 0.5).long() == y_val).float().mean()\n",
    "        \n",
    "        losses.append(train_loss.item())\n",
    "        accs.append(train_acc.item())\n",
    "        \n",
    "        val_losses.append(val_loss.item())\n",
    "        val_accs.append(val_acc.item())\n",
    "        \n",
    "        plot_progress(losses, accs, val_losses, val_accs)"
   ]
  },
  {
   "cell_type": "markdown",
   "id": "fallen-announcement",
   "metadata": {
    "pycharm": {
     "name": "#%% md\n"
    }
   },
   "source": [
    "Видим, что сеть успешно обучилась и предсказывает ответ со 100% точностью. Однако видно, что во время обучения возникали неприятные моменты, когда loss внезапно резко возрастал. Это как раз взрыв градиента, что мы обсуждали на лекции — бороться с ним можно, например, используя клиппинг:"
   ]
  },
  {
   "cell_type": "code",
   "execution_count": 29,
   "id": "hispanic-buying",
   "metadata": {
    "pycharm": {
     "name": "#%%\n"
    }
   },
   "outputs": [
    {
     "data": {
      "image/png": "[encoded data removed]",
      "text/plain": [
       "<Figure size 864x432 with 2 Axes>"
      ]
     },
     "metadata": {
      "needs_background": "light"
     },
     "output_type": "display_data"
    }
   ],
   "source": [
    "# Инициализируем класс модели, размер внутреннего слоя 16\n",
    "model = PuzzleLSTM(\n",
    "    vocab_size=len(letter_index_map),\n",
    "    hidden_size=16,\n",
    ")\n",
    "\n",
    "optimizer = torch.optim.Adam(model.parameters(), lr=0.01)\n",
    "loss_func = nn.BCELoss()\n",
    "\n",
    "n_epochs = 10\n",
    "\n",
    "\n",
    "losses = []\n",
    "accs = []\n",
    "\n",
    "val_losses = []\n",
    "val_accs = []\n",
    "\n",
    "\n",
    "for i in range(n_epochs):\n",
    "    for x_train, y_train in train_sequence_dataloader:\n",
    "\n",
    "        model.train()\n",
    "        preds = model(x_train)\n",
    "        train_loss = loss_func(preds, y_train)\n",
    "        train_acc = ((preds > 0.5).long() == y_train).float().mean()\n",
    "        \n",
    "        optimizer.zero_grad()\n",
    "        # <your beautiful code here>\n",
    "\n",
    "        x_val, y_val = next(iter(val_sequence_dataloader))\n",
    "        \n",
    "        val_preds = model(x_val)\n",
    "        val_loss = loss_func(val_preds, y_val)\n",
    "        val_acc = ((val_preds > 0.5).long() == y_val).float().mean()\n",
    "        \n",
    "        losses.append(train_loss.item())\n",
    "        accs.append(train_acc.item())\n",
    "        \n",
    "        val_losses.append(val_loss.item())\n",
    "        val_accs.append(val_acc.item())\n",
    "        \n",
    "        plot_progress(losses, accs, val_losses, val_accs)\n"
   ]
  }
 ],
 "metadata": {
  "kernelspec": {
   "display_name": "Python 3",
   "language": "python",
   "name": "python3"
  },
  "language_info": {
   "codemirror_mode": {
    "name": "ipython",
    "version": 3
   },
   "file_extension": ".py",
   "mimetype": "text/x-python",
   "name": "python",
   "nbconvert_exporter": "python",
   "pygments_lexer": "ipython3",
   "version": "3.7.2"
  }
 },
 "nbformat": 4,
 "nbformat_minor": 5
}

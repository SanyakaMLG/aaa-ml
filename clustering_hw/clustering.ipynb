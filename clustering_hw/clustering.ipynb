{
 "cells": [
  {
   "cell_type": "code",
   "execution_count": 1,
   "outputs": [],
   "source": [
    "import numpy as np\n",
    "import pandas as pd\n",
    "from sklearn.cluster import HDBSCAN\n",
    "from sklearn.cluster import SpectralClustering\n",
    "from sklearn.decomposition import PCA\n",
    "from matplotlib import pyplot as plt"
   ],
   "metadata": {
    "collapsed": false,
    "ExecuteTime": {
     "end_time": "2023-12-18T20:53:07.535571900Z",
     "start_time": "2023-12-18T20:53:04.591182100Z"
    }
   },
   "id": "bfcabec4786b53d"
  },
  {
   "cell_type": "code",
   "execution_count": 2,
   "outputs": [],
   "source": [
    "with open('image_embeddings.npy', 'rb') as f:\n",
    "    embeddings = np.load(f)"
   ],
   "metadata": {
    "collapsed": true,
    "ExecuteTime": {
     "end_time": "2023-12-18T20:53:07.546551100Z",
     "start_time": "2023-12-18T20:53:07.534574300Z"
    }
   },
   "id": "initial_id"
  },
  {
   "cell_type": "code",
   "execution_count": 3,
   "outputs": [],
   "source": [
    "data = pd.read_csv('data_split_into_classes.csv')"
   ],
   "metadata": {
    "collapsed": false,
    "ExecuteTime": {
     "end_time": "2023-12-18T20:53:07.575470900Z",
     "start_time": "2023-12-18T20:53:07.548544800Z"
    }
   },
   "id": "be8efeba89b68c3d"
  },
  {
   "cell_type": "code",
   "execution_count": 4,
   "outputs": [
    {
     "data": {
      "text/plain": "            item_id     image_id  \\\n0      928428250447   9930449149   \n1      172952000262   1770341493   \n2     1064720000255  11289835148   \n3      660092751953   5126102753   \n4      258603750759   2318932240   \n...             ...          ...   \n2451   403658750648   3335234348   \n2452    32427250428    898227519   \n2453   267083000211   2301454396   \n2454   636204750019   4796160500   \n2455   989926250108  10517705460   \n\n                                                  title  \n0             Беговая дорожка laufstein corsa automatik  \n1             Эллиптический тренажер Torneo Vento C-208  \n2                                Эллиптический тренажер  \n3                               Гантели по 10 кг каждая  \n4                                      Kettler Delta XL  \n...                                                 ...  \n2451                                           Housefir  \n2452                    Силовой комплекс HouseFit 42110  \n2453              Степпер decathlon domyos ST320 purple  \n2454  В наличи дорожка электрическая 10км/ч нагрузка...  \n2455  Комплект штанга прямая + 2 гантели вес 55кг(арт1)  \n\n[2456 rows x 3 columns]",
      "text/html": "<div>\n<style scoped>\n    .dataframe tbody tr th:only-of-type {\n        vertical-align: middle;\n    }\n\n    .dataframe tbody tr th {\n        vertical-align: top;\n    }\n\n    .dataframe thead th {\n        text-align: right;\n    }\n</style>\n<table border=\"1\" class=\"dataframe\">\n  <thead>\n    <tr style=\"text-align: right;\">\n      <th></th>\n      <th>item_id</th>\n      <th>image_id</th>\n      <th>title</th>\n    </tr>\n  </thead>\n  <tbody>\n    <tr>\n      <th>0</th>\n      <td>928428250447</td>\n      <td>9930449149</td>\n      <td>Беговая дорожка laufstein corsa automatik</td>\n    </tr>\n    <tr>\n      <th>1</th>\n      <td>172952000262</td>\n      <td>1770341493</td>\n      <td>Эллиптический тренажер Torneo Vento C-208</td>\n    </tr>\n    <tr>\n      <th>2</th>\n      <td>1064720000255</td>\n      <td>11289835148</td>\n      <td>Эллиптический тренажер</td>\n    </tr>\n    <tr>\n      <th>3</th>\n      <td>660092751953</td>\n      <td>5126102753</td>\n      <td>Гантели по 10 кг каждая</td>\n    </tr>\n    <tr>\n      <th>4</th>\n      <td>258603750759</td>\n      <td>2318932240</td>\n      <td>Kettler Delta XL</td>\n    </tr>\n    <tr>\n      <th>...</th>\n      <td>...</td>\n      <td>...</td>\n      <td>...</td>\n    </tr>\n    <tr>\n      <th>2451</th>\n      <td>403658750648</td>\n      <td>3335234348</td>\n      <td>Housefir</td>\n    </tr>\n    <tr>\n      <th>2452</th>\n      <td>32427250428</td>\n      <td>898227519</td>\n      <td>Силовой комплекс HouseFit 42110</td>\n    </tr>\n    <tr>\n      <th>2453</th>\n      <td>267083000211</td>\n      <td>2301454396</td>\n      <td>Степпер decathlon domyos ST320 purple</td>\n    </tr>\n    <tr>\n      <th>2454</th>\n      <td>636204750019</td>\n      <td>4796160500</td>\n      <td>В наличи дорожка электрическая 10км/ч нагрузка...</td>\n    </tr>\n    <tr>\n      <th>2455</th>\n      <td>989926250108</td>\n      <td>10517705460</td>\n      <td>Комплект штанга прямая + 2 гантели вес 55кг(арт1)</td>\n    </tr>\n  </tbody>\n</table>\n<p>2456 rows × 3 columns</p>\n</div>"
     },
     "execution_count": 4,
     "metadata": {},
     "output_type": "execute_result"
    }
   ],
   "source": [
    "data"
   ],
   "metadata": {
    "collapsed": false,
    "ExecuteTime": {
     "end_time": "2023-12-18T20:53:07.595883800Z",
     "start_time": "2023-12-18T20:53:07.569487200Z"
    }
   },
   "id": "db1f9d88b677f4e7"
  },
  {
   "cell_type": "code",
   "execution_count": 1231,
   "outputs": [],
   "source": [
    "pca = PCA(n_components=6)\n",
    "embeddings = pca.fit_transform(embeddings)"
   ],
   "metadata": {
    "collapsed": false,
    "ExecuteTime": {
     "end_time": "2023-12-12T15:47:05.370288100Z",
     "start_time": "2023-12-12T15:47:05.335777800Z"
    }
   },
   "id": "85451bd2b79f531d"
  },
  {
   "cell_type": "code",
   "execution_count": 1232,
   "outputs": [
    {
     "data": {
      "text/plain": "array([[ 5.131165  ,  6.3193393 ,  0.01704141, -1.0746912 , -0.3255531 ,\n        -0.19851102],\n       [ 4.2242403 , -4.7491503 , -0.5864204 , -1.184348  , -3.5193272 ,\n         2.1622188 ],\n       [ 5.1241555 , -2.896346  ,  0.18441501,  1.3569256 , -4.6768355 ,\n         3.027998  ],\n       ...,\n       [ 1.4754665 ,  0.16168992, -2.7256262 , -1.847764  , -0.0482343 ,\n        -0.5083691 ],\n       [ 2.062266  ,  3.6966186 , -1.71365   , -4.635372  , -1.7781073 ,\n         0.03759253],\n       [-4.9890738 ,  0.38849384, -1.4321891 ,  2.6803381 , -2.234838  ,\n        -2.1031916 ]], dtype=float32)"
     },
     "execution_count": 1232,
     "metadata": {},
     "output_type": "execute_result"
    }
   ],
   "source": [
    "embeddings"
   ],
   "metadata": {
    "collapsed": false,
    "ExecuteTime": {
     "end_time": "2023-12-12T15:47:06.378526500Z",
     "start_time": "2023-12-12T15:47:06.373540500Z"
    }
   },
   "id": "1c4cd65c05ae5008"
  },
  {
   "cell_type": "code",
   "execution_count": 1322,
   "outputs": [],
   "source": [
    "from sklearn.mixture import GaussianMixture"
   ],
   "metadata": {
    "collapsed": false,
    "ExecuteTime": {
     "end_time": "2023-12-12T15:53:56.302259300Z",
     "start_time": "2023-12-12T15:53:56.289629Z"
    }
   },
   "id": "3dd5d8752c58ac9f"
  },
  {
   "cell_type": "code",
   "execution_count": 1330,
   "outputs": [],
   "source": [
    "cl = HDBSCAN(min_cluster_size=82, min_samples=2, cluster_selection_epsilon=0.5)\n",
    "cl1 = GaussianMixture(n_components=7)"
   ],
   "metadata": {
    "collapsed": false,
    "ExecuteTime": {
     "end_time": "2023-12-12T15:54:20.539034600Z",
     "start_time": "2023-12-12T15:54:20.515586500Z"
    }
   },
   "id": "edaa818f64cdb713"
  },
  {
   "cell_type": "code",
   "execution_count": 1331,
   "outputs": [],
   "source": [
    "predict_img = cl.fit_predict(embeddings)\n",
    "predict_img1 = cl1.fit_predict(embeddings)"
   ],
   "metadata": {
    "collapsed": false,
    "ExecuteTime": {
     "end_time": "2023-12-12T15:54:21.549276700Z",
     "start_time": "2023-12-12T15:54:21.385686900Z"
    }
   },
   "id": "50a9efe1df85e62e"
  },
  {
   "cell_type": "code",
   "execution_count": 1369,
   "outputs": [],
   "source": [
    "mapping = {\n",
    "    0: 0,\n",
    "    1: 4,\n",
    "    4: 6,\n",
    "    6: -1,\n",
    "    2: 1,\n",
    "    3: 3,\n",
    "    5: 2\n",
    "}\n",
    "\n",
    "mapped_func = np.vectorize(lambda x: mapping[x])"
   ],
   "metadata": {
    "collapsed": false,
    "ExecuteTime": {
     "end_time": "2023-12-12T15:57:13.455636200Z",
     "start_time": "2023-12-12T15:57:13.449143800Z"
    }
   },
   "id": "3245fff62f174023"
  },
  {
   "cell_type": "code",
   "execution_count": 1370,
   "outputs": [],
   "source": [
    "predict_img1 = mapped_func(predict_img1)"
   ],
   "metadata": {
    "collapsed": false,
    "ExecuteTime": {
     "end_time": "2023-12-12T15:57:23.653087100Z",
     "start_time": "2023-12-12T15:57:23.633439600Z"
    }
   },
   "id": "4e47803c1fa85a9a"
  },
  {
   "cell_type": "code",
   "execution_count": 1372,
   "outputs": [
    {
     "data": {
      "text/plain": "14                                    Велотренажер Torneo\n18                    Продам велотренажер Sven Sport, б/у\n70                               Велотренажер Carbon U407\n71      Электромагнитный велотренажер Oxygen Fitness s...\n75                      Продам Велотренажер torneo 6000 р\n                              ...                        \n2379                            Велотренажёр Domyos FC650\n2404                                 Велотренажёр Rroteus\n2417                       Велотренажор torneo B-352 Vita\n2435                   Продам велотренажер. Цена 7000 тыс\n2451                                             Housefir\nName: title, Length: 253, dtype: object"
     },
     "execution_count": 1372,
     "metadata": {},
     "output_type": "execute_result"
    }
   ],
   "source": [
    "data[predict_img == 2]['title']"
   ],
   "metadata": {
    "collapsed": false,
    "ExecuteTime": {
     "end_time": "2023-12-12T15:57:32.381422200Z",
     "start_time": "2023-12-12T15:57:32.374538400Z"
    }
   },
   "id": "7bbe5e46f9f2fe4c"
  },
  {
   "cell_type": "code",
   "execution_count": 938,
   "outputs": [
    {
     "data": {
      "text/plain": "0               Беговая дорожка laufstein corsa automatik\n1               Эллиптический тренажер Torneo Vento C-208\n2                                  Эллиптический тренажер\n3                                 Гантели по 10 кг каждая\n4                                        Kettler Delta XL\n                              ...                        \n2451                                             Housefir\n2452                      Силовой комплекс HouseFit 42110\n2453                Степпер decathlon domyos ST320 purple\n2454    В наличи дорожка электрическая 10км/ч нагрузка...\n2455    Комплект штанга прямая + 2 гантели вес 55кг(арт1)\nName: title, Length: 2456, dtype: object"
     },
     "execution_count": 938,
     "metadata": {},
     "output_type": "execute_result"
    }
   ],
   "source": [
    "data['title']"
   ],
   "metadata": {
    "collapsed": false,
    "ExecuteTime": {
     "end_time": "2023-12-12T13:46:44.109738Z",
     "start_time": "2023-12-12T13:46:44.103737100Z"
    }
   },
   "id": "bf02fa0657fb58e5"
  },
  {
   "cell_type": "code",
   "execution_count": 944,
   "outputs": [
    {
     "name": "stdout",
     "output_type": "stream",
     "text": [
      "(97860, 1)\n"
     ]
    },
    {
     "data": {
      "text/plain": "                                              title\nitem_id                                            \n1114484500204                     Спортивный снаряд\n263752273290           Эллиптический тренажер С-507\n1107614001153  Батут Hasttings Air Game 3,05 м 10FT\n726016250652                   Гриф и блины Barbell\n62094000446          Обруч массажный разборный BD45",
      "text/html": "<div>\n<style scoped>\n    .dataframe tbody tr th:only-of-type {\n        vertical-align: middle;\n    }\n\n    .dataframe tbody tr th {\n        vertical-align: top;\n    }\n\n    .dataframe thead th {\n        text-align: right;\n    }\n</style>\n<table border=\"1\" class=\"dataframe\">\n  <thead>\n    <tr style=\"text-align: right;\">\n      <th></th>\n      <th>title</th>\n    </tr>\n    <tr>\n      <th>item_id</th>\n      <th></th>\n    </tr>\n  </thead>\n  <tbody>\n    <tr>\n      <th>1114484500204</th>\n      <td>Спортивный снаряд</td>\n    </tr>\n    <tr>\n      <th>263752273290</th>\n      <td>Эллиптический тренажер С-507</td>\n    </tr>\n    <tr>\n      <th>1107614001153</th>\n      <td>Батут Hasttings Air Game 3,05 м 10FT</td>\n    </tr>\n    <tr>\n      <th>726016250652</th>\n      <td>Гриф и блины Barbell</td>\n    </tr>\n    <tr>\n      <th>62094000446</th>\n      <td>Обруч массажный разборный BD45</td>\n    </tr>\n  </tbody>\n</table>\n</div>"
     },
     "execution_count": 944,
     "metadata": {},
     "output_type": "execute_result"
    }
   ],
   "source": [
    "import re\n",
    "from gensim.models.word2vec import Word2Vec\n",
    "from gensim.models.fasttext import FastText\n",
    "\n",
    "WORD_PATTERN = '(?u)\\\\b\\\\w\\\\w+\\\\b'\n",
    "\n",
    "reg_exp = re.compile(pattern=WORD_PATTERN)\n",
    "w2v_train_data = pd.read_csv('more_titles.csv',  index_col=0)\n",
    "print(w2v_train_data.shape)\n",
    "w2v_train_data.head()"
   ],
   "metadata": {
    "collapsed": false,
    "ExecuteTime": {
     "end_time": "2023-12-12T14:00:17.939904700Z",
     "start_time": "2023-12-12T14:00:17.753657600Z"
    }
   },
   "id": "24290b7610cbe981"
  },
  {
   "cell_type": "code",
   "execution_count": 945,
   "outputs": [
    {
     "data": {
      "text/plain": "[['спортивный', 'снаряд'],\n ['эллиптический', 'тренажер', '507'],\n ['батут', 'hasttings', 'air', 'game', '05', '10ft'],\n ['гриф', 'блины', 'barbell'],\n ['обруч', 'массажный', 'разборный', 'bd45']]"
     },
     "execution_count": 945,
     "metadata": {},
     "output_type": "execute_result"
    }
   ],
   "source": [
    "sentences = [reg_exp.findall(s.lower()) for s in w2v_train_data.title]\n",
    "sentences[:5]"
   ],
   "metadata": {
    "collapsed": false,
    "ExecuteTime": {
     "end_time": "2023-12-12T14:00:35.076176Z",
     "start_time": "2023-12-12T14:00:34.850204500Z"
    }
   },
   "id": "83feb824e205dc7e"
  },
  {
   "cell_type": "code",
   "execution_count": 946,
   "outputs": [],
   "source": [
    "from gensim.models.callbacks import CallbackAny2Vec"
   ],
   "metadata": {
    "collapsed": false,
    "ExecuteTime": {
     "end_time": "2023-12-12T14:00:38.443098400Z",
     "start_time": "2023-12-12T14:00:38.433125600Z"
    }
   },
   "id": "a8fd02ee5f679dde"
  },
  {
   "cell_type": "code",
   "execution_count": 947,
   "outputs": [],
   "source": [
    "class LossLogger(CallbackAny2Vec):\n",
    "    def __init__(self):\n",
    "        self.epoch = 0\n",
    "        self.loss_previous_step = 0\n",
    "\n",
    "    def on_epoch_end(self, model):\n",
    "        loss = model.get_latest_training_loss()\n",
    "        print('Loss after epoch {}: {}'.format(self.epoch, loss - self.loss_previous_step))\n",
    "        self.epoch += 1\n",
    "        self.loss_previous_step = loss\n",
    "\n",
    "\n",
    "class EpochLogger(CallbackAny2Vec):\n",
    "    def __init__(self):\n",
    "        self.epoch = 0\n",
    "\n",
    "    def on_epoch_end(self, model):\n",
    "        print(f'Epoch {self.epoch}')\n",
    "        self.epoch += 1\n"
   ],
   "metadata": {
    "collapsed": false,
    "ExecuteTime": {
     "end_time": "2023-12-12T14:00:38.704573800Z",
     "start_time": "2023-12-12T14:00:38.697654100Z"
    }
   },
   "id": "46400c8b9501b6bb"
  },
  {
   "cell_type": "code",
   "execution_count": 1028,
   "outputs": [
    {
     "name": "stdout",
     "output_type": "stream",
     "text": [
      "Loss after epoch 0: 0.0\n",
      "Loss after epoch 1: 0.0\n",
      "Loss after epoch 2: 0.0\n",
      "Loss after epoch 3: 0.0\n",
      "Loss after epoch 4: 0.0\n",
      "Loss after epoch 5: 0.0\n",
      "Loss after epoch 6: 0.0\n",
      "Loss after epoch 7: 0.0\n",
      "Loss after epoch 8: 0.0\n",
      "Loss after epoch 9: 0.0\n",
      "Loss after epoch 10: 0.0\n",
      "Loss after epoch 11: 0.0\n",
      "Loss after epoch 12: 0.0\n",
      "Loss after epoch 13: 0.0\n",
      "Loss after epoch 14: 0.0\n",
      "Loss after epoch 15: 0.0\n",
      "Loss after epoch 16: 0.0\n",
      "Loss after epoch 17: 0.0\n",
      "Loss after epoch 18: 0.0\n",
      "Loss after epoch 19: 0.0\n",
      "Loss after epoch 20: 0.0\n",
      "Loss after epoch 21: 0.0\n",
      "Loss after epoch 22: 0.0\n",
      "Loss after epoch 23: 0.0\n",
      "Loss after epoch 24: 0.0\n",
      "Loss after epoch 25: 0.0\n",
      "Loss after epoch 26: 0.0\n",
      "Loss after epoch 27: 0.0\n",
      "Loss after epoch 28: 0.0\n",
      "Loss after epoch 29: 0.0\n",
      "Loss after epoch 30: 0.0\n",
      "Loss after epoch 31: 0.0\n",
      "Loss after epoch 32: 0.0\n",
      "Loss after epoch 33: 0.0\n",
      "Loss after epoch 34: 0.0\n",
      "Loss after epoch 35: 0.0\n",
      "Loss after epoch 36: 0.0\n",
      "Loss after epoch 37: 0.0\n",
      "Loss after epoch 38: 0.0\n",
      "Loss after epoch 39: 0.0\n",
      "Loss after epoch 40: 0.0\n",
      "Loss after epoch 41: 0.0\n",
      "Loss after epoch 42: 0.0\n",
      "Loss after epoch 43: 0.0\n",
      "Loss after epoch 44: 0.0\n",
      "Loss after epoch 45: 0.0\n",
      "Loss after epoch 46: 0.0\n",
      "Loss after epoch 47: 0.0\n",
      "Loss after epoch 48: 0.0\n",
      "Loss after epoch 49: 0.0\n"
     ]
    },
    {
     "data": {
      "text/plain": "(14894359, 22169750)"
     },
     "execution_count": 1028,
     "metadata": {},
     "output_type": "execute_result"
    }
   ],
   "source": [
    "fasttext = FastText(sg=1, vector_size=32, window=4, min_count=10, hs=1, negative=12, min_n=5, max_n=10)\n",
    "fasttext.build_vocab(sentences)\n",
    "fasttext.train(\n",
    "    sentences,\n",
    "    total_examples=fasttext.corpus_count,\n",
    "    epochs=50,\n",
    "    compute_loss=True,\n",
    "    callbacks=[LossLogger()]\n",
    ")"
   ],
   "metadata": {
    "collapsed": false,
    "ExecuteTime": {
     "end_time": "2023-12-12T14:13:28.634739800Z",
     "start_time": "2023-12-12T14:12:40.971527100Z"
    }
   },
   "id": "a4fc3652b6f3702b"
  },
  {
   "cell_type": "code",
   "execution_count": 1138,
   "outputs": [
    {
     "name": "stdout",
     "output_type": "stream",
     "text": [
      "Loss after epoch 0: 1076067.5\n",
      "Loss after epoch 1: 927750.0\n",
      "Loss after epoch 2: 893838.0\n",
      "Loss after epoch 3: 845985.75\n",
      "Loss after epoch 4: 848857.25\n",
      "Loss after epoch 5: 817321.0\n",
      "Loss after epoch 6: 816613.5\n",
      "Loss after epoch 7: 815408.5\n",
      "Loss after epoch 8: 811777.5\n",
      "Loss after epoch 9: 829621.0\n",
      "Loss after epoch 10: 864072.0\n",
      "Loss after epoch 11: 867310.0\n",
      "Loss after epoch 12: 867968.0\n",
      "Loss after epoch 13: 924684.0\n",
      "Loss after epoch 14: 867300.0\n",
      "Loss after epoch 15: 866629.0\n",
      "Loss after epoch 16: 866555.0\n",
      "Loss after epoch 17: 868106.0\n",
      "Loss after epoch 18: 867150.0\n",
      "Loss after epoch 19: 515972.0\n",
      "Loss after epoch 20: 384228.0\n",
      "Loss after epoch 21: 381202.0\n",
      "Loss after epoch 22: 363782.0\n",
      "Loss after epoch 23: 378602.0\n",
      "Loss after epoch 24: 376522.0\n",
      "Loss after epoch 25: 376704.0\n",
      "Loss after epoch 26: 373316.0\n",
      "Loss after epoch 27: 374218.0\n",
      "Loss after epoch 28: 370926.0\n",
      "Loss after epoch 29: 368270.0\n",
      "Loss after epoch 30: 368884.0\n",
      "Loss after epoch 31: 366814.0\n",
      "Loss after epoch 32: 365400.0\n",
      "Loss after epoch 33: 363490.0\n",
      "Loss after epoch 34: 360924.0\n",
      "Loss after epoch 35: 357896.0\n",
      "Loss after epoch 36: 355730.0\n",
      "Loss after epoch 37: 352958.0\n",
      "Loss after epoch 38: 349670.0\n",
      "Loss after epoch 39: 369206.0\n",
      "Loss after epoch 40: 344666.0\n",
      "Loss after epoch 41: 340476.0\n",
      "Loss after epoch 42: 337662.0\n",
      "Loss after epoch 43: 335580.0\n",
      "Loss after epoch 44: 332038.0\n",
      "Loss after epoch 45: 326466.0\n",
      "Loss after epoch 46: 324840.0\n",
      "Loss after epoch 47: 319446.0\n",
      "Loss after epoch 48: 304720.0\n",
      "Loss after epoch 49: 312342.0\n"
     ]
    },
    {
     "data": {
      "text/plain": "(14894818, 22169750)"
     },
     "execution_count": 1138,
     "metadata": {},
     "output_type": "execute_result"
    }
   ],
   "source": [
    "w2v_model = Word2Vec(sg=0, vector_size=6, window=3, min_count=10, hs=1, negative=12)\n",
    "w2v_model.build_vocab(sentences)\n",
    "w2v_model.train(\n",
    "    sentences,\n",
    "    total_examples=w2v_model.corpus_count,\n",
    "    epochs=50,\n",
    "    compute_loss=True,\n",
    "    callbacks=[LossLogger()]\n",
    ")"
   ],
   "metadata": {
    "collapsed": false,
    "ExecuteTime": {
     "end_time": "2023-12-12T14:30:54.032579900Z",
     "start_time": "2023-12-12T14:30:32.810670700Z"
    }
   },
   "id": "6fc4d64fc8f6a36b"
  },
  {
   "cell_type": "code",
   "execution_count": 1126,
   "outputs": [],
   "source": [
    "class Word2VecTransformer:\n",
    "\n",
    "    def __init__(self, w2v_model, word_pattern):\n",
    "\n",
    "        self.w2v_model = w2v_model\n",
    "        self.word_pattern = word_pattern\n",
    "        self.re = re.compile(pattern=self.word_pattern)\n",
    "\n",
    "    def fit(self, X):\n",
    "        return self\n",
    "\n",
    "    def transform(self, X):\n",
    "\n",
    "        X_transformed = np.zeros((len(X), self.w2v_model.wv.vector_size))\n",
    "        for i, title in enumerate(X):\n",
    "\n",
    "            title_vector = np.zeros((self.w2v_model.wv.vector_size,))\n",
    "            tokens = self.re.findall(title.lower())\n",
    "            for token in tokens:\n",
    "                if token in self.w2v_model.wv.key_to_index:\n",
    "                    title_vector = np.max([self.w2v_model.wv.get_vector(token), title_vector], axis=0)\n",
    "\n",
    "            X_transformed[i] = title_vector\n",
    "\n",
    "        return X_transformed"
   ],
   "metadata": {
    "collapsed": false,
    "ExecuteTime": {
     "end_time": "2023-12-12T14:29:53.253520Z",
     "start_time": "2023-12-12T14:29:53.243551200Z"
    }
   },
   "id": "96be2798c9a270ce"
  },
  {
   "cell_type": "code",
   "execution_count": 1139,
   "outputs": [],
   "source": [
    "ft_transformer = Word2VecTransformer(w2v_model=w2v_model, word_pattern=WORD_PATTERN)\n",
    "\n",
    "text_embedding = ft_transformer.transform(data['title'].values)"
   ],
   "metadata": {
    "collapsed": false,
    "ExecuteTime": {
     "end_time": "2023-12-12T14:31:14.802500300Z",
     "start_time": "2023-12-12T14:31:14.695848200Z"
    }
   },
   "id": "63bb77daf0457b0a"
  },
  {
   "cell_type": "code",
   "execution_count": 1117,
   "outputs": [
    {
     "data": {
      "text/plain": "0               Беговая дорожка laufstein corsa automatik\n1               Эллиптический тренажер Torneo Vento C-208\n2                                  Эллиптический тренажер\n3                                 Гантели по 10 кг каждая\n4                                        Kettler Delta XL\n                              ...                        \n2451                                             Housefir\n2452                      Силовой комплекс HouseFit 42110\n2453                Степпер decathlon domyos ST320 purple\n2454    В наличи дорожка электрическая 10км/ч нагрузка...\n2455    Комплект штанга прямая + 2 гантели вес 55кг(арт1)\nName: title, Length: 2456, dtype: object"
     },
     "execution_count": 1117,
     "metadata": {},
     "output_type": "execute_result"
    }
   ],
   "source": [
    "data['title']"
   ],
   "metadata": {
    "collapsed": false,
    "ExecuteTime": {
     "end_time": "2023-12-12T14:26:00.787740800Z",
     "start_time": "2023-12-12T14:26:00.772755700Z"
    }
   },
   "id": "a25eb55c71df7a8d"
  },
  {
   "cell_type": "code",
   "execution_count": 1099,
   "outputs": [],
   "source": [
    "text_embedding = pca.fit_transform(text_embedding)"
   ],
   "metadata": {
    "collapsed": false,
    "ExecuteTime": {
     "end_time": "2023-12-12T14:20:42.076887Z",
     "start_time": "2023-12-12T14:20:42.062430100Z"
    }
   },
   "id": "78d2645c532c2db0"
  },
  {
   "cell_type": "code",
   "execution_count": 1140,
   "outputs": [
    {
     "data": {
      "text/plain": "[('тренажёр', 0.9797071814537048),\n ('315', 0.9789050817489624),\n ('типа', 0.9765779376029968),\n ('треножер', 0.9679059386253357),\n ('hd', 0.9651532769203186),\n ('325', 0.9591271281242371),\n ('hammer', 0.9483343362808228),\n ('вм', 0.9472570419311523),\n ('гребля', 0.9471397995948792),\n ('вакуумный', 0.946445107460022)]"
     },
     "execution_count": 1140,
     "metadata": {},
     "output_type": "execute_result"
    }
   ],
   "source": [
    "w2v_model.wv.similar_by_word('тренажер')"
   ],
   "metadata": {
    "collapsed": false,
    "ExecuteTime": {
     "end_time": "2023-12-12T14:31:18.820901400Z",
     "start_time": "2023-12-12T14:31:18.814513600Z"
    }
   },
   "id": "1940812df5e01f92"
  },
  {
   "cell_type": "code",
   "execution_count": 1141,
   "outputs": [],
   "source": [
    "from sklearn.cluster import DBSCAN, OPTICS\n",
    "\n",
    "cl_text = DBSCAN(min_samples=5, n_jobs=4)\n",
    "\n",
    "predict_text = cl_text.fit_predict(text_embedding)"
   ],
   "metadata": {
    "collapsed": false,
    "ExecuteTime": {
     "end_time": "2023-12-12T14:31:23.107972200Z",
     "start_time": "2023-12-12T14:31:23.066001800Z"
    }
   },
   "id": "185f6e74f1b5ff26"
  },
  {
   "cell_type": "code",
   "execution_count": 1145,
   "outputs": [
    {
     "data": {
      "text/plain": "7                                                Гиря 16\n17                                   Гири б/у 32, 24, 16\n85                                               Гиря 32\n109                                            Гиря 32кг\n215                                  Гири 16-32кг парные\n236                                            Гиря 24кг\n396                                      Гиря 24кг, СССР\n424                                            Гира 24кг\n520                                         Гири по 24кг\n527                                       Гиря неваляшка\n581                               Гири, гантели. 24-16кг\n586                             Комплект Гирь (16,24,32)\n618                                              Гири 16\n686                                         Гири 24 и 32\n737                                      Гири на 16 и 24\n1012                                     Гири 16, 20, 32\n1040                                      Гиря 16кг cccр\n1145                           Гиря СССР тз не неваляшка\n1148                                   Гири 16x2, 24, 32\n1318           Гиря разборн.32кг(16-24-32) и 32кг(2пуда)\n1326                                      Гиря 24 продам\n1340    Гири 8,16,24,32(разб) гантели1,2,3,4,5,8,10,12кг\n1393                                     Гиря 16-24-32кг\n1448                            Гантели 10/2 и гиря 32кг\n1502                                        Гири 16 и 24\n1539                                             Гири 32\n1561                                      Гиря 16кг СССР\n1671                           Гиря 16кг Новая в наличии\n1718                           Продам гирю 24кг за 1000р\n1762                                    Продам гурю 24кг\n1870                                      Гири 16 и 24кг\n1879                                Гиря 16кг(Советская)\n1927                                         Гиря - 32кг\n1984                       Гиря 24кг (Производство СССР)\n2042                                       Гиря 24. 32кг\n2122                                 Гиря неваляшка СССР\n2143                                   Гири 8,16,24,32кг\n2151                                           Гиря-32кг\n2310                               Продам гирю, вес 24кг\nName: title, dtype: object"
     },
     "execution_count": 1145,
     "metadata": {},
     "output_type": "execute_result"
    }
   ],
   "source": [
    "data[predict_text == 2]['title']"
   ],
   "metadata": {
    "collapsed": false,
    "ExecuteTime": {
     "end_time": "2023-12-12T14:31:30.316341900Z",
     "start_time": "2023-12-12T14:31:30.311845700Z"
    }
   },
   "id": "78b2bc2d75f143"
  },
  {
   "cell_type": "code",
   "execution_count": 272,
   "outputs": [
    {
     "data": {
      "text/plain": "array([-1,  0,  1,  2,  3,  4], dtype=int64)"
     },
     "execution_count": 272,
     "metadata": {},
     "output_type": "execute_result"
    }
   ],
   "source": [
    "np.unique(predict_img)"
   ],
   "metadata": {
    "collapsed": false,
    "ExecuteTime": {
     "end_time": "2023-12-12T12:35:36.565801900Z",
     "start_time": "2023-12-12T12:35:36.560687700Z"
    }
   },
   "id": "44d011308cb8e999"
  },
  {
   "cell_type": "code",
   "execution_count": 323,
   "outputs": [
    {
     "data": {
      "text/plain": "1390                                      Продам элип\n1538                   Велотренажер Hasttings Wega S3\n610                                   Продаю тренажер\n28                         Эллиптический тренажёр б/у\n1971    Вертикальный велоэргометр Vision U60 (U60-03)\n1416                  Велотренажер sport elit se-1311\n2261             Эллиптический тренажёр Torneo C-208G\n804               Велотренажер Body Sculpture BC-5710\n1052                      Эллиптический тренажер Q300\n2268             Эллиптический тренажер pumori BY-430\nName: title, dtype: object"
     },
     "execution_count": 323,
     "metadata": {},
     "output_type": "execute_result"
    }
   ],
   "source": [
    "data[predict_img == 2]['title'].sample(10)"
   ],
   "metadata": {
    "collapsed": false,
    "ExecuteTime": {
     "end_time": "2023-12-12T12:44:07.518298Z",
     "start_time": "2023-12-12T12:44:07.515798300Z"
    }
   },
   "id": "7d45a304cd7ce286"
  },
  {
   "cell_type": "code",
   "execution_count": 352,
   "outputs": [
    {
     "data": {
      "text/plain": "3                                 Гантели по 10 кг каждая\n7                                                 Гиря 16\n11                     Гантели разборные новые 2 по 30 кг\n12                                   Советская гиря 24 кг\n15                                       Чугунные гантели\n                              ...                        \n2446    Гантели неразборные виниловые, розовые 2шт. по...\n2447            Лавка штанга гриф для гантели блины 60 кг\n2448                                Гантели Barbell 24 кг\n2449                                        Гиря на 22 кг\n2455    Комплект штанга прямая + 2 гантели вес 55кг(арт1)\nName: title, Length: 607, dtype: object"
     },
     "execution_count": 352,
     "metadata": {},
     "output_type": "execute_result"
    }
   ],
   "source": [
    "data[predict_text == 2]['title']"
   ],
   "metadata": {
    "collapsed": false,
    "ExecuteTime": {
     "end_time": "2023-12-12T12:47:46.698705300Z",
     "start_time": "2023-12-12T12:47:46.690188800Z"
    }
   },
   "id": "8ae205d4ea82016a"
  },
  {
   "cell_type": "code",
   "execution_count": 518,
   "outputs": [
    {
     "data": {
      "text/plain": "3                                 Гантели по 10 кг каждая\n15                                       Чугунные гантели\n22                                           Штанга 50 кг\n23                                            Утяжелители\n32                         Гантели 33кг новые с доставкой\n                              ...                        \n2433                       Гантели СССР по 12. Клеймо пмз\n2441           Разборные гантели MB barbell atlet Д26. 37\n2446    Гантели неразборные виниловые, розовые 2шт. по...\n2448                                Гантели Barbell 24 кг\n2455    Комплект штанга прямая + 2 гантели вес 55кг(арт1)\nName: title, Length: 475, dtype: object"
     },
     "execution_count": 518,
     "metadata": {},
     "output_type": "execute_result"
    }
   ],
   "source": [
    "data[predict_img == 4]['title']"
   ],
   "metadata": {
    "collapsed": false,
    "ExecuteTime": {
     "end_time": "2023-12-12T13:08:14.867228900Z",
     "start_time": "2023-12-12T13:08:14.863239400Z"
    }
   },
   "id": "1d20212f1b13291c"
  },
  {
   "cell_type": "code",
   "execution_count": 366,
   "outputs": [],
   "source": [
    "mapping = {\n",
    "    -1: -1,\n",
    "    0: 0,\n",
    "    1: 2,\n",
    "    2: 1\n",
    "}\n",
    "\n",
    "mapped_func = np.vectorize(lambda x: mapping[x])"
   ],
   "metadata": {
    "collapsed": false,
    "ExecuteTime": {
     "end_time": "2023-12-12T12:53:18.072503700Z",
     "start_time": "2023-12-12T12:53:18.065520600Z"
    }
   },
   "id": "58c18dfccf5e6a4a"
  },
  {
   "cell_type": "code",
   "execution_count": 367,
   "outputs": [
    {
     "data": {
      "text/plain": "array([-1, -1,  2, ..., -1,  0,  1])"
     },
     "execution_count": 367,
     "metadata": {},
     "output_type": "execute_result"
    }
   ],
   "source": [
    "mapped_func(predict_text)"
   ],
   "metadata": {
    "collapsed": false,
    "ExecuteTime": {
     "end_time": "2023-12-12T12:53:18.723661400Z",
     "start_time": "2023-12-12T12:53:18.715460900Z"
    }
   },
   "id": "b6a35f2c2e96c456"
  },
  {
   "cell_type": "code",
   "execution_count": 369,
   "outputs": [],
   "source": [
    "predict_img[predict_img == -1] = mapped_func(predict_text[predict_img == -1])"
   ],
   "metadata": {
    "collapsed": false,
    "ExecuteTime": {
     "end_time": "2023-12-12T12:53:48.021661900Z",
     "start_time": "2023-12-12T12:53:48.009670200Z"
    }
   },
   "id": "ddda8667540d3f1"
  },
  {
   "cell_type": "code",
   "execution_count": 831,
   "outputs": [
    {
     "data": {
      "text/plain": "2294         Беговая дорожка BH fitness pioneer R2\n2297        Беговая дорожка Clear Fit Eco ET 20 AI\n2406    Продается Беговая Дорожка Torneo Linia 201\nName: title, dtype: object"
     },
     "execution_count": 831,
     "metadata": {},
     "output_type": "execute_result"
    }
   ],
   "source": [
    "data[predict_img == -1]['title']"
   ],
   "metadata": {
    "collapsed": false,
    "ExecuteTime": {
     "end_time": "2023-12-12T13:29:51.128480700Z",
     "start_time": "2023-12-12T13:29:51.123668800Z"
    }
   },
   "id": "c7617fe232bf2aea"
  },
  {
   "cell_type": "code",
   "execution_count": 836,
   "outputs": [
    {
     "data": {
      "text/plain": "array([0, 2, 2, ..., 3, 0, 4], dtype=int64)"
     },
     "execution_count": 836,
     "metadata": {},
     "output_type": "execute_result"
    }
   ],
   "source": [
    "predict_img"
   ],
   "metadata": {
    "collapsed": false,
    "ExecuteTime": {
     "end_time": "2023-12-12T13:31:04.357969500Z",
     "start_time": "2023-12-12T13:31:04.351578900Z"
    }
   },
   "id": "4195fc30fe428795"
  },
  {
   "cell_type": "code",
   "execution_count": 837,
   "outputs": [],
   "source": [
    "mapping = {\n",
    "    0: 0,\n",
    "    2: 1,\n",
    "    4: 2,\n",
    "    3: 3,\n",
    "    1: 4\n",
    "}\n",
    "\n",
    "mapped_func = np.vectorize(lambda x: mapping[x])"
   ],
   "metadata": {
    "collapsed": false,
    "ExecuteTime": {
     "end_time": "2023-12-12T13:31:38.858636100Z",
     "start_time": "2023-12-12T13:31:38.853652800Z"
    }
   },
   "id": "3ab0da6208db93fc"
  },
  {
   "cell_type": "code",
   "execution_count": 838,
   "outputs": [
    {
     "data": {
      "text/plain": "array([0, 1, 1, ..., 3, 0, 2])"
     },
     "execution_count": 838,
     "metadata": {},
     "output_type": "execute_result"
    }
   ],
   "source": [
    "mapped_func(predict_img)"
   ],
   "metadata": {
    "collapsed": false,
    "ExecuteTime": {
     "end_time": "2023-12-12T13:31:45.423839400Z",
     "start_time": "2023-12-12T13:31:45.417561700Z"
    }
   },
   "id": "e9fbb81834669a81"
  },
  {
   "cell_type": "code",
   "execution_count": 839,
   "outputs": [],
   "source": [
    "pd.DataFrame(mapped_func(predict_img)).to_csv('solution.csv', header=['cluster'], index=False)"
   ],
   "metadata": {
    "collapsed": false,
    "ExecuteTime": {
     "end_time": "2023-12-12T13:31:56.916618700Z",
     "start_time": "2023-12-12T13:31:56.906843400Z"
    }
   },
   "id": "18731a352f626ce6"
  },
  {
   "cell_type": "code",
   "execution_count": 1156,
   "outputs": [
    {
     "data": {
      "text/plain": "3                                 Гантели по 10 кг каждая\n11                     Гантели разборные новые 2 по 30 кг\n13                                              Mi band 2\n15                                       Чугунные гантели\n21                                    Обруч для похудения\n                              ...                        \n2441           Разборные гантели MB barbell atlet Д26. 37\n2446    Гантели неразборные виниловые, розовые 2шт. по...\n2448                                Гантели Barbell 24 кг\n2450              Kettler Basic Wrist утяжелители для рук\n2455    Комплект штанга прямая + 2 гантели вес 55кг(арт1)\nName: title, Length: 604, dtype: object"
     },
     "execution_count": 1156,
     "metadata": {},
     "output_type": "execute_result"
    }
   ],
   "source": [
    "data[predict_img == 4]['title']"
   ],
   "metadata": {
    "collapsed": false,
    "ExecuteTime": {
     "end_time": "2023-12-12T15:35:31.953236200Z",
     "start_time": "2023-12-12T15:35:31.948274400Z"
    }
   },
   "id": "b4f6161e5818fd33"
  },
  {
   "cell_type": "code",
   "execution_count": 1157,
   "outputs": [],
   "source": [
    "from sklearn.cluster import KMeans\n",
    "\n",
    "kmeans = KMeans(n_clusters=6)"
   ],
   "metadata": {
    "collapsed": false,
    "ExecuteTime": {
     "end_time": "2023-12-12T15:35:51.130323700Z",
     "start_time": "2023-12-12T15:35:51.111680100Z"
    }
   },
   "id": "4de0815bcb8ce2e8"
  },
  {
   "cell_type": "code",
   "execution_count": 1158,
   "outputs": [
    {
     "name": "stderr",
     "output_type": "stream",
     "text": [
      "C:\\Users\\aleks\\anaconda3\\Lib\\site-packages\\sklearn\\cluster\\_kmeans.py:1412: FutureWarning: The default value of `n_init` will change from 10 to 'auto' in 1.4. Set the value of `n_init` explicitly to suppress the warning\n",
      "  super()._check_params_vs_input(X, default_n_init=10)\n"
     ]
    }
   ],
   "source": [
    "predict_kmeans = kmeans.fit_transform(embeddings)"
   ],
   "metadata": {
    "collapsed": false,
    "ExecuteTime": {
     "end_time": "2023-12-12T15:36:03.774847Z",
     "start_time": "2023-12-12T15:36:03.475929400Z"
    }
   },
   "id": "a1bcf86283a9958f"
  },
  {
   "cell_type": "code",
   "execution_count": 1161,
   "outputs": [],
   "source": [
    "predict_kmeans = predict_kmeans.argmin(axis=1)"
   ],
   "metadata": {
    "collapsed": false,
    "ExecuteTime": {
     "end_time": "2023-12-12T15:37:25.418488800Z",
     "start_time": "2023-12-12T15:37:25.390056600Z"
    }
   },
   "id": "6a6ea90b577b1f78"
  },
  {
   "cell_type": "code",
   "execution_count": 1208,
   "outputs": [],
   "source": [
    "mapping = {\n",
    "    0: -1,\n",
    "    1: 4,\n",
    "    2: 0,\n",
    "    3: 5,\n",
    "    4: 3,\n",
    "    5: 1\n",
    "}\n",
    "\n",
    "mapped_func = np.vectorize(lambda x: mapping[x])"
   ],
   "metadata": {
    "collapsed": false,
    "ExecuteTime": {
     "end_time": "2023-12-12T15:41:20.537842900Z",
     "start_time": "2023-12-12T15:41:20.524371200Z"
    }
   },
   "id": "8d7eca6ecad16dc2"
  },
  {
   "cell_type": "code",
   "execution_count": 1209,
   "outputs": [],
   "source": [
    "predict_kmeans = mapped_func(predict_kmeans)"
   ],
   "metadata": {
    "collapsed": false,
    "ExecuteTime": {
     "end_time": "2023-12-12T15:41:34.730465100Z",
     "start_time": "2023-12-12T15:41:34.717915600Z"
    }
   },
   "id": "b17a68cbc8c9f1dc"
  },
  {
   "cell_type": "code",
   "execution_count": 1211,
   "outputs": [
    {
     "data": {
      "text/plain": "array([3, 0, 0, ..., 3, 3, 4])"
     },
     "execution_count": 1211,
     "metadata": {},
     "output_type": "execute_result"
    }
   ],
   "source": [
    "predict_kmeans"
   ],
   "metadata": {
    "collapsed": false,
    "ExecuteTime": {
     "end_time": "2023-12-12T15:41:50.370195700Z",
     "start_time": "2023-12-12T15:41:50.363557100Z"
    }
   },
   "id": "a77160da9730a4d7"
  },
  {
   "cell_type": "code",
   "execution_count": 1210,
   "outputs": [
    {
     "data": {
      "text/plain": "2023            Продам домашний велотренажер Domyos\n873                         Тренажёр Cardio Twister\n1810    Эллиптический тренажер kettler axos cross m\n2113                 Велотренажер oxygen concept iv\n1406                      Велотренажер Atemi AC 701\n1060          Эллиптический тренажер Hasttings Q600\n945                        Велотренажер мини Torneo\n553        Велотренажер Torneo в отличном состоянии\n1308                         Магнитный велотренажер\n933                         Велотренажер Sport Elit\nName: title, dtype: object"
     },
     "execution_count": 1210,
     "metadata": {},
     "output_type": "execute_result"
    }
   ],
   "source": [
    "data[predict_kmeans == 0]['title'].sample(10)"
   ],
   "metadata": {
    "collapsed": false,
    "ExecuteTime": {
     "end_time": "2023-12-12T15:41:36.907354600Z",
     "start_time": "2023-12-12T15:41:36.875448100Z"
    }
   },
   "id": "9d959a45bbf1b077"
  },
  {
   "cell_type": "code",
   "execution_count": 1212,
   "outputs": [
    {
     "data": {
      "text/plain": "1       Эллиптический тренажер Torneo Vento C-208\n2                          Эллиптический тренажер\n5                   Эллиптический тренажер торнео\n16                Эллиптический тренажер Sole E95\n25                                       Тренажёр\n                          ...                    \n2376                 Тренажер эллиптический atemi\n2388                 Эллиптический тренажер Rally\n2395                         Элепический тренажёр\n2415                              Тренажер Хаммер\n2416              Эллиптический тренажер Appalget\nName: title, Length: 233, dtype: object"
     },
     "execution_count": 1212,
     "metadata": {},
     "output_type": "execute_result"
    }
   ],
   "source": [
    "data[predict_img == 0]['title']"
   ],
   "metadata": {
    "collapsed": false,
    "ExecuteTime": {
     "end_time": "2023-12-12T15:42:01.380592600Z",
     "start_time": "2023-12-12T15:42:01.374265700Z"
    }
   },
   "id": "470b590471f18c80"
  },
  {
   "cell_type": "code",
   "execution_count": 1216,
   "outputs": [],
   "source": [
    "predict_img[predict_img == -1] = predict_kmeans[predict_img == -1]"
   ],
   "metadata": {
    "collapsed": false,
    "ExecuteTime": {
     "end_time": "2023-12-12T15:42:48.909220300Z",
     "start_time": "2023-12-12T15:42:48.904724500Z"
    }
   },
   "id": "10ba8e0c072fb268"
  },
  {
   "cell_type": "code",
   "execution_count": 1219,
   "outputs": [
    {
     "data": {
      "text/plain": "1       Эллиптический тренажер Torneo Vento C-208\n2                          Эллиптический тренажер\n5                   Эллиптический тренажер торнео\n16                Эллиптический тренажер Sole E95\n25                                       Тренажёр\n                          ...                    \n2395                         Элепический тренажёр\n2415                              Тренажер Хаммер\n2416              Эллиптический тренажер Appalget\n2421            Тренажер для пресса torneo rabbit\n2424       Велотренажер магнитный kpower кlj 8304\nName: title, Length: 329, dtype: object"
     },
     "execution_count": 1219,
     "metadata": {},
     "output_type": "execute_result"
    }
   ],
   "source": [
    "data[predict_img == 0]['title']"
   ],
   "metadata": {
    "collapsed": false,
    "ExecuteTime": {
     "end_time": "2023-12-12T15:43:48.167435100Z",
     "start_time": "2023-12-12T15:43:48.161607600Z"
    }
   },
   "id": "9db71d76d93eb85c"
  },
  {
   "cell_type": "code",
   "execution_count": 1220,
   "outputs": [],
   "source": [
    "new_predict_img = predict_img"
   ],
   "metadata": {
    "collapsed": false,
    "ExecuteTime": {
     "end_time": "2023-12-12T15:44:04.572790100Z",
     "start_time": "2023-12-12T15:44:04.545846500Z"
    }
   },
   "id": "f11c7d2fbd09f181"
  },
  {
   "cell_type": "code",
   "execution_count": 1221,
   "outputs": [],
   "source": [
    "new_predict_img[new_predict_img == -1] = 0"
   ],
   "metadata": {
    "collapsed": false,
    "ExecuteTime": {
     "end_time": "2023-12-12T15:44:10.584737700Z",
     "start_time": "2023-12-12T15:44:10.557078900Z"
    }
   },
   "id": "a343296a4fe85ac1"
  },
  {
   "cell_type": "code",
   "execution_count": 1222,
   "outputs": [
    {
     "data": {
      "text/plain": "1       Эллиптический тренажер Torneo Vento C-208\n2                          Эллиптический тренажер\n5                   Эллиптический тренажер торнео\n9        Практический новый элиптический тренажер\n16                Эллиптический тренажер Sole E95\n                          ...                    \n2415                              Тренажер Хаммер\n2416              Эллиптический тренажер Appalget\n2421            Тренажер для пресса torneo rabbit\n2424       Велотренажер магнитный kpower кlj 8304\n2445                    Велотренажер Domyos VM200\nName: title, Length: 585, dtype: object"
     },
     "execution_count": 1222,
     "metadata": {},
     "output_type": "execute_result"
    }
   ],
   "source": [
    "data[new_predict_img == 0]['title']"
   ],
   "metadata": {
    "collapsed": false,
    "ExecuteTime": {
     "end_time": "2023-12-12T15:44:17.956679100Z",
     "start_time": "2023-12-12T15:44:17.927109900Z"
    }
   },
   "id": "276c11747bc604a3"
  },
  {
   "cell_type": "code",
   "execution_count": 1224,
   "outputs": [],
   "source": [
    "mapping = {\n",
    "    3: 0,\n",
    "    0: 1,\n",
    "    4: 2,\n",
    "    1: 3,\n",
    "    5: 4,\n",
    "    2: 5\n",
    "}\n",
    "\n",
    "mapped_func = np.vectorize(lambda x: mapping[x])"
   ],
   "metadata": {
    "collapsed": false,
    "ExecuteTime": {
     "end_time": "2023-12-12T15:45:37.084126900Z",
     "start_time": "2023-12-12T15:45:37.063210100Z"
    }
   },
   "id": "d2c964d1f2bdc4da"
  },
  {
   "cell_type": "code",
   "execution_count": 1225,
   "outputs": [],
   "source": [
    "new_predict_img = mapped_func(new_predict_img)"
   ],
   "metadata": {
    "collapsed": false,
    "ExecuteTime": {
     "end_time": "2023-12-12T15:45:44.614858900Z",
     "start_time": "2023-12-12T15:45:44.587423100Z"
    }
   },
   "id": "19f73476681c0ef9"
  },
  {
   "cell_type": "code",
   "execution_count": 1226,
   "outputs": [],
   "source": [
    "pd.DataFrame(new_predict_img).to_csv('solution.csv', header=['cluster'], index=False)"
   ],
   "metadata": {
    "collapsed": false,
    "ExecuteTime": {
     "end_time": "2023-12-12T15:45:51.812088200Z",
     "start_time": "2023-12-12T15:45:51.783168400Z"
    }
   },
   "id": "d2bb5b79ce911332"
  },
  {
   "cell_type": "code",
   "execution_count": 1373,
   "outputs": [],
   "source": [
    "predict_img[predict_img == -1] = predict_img1[predict_img == -1]"
   ],
   "metadata": {
    "collapsed": false,
    "ExecuteTime": {
     "end_time": "2023-12-12T15:57:55.404826100Z",
     "start_time": "2023-12-12T15:57:55.391352600Z"
    }
   },
   "id": "ca66ef96ac0af936"
  },
  {
   "cell_type": "code",
   "execution_count": 1386,
   "outputs": [
    {
     "data": {
      "text/plain": "array([0, 0, 0, ..., 3, 3, 6])"
     },
     "execution_count": 1386,
     "metadata": {},
     "output_type": "execute_result"
    }
   ],
   "source": [
    "predict_img1"
   ],
   "metadata": {
    "collapsed": false,
    "ExecuteTime": {
     "end_time": "2023-12-12T16:01:49.659856300Z",
     "start_time": "2023-12-12T16:01:49.638883800Z"
    }
   },
   "id": "a9147d240b67e614"
  },
  {
   "cell_type": "code",
   "execution_count": 1384,
   "outputs": [
    {
     "data": {
      "text/plain": "            item_id     image_id  \\\n24     471878500455   3710743695   \n27     416560500063   3442644360   \n51    1124019250757  11852507484   \n52     832277750106   8616217817   \n63     820968750757   8480886715   \n...             ...          ...   \n2432   718981500233   5995119516   \n2434   590999000268   4516499140   \n2443    98388251715   1366170222   \n2453   267083000211   2301454396   \n2454   636204750019   4796160500   \n\n                                                  title  \n24        Oxygen villa deluxe II ML HRC беговая дорожка  \n27                                      Тренажер Torneo  \n51           Беговая дорожка электрическая Carbon T 507  \n52                   Беговая дорожка Xiaomi walking pad  \n63            Продам беговую дорожку Torneo Magic T-410  \n...                                                 ...  \n2432     Беговая дорожка электрическая Stingray ST-9315  \n2434   Беговая дорожка AppleGate T40 ADC купить в Омске  \n2443                     Беговая дорожка Hasttings Evok  \n2453              Степпер decathlon domyos ST320 purple  \n2454  В наличи дорожка электрическая 10км/ч нагрузка...  \n\n[358 rows x 3 columns]",
      "text/html": "<div>\n<style scoped>\n    .dataframe tbody tr th:only-of-type {\n        vertical-align: middle;\n    }\n\n    .dataframe tbody tr th {\n        vertical-align: top;\n    }\n\n    .dataframe thead th {\n        text-align: right;\n    }\n</style>\n<table border=\"1\" class=\"dataframe\">\n  <thead>\n    <tr style=\"text-align: right;\">\n      <th></th>\n      <th>item_id</th>\n      <th>image_id</th>\n      <th>title</th>\n    </tr>\n  </thead>\n  <tbody>\n    <tr>\n      <th>24</th>\n      <td>471878500455</td>\n      <td>3710743695</td>\n      <td>Oxygen villa deluxe II ML HRC беговая дорожка</td>\n    </tr>\n    <tr>\n      <th>27</th>\n      <td>416560500063</td>\n      <td>3442644360</td>\n      <td>Тренажер Torneo</td>\n    </tr>\n    <tr>\n      <th>51</th>\n      <td>1124019250757</td>\n      <td>11852507484</td>\n      <td>Беговая дорожка электрическая Carbon T 507</td>\n    </tr>\n    <tr>\n      <th>52</th>\n      <td>832277750106</td>\n      <td>8616217817</td>\n      <td>Беговая дорожка Xiaomi walking pad</td>\n    </tr>\n    <tr>\n      <th>63</th>\n      <td>820968750757</td>\n      <td>8480886715</td>\n      <td>Продам беговую дорожку Torneo Magic T-410</td>\n    </tr>\n    <tr>\n      <th>...</th>\n      <td>...</td>\n      <td>...</td>\n      <td>...</td>\n    </tr>\n    <tr>\n      <th>2432</th>\n      <td>718981500233</td>\n      <td>5995119516</td>\n      <td>Беговая дорожка электрическая Stingray ST-9315</td>\n    </tr>\n    <tr>\n      <th>2434</th>\n      <td>590999000268</td>\n      <td>4516499140</td>\n      <td>Беговая дорожка AppleGate T40 ADC купить в Омске</td>\n    </tr>\n    <tr>\n      <th>2443</th>\n      <td>98388251715</td>\n      <td>1366170222</td>\n      <td>Беговая дорожка Hasttings Evok</td>\n    </tr>\n    <tr>\n      <th>2453</th>\n      <td>267083000211</td>\n      <td>2301454396</td>\n      <td>Степпер decathlon domyos ST320 purple</td>\n    </tr>\n    <tr>\n      <th>2454</th>\n      <td>636204750019</td>\n      <td>4796160500</td>\n      <td>В наличи дорожка электрическая 10км/ч нагрузка...</td>\n    </tr>\n  </tbody>\n</table>\n<p>358 rows × 3 columns</p>\n</div>"
     },
     "execution_count": 1384,
     "metadata": {},
     "output_type": "execute_result"
    }
   ],
   "source": [
    "data[predict_img == 3]"
   ],
   "metadata": {
    "collapsed": false,
    "ExecuteTime": {
     "end_time": "2023-12-12T16:00:21.580426500Z",
     "start_time": "2023-12-12T16:00:21.561866400Z"
    }
   },
   "id": "b47631eb6a168207"
  },
  {
   "cell_type": "code",
   "execution_count": 1387,
   "outputs": [],
   "source": [
    "predict_img[predict_img == -1] = predict_img1[predict_img == -1]"
   ],
   "metadata": {
    "collapsed": false,
    "ExecuteTime": {
     "end_time": "2023-12-12T16:02:27.766649800Z",
     "start_time": "2023-12-12T16:02:27.740720200Z"
    }
   },
   "id": "62faf37033aeaa5f"
  },
  {
   "cell_type": "code",
   "execution_count": 1389,
   "outputs": [],
   "source": [
    "mapping = {\n",
    "    0: 0,\n",
    "    6: 1,\n",
    "    1: 2,\n",
    "    4: 3,\n",
    "    3: 4,\n",
    "    5: 5,\n",
    "    2: 6\n",
    "}\n",
    "\n",
    "mapped_func = np.vectorize(lambda x: mapping[x])\n",
    "\n",
    "predict_img = mapped_func(predict_img)"
   ],
   "metadata": {
    "collapsed": false,
    "ExecuteTime": {
     "end_time": "2023-12-12T16:03:27.045847300Z",
     "start_time": "2023-12-12T16:03:27.032379900Z"
    }
   },
   "id": "702b7f1f3fcedf0a"
  },
  {
   "cell_type": "code",
   "execution_count": 1390,
   "outputs": [
    {
     "data": {
      "text/plain": "array([0, 0, 0, ..., 4, 4, 1])"
     },
     "execution_count": 1390,
     "metadata": {},
     "output_type": "execute_result"
    }
   ],
   "source": [
    "predict_img"
   ],
   "metadata": {
    "collapsed": false,
    "ExecuteTime": {
     "end_time": "2023-12-12T16:03:27.893273Z",
     "start_time": "2023-12-12T16:03:27.860102700Z"
    }
   },
   "id": "28de79db56d7868b"
  },
  {
   "cell_type": "code",
   "execution_count": 1391,
   "outputs": [],
   "source": [
    "pd.DataFrame(predict_img).to_csv('solution.csv', header=['cluster'], index=False)"
   ],
   "metadata": {
    "collapsed": false,
    "ExecuteTime": {
     "end_time": "2023-12-12T16:03:33.612731800Z",
     "start_time": "2023-12-12T16:03:33.604764Z"
    }
   },
   "id": "85dc6a8cfc4a2895"
  },
  {
   "cell_type": "code",
   "execution_count": 5,
   "outputs": [],
   "source": [
    "import faiss"
   ],
   "metadata": {
    "collapsed": false,
    "ExecuteTime": {
     "end_time": "2023-12-18T20:55:32.742267200Z",
     "start_time": "2023-12-18T20:55:32.700137600Z"
    }
   },
   "id": "6d40233f1c7ef76d"
  },
  {
   "cell_type": "code",
   "execution_count": 6,
   "outputs": [
    {
     "data": {
      "text/plain": "array([[ 5.1311584e+00,  6.3193374e+00,  1.7005675e-02, ...,\n         1.2844603e-01,  2.9735411e-02, -5.3486533e-02],\n       [ 4.2242427e+00, -4.7491603e+00, -5.8638811e-01, ...,\n         5.1246941e-02,  2.4692614e-02, -6.6261292e-02],\n       [ 5.1241570e+00, -2.8963387e+00,  1.8442334e-01, ...,\n         2.2176186e-02,  5.8165304e-02,  3.9022826e-02],\n       ...,\n       [ 1.4754670e+00,  1.6166554e-01, -2.7256250e+00, ...,\n        -5.1724133e-03, -6.8166345e-02,  1.6987930e-01],\n       [ 2.0622656e+00,  3.6965909e+00, -1.7136641e+00, ...,\n         1.1754863e-01, -2.3782093e-02,  3.9456457e-02],\n       [-4.9890742e+00,  3.8849327e-01, -1.4322029e+00, ...,\n        -2.2285390e-03, -1.8312924e-01, -1.0697322e-01]], dtype=float32)"
     },
     "execution_count": 6,
     "metadata": {},
     "output_type": "execute_result"
    }
   ],
   "source": [
    "embeddings"
   ],
   "metadata": {
    "collapsed": false,
    "ExecuteTime": {
     "end_time": "2023-12-18T20:55:48.920583Z",
     "start_time": "2023-12-18T20:55:48.898132900Z"
    }
   },
   "id": "70ace8f34e4cfe9b"
  },
  {
   "cell_type": "code",
   "execution_count": 22,
   "outputs": [
    {
     "data": {
      "text/plain": "135632.984375"
     },
     "execution_count": 22,
     "metadata": {},
     "output_type": "execute_result"
    }
   ],
   "source": [
    "ncentroids = 7\n",
    "niter = 20\n",
    "verbose = True\n",
    "d = 512\n",
    "kmeans = faiss.Kmeans(d, ncentroids, niter=niter, verbose=verbose)\n",
    "kmeans.train(embeddings)"
   ],
   "metadata": {
    "collapsed": false,
    "ExecuteTime": {
     "end_time": "2023-12-18T20:57:22.282909700Z",
     "start_time": "2023-12-18T20:57:22.097399200Z"
    }
   },
   "id": "6c47ed6131f3b492"
  },
  {
   "cell_type": "code",
   "execution_count": 23,
   "outputs": [],
   "source": [
    "D, I = kmeans.index.search(embeddings, 1)"
   ],
   "metadata": {
    "collapsed": false,
    "ExecuteTime": {
     "end_time": "2023-12-18T20:57:23.356712600Z",
     "start_time": "2023-12-18T20:57:23.285799500Z"
    }
   },
   "id": "c9065ac086cf8d3a"
  },
  {
   "cell_type": "code",
   "execution_count": 36,
   "outputs": [
    {
     "data": {
      "text/plain": "array([[6],\n       [1],\n       [1],\n       ...,\n       [5],\n       [6],\n       [2]], dtype=int64)"
     },
     "execution_count": 36,
     "metadata": {},
     "output_type": "execute_result"
    }
   ],
   "source": [
    "I"
   ],
   "metadata": {
    "collapsed": false,
    "ExecuteTime": {
     "end_time": "2023-12-18T20:57:55.968686900Z",
     "start_time": "2023-12-18T20:57:55.948933300Z"
    }
   },
   "id": "8739969c39f06f38"
  },
  {
   "cell_type": "code",
   "execution_count": 69,
   "outputs": [],
   "source": [
    "res = pd.DataFrame(I)"
   ],
   "metadata": {
    "collapsed": false,
    "ExecuteTime": {
     "end_time": "2023-12-18T21:04:16.856710900Z",
     "start_time": "2023-12-18T21:04:16.837768500Z"
    }
   },
   "id": "ee16f1a8732b2086"
  },
  {
   "cell_type": "code",
   "execution_count": 70,
   "outputs": [],
   "source": [
    "mapping = {\n",
    "    6: 0,\n",
    "    1: 1,\n",
    "    2: 2,\n",
    "    3: 3,\n",
    "    4: 4,\n",
    "    5: 5,\n",
    "    0: 6\n",
    "}"
   ],
   "metadata": {
    "collapsed": false,
    "ExecuteTime": {
     "end_time": "2023-12-18T21:04:17.958604200Z",
     "start_time": "2023-12-18T21:04:17.936666Z"
    }
   },
   "id": "5f7b612e47055c82"
  },
  {
   "cell_type": "code",
   "execution_count": 72,
   "outputs": [
    {
     "data": {
      "text/plain": "0       6\n1       1\n2       1\n3       2\n4       3\n       ..\n2451    0\n2452    3\n2453    5\n2454    6\n2455    2\nName: 0, Length: 2456, dtype: int64"
     },
     "execution_count": 72,
     "metadata": {},
     "output_type": "execute_result"
    }
   ],
   "source": [
    "res[0]"
   ],
   "metadata": {
    "collapsed": false,
    "ExecuteTime": {
     "end_time": "2023-12-18T21:05:03.667402800Z",
     "start_time": "2023-12-18T21:05:03.647140800Z"
    }
   },
   "id": "72ae3ae1a72f437e"
  },
  {
   "cell_type": "code",
   "execution_count": 75,
   "outputs": [],
   "source": [
    "res = res[0].map(lambda x: mapping[x])"
   ],
   "metadata": {
    "collapsed": false,
    "ExecuteTime": {
     "end_time": "2023-12-18T21:05:34.184465100Z",
     "start_time": "2023-12-18T21:05:34.167985800Z"
    }
   },
   "id": "5473e1cbfb7a9ca2"
  },
  {
   "cell_type": "code",
   "execution_count": 77,
   "outputs": [],
   "source": [
    "res.to_csv('solution.csv', header=['cluster'], index=False)"
   ],
   "metadata": {
    "collapsed": false,
    "ExecuteTime": {
     "end_time": "2023-12-18T21:06:01.534858Z",
     "start_time": "2023-12-18T21:06:01.478928600Z"
    }
   },
   "id": "319b4085b7c74fcb"
  },
  {
   "cell_type": "code",
   "execution_count": null,
   "outputs": [],
   "source": [],
   "metadata": {
    "collapsed": false
   },
   "id": "90418c06e543fbea"
  }
 ],
 "metadata": {
  "kernelspec": {
   "display_name": "Python 3",
   "language": "python",
   "name": "python3"
  },
  "language_info": {
   "codemirror_mode": {
    "name": "ipython",
    "version": 2
   },
   "file_extension": ".py",
   "mimetype": "text/x-python",
   "name": "python",
   "nbconvert_exporter": "python",
   "pygments_lexer": "ipython2",
   "version": "2.7.6"
  }
 },
 "nbformat": 4,
 "nbformat_minor": 5
}

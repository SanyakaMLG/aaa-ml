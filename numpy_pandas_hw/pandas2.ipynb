{
 "cells": [
  {
   "cell_type": "code",
   "execution_count": null,
   "id": "989bccbc-93d7-46cc-ab4a-643fabca9c21",
   "metadata": {},
   "outputs": [],
   "source": [
    "import pandas as pd\n",
    "import numpy as np"
   ]
  },
  {
   "cell_type": "code",
   "execution_count": null,
   "id": "27b4db5f-120a-41d6-a9ed-74729a3c6317",
   "metadata": {},
   "outputs": [],
   "source": [
    "df = pd.read_csv('real_estate_novosibirsk.csv')"
   ]
  },
  {
   "cell_type": "code",
   "execution_count": null,
   "id": "3741f305-51de-4efe-b398-817aadb4835c",
   "metadata": {},
   "outputs": [],
   "source": [
    "df['prediction'] = np.mean(df['price'] / df['area']) * df['area']"
   ]
  },
  {
   "cell_type": "code",
   "execution_count": null,
   "id": "a8311ab0-9420-4c6c-9c02-ab029cecfba4",
   "metadata": {},
   "outputs": [],
   "source": [
    "df"
   ]
  },
  {
   "cell_type": "code",
   "execution_count": null,
   "id": "cbb1fa56-b03b-4908-b654-82a68e82cb7f",
   "metadata": {
    "tags": []
   },
   "outputs": [],
   "source": [
    "mape = ((df.prediction - df.price).abs() / df.price)"
   ]
  },
  {
   "cell_type": "code",
   "execution_count": null,
   "id": "f19190f8-2de0-4b32-b1c5-ad9c533133e6",
   "metadata": {},
   "outputs": [],
   "source": [
    "df.loc[mape[mape > 10].index].sample()"
   ]
  },
  {
   "cell_type": "code",
   "execution_count": null,
   "id": "ce62ac62-43ea-4fdf-aabf-7cd5a6c41b5f",
   "metadata": {},
   "outputs": [],
   "source": [
    "df.loc[df['price'] < 200000, 'price'] = np.nan"
   ]
  },
  {
   "cell_type": "code",
   "execution_count": null,
   "id": "a0b5f349-e854-4812-961f-8293d89299c8",
   "metadata": {},
   "outputs": [],
   "source": [
    "df['price_per_area'] = df['price'] / df['area']"
   ]
  },
  {
   "cell_type": "code",
   "execution_count": null,
   "id": "c58d0646-b364-43bf-8b84-c3cc1081fead",
   "metadata": {},
   "outputs": [],
   "source": [
    "df['price_per_area'].mean()"
   ]
  },
  {
   "cell_type": "code",
   "execution_count": null,
   "id": "601f7e99-030b-4796-93c9-bd0e169077d4",
   "metadata": {},
   "outputs": [],
   "source": [
    "df['prediction_2'] = np.mean(df['price'] / df['area']) * df['area']"
   ]
  },
  {
   "cell_type": "code",
   "execution_count": null,
   "id": "43a1770d-0ce3-4e4c-ab1a-64f21b39c944",
   "metadata": {},
   "outputs": [],
   "source": [
    "mape = ((df.prediction_2 - df.price).abs() / df.price).mean()"
   ]
  },
  {
   "cell_type": "code",
   "execution_count": null,
   "id": "df77da6e-359d-4d31-ac25-13dbcbe5199f",
   "metadata": {},
   "outputs": [],
   "source": [
    "mape"
   ]
  },
  {
   "cell_type": "code",
   "execution_count": null,
   "id": "66c7886e-0f34-4d0a-ae0e-e3b0225f1e48",
   "metadata": {},
   "outputs": [],
   "source": [
    "# Grouping the data by district and calculating the average price_per_area\n",
    "district_avg_price = df.groupby('district')['price_per_area'].mean()\n",
    "\n",
    "# Function to calculate the estimated price based on district average price_per_area\n",
    "def calculate_estimated_price(row):\n",
    "    district = row['district']\n",
    "    area = row['area']\n",
    "    if district in district_avg_price:\n",
    "        avg_price_per_area = district_avg_price[district]\n",
    "        estimated_price = avg_price_per_area * area\n",
    "        return estimated_price\n",
    "    else:\n",
    "        return None\n",
    "\n",
    "# Applying the function to create a new column 'estimated_price'\n",
    "df['prediction_3'] = df.apply(calculate_estimated_price, axis=1)"
   ]
  },
  {
   "cell_type": "code",
   "execution_count": null,
   "id": "3aac5484-5219-4b1d-b46e-77dad1e53a4c",
   "metadata": {},
   "outputs": [],
   "source": [
    "mape = ((df.prediction_3 - df.price).abs() / df.price).mean()"
   ]
  },
  {
   "cell_type": "code",
   "execution_count": null,
   "id": "61741e04-c119-4b68-86de-406b79f8fc62",
   "metadata": {},
   "outputs": [],
   "source": [
    "mape"
   ]
  },
  {
   "cell_type": "code",
   "execution_count": null,
   "id": "0ad3143d-e2ff-4e92-8300-e7975655e702",
   "metadata": {},
   "outputs": [],
   "source": [
    "# Grouping the data by district, type of house, and floor, and calculating the average price_per_area\n",
    "grouped_avg_price = df.groupby(['district', 'type_of_house', 'floor'])['price_per_area'].mean()\n",
    "\n",
    "# Function to calculate the estimated price based on district, type of house, and floor average price_per_area\n",
    "def calculate_estimated_price(row):\n",
    "    district = row['district']\n",
    "    type_of_house = row['type_of_house']\n",
    "    floor = row['floor']\n",
    "    area = row['area']\n",
    "    if (district, type_of_house, floor) in grouped_avg_price:\n",
    "        avg_price_per_area = grouped_avg_price[(district, type_of_house, floor)]\n",
    "        estimated_price = avg_price_per_area * area\n",
    "        return estimated_price\n",
    "    else:\n",
    "        return None\n",
    "\n",
    "# Applying the function to create a new column 'estimated_price'\n",
    "df['prediction_4'] = df.apply(calculate_estimated_price, axis=1)"
   ]
  },
  {
   "cell_type": "code",
   "execution_count": null,
   "id": "823c6049-5d5c-4ede-91a0-f251e0fa4d40",
   "metadata": {},
   "outputs": [],
   "source": [
    "mape = ((df.prediction_4 - df.price).abs() / df.price).mean()"
   ]
  },
  {
   "cell_type": "code",
   "execution_count": null,
   "id": "725e09ad-3c83-4848-b302-00934f7bff9e",
   "metadata": {},
   "outputs": [],
   "source": [
    "mape"
   ]
  },
  {
   "cell_type": "code",
   "execution_count": null,
   "id": "f7caa76d-4d5d-4b2b-803b-ba48dea65597",
   "metadata": {},
   "outputs": [],
   "source": [
    "res_df = pd.read_csv('dataset_521000_13.txt', delimiter=';')"
   ]
  },
  {
   "cell_type": "code",
   "execution_count": null,
   "id": "4d9dc65f-6bd8-476a-aaf0-fc57e7fdb786",
   "metadata": {},
   "outputs": [],
   "source": [
    "res_df"
   ]
  },
  {
   "cell_type": "code",
   "execution_count": null,
   "id": "e6f21c3c-82bb-42ce-bdd3-2150dbd340c4",
   "metadata": {},
   "outputs": [],
   "source": [
    "grouped_avg_price = df.groupby(['district', 'type_of_house', 'floor'])['price_per_area'].mean()\n",
    "grouped_avg_price_by_district = df.groupby(['district'])['price_per_area'].mean()\n",
    "\n",
    "# Function to calculate the estimated price based on district, type of house, and floor average price_per_area\n",
    "def calculate_estimated_price(row):\n",
    "    district = row['district']\n",
    "    type_of_house = row['type_of_house']\n",
    "    floor = row['floor']\n",
    "    area = row['area']\n",
    "    if row['item_id'] == 820571750023:\n",
    "        print(district, type_of_house, floor, area)\n",
    "    if (district, type_of_house, floor) in grouped_avg_price and not np.isnan(grouped_avg_price[(district, type_of_house, floor)]):\n",
    "        avg_price_per_area = grouped_avg_price[(district, type_of_house, floor)]\n",
    "        estimated_price = avg_price_per_area * area\n",
    "        if row['item_id'] == 820571750023:\n",
    "            print(111)\n",
    "            print(avg_price_per_area)\n",
    "            print(area)\n",
    "            print(estimated_price)\n",
    "        return estimated_price\n",
    "    else:\n",
    "        avg_price_per_area = grouped_avg_price_by_district[district]\n",
    "        estimated_price = avg_price_per_area * area\n",
    "        if row['item_id'] == 820571750023:\n",
    "            print(222)\n",
    "        return estimated_price\n",
    "    return None"
   ]
  },
  {
   "cell_type": "code",
   "execution_count": null,
   "id": "fbcad21b-0dfe-48e1-8c7d-d9963e0c7a70",
   "metadata": {},
   "outputs": [],
   "source": [
    "res_df['pred'] = res_df.apply(calculate_estimated_price, axis=1)"
   ]
  },
  {
   "cell_type": "code",
   "execution_count": null,
   "id": "76447141-df0b-47c5-b789-9ffda0e3c1c7",
   "metadata": {},
   "outputs": [],
   "source": [
    "res_df[res_df['pred'].isna()]"
   ]
  },
  {
   "cell_type": "code",
   "execution_count": null,
   "id": "bab84b7d-2229-46cd-9df1-263ac1e499ca",
   "metadata": {},
   "outputs": [],
   "source": [
    "res_df['pred'].to_csv('solution.csv', header=False, index=False)"
   ]
  }
 ],
 "metadata": {
  "kernelspec": {
   "display_name": "anaconda-panel-2023.05-py310",
   "language": "python",
   "name": "conda-env-anaconda-panel-2023.05-py310-py"
  },
  "language_info": {
   "codemirror_mode": {
    "name": "ipython",
    "version": 3
   },
   "file_extension": ".py",
   "mimetype": "text/x-python",
   "name": "python",
   "nbconvert_exporter": "python",
   "pygments_lexer": "ipython3",
   "version": "3.11.4"
  }
 },
 "nbformat": 4,
 "nbformat_minor": 5
}

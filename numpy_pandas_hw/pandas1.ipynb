{
 "cells": [
  {
   "cell_type": "code",
   "execution_count": 2,
   "id": "0c501bb9-883c-4e36-9871-3233e1915d7a",
   "metadata": {
    "ExecuteTime": {
     "end_time": "2023-12-28T14:25:51.039069700Z",
     "start_time": "2023-12-28T14:25:51.030582400Z"
    }
   },
   "outputs": [],
   "source": [
    "import pandas as pd"
   ]
  },
  {
   "cell_type": "code",
   "execution_count": null,
   "id": "290eb0cc-8103-4001-ba45-6c19107eea10",
   "metadata": {},
   "outputs": [],
   "source": [
    "df = pd.read_csv('pandas1.txt', sep=';')\n",
    "df['date'] = pd.to_datetime(df['date'])\n",
    "df.sort_values(['seller_id', 'date'], inplace=True)\n",
    "df.reset_index(drop=True, inplace=True)"
   ]
  },
  {
   "cell_type": "code",
   "execution_count": null,
   "id": "fa50d0e2-cdd9-4080-b81f-fd71bf5a6b0a",
   "metadata": {},
   "outputs": [],
   "source": [
    "df.head(10)"
   ]
  },
  {
   "cell_type": "code",
   "execution_count": null,
   "id": "2296c1d3-1ac8-4976-9c40-e3debbfdf914",
   "metadata": {},
   "outputs": [],
   "source": [
    "df['date_diff'] = df.groupby('seller_id')['date'].diff()\n",
    "mask = df['date_diff'].dt.days != 1\n",
    "df['period'] = mask.cumsum()\n",
    "df = df.drop('date_diff', axis=1)"
   ]
  },
  {
   "cell_type": "code",
   "execution_count": null,
   "id": "29f16259-e751-4106-b7c3-0ecac3e8a97c",
   "metadata": {},
   "outputs": [],
   "source": [
    "df.groupby('period')['seller_id'].count().mean()"
   ]
  },
  {
   "cell_type": "code",
   "execution_count": null,
   "id": "3e1c868b-1cd0-4f8f-8e66-50995ce9be54",
   "metadata": {},
   "outputs": [],
   "source": [
    "df.groupby('period')['quantity'].mean().mean()"
   ]
  },
  {
   "cell_type": "code",
   "execution_count": null,
   "id": "facc1475-4978-4b7a-bade-71e87d7fdb3b",
   "metadata": {},
   "outputs": [],
   "source": [
    "df.groupby('seller_id')['period'].nunique().mean()"
   ]
  }
 ],
 "metadata": {
  "kernelspec": {
   "name": "python3",
   "language": "python",
   "display_name": "Python 3 (ipykernel)"
  },
  "language_info": {
   "codemirror_mode": {
    "name": "ipython",
    "version": 3
   },
   "file_extension": ".py",
   "mimetype": "text/x-python",
   "name": "python",
   "nbconvert_exporter": "python",
   "pygments_lexer": "ipython3",
   "version": "3.11.4"
  }
 },
 "nbformat": 4,
 "nbformat_minor": 5
}

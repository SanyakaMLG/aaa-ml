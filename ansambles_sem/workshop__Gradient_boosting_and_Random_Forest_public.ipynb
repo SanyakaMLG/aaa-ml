{
 "cells": [
  {
   "cell_type": "code",
   "execution_count": 10,
   "metadata": {
    "ExecuteTime": {
     "end_time": "2024-01-02T07:32:41.649313400Z",
     "start_time": "2024-01-02T07:32:41.389009400Z"
    }
   },
   "outputs": [],
   "source": [
    "import pandas as pd\n",
    "import numpy as np\n",
    "\n",
    "from sklearn.datasets import load_wine\n",
    "from sklearn.tree import DecisionTreeRegressor, DecisionTreeClassifier\n",
    "from sklearn.ensemble import GradientBoostingClassifier, RandomForestClassifier, RandomForestRegressor\n",
    "from sklearn.model_selection import train_test_split"
   ]
  },
  {
   "cell_type": "markdown",
   "metadata": {},
   "source": [
    "### Датасет \"Wine recognition\""
   ]
  },
  {
   "cell_type": "code",
   "execution_count": 11,
   "metadata": {
    "ExecuteTime": {
     "end_time": "2024-01-02T07:32:43.061410400Z",
     "start_time": "2024-01-02T07:32:43.048297500Z"
    }
   },
   "outputs": [],
   "source": [
    "wine_dataset = load_wine()\n",
    "data = wine_dataset['data']\n",
    "target = wine_dataset['target']"
   ]
  },
  {
   "cell_type": "code",
   "execution_count": 12,
   "metadata": {
    "ExecuteTime": {
     "end_time": "2024-01-02T07:32:43.929068300Z",
     "start_time": "2024-01-02T07:32:43.925566600Z"
    }
   },
   "outputs": [
    {
     "name": "stdout",
     "output_type": "stream",
     "text": [
      ".. _wine_dataset:\n",
      "\n",
      "Wine recognition dataset\n",
      "------------------------\n",
      "\n",
      "**Data Set Characteristics:**\n",
      "\n",
      "    :Number of Instances: 178\n",
      "    :Number of Attributes: 13 numeric, predictive attributes and the class\n",
      "    :Attribute Information:\n",
      " \t\t- Alcohol\n",
      " \t\t- Malic acid\n",
      " \t\t- Ash\n",
      "\t\t- Alcalinity of ash  \n",
      " \t\t- Magnesium\n",
      "\t\t- Total phenols\n",
      " \t\t- Flavanoids\n",
      " \t\t- Nonflavanoid phenols\n",
      " \t\t- Proanthocyanins\n",
      "\t\t- Color intensity\n",
      " \t\t- Hue\n",
      " \t\t- OD280/OD315 of diluted wines\n",
      " \t\t- Proline\n",
      "\n",
      "    - class:\n",
      "            - class_0\n",
      "            - class_1\n",
      "            - class_2\n",
      "\t\t\n",
      "    :Summary Statistics:\n",
      "    \n",
      "    ============================= ==== ===== ======= =====\n",
      "                                   Min   Max   Mean     SD\n",
      "    ============================= ==== ===== ======= =====\n",
      "    Alcohol:                      11.0  14.8    13.0   0.8\n",
      "    Malic Acid:                   0.74  5.80    2.34  1.12\n",
      "    Ash:                          1.36  3.23    2.36  0.27\n",
      "    Alcalinity of Ash:            10.6  30.0    19.5   3.3\n",
      "    Magnesium:                    70.0 162.0    99.7  14.3\n",
      "    Total Phenols:                0.98  3.88    2.29  0.63\n",
      "    Flavanoids:                   0.34  5.08    2.03  1.00\n",
      "    Nonflavanoid Phenols:         0.13  0.66    0.36  0.12\n",
      "    Proanthocyanins:              0.41  3.58    1.59  0.57\n",
      "    Colour Intensity:              1.3  13.0     5.1   2.3\n",
      "    Hue:                          0.48  1.71    0.96  0.23\n",
      "    OD280/OD315 of diluted wines: 1.27  4.00    2.61  0.71\n",
      "    Proline:                       278  1680     746   315\n",
      "    ============================= ==== ===== ======= =====\n",
      "\n",
      "    :Missing Attribute Values: None\n",
      "    :Class Distribution: class_0 (59), class_1 (71), class_2 (48)\n",
      "    :Creator: R.A. Fisher\n",
      "    :Donor: Michael Marshall (MARSHALL%PLU@io.arc.nasa.gov)\n",
      "    :Date: July, 1988\n",
      "\n",
      "This is a copy of UCI ML Wine recognition datasets.\n",
      "https://archive.ics.uci.edu/ml/machine-learning-databases/wine/wine.data\n",
      "\n",
      "The data is the results of a chemical analysis of wines grown in the same\n",
      "region in Italy by three different cultivators. There are thirteen different\n",
      "measurements taken for different constituents found in the three types of\n",
      "wine.\n",
      "\n",
      "Original Owners: \n",
      "\n",
      "Forina, M. et al, PARVUS - \n",
      "An Extendible Package for Data Exploration, Classification and Correlation. \n",
      "Institute of Pharmaceutical and Food Analysis and Technologies,\n",
      "Via Brigata Salerno, 16147 Genoa, Italy.\n",
      "\n",
      "Citation:\n",
      "\n",
      "Lichman, M. (2013). UCI Machine Learning Repository\n",
      "[https://archive.ics.uci.edu/ml]. Irvine, CA: University of California,\n",
      "School of Information and Computer Science. \n",
      "\n",
      ".. topic:: References\n",
      "\n",
      "  (1) S. Aeberhard, D. Coomans and O. de Vel, \n",
      "  Comparison of Classifiers in High Dimensional Settings, \n",
      "  Tech. Rep. no. 92-02, (1992), Dept. of Computer Science and Dept. of  \n",
      "  Mathematics and Statistics, James Cook University of North Queensland. \n",
      "  (Also submitted to Technometrics). \n",
      "\n",
      "  The data was used with many others for comparing various \n",
      "  classifiers. The classes are separable, though only RDA \n",
      "  has achieved 100% correct classification. \n",
      "  (RDA : 100%, QDA 99.4%, LDA 98.9%, 1NN 96.1% (z-transformed data)) \n",
      "  (All results using the leave-one-out technique) \n",
      "\n",
      "  (2) S. Aeberhard, D. Coomans and O. de Vel, \n",
      "  \"THE CLASSIFICATION PERFORMANCE OF RDA\" \n",
      "  Tech. Rep. no. 92-01, (1992), Dept. of Computer Science and Dept. of \n",
      "  Mathematics and Statistics, James Cook University of North Queensland. \n",
      "  (Also submitted to Journal of Chemometrics).\n"
     ]
    }
   ],
   "source": [
    "print(wine_dataset['DESCR'])"
   ]
  },
  {
   "cell_type": "markdown",
   "metadata": {},
   "source": [
    "---"
   ]
  },
  {
   "cell_type": "code",
   "execution_count": 13,
   "metadata": {
    "ExecuteTime": {
     "end_time": "2024-01-02T07:32:45.788475600Z",
     "start_time": "2024-01-02T07:32:45.777570800Z"
    }
   },
   "outputs": [],
   "source": [
    "X_train_wine, X_test_wine, y_train_wine, y_test_wine = train_test_split(data, target, random_state=2, test_size=0.33)"
   ]
  },
  {
   "cell_type": "code",
   "execution_count": 14,
   "metadata": {
    "ExecuteTime": {
     "end_time": "2024-01-02T07:32:46.486393Z",
     "start_time": "2024-01-02T07:32:46.455445300Z"
    }
   },
   "outputs": [
    {
     "data": {
      "text/plain": "0.864406779661017"
     },
     "execution_count": 14,
     "metadata": {},
     "output_type": "execute_result"
    }
   ],
   "source": [
    "tree = DecisionTreeClassifier(max_features=X_train_wine.shape[1], random_state=1)\n",
    "tree.fit(X_train_wine, y_train_wine)\n",
    "(y_test_wine == tree.predict(X_test_wine)).mean()"
   ]
  },
  {
   "cell_type": "markdown",
   "metadata": {},
   "source": [
    "**Статья на вики про [случайный лес](https://ru.wikipedia.org/wiki/Random_forest).**"
   ]
  },
  {
   "cell_type": "markdown",
   "metadata": {},
   "source": [
    "Случайный лес:\n",
    "\n",
    "* Обучить много глубоких деревьев для решения задачи;\n",
    "* Усреднить их ответы на этапе предсказания."
   ]
  },
  {
   "cell_type": "markdown",
   "metadata": {},
   "source": [
    "Задание:\n",
    "\n",
    "    1) Реализуйте случайный лес решающих деревьев пользуясь классом DecisionTreeClassifier в качестве базового алгоритма;\n",
    "    2) Обучите ваш классификатор с на данных Wine recognition dataset;\n",
    "    3) Сравните полученный результат с бейзлайном на одном Decision tree;\n",
    "    4) Постройте график зависимости точности от количества деревьев;\n",
    "    5) Постройте график зависимости точности от параметра max_features в базовых деревьях;\n",
    "    6) Постройте шрафик зависимости точности от глубины базовых алгоритмов.\n",
    "    \n",
    "Обратите внимание, что количество классов может быть > 2."
   ]
  },
  {
   "cell_type": "code",
   "execution_count": 35,
   "outputs": [],
   "source": [
    "class MyDecisionTreeClassifier:\n",
    "\n",
    "    def __init__(self, max_depth=None, max_features=None, min_leaf_samples=None, max_classes=None):\n",
    "        self.max_depth = max_depth\n",
    "        self.max_features = max_features\n",
    "        self.min_leaf_samples = min_leaf_samples\n",
    "        self._node = {\n",
    "            'left': None,\n",
    "            'right': None,\n",
    "            'feature': None,\n",
    "            'threshold': None,\n",
    "            'depth': 0,\n",
    "            'classes_proba': None\n",
    "        }\n",
    "        self.tree = None  # словарь в котором будет храниться построенное дерево\n",
    "        self.classes = max_classes  # список меток классов\n",
    "\n",
    "    def fit(self, X, y):\n",
    "        if self.classes is None:\n",
    "            self.classes = np.unique(y)\n",
    "        \n",
    "        self.tree = {'root': self._node.copy()}  # создаём первую узел в дереве\n",
    "        self._build_tree(self.tree['root'], X, y)  # запускаем рекурсивную функцию для построения дерева\n",
    "        return self\n",
    "\n",
    "    def predict_proba(self, X):\n",
    "        proba_preds = []\n",
    "        for x in X:\n",
    "            preds_for_x = self._get_predict(self.tree['root'], x)  # рекурсивно ищем лист в дереве соответствующий объекту\n",
    "            proba_preds.append(preds_for_x)\n",
    "        return np.array(proba_preds)\n",
    "\n",
    "    def predict(self, X):\n",
    "        proba_preds = self.predict_proba(X)\n",
    "        preds = proba_preds.argmax(axis=1).reshape(-1, 1)\n",
    "        return preds\n",
    "\n",
    "    def get_best_split(self, X, y):\n",
    "        j_best, t_best = None, None\n",
    "        Q_best = -1\n",
    "        \n",
    "        if self.max_features:\n",
    "            features = np.random.choice(X.shape[1], size=self.max_features, replace=False)\n",
    "        else:\n",
    "            features = list(range(X.shape[1]))\n",
    "\n",
    "        for i in features:\n",
    "            sorted = X[X[:, i].argsort()]\n",
    "            y_sorted = y[X[:, i].argsort()]\n",
    "            for t in range(1, len(y)):\n",
    "                if sorted[t, i] == sorted[t - 1, i]:\n",
    "                    continue\n",
    "                y_left = y_sorted[:t]\n",
    "                y_right = y_sorted[t:]\n",
    "                Q = self.calc_Q(y_sorted, y_left, y_right)\n",
    "                if Q > Q_best:\n",
    "                    Q_best = Q\n",
    "                    j_best = i\n",
    "                    t_best = (sorted[t, i] + sorted[t - 1, i]) / 2\n",
    "\n",
    "        return j_best, t_best, X[:, j_best] <= t_best, X[:, j_best] > t_best\n",
    "\n",
    "    def calc_Q(self, y, y_left, y_right):\n",
    "        return self.gini(y) - (len(y_left) / len(y) * self.gini(y_left) + len(y_right) / len(y) * self.gini(y_right))\n",
    "\n",
    "    def gini(self, y):\n",
    "        probs = np.bincount(y, minlength=len(self.classes))\n",
    "        probs = probs / np.sum(probs)\n",
    "        return 1 - np.sum(probs ** 2)\n",
    "\n",
    "    def _build_tree(self, curr_node, X, y):\n",
    "\n",
    "        if curr_node['depth'] == self.max_depth:  # выход из рекурсии если построили до максимальной глубины\n",
    "            curr_node['classes_proba'] = {c: (y == c).mean() for c in self.classes}  # сохраняем предсказания листьев дерева перед выходом из рекурсии\n",
    "            return\n",
    "\n",
    "        if len(np.unique(y)) == 1:  # выход из рекурсии значения если \"y\" одинковы для все объектов\n",
    "            curr_node['classes_proba'] = {c: (y == c).mean() for c in self.classes}\n",
    "            return\n",
    "\n",
    "        j, t, left_ids, right_ids = self.get_best_split(X, y)  # нахождение лучшего разбиения\n",
    "\n",
    "        curr_node['feature'] = j  # признак по которому производится разбиение в текущем узле\n",
    "        curr_node['threshold'] = t  # порог по которому производится разбиение в текущем узле\n",
    "\n",
    "        left = self._node.copy()  # создаём узел для левого поддерева\n",
    "        right = self._node.copy()  # создаём узел для правого поддерева\n",
    "\n",
    "        left['depth'] = curr_node['depth'] + 1  # увеличиваем значение глубины в узлах поддеревьев\n",
    "        right['depth'] = curr_node['depth'] + 1\n",
    "\n",
    "        curr_node['left'] = left\n",
    "        curr_node['right'] = right\n",
    "\n",
    "        self._build_tree(left, X[left_ids], y[left_ids])  # продолжаем построение дерева\n",
    "        self._build_tree(right, X[right_ids], y[right_ids])\n",
    "\n",
    "    def _get_predict(self, node, x):\n",
    "        if node['threshold'] is None:  # если в узле нет порога, значит это лист, выходим из рекурсии\n",
    "            return [node['classes_proba'][c] for c in self.classes]\n",
    "\n",
    "        if x[node['feature']] <= node['threshold']:  # уходим в правое или левое поддерево в зависимости от порога и признака\n",
    "            return self._get_predict(node['left'], x)\n",
    "        else:\n",
    "            return self._get_predict(node['right'], x)"
   ],
   "metadata": {
    "collapsed": false,
    "ExecuteTime": {
     "end_time": "2024-01-02T07:54:17.049200600Z",
     "start_time": "2024-01-02T07:54:17.030622Z"
    }
   }
  },
  {
   "cell_type": "code",
   "execution_count": 48,
   "metadata": {
    "ExecuteTime": {
     "end_time": "2024-01-02T07:57:29.208210100Z",
     "start_time": "2024-01-02T07:57:29.198707400Z"
    }
   },
   "outputs": [],
   "source": [
    "class MyRandomForestClassifier:\n",
    "    \n",
    "    def __init__(self, max_features, n_estimators=100, max_depth=None):\n",
    "        self.n_estimators = n_estimators\n",
    "        self.max_features = max_features\n",
    "        self.max_depth = max_depth\n",
    "        self.forest = []\n",
    "        \n",
    "    def fit(self, X, y):\n",
    "        \n",
    "        self.forest = []\n",
    "        self.classes = np.unique(y)\n",
    "        \n",
    "        while len(self.forest) != self.n_estimators:\n",
    "            dt = MyDecisionTreeClassifier(max_depth=self.max_depth, max_features=self.max_features, max_classes=self.classes)\n",
    "            bootstrap = np.random.choice(len(y), size=len(y), replace=True)\n",
    "            \n",
    "            dt.fit(X[bootstrap], y[bootstrap])\n",
    "            \n",
    "            self.forest.append(dt)\n",
    "        \n",
    "        return self\n",
    "    \n",
    "    def predict(self, X):\n",
    "        preds = self.predict_proba(X)\n",
    "        return np.argmax(preds, axis=1)\n",
    "    \n",
    "    def predict_proba(self, X):\n",
    "        \n",
    "        preds = np.zeros(len(self.classes))\n",
    "        for tree in self.forest:\n",
    "            preds = preds + tree.predict_proba(X)\n",
    "            \n",
    "        preds = preds / self.n_estimators\n",
    "            \n",
    "        return preds"
   ]
  },
  {
   "cell_type": "code",
   "execution_count": 55,
   "metadata": {
    "ExecuteTime": {
     "end_time": "2024-01-02T07:57:42.843822500Z",
     "start_time": "2024-01-02T07:57:39.424685800Z"
    }
   },
   "outputs": [
    {
     "data": {
      "text/plain": "1.0"
     },
     "execution_count": 55,
     "metadata": {},
     "output_type": "execute_result"
    }
   ],
   "source": [
    "rf = MyRandomForestClassifier(max_features=4, n_estimators=100)\n",
    "rf.fit(X_train_wine, y_train_wine)\n",
    "(y_test_wine == rf.predict(X_test_wine)).mean()"
   ]
  },
  {
   "cell_type": "markdown",
   "metadata": {},
   "source": [
    "### Датасет \"Boston house prices\""
   ]
  },
  {
   "cell_type": "code",
   "execution_count": 56,
   "metadata": {
    "ExecuteTime": {
     "end_time": "2024-01-02T09:07:25.069871100Z",
     "start_time": "2024-01-02T09:07:24.323719800Z"
    }
   },
   "outputs": [],
   "source": [
    "import pandas as pd\n",
    "import numpy as np\n",
    "\n",
    "data_url = \"http://lib.stat.cmu.edu/datasets/boston\"\n",
    "raw_df = pd.read_csv(data_url, sep=\"\\s+\", skiprows=22, header=None)\n",
    "data_boston = np.hstack([raw_df.values[::2, :], raw_df.values[1::2, :2]])\n",
    "target_boston = raw_df.values[1::2, 2]\n",
    "\n",
    "# data_boston = boston_dataset['data']\n",
    "# target_boston = boston_dataset['target']\n",
    "# \n",
    "# print(boston_dataset['DESCR'])"
   ]
  },
  {
   "cell_type": "code",
   "execution_count": 57,
   "metadata": {
    "ExecuteTime": {
     "end_time": "2024-01-02T09:07:25.084020200Z",
     "start_time": "2024-01-02T09:07:25.072880700Z"
    }
   },
   "outputs": [],
   "source": [
    "X_train_boston, X_test_boston,\\\n",
    "y_train_boston, y_test_boston = train_test_split(data_boston, target_boston, random_state=2, test_size=0.33)"
   ]
  },
  {
   "cell_type": "markdown",
   "metadata": {},
   "source": [
    "---"
   ]
  },
  {
   "cell_type": "markdown",
   "metadata": {},
   "source": [
    "**Статья на вики про [градиентный бустинг](https://en.wikipedia.org/wiki/Gradient_boosting).**"
   ]
  },
  {
   "cell_type": "markdown",
   "metadata": {},
   "source": [
    "**Градиентный бустинг**\n",
    "\n",
    "* Инициализировать ответ ансамбля $a_0$ нулями;\n",
    "* Вычислить градиент функционала потерь $L(y - a_0)$;\n",
    "* Обучить базовый $b_1$ регрессор предсказывать антиградиент $-L(y - a_0)$;\n",
    "* Добавить базовый алгоритм $b_1$ с весом $\\eta$ к композиции;\n",
    "* Повторять пока ошибка уменьшается на валидации;"
   ]
  },
  {
   "cell_type": "markdown",
   "metadata": {},
   "source": [
    "Задание:\n",
    "\n",
    "    1) Реализуйте градиентный бустинг над решающими деревьями пользуясь классом DecisionTreeRegressor в качестве базового алгоритма;\n",
    "    2) Обучите ваш регрессор на данных Boston house prices;\n",
    "    3) Сравните полученный результат по метрике MAPE с RandomForestRegressor(n_estimators=2000) из sklearn;\n",
    "    4) Попробуйте подобрать такие learning_rate и n_estimators для градиентного бустинга, чтобы ошибка MAPE была меньше 10%."
   ]
  },
  {
   "cell_type": "code",
   "execution_count": 168,
   "outputs": [],
   "source": [
    "class MyDecisionTreeRegressor:\n",
    "\n",
    "    def __init__(self, max_depth=None, max_features=None, min_leaf_samples=None):\n",
    "        self.max_depth = max_depth\n",
    "        self.max_features = max_features\n",
    "        self.min_leaf_samples = min_leaf_samples\n",
    "        self._node = {\n",
    "            'left': None,\n",
    "            'right': None,\n",
    "            'feature': None,\n",
    "            'threshold': None,\n",
    "            'depth': 0,\n",
    "            'mean': None\n",
    "        }\n",
    "        self.tree = None  # словарь в котором будет храниться построенное дерево\n",
    "\n",
    "    def fit(self, X, y):\n",
    "        self.tree = {'root': self._node.copy()}  # создаём первую узел в дереве\n",
    "        self._build_tree(self.tree['root'], X, y)  # запускаем рекурсивную функцию для построения дерева\n",
    "        return self\n",
    "\n",
    "    def predict(self, X):\n",
    "        preds = []\n",
    "        for x in X:\n",
    "            preds_for_x = self._get_predict(self.tree['root'], x)\n",
    "            preds.append(preds_for_x)\n",
    "        return np.array(preds)\n",
    "\n",
    "    def get_best_split(self, X, y):\n",
    "        j_best, t_best = None, None\n",
    "        Q_best = -1\n",
    "\n",
    "        if self.max_features:\n",
    "            features = np.random.choice(X.shape[1], size=self.max_features, replace=False)\n",
    "        else:\n",
    "            features = list(range(X.shape[1]))\n",
    "\n",
    "        for i in features:\n",
    "            sorted = X[X[:, i].argsort()]\n",
    "            y_sorted = y[X[:, i].argsort()]\n",
    "            for t in range(1, len(y)):\n",
    "                if sorted[t, i] == sorted[t - 1, i]:\n",
    "                    continue\n",
    "                y_left = y_sorted[:t]\n",
    "                y_right = y_sorted[t:]\n",
    "                Q = self.calc_Q(y_sorted, y_left, y_right)\n",
    "                if Q > Q_best:\n",
    "                    Q_best = Q\n",
    "                    j_best = i\n",
    "                    t_best = (sorted[t, i] + sorted[t - 1, i]) / 2\n",
    "\n",
    "        return j_best, t_best, X[:, j_best] <= t_best, X[:, j_best] > t_best\n",
    "\n",
    "    def calc_Q(self, y, y_left, y_right):\n",
    "        return self.mse(y) - (len(y_left) / len(y) * self.mse(y_left) + len(y_right) / len(y) * self.mse(y_right))\n",
    "\n",
    "    def mse(self, y):\n",
    "        return np.mean((y - np.mean(y)) ** 2)\n",
    "\n",
    "    def _build_tree(self, curr_node, X, y):\n",
    "\n",
    "        if curr_node['depth'] == self.max_depth:  # выход из рекурсии если построили до максимальной глубины\n",
    "            curr_node['mean'] = y.mean()  # сохраняем предсказания листьев дерева перед выходом из рекурсии\n",
    "            return\n",
    "\n",
    "        if len(np.unique(y)) == 1:  # выход из рекурсии значения если \"y\" одинковы для все объектов\n",
    "            curr_node['mean'] = y.mean()\n",
    "            return\n",
    "\n",
    "        j, t, left_ids, right_ids = self.get_best_split(X, y)  # нахождение лучшего разбиения\n",
    "\n",
    "        curr_node['feature'] = j  # признак по которому производится разбиение в текущем узле\n",
    "        curr_node['threshold'] = t  # порог по которому производится разбиение в текущем узле\n",
    "\n",
    "        left = self._node.copy()  # создаём узел для левого поддерева\n",
    "        right = self._node.copy()  # создаём узел для правого поддерева\n",
    "\n",
    "        left['depth'] = curr_node['depth'] + 1  # увеличиваем значение глубины в узлах поддеревьев\n",
    "        right['depth'] = curr_node['depth'] + 1\n",
    "\n",
    "        curr_node['left'] = left\n",
    "        curr_node['right'] = right\n",
    "\n",
    "        self._build_tree(left, X[left_ids], y[left_ids])  # продолжаем построение дерева\n",
    "        self._build_tree(right, X[right_ids], y[right_ids])\n",
    "\n",
    "    def _get_predict(self, node, x):\n",
    "        if node['threshold'] is None:  # если в узле нет порога, значит это лист, выходим из рекурсии\n",
    "            return node['mean']\n",
    "\n",
    "        if x[node['feature']] <= node['threshold']:  # уходим в правое или левое поддерево в зависимости от порога и признака\n",
    "            return self._get_predict(node['left'], x)\n",
    "        else:\n",
    "            return self._get_predict(node['right'], x)"
   ],
   "metadata": {
    "collapsed": false,
    "ExecuteTime": {
     "end_time": "2024-01-02T13:06:05.295274100Z",
     "start_time": "2024-01-02T13:06:05.287786800Z"
    }
   }
  },
  {
   "cell_type": "code",
   "execution_count": 169,
   "metadata": {
    "ExecuteTime": {
     "end_time": "2024-01-02T13:06:05.657390500Z",
     "start_time": "2024-01-02T13:06:05.651895700Z"
    }
   },
   "outputs": [],
   "source": [
    "class MyGradientBoostingRegressor:\n",
    "\n",
    "    def __init__(self, n_estimators=100, max_depth=2, learing_rate=0.1, max_features=None):\n",
    "        self.n_estimators = n_estimators\n",
    "        self.learing_rate = learing_rate\n",
    "        self.max_depth = max_depth\n",
    "        self.max_features = max_features\n",
    "        self.estimators = []\n",
    "\n",
    "    def fit(self, X, y):\n",
    "        self.estimators = []\n",
    "        self.mean = np.mean(y)\n",
    "        curr_pred = np.zeros_like(y)\n",
    "        for i in range(self.n_estimators):\n",
    "            estimator = MyDecisionTreeRegressor(max_depth=self.max_depth, max_features=self.max_features)\n",
    "            estimator.fit(X, y - curr_pred)\n",
    "            self.estimators.append(estimator)\n",
    "            curr_pred += estimator.predict(X) * self.learing_rate\n",
    "\n",
    "        return self\n",
    "\n",
    "    def predict(self, X):\n",
    "        predict = np.zeros(X.shape[0])\n",
    "        for estimator in self.estimators:\n",
    "            predict += estimator.predict(X) * self.learing_rate\n",
    "\n",
    "        return predict"
   ]
  },
  {
   "cell_type": "code",
   "execution_count": 172,
   "metadata": {
    "ExecuteTime": {
     "end_time": "2024-01-02T13:07:35.230197100Z",
     "start_time": "2024-01-02T13:07:13.386091600Z"
    }
   },
   "outputs": [
    {
     "data": {
      "text/plain": "0.1093034656186621"
     },
     "execution_count": 172,
     "metadata": {},
     "output_type": "execute_result"
    }
   ],
   "source": [
    "gbm = MyGradientBoostingRegressor(n_estimators=70, learing_rate=0.15, max_depth=3)\n",
    "\n",
    "gbm.fit(X=X_train_boston, y=y_train_boston)\n",
    "preds = gbm.predict(X_test_boston)\n",
    "\n",
    "(abs(y_test_boston - gbm.predict(X_test_boston)) / y_test_boston).mean()"
   ]
  },
  {
   "cell_type": "code",
   "execution_count": 165,
   "outputs": [
    {
     "data": {
      "text/plain": "array([1.69724775e+02, 1.69724775e+02, 6.79799243e+06, 1.69724775e+02,\n       1.69609942e+02, 1.69609942e+02, 1.69724775e+02, 1.69724775e+02,\n       1.69724775e+02, 1.69724775e+02, 1.69724775e+02, 1.69724775e+02,\n       1.69724775e+02, 1.69724775e+02, 1.69609942e+02, 1.69724775e+02,\n       1.69609942e+02, 1.69609942e+02, 1.69609942e+02, 1.69609942e+02,\n       1.69724775e+02, 1.69724775e+02, 6.79786280e+06, 1.69609942e+02,\n       1.69609942e+02, 1.69724775e+02, 6.79798994e+06, 6.79786280e+06,\n       6.79786280e+06, 1.69724775e+02, 1.69724775e+02, 1.69724775e+02,\n       1.69724775e+02, 1.69724775e+02, 1.69609942e+02, 1.69609942e+02,\n       1.69609942e+02, 1.69724775e+02, 1.69724775e+02, 1.69724775e+02,\n       1.69724775e+02, 1.69609942e+02, 6.79786280e+06, 1.69609942e+02,\n       1.69724775e+02, 1.69609942e+02, 6.79798994e+06, 1.69609942e+02,\n       1.69724775e+02, 1.69609942e+02, 1.69724775e+02, 6.79785431e+06,\n       1.69609942e+02, 1.92588986e+02, 1.69724775e+02, 1.69724775e+02,\n       1.69724775e+02, 1.69609942e+02, 1.69609942e+02, 1.69609942e+02,\n       1.69609942e+02, 1.69724775e+02, 1.69609942e+02, 1.69724775e+02,\n       1.69724775e+02, 1.69724775e+02, 9.87965070e+06, 1.69724775e+02,\n       1.69609942e+02, 1.69724775e+02, 1.69609942e+02, 1.69609942e+02,\n       1.69724775e+02, 1.69609942e+02, 1.69724775e+02, 1.69724775e+02,\n       1.69724775e+02, 1.69724775e+02, 1.69724775e+02, 1.69724775e+02,\n       6.79799493e+06, 1.69609942e+02, 1.69724775e+02, 1.69724775e+02,\n       9.87965070e+06, 6.79786280e+06, 1.69724775e+02, 1.69724775e+02,\n       1.69724775e+02, 1.69724775e+02, 1.69724775e+02, 1.69724775e+02,\n       1.69609942e+02, 6.79798994e+06, 6.79798994e+06, 1.69609942e+02,\n       9.87965070e+06, 6.79799243e+06, 1.69609942e+02, 1.69609942e+02,\n       1.92588986e+02, 1.69724775e+02, 1.69724775e+02, 1.69724775e+02,\n       1.69724775e+02, 6.79798994e+06, 1.69609942e+02, 1.69609942e+02,\n       1.69724775e+02, 1.69609942e+02, 1.69609942e+02, 1.69724775e+02,\n       1.69609942e+02, 1.69609942e+02, 1.92588986e+02, 1.69724775e+02,\n       1.92588986e+02, 1.69724775e+02, 1.69724775e+02, 1.69724775e+02,\n       6.79786280e+06, 1.69724775e+02, 1.69724775e+02, 1.69609942e+02,\n       9.87965070e+06, 1.69724775e+02, 1.69609942e+02, 1.69724775e+02,\n       1.69724775e+02, 1.92588986e+02, 1.69724775e+02, 6.79786280e+06,\n       1.69724775e+02, 1.69609942e+02, 1.69724775e+02, 1.69609942e+02,\n       1.69609942e+02, 1.69609942e+02, 1.69609942e+02, 1.69724775e+02,\n       1.69609942e+02, 1.69609942e+02, 1.69724775e+02, 6.79786280e+06,\n       1.69609942e+02, 1.69609942e+02, 1.69609942e+02, 1.69609942e+02,\n       1.69724775e+02, 1.69609942e+02, 9.87965070e+06, 1.69609942e+02,\n       1.69724775e+02, 1.92588986e+02, 1.69609942e+02, 1.69724775e+02,\n       1.69724775e+02, 1.69724775e+02, 1.69724775e+02, 1.69724775e+02,\n       1.92588986e+02, 1.69724775e+02, 1.69724775e+02, 9.87954744e+06,\n       1.69609942e+02, 1.69609942e+02, 1.69724775e+02])"
     },
     "execution_count": 165,
     "metadata": {},
     "output_type": "execute_result"
    }
   ],
   "source": [
    "preds"
   ],
   "metadata": {
    "collapsed": false,
    "ExecuteTime": {
     "end_time": "2024-01-02T12:46:52.556383200Z",
     "start_time": "2024-01-02T12:46:52.547939400Z"
    }
   }
  }
 ],
 "metadata": {
  "kernelspec": {
   "display_name": "Python 3",
   "language": "python",
   "name": "python3"
  },
  "language_info": {
   "codemirror_mode": {
    "name": "ipython",
    "version": 3
   },
   "file_extension": ".py",
   "mimetype": "text/x-python",
   "name": "python",
   "nbconvert_exporter": "python",
   "pygments_lexer": "ipython3",
   "version": "3.7.2"
  }
 },
 "nbformat": 4,
 "nbformat_minor": 4
}

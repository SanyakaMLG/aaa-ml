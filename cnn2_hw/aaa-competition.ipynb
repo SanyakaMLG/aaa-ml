{
 "metadata": {
  "kernelspec": {
   "language": "python",
   "display_name": "Python 3",
   "name": "python3"
  },
  "language_info": {
   "name": "python",
   "version": "3.10.12",
   "mimetype": "text/x-python",
   "codemirror_mode": {
    "name": "ipython",
    "version": 3
   },
   "pygments_lexer": "ipython3",
   "nbconvert_exporter": "python",
   "file_extension": ".py"
  },
  "kaggle": {
   "accelerator": "none",
   "dataSources": [
    {
     "sourceId": 27968,
     "databundleVersionId": 2576072,
     "sourceType": "competition"
    }
   ],
   "dockerImageVersionId": 30120,
   "isInternetEnabled": true,
   "language": "python",
   "sourceType": "notebook",
   "isGpuEnabled": false
  }
 },
 "nbformat_minor": 4,
 "nbformat": 4,
 "cells": [
  {
   "cell_type": "code",
   "source": [
    "import os\n",
    "import gc\n",
    "# import cv2\n",
    "import math\n",
    "import copy\n",
    "import time\n",
    "import random\n",
    "import glob\n",
    "from matplotlib import pyplot as plt\n",
    "\n",
    "# For data manipulation\n",
    "import numpy as np\n",
    "import pandas as pd\n",
    "\n",
    "# Image processing\n",
    "# import timm\n",
    "# import albumentations as A\n",
    "# from albumentations.pytorch import ToTensorV2\n",
    "\n",
    "# Pytorch\n",
    "import torch\n",
    "import torch.nn as nn\n",
    "import torch.optim as optim\n",
    "import torch.nn.functional as F\n",
    "from torch.optim import lr_scheduler\n",
    "from torch.utils.data import Dataset, DataLoader\n",
    "from torch.cuda import amp\n",
    "import torchvision\n",
    "\n",
    "# Utils\n",
    "import joblib\n",
    "from tqdm import tqdm\n",
    "from collections import defaultdict\n",
    "\n",
    "# Sklearn Imports\n",
    "from sklearn.preprocessing import LabelEncoder\n",
    "from sklearn.model_selection import StratifiedKFold\n",
    "\n",
    "# For colored terminal text\n",
    "from colorama import Fore, Back, Style\n",
    "b_ = Fore.BLUE\n",
    "sr_ = Style.RESET_ALL\n",
    "\n",
    "# Format and filter potential warnings and errors\n",
    "import warnings\n",
    "warnings.filterwarnings(\"ignore\")\n",
    "\n",
    "# For descriptive error messages\n",
    "os.environ['CUDA_LAUNCH_BLOCKING'] = \"1\""
   ],
   "metadata": {
    "execution": {
     "iopub.status.busy": "2023-12-16T18:39:22.732489Z",
     "iopub.execute_input": "2023-12-16T18:39:22.732841Z",
     "iopub.status.idle": "2023-12-16T18:39:29.719323Z",
     "shell.execute_reply.started": "2023-12-16T18:39:22.732813Z",
     "shell.execute_reply": "2023-12-16T18:39:29.718526Z"
    },
    "trusted": true
   },
   "execution_count": null,
   "outputs": []
  },
  {
   "cell_type": "code",
   "source": [
    "! pip install pytorch_metric_learning"
   ],
   "metadata": {
    "execution": {
     "iopub.status.busy": "2023-12-16T18:39:29.720979Z",
     "iopub.execute_input": "2023-12-16T18:39:29.721406Z",
     "iopub.status.idle": "2023-12-16T18:39:42.368583Z",
     "shell.execute_reply.started": "2023-12-16T18:39:29.721377Z",
     "shell.execute_reply": "2023-12-16T18:39:42.367573Z"
    },
    "trusted": true
   },
   "execution_count": null,
   "outputs": []
  },
  {
   "cell_type": "code",
   "source": [],
   "metadata": {},
   "execution_count": null,
   "outputs": []
  },
  {
   "cell_type": "code",
   "source": [
    "PATH = '/kaggle/input/aaa-ml-2021/avito-auto-moderation/'\n",
    "TRAIN_FILE = 'train_v2.csv'\n",
    "SUB_FILE = 'sample_submission_v2.csv'\n",
    "\n",
    "train = pd.read_csv(os.path.join(PATH, TRAIN_FILE))\n",
    "submission = pd.read_csv(os.path.join(PATH, SUB_FILE))"
   ],
   "metadata": {
    "execution": {
     "iopub.status.busy": "2023-12-16T18:39:42.369935Z",
     "iopub.execute_input": "2023-12-16T18:39:42.370219Z",
     "iopub.status.idle": "2023-12-16T18:39:42.404290Z",
     "shell.execute_reply.started": "2023-12-16T18:39:42.370193Z",
     "shell.execute_reply": "2023-12-16T18:39:42.403441Z"
    },
    "trusted": true
   },
   "execution_count": null,
   "outputs": []
  },
  {
   "cell_type": "code",
   "source": [
    "train.head()"
   ],
   "metadata": {
    "execution": {
     "iopub.status.busy": "2023-12-16T18:39:42.406643Z",
     "iopub.execute_input": "2023-12-16T18:39:42.406912Z",
     "iopub.status.idle": "2023-12-16T18:39:42.423537Z",
     "shell.execute_reply.started": "2023-12-16T18:39:42.406887Z",
     "shell.execute_reply": "2023-12-16T18:39:42.422667Z"
    },
    "trusted": true
   },
   "execution_count": null,
   "outputs": []
  },
  {
   "cell_type": "code",
   "source": [
    "train.label.mean()"
   ],
   "metadata": {
    "execution": {
     "iopub.status.busy": "2023-12-16T18:39:42.424714Z",
     "iopub.execute_input": "2023-12-16T18:39:42.424975Z",
     "iopub.status.idle": "2023-12-16T18:39:42.431165Z",
     "shell.execute_reply.started": "2023-12-16T18:39:42.424951Z",
     "shell.execute_reply": "2023-12-16T18:39:42.430320Z"
    },
    "trusted": true
   },
   "execution_count": null,
   "outputs": []
  },
  {
   "cell_type": "code",
   "source": [
    "train"
   ],
   "metadata": {
    "execution": {
     "iopub.status.busy": "2023-12-16T18:39:42.432255Z",
     "iopub.execute_input": "2023-12-16T18:39:42.432568Z",
     "iopub.status.idle": "2023-12-16T18:39:42.447833Z",
     "shell.execute_reply.started": "2023-12-16T18:39:42.432533Z",
     "shell.execute_reply": "2023-12-16T18:39:42.446976Z"
    },
    "trusted": true
   },
   "execution_count": null,
   "outputs": []
  },
  {
   "cell_type": "markdown",
   "source": [
    "## Class examples"
   ],
   "metadata": {}
  },
  {
   "cell_type": "code",
   "source": [
    "image_file = train.image[0]\n",
    "img = plt.imread(os.path.join(PATH, image_file))\n",
    "plt.imshow(img)"
   ],
   "metadata": {
    "execution": {
     "iopub.status.busy": "2023-12-16T18:39:42.448945Z",
     "iopub.execute_input": "2023-12-16T18:39:42.449237Z",
     "iopub.status.idle": "2023-12-16T18:39:42.897645Z",
     "shell.execute_reply.started": "2023-12-16T18:39:42.449198Z",
     "shell.execute_reply": "2023-12-16T18:39:42.896739Z"
    },
    "trusted": true
   },
   "execution_count": null,
   "outputs": []
  },
  {
   "cell_type": "code",
   "source": [
    "submission"
   ],
   "metadata": {
    "execution": {
     "iopub.status.busy": "2023-12-16T18:39:42.898959Z",
     "iopub.execute_input": "2023-12-16T18:39:42.899575Z",
     "iopub.status.idle": "2023-12-16T18:39:42.912174Z",
     "shell.execute_reply.started": "2023-12-16T18:39:42.899537Z",
     "shell.execute_reply": "2023-12-16T18:39:42.911224Z"
    },
    "trusted": true
   },
   "execution_count": null,
   "outputs": []
  },
  {
   "cell_type": "code",
   "source": [
    "res = []\n",
    "\n",
    "for i in range(381):\n",
    "    image_file = submission.image[i]\n",
    "    img = plt.imread(os.path.join(PATH, image_file))\n",
    "    if img.shape[0] <= 400 or img.shape[1] <= 400:\n",
    "        res.append(image_file)"
   ],
   "metadata": {
    "execution": {
     "iopub.status.busy": "2023-12-16T18:39:42.913433Z",
     "iopub.execute_input": "2023-12-16T18:39:42.913771Z",
     "iopub.status.idle": "2023-12-16T18:39:47.321012Z",
     "shell.execute_reply.started": "2023-12-16T18:39:42.913737Z",
     "shell.execute_reply": "2023-12-16T18:39:47.320171Z"
    },
    "trusted": true
   },
   "execution_count": null,
   "outputs": []
  },
  {
   "cell_type": "code",
   "source": [
    "res"
   ],
   "metadata": {
    "execution": {
     "iopub.status.busy": "2023-12-16T18:39:47.325729Z",
     "iopub.execute_input": "2023-12-16T18:39:47.326487Z",
     "iopub.status.idle": "2023-12-16T18:39:47.332537Z",
     "shell.execute_reply.started": "2023-12-16T18:39:47.326449Z",
     "shell.execute_reply": "2023-12-16T18:39:47.331653Z"
    },
    "trusted": true
   },
   "execution_count": null,
   "outputs": []
  },
  {
   "cell_type": "code",
   "source": [
    "image_file = train.image[1]\n",
    "img = plt.imread(os.path.join(PATH, image_file))\n",
    "plt.imshow(img)"
   ],
   "metadata": {
    "execution": {
     "iopub.status.busy": "2023-12-16T18:39:47.333572Z",
     "iopub.execute_input": "2023-12-16T18:39:47.333904Z",
     "iopub.status.idle": "2023-12-16T18:39:47.748582Z",
     "shell.execute_reply.started": "2023-12-16T18:39:47.333869Z",
     "shell.execute_reply": "2023-12-16T18:39:47.747640Z"
    },
    "trusted": true
   },
   "execution_count": null,
   "outputs": []
  },
  {
   "cell_type": "code",
   "source": [
    "CONFIG = {\n",
    "    \"seed\": 42,\n",
    "    \"epochs\": 20,\n",
    "    \"img_size\": 256,\n",
    "    \"model_name\": \"tf_efficientnet_b0_ns\",\n",
    "    \"checkpoint_path\" : \"/kaggle/input/tf-efficientnet/pytorch/tf-efficientnet-b0/1/tf_efficientnet_b0_aa-827b6e33.pth\",\n",
    "    \"num_classes\": 2,\n",
    "    \"train_batch_size\": 32,\n",
    "    \"valid_batch_size\": 64,\n",
    "    \"learning_rate\": 0.001,\n",
    "    \"scheduler\": 'CosineAnnealingLR',\n",
    "    \"min_lr\": 0.00001,\n",
    "    \"T_max\": 500,\n",
    "    \"T_0\": 5,\n",
    "    \"weight_decay\": 0.00001,\n",
    "    \"fold\" : 0,\n",
    "    \"n_fold\": 5,\n",
    "    \"n_accumulate\": 1,\n",
    "    \"device\": torch.device(\"cuda:0\" if torch.cuda.is_available() else \"cpu\"),\n",
    "}"
   ],
   "metadata": {
    "execution": {
     "iopub.status.busy": "2023-12-16T21:20:19.321485Z",
     "iopub.execute_input": "2023-12-16T21:20:19.321883Z",
     "iopub.status.idle": "2023-12-16T21:20:19.328280Z",
     "shell.execute_reply.started": "2023-12-16T21:20:19.321851Z",
     "shell.execute_reply": "2023-12-16T21:20:19.327241Z"
    },
    "trusted": true
   },
   "execution_count": null,
   "outputs": []
  },
  {
   "cell_type": "code",
   "source": [
    "def set_seed(seed=42):\n",
    "    '''Sets the seed of the entire notebook so results are the same every time we run.\n",
    "    This is for REPRODUCIBILITY.'''\n",
    "    np.random.seed(seed)\n",
    "    torch.manual_seed(seed)\n",
    "    torch.cuda.manual_seed(seed)\n",
    "    # When running on the CuDNN backend, two further options must be set\n",
    "    torch.backends.cudnn.deterministic = True\n",
    "    torch.backends.cudnn.benchmark = False\n",
    "    # Set a fixed value for the hash seed\n",
    "    os.environ['PYTHONHASHSEED'] = str(seed)\n",
    "    \n",
    "set_seed(CONFIG['seed'])"
   ],
   "metadata": {
    "execution": {
     "iopub.status.busy": "2023-12-16T21:20:19.486963Z",
     "iopub.execute_input": "2023-12-16T21:20:19.487371Z",
     "iopub.status.idle": "2023-12-16T21:20:19.493577Z",
     "shell.execute_reply.started": "2023-12-16T21:20:19.487338Z",
     "shell.execute_reply": "2023-12-16T21:20:19.492637Z"
    },
    "trusted": true
   },
   "execution_count": null,
   "outputs": []
  },
  {
   "cell_type": "code",
   "source": [
    "def get_train_file_path(image_id):\n",
    "    return f\"{PATH}{image_id}\""
   ],
   "metadata": {
    "execution": {
     "iopub.status.busy": "2023-12-16T21:20:19.679268Z",
     "iopub.execute_input": "2023-12-16T21:20:19.679670Z",
     "iopub.status.idle": "2023-12-16T21:20:19.684232Z",
     "shell.execute_reply.started": "2023-12-16T21:20:19.679638Z",
     "shell.execute_reply": "2023-12-16T21:20:19.683331Z"
    },
    "trusted": true
   },
   "execution_count": null,
   "outputs": []
  },
  {
   "cell_type": "code",
   "source": [
    "train_images = sorted(glob.glob(f\"{PATH}/*.jpg\"))"
   ],
   "metadata": {
    "execution": {
     "iopub.status.busy": "2023-12-16T21:20:19.814548Z",
     "iopub.execute_input": "2023-12-16T21:20:19.814923Z",
     "iopub.status.idle": "2023-12-16T21:20:19.826315Z",
     "shell.execute_reply.started": "2023-12-16T21:20:19.814889Z",
     "shell.execute_reply": "2023-12-16T21:20:19.825357Z"
    },
    "trusted": true
   },
   "execution_count": null,
   "outputs": []
  },
  {
   "cell_type": "code",
   "source": [
    "train.size"
   ],
   "metadata": {
    "execution": {
     "iopub.status.busy": "2023-12-16T21:20:20.247749Z",
     "iopub.execute_input": "2023-12-16T21:20:20.248133Z",
     "iopub.status.idle": "2023-12-16T21:20:20.254262Z",
     "shell.execute_reply.started": "2023-12-16T21:20:20.248100Z",
     "shell.execute_reply": "2023-12-16T21:20:20.253352Z"
    },
    "trusted": true
   },
   "execution_count": null,
   "outputs": []
  },
  {
   "cell_type": "code",
   "source": [
    "train['file_path'] = train['image'].apply(get_train_file_path)\n",
    "train = train[ train[\"file_path\"].isin(train_images) ].reset_index(drop=True)\n",
    "train"
   ],
   "metadata": {
    "execution": {
     "iopub.status.busy": "2023-12-16T21:20:20.805208Z",
     "iopub.execute_input": "2023-12-16T21:20:20.805978Z",
     "iopub.status.idle": "2023-12-16T21:20:20.823461Z",
     "shell.execute_reply.started": "2023-12-16T21:20:20.805942Z",
     "shell.execute_reply": "2023-12-16T21:20:20.822517Z"
    },
    "trusted": true
   },
   "execution_count": null,
   "outputs": []
  },
  {
   "cell_type": "code",
   "source": [
    "CONFIG['T_max'] = train.shape[0] * (CONFIG[\"n_fold\"]-1) * CONFIG['epochs'] // CONFIG['train_batch_size'] // CONFIG[\"n_fold\"]\n",
    "CONFIG['T_max']"
   ],
   "metadata": {
    "execution": {
     "iopub.status.busy": "2023-12-16T21:20:21.168925Z",
     "iopub.execute_input": "2023-12-16T21:20:21.169790Z",
     "iopub.status.idle": "2023-12-16T21:20:21.177644Z",
     "shell.execute_reply.started": "2023-12-16T21:20:21.169734Z",
     "shell.execute_reply": "2023-12-16T21:20:21.176511Z"
    },
    "trusted": true
   },
   "execution_count": null,
   "outputs": []
  },
  {
   "cell_type": "code",
   "source": [
    "skf = StratifiedKFold(n_splits=CONFIG['n_fold'])\n",
    "\n",
    "for fold, ( _, val_) in enumerate(skf.split(X=train, y=train.label)):\n",
    "      train.loc[val_ , \"kfold\"] = int(fold)"
   ],
   "metadata": {
    "execution": {
     "iopub.status.busy": "2023-12-16T21:20:21.710879Z",
     "iopub.execute_input": "2023-12-16T21:20:21.711237Z",
     "iopub.status.idle": "2023-12-16T21:20:21.720764Z",
     "shell.execute_reply.started": "2023-12-16T21:20:21.711207Z",
     "shell.execute_reply": "2023-12-16T21:20:21.719807Z"
    },
    "trusted": true
   },
   "execution_count": null,
   "outputs": []
  },
  {
   "cell_type": "code",
   "source": [
    "class SmokeData(Dataset):\n",
    "    def __init__(self, df, transforms=None):\n",
    "        self.df = df\n",
    "        self.file_names = df['file_path'].values\n",
    "        self.labels = df['label'].values\n",
    "        self.transforms = transforms\n",
    "        \n",
    "    def __len__(self):\n",
    "        return len(self.df)\n",
    "    \n",
    "    def __getitem__(self, index):\n",
    "        img_path = self.file_names[index]\n",
    "        img = cv2.imread(img_path)\n",
    "        label = self.labels[index]\n",
    "        \n",
    "        if self.transforms:\n",
    "            img = self.transforms(image=img)[\"image\"]\n",
    "            \n",
    "        return {\n",
    "            'image': img,\n",
    "            'label': torch.tensor(label, dtype=torch.long)\n",
    "        }"
   ],
   "metadata": {
    "execution": {
     "iopub.status.busy": "2023-12-16T21:20:22.148834Z",
     "iopub.execute_input": "2023-12-16T21:20:22.149196Z",
     "iopub.status.idle": "2023-12-16T21:20:22.156450Z",
     "shell.execute_reply.started": "2023-12-16T21:20:22.149163Z",
     "shell.execute_reply": "2023-12-16T21:20:22.155364Z"
    },
    "trusted": true
   },
   "execution_count": null,
   "outputs": []
  },
  {
   "cell_type": "code",
   "source": [
    "data_transforms = {\n",
    "    \"train\": A.Compose([\n",
    "        A.Resize(CONFIG['img_size'], CONFIG['img_size']),\n",
    "        A.ToGray(\n",
    "                p=0.5\n",
    "        ),\n",
    "        A.HueSaturationValue(\n",
    "                hue_shift_limit=0.2, \n",
    "                sat_shift_limit=0.2, \n",
    "                val_shift_limit=0.2, \n",
    "                p=0.5\n",
    "            ),\n",
    "        A.RandomBrightnessContrast(\n",
    "                brightness_limit=(-0.1,0.1), \n",
    "                contrast_limit=(-0.1, 0.1), \n",
    "                p=0.5\n",
    "            ),\n",
    "        A.Normalize(\n",
    "                mean=[0.485, 0.456, 0.406], \n",
    "                std=[0.229, 0.224, 0.225], \n",
    "                max_pixel_value=255.0, \n",
    "                p=1.0\n",
    "            ),\n",
    "        A.HorizontalFlip(\n",
    "                p=0.5\n",
    "        ),\n",
    "        A.Flip(\n",
    "                p=0.5\n",
    "        ),\n",
    "        ToTensorV2()], p=1.),\n",
    "    \n",
    "    \"valid\": A.Compose([\n",
    "        A.Resize(CONFIG['img_size'], CONFIG['img_size']),\n",
    "        A.Normalize(\n",
    "                mean=[0.485, 0.456, 0.406], \n",
    "                std=[0.229, 0.224, 0.225], \n",
    "                max_pixel_value=255.0, \n",
    "                p=1.0\n",
    "            ),\n",
    "        ToTensorV2()], p=1.)\n",
    "}"
   ],
   "metadata": {
    "execution": {
     "iopub.status.busy": "2023-12-16T21:20:23.119115Z",
     "iopub.execute_input": "2023-12-16T21:20:23.119493Z",
     "iopub.status.idle": "2023-12-16T21:20:23.128593Z",
     "shell.execute_reply.started": "2023-12-16T21:20:23.119458Z",
     "shell.execute_reply": "2023-12-16T21:20:23.127549Z"
    },
    "trusted": true
   },
   "execution_count": null,
   "outputs": []
  },
  {
   "cell_type": "code",
   "source": [
    "class SmokeModel(nn.Module):\n",
    "    def __init__(self, model_name, num_classes, pretrained=True, checkpoint_path=None):\n",
    "        super(SmokeModel, self).__init__()\n",
    "        self.model = timm.create_model(model_name, pretrained=pretrained)\n",
    "\n",
    "        inputs = self.model.classifier.in_features\n",
    "        self.model.classifier = nn.Identity()\n",
    "        self.linear1 = nn.Linear(inputs, num_classes)\n",
    "        self.softmax = nn.Softmax(dim=1)\n",
    "        self.relu = nn.ReLU()\n",
    "        self.do1 = nn.Dropout(0.2)\n",
    "\n",
    "    def forward(self, images):\n",
    "        out = self.model(images)\n",
    "        embedding = out\n",
    "        out = self.relu(out)\n",
    "        out = self.do1(out)\n",
    "        out = self.linear1(out)\n",
    "        out = self.softmax(out)\n",
    "        return embedding, out\n",
    "\n",
    "    \n",
    "model = SmokeModel(CONFIG['model_name'], CONFIG['num_classes'], checkpoint_path=CONFIG['checkpoint_path'])\n",
    "model.to(CONFIG['device']);"
   ],
   "metadata": {
    "execution": {
     "iopub.status.busy": "2023-12-16T21:20:23.937367Z",
     "iopub.execute_input": "2023-12-16T21:20:23.937731Z",
     "iopub.status.idle": "2023-12-16T21:20:24.245497Z",
     "shell.execute_reply.started": "2023-12-16T21:20:23.937699Z",
     "shell.execute_reply": "2023-12-16T21:20:24.244703Z"
    },
    "trusted": true
   },
   "execution_count": null,
   "outputs": []
  },
  {
   "cell_type": "code",
   "source": [
    "from pytorch_metric_learning import samplers"
   ],
   "metadata": {
    "execution": {
     "iopub.status.busy": "2023-12-16T21:20:24.489475Z",
     "iopub.execute_input": "2023-12-16T21:20:24.489837Z",
     "iopub.status.idle": "2023-12-16T21:20:24.494352Z",
     "shell.execute_reply.started": "2023-12-16T21:20:24.489809Z",
     "shell.execute_reply": "2023-12-16T21:20:24.493286Z"
    },
    "trusted": true
   },
   "execution_count": null,
   "outputs": []
  },
  {
   "cell_type": "code",
   "source": [
    "def prepare_loaders(df, fold):\n",
    "    df_train = df[df.kfold != fold].reset_index(drop=True)\n",
    "#     df_train = df.reset_index(drop=True)\n",
    "    df_valid = df[df.kfold == fold].reset_index(drop=True)\n",
    "    \n",
    "    train_dataset = SmokeData(df_train, transforms=data_transforms[\"train\"])\n",
    "    valid_dataset = SmokeData(df_valid, transforms=data_transforms[\"valid\"])\n",
    "    \n",
    "    train_sampler = samplers.MPerClassSampler(df_train['label'].values, 8, batch_size=None, length_before_new_iter=1000)\n",
    "\n",
    "    train_loader = DataLoader(train_dataset, batch_size=16, \n",
    "                              num_workers=2, sampler=train_sampler)\n",
    "    valid_loader = DataLoader(valid_dataset, batch_size=CONFIG['valid_batch_size'], \n",
    "                              num_workers=2, shuffle=False)\n",
    "    \n",
    "    return train_loader, valid_loader"
   ],
   "metadata": {
    "execution": {
     "iopub.status.busy": "2023-12-16T21:20:30.331999Z",
     "iopub.execute_input": "2023-12-16T21:20:30.332731Z",
     "iopub.status.idle": "2023-12-16T21:20:30.339695Z",
     "shell.execute_reply.started": "2023-12-16T21:20:30.332696Z",
     "shell.execute_reply": "2023-12-16T21:20:30.338803Z"
    },
    "trusted": true
   },
   "execution_count": null,
   "outputs": []
  },
  {
   "cell_type": "code",
   "source": [
    "train_loader, valid_loader = prepare_loaders(train, fold=CONFIG[\"fold\"])"
   ],
   "metadata": {
    "execution": {
     "iopub.status.busy": "2023-12-16T21:20:30.673742Z",
     "iopub.execute_input": "2023-12-16T21:20:30.674472Z",
     "iopub.status.idle": "2023-12-16T21:20:30.682167Z",
     "shell.execute_reply.started": "2023-12-16T21:20:30.674437Z",
     "shell.execute_reply": "2023-12-16T21:20:30.681181Z"
    },
    "trusted": true
   },
   "execution_count": null,
   "outputs": []
  },
  {
   "cell_type": "code",
   "source": [
    "def criterion(outputs, labels):\n",
    "    return nn.CrossEntropyLoss()(outputs, labels)"
   ],
   "metadata": {
    "execution": {
     "iopub.status.busy": "2023-12-16T21:20:30.959065Z",
     "iopub.execute_input": "2023-12-16T21:20:30.959544Z",
     "iopub.status.idle": "2023-12-16T21:20:30.964274Z",
     "shell.execute_reply.started": "2023-12-16T21:20:30.959508Z",
     "shell.execute_reply": "2023-12-16T21:20:30.963340Z"
    },
    "trusted": true
   },
   "execution_count": null,
   "outputs": []
  },
  {
   "cell_type": "code",
   "source": [
    "from pytorch_metric_learning import losses, miners, regularizers"
   ],
   "metadata": {
    "execution": {
     "iopub.status.busy": "2023-12-16T21:20:31.145709Z",
     "iopub.execute_input": "2023-12-16T21:20:31.146451Z",
     "iopub.status.idle": "2023-12-16T21:20:31.150702Z",
     "shell.execute_reply.started": "2023-12-16T21:20:31.146418Z",
     "shell.execute_reply": "2023-12-16T21:20:31.149631Z"
    },
    "trusted": true
   },
   "execution_count": null,
   "outputs": []
  },
  {
   "cell_type": "code",
   "source": [
    "triplet_loss = losses.TripletMarginLoss()\n",
    "miner = miners.MultiSimilarityMiner()"
   ],
   "metadata": {
    "execution": {
     "iopub.status.busy": "2023-12-16T21:20:31.540219Z",
     "iopub.execute_input": "2023-12-16T21:20:31.540607Z",
     "iopub.status.idle": "2023-12-16T21:20:31.545700Z",
     "shell.execute_reply.started": "2023-12-16T21:20:31.540575Z",
     "shell.execute_reply": "2023-12-16T21:20:31.544678Z"
    },
    "trusted": true
   },
   "execution_count": null,
   "outputs": []
  },
  {
   "cell_type": "code",
   "source": [
    "def train_epoch(model, optimizer, scheduler, dataloader, device, epoch):\n",
    "    model.train()\n",
    "    \n",
    "    data_size = 0\n",
    "    current_loss = 0.0\n",
    "    current_acc  = 0.0\n",
    "    \n",
    "    bar = tqdm(enumerate(dataloader), total=len(dataloader))\n",
    "    for step, data in bar:\n",
    "        images = data['image'].to(device, dtype=torch.float)\n",
    "        labels = data['label'].to(device, dtype=torch.long)\n",
    "        \n",
    "        batch_size = images.size(0)\n",
    "        \n",
    "        embeddings, outputs = model(images)\n",
    "        miner_out = miner(embeddings, labels)\n",
    "        loss = criterion(outputs, labels)\n",
    "        loss = loss / CONFIG['n_accumulate']\n",
    "        loss2 = triplet_loss(embeddings, labels, miner_out)\n",
    "        \n",
    "        full_loss = 0.9 * loss + 0.1 * loss2\n",
    "            \n",
    "        full_loss.backward()\n",
    "    \n",
    "        if (step + 1) % CONFIG['n_accumulate'] == 0:\n",
    "            optimizer.step()\n",
    "\n",
    "            # zero the parameter gradients\n",
    "            optimizer.zero_grad()\n",
    "\n",
    "            if scheduler is not None:\n",
    "                scheduler.step()\n",
    "                \n",
    "        _, predicted = torch.max(model.softmax(outputs), 1)\n",
    "        acc = torch.sum( predicted == labels )\n",
    "        \n",
    "        current_loss += (loss.item() * batch_size)\n",
    "        current_acc  += acc.item()\n",
    "        data_size += batch_size\n",
    "        \n",
    "        epoch_loss = current_loss / data_size\n",
    "        epoch_acc = current_acc / data_size\n",
    "        \n",
    "        bar.set_postfix(Epoch=epoch, Train_Loss=epoch_loss, Train_Acc=epoch_acc,\n",
    "                        LR=optimizer.param_groups[0]['lr'])\n",
    "    gc.collect()\n",
    "    \n",
    "    return epoch_loss, epoch_acc"
   ],
   "metadata": {
    "execution": {
     "iopub.status.busy": "2023-12-16T21:20:31.847961Z",
     "iopub.execute_input": "2023-12-16T21:20:31.848784Z",
     "iopub.status.idle": "2023-12-16T21:20:31.859183Z",
     "shell.execute_reply.started": "2023-12-16T21:20:31.848746Z",
     "shell.execute_reply": "2023-12-16T21:20:31.858180Z"
    },
    "trusted": true
   },
   "execution_count": null,
   "outputs": []
  },
  {
   "cell_type": "code",
   "source": [
    "@torch.inference_mode()\n",
    "def validation_epoch(model, dataloader, device, epoch):\n",
    "    model.eval()\n",
    "    \n",
    "    data_size = 0\n",
    "    current_loss = 0.0\n",
    "    current_acc = 0.0\n",
    "    \n",
    "    bar = tqdm(enumerate(dataloader), total=len(dataloader))\n",
    "    for step, data in bar:        \n",
    "        images = data['image'].to(device, dtype=torch.float)\n",
    "        labels = data['label'].to(device, dtype=torch.long)\n",
    "        \n",
    "        batch_size = images.size(0)\n",
    "\n",
    "        _, outputs = model(images)\n",
    "        loss = criterion(outputs, labels)\n",
    "\n",
    "        _, predicted = torch.max(model.softmax(outputs), 1)\n",
    "        acc = torch.sum( predicted == labels )\n",
    "\n",
    "        current_loss += (loss.item() * batch_size)\n",
    "        current_acc  += acc.item()\n",
    "        data_size += batch_size\n",
    "        \n",
    "        epoch_loss = current_loss / data_size\n",
    "        epoch_acc = current_acc / data_size\n",
    "        \n",
    "        bar.set_postfix(Epoch=epoch, Valid_Loss=epoch_loss, Valid_Acc=epoch_acc,\n",
    "                        LR=optimizer.param_groups[0]['lr'])   \n",
    "    \n",
    "    gc.collect()\n",
    "    \n",
    "    return epoch_loss, epoch_acc"
   ],
   "metadata": {
    "execution": {
     "iopub.status.busy": "2023-12-16T21:20:32.339521Z",
     "iopub.execute_input": "2023-12-16T21:20:32.339910Z",
     "iopub.status.idle": "2023-12-16T21:20:32.350112Z",
     "shell.execute_reply.started": "2023-12-16T21:20:32.339877Z",
     "shell.execute_reply": "2023-12-16T21:20:32.349194Z"
    },
    "trusted": true
   },
   "execution_count": null,
   "outputs": []
  },
  {
   "cell_type": "code",
   "source": [
    "def run_training(model, optimizer, scheduler, device, num_epochs):\n",
    "    if torch.cuda.is_available():\n",
    "        print(\"[INFO] Using GPU: {}\\n\".format(torch.cuda.get_device_name()))\n",
    "    \n",
    "    start = time.time()\n",
    "    best_model = copy.deepcopy(model.state_dict())\n",
    "    best_epoch_acc = -np.inf\n",
    "    history = defaultdict(list)\n",
    "    \n",
    "    for epoch in range(1, num_epochs + 1): \n",
    "        gc.collect()\n",
    "        \n",
    "        train_loader, valid_loader = prepare_loaders(train, fold=epoch % 5)\n",
    "        \n",
    "        train_epoch_loss, train_epoch_acc = train_epoch(model, optimizer, scheduler, \n",
    "                                           dataloader=train_loader, \n",
    "                                           device=CONFIG['device'], epoch=epoch)\n",
    "        \n",
    "        val_epoch_loss, val_epoch_acc = validation_epoch(model, valid_loader, device=CONFIG['device'], \n",
    "                                         epoch=epoch)\n",
    "    \n",
    "        history['Train Loss'].append(train_epoch_loss)\n",
    "        history['Valid Loss'].append(val_epoch_loss)\n",
    "        history['Train Accuracy'].append(train_epoch_acc)\n",
    "        history['Valid Accuracy'].append(val_epoch_acc)\n",
    "        \n",
    "        # deep copy the model\n",
    "        if best_epoch_acc <= val_epoch_acc:\n",
    "            print(f\"{b_}Validation Accuracy Improved ({best_epoch_acc} ---> {val_epoch_acc})\")\n",
    "            best_epoch_acc = val_epoch_acc\n",
    "            best_model = copy.deepcopy(model.state_dict())\n",
    "            PATH = \"Acc{:.2f}_Loss{:.4f}_epoch{:.0f}.bin\".format(best_epoch_acc, val_epoch_loss, epoch)\n",
    "            torch.save(model.state_dict(), PATH)\n",
    "            # Save a model file from the current directory\n",
    "            print(f\"Model Saved{sr_}\")\n",
    "            \n",
    "        print()\n",
    "    \n",
    "    end = time.time()\n",
    "    time_elapsed = end - start\n",
    "    print('Training complete in {:.0f}h {:.0f}m {:.0f}s'.format(\n",
    "        time_elapsed // 3600, (time_elapsed % 3600) // 60, (time_elapsed % 3600) % 60))\n",
    "    print(\"Best Accuracy: {:.4f}\".format(best_epoch_acc))\n",
    "    \n",
    "    # load best model weights\n",
    "    model.load_state_dict(best_model)\n",
    "    \n",
    "    return model, history"
   ],
   "metadata": {
    "execution": {
     "iopub.status.busy": "2023-12-16T21:20:33.460356Z",
     "iopub.execute_input": "2023-12-16T21:20:33.460709Z",
     "iopub.status.idle": "2023-12-16T21:20:33.473369Z",
     "shell.execute_reply.started": "2023-12-16T21:20:33.460682Z",
     "shell.execute_reply": "2023-12-16T21:20:33.472439Z"
    },
    "trusted": true
   },
   "execution_count": null,
   "outputs": []
  },
  {
   "cell_type": "code",
   "source": [
    "def fetch_scheduler(optimizer):\n",
    "    if CONFIG['scheduler'] == 'CosineAnnealingLR':\n",
    "        scheduler = lr_scheduler.CosineAnnealingLR(optimizer,T_max=CONFIG['T_max'], \n",
    "                                                   eta_min=CONFIG['min_lr'])\n",
    "    elif CONFIG['scheduler'] == 'CosineAnnealingWarmRestarts':\n",
    "        scheduler = lr_scheduler.CosineAnnealingWarmRestarts(optimizer,T_0=CONFIG['T_0'], \n",
    "                                                             eta_min=CONFIG['min_lr'])\n",
    "    elif CONFIG['scheduler'] == 'ExponentialLR':\n",
    "        scheduler = lr_scheduler.ReduceLROnPlateau(optimizer)\n",
    "    elif CONFIG['scheduler'] == None:\n",
    "        return None\n",
    "        \n",
    "    return scheduler"
   ],
   "metadata": {
    "execution": {
     "iopub.status.busy": "2023-12-16T21:20:34.482803Z",
     "iopub.execute_input": "2023-12-16T21:20:34.483145Z",
     "iopub.status.idle": "2023-12-16T21:20:34.489456Z",
     "shell.execute_reply.started": "2023-12-16T21:20:34.483117Z",
     "shell.execute_reply": "2023-12-16T21:20:34.488527Z"
    },
    "trusted": true
   },
   "execution_count": null,
   "outputs": []
  },
  {
   "cell_type": "code",
   "source": [
    "optimizer = optim.Adam(model.parameters(), lr=CONFIG['learning_rate'], \n",
    "                       weight_decay=CONFIG['weight_decay'])\n",
    "scheduler = fetch_scheduler(optimizer)"
   ],
   "metadata": {
    "execution": {
     "iopub.status.busy": "2023-12-16T21:20:35.084214Z",
     "iopub.execute_input": "2023-12-16T21:20:35.085117Z",
     "iopub.status.idle": "2023-12-16T21:20:35.094414Z",
     "shell.execute_reply.started": "2023-12-16T21:20:35.085081Z",
     "shell.execute_reply": "2023-12-16T21:20:35.093361Z"
    },
    "trusted": true
   },
   "execution_count": null,
   "outputs": []
  },
  {
   "cell_type": "code",
   "source": [
    "model, history = run_training(model, optimizer, scheduler,\n",
    "                              device=CONFIG['device'],\n",
    "                              num_epochs=CONFIG['epochs'])"
   ],
   "metadata": {
    "execution": {
     "iopub.status.busy": "2023-12-16T21:20:35.699468Z",
     "iopub.execute_input": "2023-12-16T21:20:35.700179Z",
     "iopub.status.idle": "2023-12-16T21:25:00.399872Z",
     "shell.execute_reply.started": "2023-12-16T21:20:35.700147Z",
     "shell.execute_reply": "2023-12-16T21:25:00.398751Z"
    },
    "trusted": true
   },
   "execution_count": null,
   "outputs": []
  },
  {
   "cell_type": "code",
   "source": [
    "from sklearn.metrics import roc_auc_score"
   ],
   "metadata": {
    "execution": {
     "iopub.status.busy": "2023-12-16T21:11:42.018214Z",
     "iopub.execute_input": "2023-12-16T21:11:42.019161Z",
     "iopub.status.idle": "2023-12-16T21:11:42.024041Z",
     "shell.execute_reply.started": "2023-12-16T21:11:42.019115Z",
     "shell.execute_reply": "2023-12-16T21:11:42.023071Z"
    },
    "trusted": true
   },
   "execution_count": null,
   "outputs": []
  },
  {
   "cell_type": "code",
   "source": [
    "history = pd.DataFrame.from_dict(history)\n",
    "history.to_csv(\"history.csv\", index=False)"
   ],
   "metadata": {
    "execution": {
     "iopub.status.busy": "2023-12-16T21:11:44.386485Z",
     "iopub.execute_input": "2023-12-16T21:11:44.387135Z",
     "iopub.status.idle": "2023-12-16T21:11:44.394780Z",
     "shell.execute_reply.started": "2023-12-16T21:11:44.387099Z",
     "shell.execute_reply": "2023-12-16T21:11:44.393665Z"
    },
    "trusted": true
   },
   "execution_count": null,
   "outputs": []
  },
  {
   "cell_type": "code",
   "source": [
    "plt.plot( range(history.shape[0]), history[\"Train Loss\"].values, label=\"Train Loss\")\n",
    "plt.plot( range(history.shape[0]), history[\"Valid Loss\"].values, label=\"Valid Loss\")\n",
    "plt.title(\"Model Loss with Increasing Epochs\")\n",
    "plt.xlabel(\"epochs\")\n",
    "plt.ylabel(\"Loss\")\n",
    "plt.grid()\n",
    "plt.legend()\n",
    "plt.show()"
   ],
   "metadata": {
    "execution": {
     "iopub.status.busy": "2023-12-16T21:11:44.651527Z",
     "iopub.execute_input": "2023-12-16T21:11:44.651897Z",
     "iopub.status.idle": "2023-12-16T21:11:44.982426Z",
     "shell.execute_reply.started": "2023-12-16T21:11:44.651867Z",
     "shell.execute_reply": "2023-12-16T21:11:44.981505Z"
    },
    "trusted": true
   },
   "execution_count": null,
   "outputs": []
  },
  {
   "cell_type": "code",
   "source": [
    "plt.plot( range(history.shape[0]), history[\"Train Accuracy\"].values, label=\"Train Accuracy\")\n",
    "plt.plot( range(history.shape[0]), history[\"Valid Accuracy\"].values, label=\"Valid Accuracy\")\n",
    "plt.title(\"Model Accuracy with Increasing Epochs\")\n",
    "plt.xlabel(\"epochs\")\n",
    "plt.ylabel(\"Accuracy\")\n",
    "plt.grid()\n",
    "plt.legend()\n",
    "plt.show()"
   ],
   "metadata": {
    "execution": {
     "iopub.status.busy": "2023-12-16T21:11:44.984033Z",
     "iopub.execute_input": "2023-12-16T21:11:44.984364Z",
     "iopub.status.idle": "2023-12-16T21:11:45.317065Z",
     "shell.execute_reply.started": "2023-12-16T21:11:44.984332Z",
     "shell.execute_reply": "2023-12-16T21:11:45.316175Z"
    },
    "trusted": true
   },
   "execution_count": null,
   "outputs": []
  },
  {
   "cell_type": "code",
   "source": [
    "submission['file_path'] = submission['image'].apply(get_train_file_path)\n",
    "submission = submission[ submission[\"file_path\"].isin(train_images) ].reset_index(drop=True)\n",
    "submission"
   ],
   "metadata": {
    "execution": {
     "iopub.status.busy": "2023-12-16T21:11:48.655676Z",
     "iopub.execute_input": "2023-12-16T21:11:48.656497Z",
     "iopub.status.idle": "2023-12-16T21:11:48.673330Z",
     "shell.execute_reply.started": "2023-12-16T21:11:48.656459Z",
     "shell.execute_reply": "2023-12-16T21:11:48.672202Z"
    },
    "trusted": true
   },
   "execution_count": null,
   "outputs": []
  },
  {
   "cell_type": "code",
   "source": [
    "submission['label'] = 1"
   ],
   "metadata": {
    "execution": {
     "iopub.status.busy": "2023-12-16T21:11:58.651504Z",
     "iopub.execute_input": "2023-12-16T21:11:58.652415Z",
     "iopub.status.idle": "2023-12-16T21:11:58.657594Z",
     "shell.execute_reply.started": "2023-12-16T21:11:58.652369Z",
     "shell.execute_reply": "2023-12-16T21:11:58.656788Z"
    },
    "trusted": true
   },
   "execution_count": null,
   "outputs": []
  },
  {
   "cell_type": "code",
   "source": [
    "submission"
   ],
   "metadata": {
    "execution": {
     "iopub.status.busy": "2023-12-16T21:12:56.970481Z",
     "iopub.execute_input": "2023-12-16T21:12:56.970838Z",
     "iopub.status.idle": "2023-12-16T21:12:56.985507Z",
     "shell.execute_reply.started": "2023-12-16T21:12:56.970808Z",
     "shell.execute_reply": "2023-12-16T21:12:56.984474Z"
    },
    "trusted": true
   },
   "execution_count": null,
   "outputs": []
  },
  {
   "cell_type": "code",
   "source": [
    "subm_data = SmokeData(submission, data_transforms['valid'])"
   ],
   "metadata": {
    "execution": {
     "iopub.status.busy": "2023-12-16T21:13:00.809016Z",
     "iopub.execute_input": "2023-12-16T21:13:00.809391Z",
     "iopub.status.idle": "2023-12-16T21:13:00.814231Z",
     "shell.execute_reply.started": "2023-12-16T21:13:00.809354Z",
     "shell.execute_reply": "2023-12-16T21:13:00.813230Z"
    },
    "trusted": true
   },
   "execution_count": null,
   "outputs": []
  },
  {
   "cell_type": "code",
   "source": [
    "res = []"
   ],
   "metadata": {
    "execution": {
     "iopub.status.busy": "2023-12-16T21:13:01.125124Z",
     "iopub.execute_input": "2023-12-16T21:13:01.125952Z",
     "iopub.status.idle": "2023-12-16T21:13:01.130073Z",
     "shell.execute_reply.started": "2023-12-16T21:13:01.125915Z",
     "shell.execute_reply": "2023-12-16T21:13:01.129017Z"
    },
    "trusted": true
   },
   "execution_count": null,
   "outputs": []
  },
  {
   "cell_type": "code",
   "source": [
    "for data in subm_data:\n",
    "    with torch.no_grad():\n",
    "        _, pred = model(data['image'].reshape((1, 3, 256, 256)).to(CONFIG['device']))\n",
    "        res.append(pred.flatten()[1].item())"
   ],
   "metadata": {
    "execution": {
     "iopub.status.busy": "2023-12-16T21:13:01.817970Z",
     "iopub.execute_input": "2023-12-16T21:13:01.818386Z",
     "iopub.status.idle": "2023-12-16T21:13:12.426260Z",
     "shell.execute_reply.started": "2023-12-16T21:13:01.818350Z",
     "shell.execute_reply": "2023-12-16T21:13:12.425204Z"
    },
    "trusted": true
   },
   "execution_count": null,
   "outputs": []
  },
  {
   "cell_type": "code",
   "source": [
    "pd.Series(res)"
   ],
   "metadata": {
    "execution": {
     "iopub.status.busy": "2023-12-16T21:13:15.865140Z",
     "iopub.execute_input": "2023-12-16T21:13:15.865997Z",
     "iopub.status.idle": "2023-12-16T21:13:15.873705Z",
     "shell.execute_reply.started": "2023-12-16T21:13:15.865961Z",
     "shell.execute_reply": "2023-12-16T21:13:15.872802Z"
    },
    "trusted": true
   },
   "execution_count": null,
   "outputs": []
  },
  {
   "cell_type": "code",
   "source": [
    "submission['score'] = pd.Series(res)"
   ],
   "metadata": {
    "execution": {
     "iopub.status.busy": "2023-12-16T21:15:40.334926Z",
     "iopub.execute_input": "2023-12-16T21:15:40.335334Z",
     "iopub.status.idle": "2023-12-16T21:15:40.340699Z",
     "shell.execute_reply.started": "2023-12-16T21:15:40.335257Z",
     "shell.execute_reply": "2023-12-16T21:15:40.339631Z"
    },
    "trusted": true
   },
   "execution_count": null,
   "outputs": []
  },
  {
   "cell_type": "code",
   "source": [
    "submission = submission.drop(columns=['file_path', 'label'])"
   ],
   "metadata": {
    "execution": {
     "iopub.status.busy": "2023-12-16T21:15:41.049151Z",
     "iopub.execute_input": "2023-12-16T21:15:41.050040Z",
     "iopub.status.idle": "2023-12-16T21:15:41.056645Z",
     "shell.execute_reply.started": "2023-12-16T21:15:41.050003Z",
     "shell.execute_reply": "2023-12-16T21:15:41.055716Z"
    },
    "trusted": true
   },
   "execution_count": null,
   "outputs": []
  },
  {
   "cell_type": "code",
   "source": [
    "submission"
   ],
   "metadata": {
    "execution": {
     "iopub.status.busy": "2023-12-16T21:15:42.245354Z",
     "iopub.execute_input": "2023-12-16T21:15:42.246177Z",
     "iopub.status.idle": "2023-12-16T21:15:42.257534Z",
     "shell.execute_reply.started": "2023-12-16T21:15:42.246145Z",
     "shell.execute_reply": "2023-12-16T21:15:42.256594Z"
    },
    "trusted": true
   },
   "execution_count": null,
   "outputs": []
  },
  {
   "cell_type": "code",
   "source": [
    "submission.to_csv('submission.csv', index=False)"
   ],
   "metadata": {
    "execution": {
     "iopub.status.busy": "2023-12-16T21:16:16.778545Z",
     "iopub.execute_input": "2023-12-16T21:16:16.779193Z",
     "iopub.status.idle": "2023-12-16T21:16:16.786490Z",
     "shell.execute_reply.started": "2023-12-16T21:16:16.779157Z",
     "shell.execute_reply": "2023-12-16T21:16:16.785655Z"
    },
    "trusted": true
   },
   "execution_count": null,
   "outputs": []
  },
  {
   "cell_type": "code",
   "source": [],
   "metadata": {},
   "execution_count": null,
   "outputs": []
  }
 ]
}
